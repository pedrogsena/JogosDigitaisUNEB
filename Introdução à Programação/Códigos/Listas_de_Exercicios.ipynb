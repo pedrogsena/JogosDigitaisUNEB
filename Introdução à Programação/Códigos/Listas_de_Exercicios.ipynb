{
  "nbformat": 4,
  "nbformat_minor": 0,
  "metadata": {
    "colab": {
      "provenance": []
    },
    "kernelspec": {
      "name": "python3",
      "display_name": "Python 3"
    },
    "language_info": {
      "name": "python"
    }
  },
  "cells": [
    {
      "cell_type": "markdown",
      "source": [
        "# Listas de Exercícios\n",
        "Abaixo seguem os comandos para instalar, e checar a versão instalada, do mono."
      ],
      "metadata": {
        "id": "b8LiYRFCjnft"
      }
    },
    {
      "cell_type": "code",
      "execution_count": 1,
      "metadata": {
        "id": "cIWeteLFbMdM",
        "colab": {
          "base_uri": "https://localhost:8080/"
        },
        "outputId": "773a140d-5ff2-44c3-e478-223036f57aff"
      },
      "outputs": [
        {
          "output_type": "stream",
          "name": "stdout",
          "text": [
            "Reading package lists... Done\n",
            "Building dependency tree       \n",
            "Reading state information... Done\n",
            "The following additional packages will be installed:\n",
            "  binfmt-support ca-certificates-mono cli-common libgdiplus libmono-2.0-dev\n",
            "  libmono-accessibility4.0-cil libmono-btls-interface4.0-cil\n",
            "  libmono-cairo4.0-cil libmono-cecil-private-cil libmono-cil-dev\n",
            "  libmono-codecontracts4.0-cil libmono-compilerservices-symbolwriter4.0-cil\n",
            "  libmono-corlib4.5-cil libmono-cscompmgd0.0-cil libmono-csharp4.0c-cil\n",
            "  libmono-custommarshalers4.0-cil libmono-data-tds4.0-cil libmono-db2-1.0-cil\n",
            "  libmono-debugger-soft4.0a-cil libmono-http4.0-cil libmono-i18n-cjk4.0-cil\n",
            "  libmono-i18n-mideast4.0-cil libmono-i18n-other4.0-cil\n",
            "  libmono-i18n-rare4.0-cil libmono-i18n-west4.0-cil libmono-i18n4.0-all\n",
            "  libmono-i18n4.0-cil libmono-ldap4.0-cil libmono-management4.0-cil\n",
            "  libmono-messaging-rabbitmq4.0-cil libmono-messaging4.0-cil\n",
            "  libmono-microsoft-build-engine4.0-cil\n",
            "  libmono-microsoft-build-framework4.0-cil\n",
            "  libmono-microsoft-build-tasks-v4.0-4.0-cil\n",
            "  libmono-microsoft-build-utilities-v4.0-4.0-cil\n",
            "  libmono-microsoft-build4.0-cil libmono-microsoft-csharp4.0-cil\n",
            "  libmono-microsoft-visualc10.0-cil\n",
            "  libmono-microsoft-web-infrastructure1.0-cil libmono-oracle4.0-cil\n",
            "  libmono-parallel4.0-cil libmono-peapi4.0a-cil libmono-posix4.0-cil\n",
            "  libmono-rabbitmq4.0-cil libmono-relaxng4.0-cil libmono-security4.0-cil\n",
            "  libmono-sharpzip4.84-cil libmono-simd4.0-cil libmono-smdiagnostics0.0-cil\n",
            "  libmono-sqlite4.0-cil libmono-system-componentmodel-composition4.0-cil\n",
            "  libmono-system-componentmodel-dataannotations4.0-cil\n",
            "  libmono-system-configuration-install4.0-cil\n",
            "  libmono-system-configuration4.0-cil libmono-system-core4.0-cil\n",
            "  libmono-system-data-datasetextensions4.0-cil\n",
            "  libmono-system-data-entity4.0-cil libmono-system-data-linq4.0-cil\n",
            "  libmono-system-data-services-client4.0-cil\n",
            "  libmono-system-data-services4.0-cil libmono-system-data4.0-cil\n",
            "  libmono-system-deployment4.0-cil libmono-system-design4.0-cil\n",
            "  libmono-system-drawing-design4.0-cil libmono-system-drawing4.0-cil\n",
            "  libmono-system-dynamic4.0-cil libmono-system-enterpriseservices4.0-cil\n",
            "  libmono-system-identitymodel-selectors4.0-cil\n",
            "  libmono-system-identitymodel4.0-cil\n",
            "  libmono-system-io-compression-filesystem4.0-cil\n",
            "  libmono-system-io-compression4.0-cil libmono-system-json-microsoft4.0-cil\n",
            "  libmono-system-json4.0-cil libmono-system-ldap-protocols4.0-cil\n",
            "  libmono-system-ldap4.0-cil libmono-system-management4.0-cil\n",
            "  libmono-system-messaging4.0-cil libmono-system-net-http-formatting4.0-cil\n",
            "  libmono-system-net-http-webrequest4.0-cil libmono-system-net-http4.0-cil\n",
            "  libmono-system-net4.0-cil libmono-system-numerics-vectors4.0-cil\n",
            "  libmono-system-numerics4.0-cil libmono-system-reactive-core2.2-cil\n",
            "  libmono-system-reactive-debugger2.2-cil\n",
            "  libmono-system-reactive-experimental2.2-cil\n",
            "  libmono-system-reactive-interfaces2.2-cil\n",
            "  libmono-system-reactive-linq2.2-cil\n",
            "  libmono-system-reactive-observable-aliases0.0-cil\n",
            "  libmono-system-reactive-platformservices2.2-cil\n",
            "  libmono-system-reactive-providers2.2-cil\n",
            "  libmono-system-reactive-runtime-remoting2.2-cil\n",
            "  libmono-system-reactive-windows-forms2.2-cil\n",
            "  libmono-system-reactive-windows-threading2.2-cil\n",
            "  libmono-system-reflection-context4.0-cil\n",
            "  libmono-system-runtime-caching4.0-cil\n",
            "  libmono-system-runtime-durableinstancing4.0-cil\n",
            "  libmono-system-runtime-serialization-formatters-soap4.0-cil\n",
            "  libmono-system-runtime-serialization4.0-cil libmono-system-runtime4.0-cil\n",
            "  libmono-system-security4.0-cil libmono-system-servicemodel-activation4.0-cil\n",
            "  libmono-system-servicemodel-discovery4.0-cil\n",
            "  libmono-system-servicemodel-internals0.0-cil\n",
            "  libmono-system-servicemodel-routing4.0-cil\n",
            "  libmono-system-servicemodel-web4.0-cil libmono-system-servicemodel4.0a-cil\n",
            "  libmono-system-serviceprocess4.0-cil\n",
            "  libmono-system-threading-tasks-dataflow4.0-cil\n",
            "  libmono-system-transactions4.0-cil libmono-system-web-abstractions4.0-cil\n",
            "  libmono-system-web-applicationservices4.0-cil\n",
            "  libmono-system-web-dynamicdata4.0-cil\n",
            "  libmono-system-web-extensions-design4.0-cil\n",
            "  libmono-system-web-extensions4.0-cil libmono-system-web-http-selfhost4.0-cil\n",
            "  libmono-system-web-http-webhost4.0-cil libmono-system-web-http4.0-cil\n",
            "  libmono-system-web-mobile4.0-cil libmono-system-web-mvc3.0-cil\n",
            "  libmono-system-web-razor2.0-cil libmono-system-web-regularexpressions4.0-cil\n",
            "  libmono-system-web-routing4.0-cil libmono-system-web-services4.0-cil\n",
            "  libmono-system-web-webpages-deployment2.0-cil\n",
            "  libmono-system-web-webpages-razor2.0-cil libmono-system-web-webpages2.0-cil\n",
            "  libmono-system-web4.0-cil\n",
            "  libmono-system-windows-forms-datavisualization4.0a-cil\n",
            "  libmono-system-windows-forms4.0-cil libmono-system-windows4.0-cil\n",
            "  libmono-system-workflow-activities4.0-cil\n",
            "  libmono-system-workflow-componentmodel4.0-cil\n",
            "  libmono-system-workflow-runtime4.0-cil libmono-system-xaml4.0-cil\n",
            "  libmono-system-xml-linq4.0-cil libmono-system-xml-serialization4.0-cil\n",
            "  libmono-system-xml4.0-cil libmono-system4.0-cil libmono-tasklets4.0-cil\n",
            "  libmono-webbrowser4.0-cil libmono-webmatrix-data4.0-cil\n",
            "  libmono-windowsbase4.0-cil libmono-xbuild-tasks4.0-cil libmonosgen-2.0-1\n",
            "  libmonosgen-2.0-dev libnunit-cil-dev libnunit-console-runner2.6.3-cil\n",
            "  libnunit-core-interfaces2.6.3-cil libnunit-core2.6.3-cil\n",
            "  libnunit-framework2.6.3-cil libnunit-mocks2.6.3-cil libnunit-util2.6.3-cil\n",
            "  mono-4.0-gac mono-csharp-shell mono-gac mono-mcs mono-runtime\n",
            "  mono-runtime-common mono-runtime-sgen mono-xbuild\n",
            "Suggested packages:\n",
            "  libgnomeui-0 libgtk2.0-0 libgamin0 libnunit-doc monodoc-nunit-manual\n",
            "Recommended packages:\n",
            "  libgluezilla\n",
            "The following NEW packages will be installed:\n",
            "  binfmt-support ca-certificates-mono cli-common libgdiplus libmono-2.0-dev\n",
            "  libmono-accessibility4.0-cil libmono-btls-interface4.0-cil\n",
            "  libmono-cairo4.0-cil libmono-cecil-private-cil libmono-cil-dev\n",
            "  libmono-codecontracts4.0-cil libmono-compilerservices-symbolwriter4.0-cil\n",
            "  libmono-corlib4.5-cil libmono-cscompmgd0.0-cil libmono-csharp4.0c-cil\n",
            "  libmono-custommarshalers4.0-cil libmono-data-tds4.0-cil libmono-db2-1.0-cil\n",
            "  libmono-debugger-soft4.0a-cil libmono-http4.0-cil libmono-i18n-cjk4.0-cil\n",
            "  libmono-i18n-mideast4.0-cil libmono-i18n-other4.0-cil\n",
            "  libmono-i18n-rare4.0-cil libmono-i18n-west4.0-cil libmono-i18n4.0-all\n",
            "  libmono-i18n4.0-cil libmono-ldap4.0-cil libmono-management4.0-cil\n",
            "  libmono-messaging-rabbitmq4.0-cil libmono-messaging4.0-cil\n",
            "  libmono-microsoft-build-engine4.0-cil\n",
            "  libmono-microsoft-build-framework4.0-cil\n",
            "  libmono-microsoft-build-tasks-v4.0-4.0-cil\n",
            "  libmono-microsoft-build-utilities-v4.0-4.0-cil\n",
            "  libmono-microsoft-build4.0-cil libmono-microsoft-csharp4.0-cil\n",
            "  libmono-microsoft-visualc10.0-cil\n",
            "  libmono-microsoft-web-infrastructure1.0-cil libmono-oracle4.0-cil\n",
            "  libmono-parallel4.0-cil libmono-peapi4.0a-cil libmono-posix4.0-cil\n",
            "  libmono-rabbitmq4.0-cil libmono-relaxng4.0-cil libmono-security4.0-cil\n",
            "  libmono-sharpzip4.84-cil libmono-simd4.0-cil libmono-smdiagnostics0.0-cil\n",
            "  libmono-sqlite4.0-cil libmono-system-componentmodel-composition4.0-cil\n",
            "  libmono-system-componentmodel-dataannotations4.0-cil\n",
            "  libmono-system-configuration-install4.0-cil\n",
            "  libmono-system-configuration4.0-cil libmono-system-core4.0-cil\n",
            "  libmono-system-data-datasetextensions4.0-cil\n",
            "  libmono-system-data-entity4.0-cil libmono-system-data-linq4.0-cil\n",
            "  libmono-system-data-services-client4.0-cil\n",
            "  libmono-system-data-services4.0-cil libmono-system-data4.0-cil\n",
            "  libmono-system-deployment4.0-cil libmono-system-design4.0-cil\n",
            "  libmono-system-drawing-design4.0-cil libmono-system-drawing4.0-cil\n",
            "  libmono-system-dynamic4.0-cil libmono-system-enterpriseservices4.0-cil\n",
            "  libmono-system-identitymodel-selectors4.0-cil\n",
            "  libmono-system-identitymodel4.0-cil\n",
            "  libmono-system-io-compression-filesystem4.0-cil\n",
            "  libmono-system-io-compression4.0-cil libmono-system-json-microsoft4.0-cil\n",
            "  libmono-system-json4.0-cil libmono-system-ldap-protocols4.0-cil\n",
            "  libmono-system-ldap4.0-cil libmono-system-management4.0-cil\n",
            "  libmono-system-messaging4.0-cil libmono-system-net-http-formatting4.0-cil\n",
            "  libmono-system-net-http-webrequest4.0-cil libmono-system-net-http4.0-cil\n",
            "  libmono-system-net4.0-cil libmono-system-numerics-vectors4.0-cil\n",
            "  libmono-system-numerics4.0-cil libmono-system-reactive-core2.2-cil\n",
            "  libmono-system-reactive-debugger2.2-cil\n",
            "  libmono-system-reactive-experimental2.2-cil\n",
            "  libmono-system-reactive-interfaces2.2-cil\n",
            "  libmono-system-reactive-linq2.2-cil\n",
            "  libmono-system-reactive-observable-aliases0.0-cil\n",
            "  libmono-system-reactive-platformservices2.2-cil\n",
            "  libmono-system-reactive-providers2.2-cil\n",
            "  libmono-system-reactive-runtime-remoting2.2-cil\n",
            "  libmono-system-reactive-windows-forms2.2-cil\n",
            "  libmono-system-reactive-windows-threading2.2-cil\n",
            "  libmono-system-reflection-context4.0-cil\n",
            "  libmono-system-runtime-caching4.0-cil\n",
            "  libmono-system-runtime-durableinstancing4.0-cil\n",
            "  libmono-system-runtime-serialization-formatters-soap4.0-cil\n",
            "  libmono-system-runtime-serialization4.0-cil libmono-system-runtime4.0-cil\n",
            "  libmono-system-security4.0-cil libmono-system-servicemodel-activation4.0-cil\n",
            "  libmono-system-servicemodel-discovery4.0-cil\n",
            "  libmono-system-servicemodel-internals0.0-cil\n",
            "  libmono-system-servicemodel-routing4.0-cil\n",
            "  libmono-system-servicemodel-web4.0-cil libmono-system-servicemodel4.0a-cil\n",
            "  libmono-system-serviceprocess4.0-cil\n",
            "  libmono-system-threading-tasks-dataflow4.0-cil\n",
            "  libmono-system-transactions4.0-cil libmono-system-web-abstractions4.0-cil\n",
            "  libmono-system-web-applicationservices4.0-cil\n",
            "  libmono-system-web-dynamicdata4.0-cil\n",
            "  libmono-system-web-extensions-design4.0-cil\n",
            "  libmono-system-web-extensions4.0-cil libmono-system-web-http-selfhost4.0-cil\n",
            "  libmono-system-web-http-webhost4.0-cil libmono-system-web-http4.0-cil\n",
            "  libmono-system-web-mobile4.0-cil libmono-system-web-mvc3.0-cil\n",
            "  libmono-system-web-razor2.0-cil libmono-system-web-regularexpressions4.0-cil\n",
            "  libmono-system-web-routing4.0-cil libmono-system-web-services4.0-cil\n",
            "  libmono-system-web-webpages-deployment2.0-cil\n",
            "  libmono-system-web-webpages-razor2.0-cil libmono-system-web-webpages2.0-cil\n",
            "  libmono-system-web4.0-cil\n",
            "  libmono-system-windows-forms-datavisualization4.0a-cil\n",
            "  libmono-system-windows-forms4.0-cil libmono-system-windows4.0-cil\n",
            "  libmono-system-workflow-activities4.0-cil\n",
            "  libmono-system-workflow-componentmodel4.0-cil\n",
            "  libmono-system-workflow-runtime4.0-cil libmono-system-xaml4.0-cil\n",
            "  libmono-system-xml-linq4.0-cil libmono-system-xml-serialization4.0-cil\n",
            "  libmono-system-xml4.0-cil libmono-system4.0-cil libmono-tasklets4.0-cil\n",
            "  libmono-webbrowser4.0-cil libmono-webmatrix-data4.0-cil\n",
            "  libmono-windowsbase4.0-cil libmono-xbuild-tasks4.0-cil libmonosgen-2.0-1\n",
            "  libmonosgen-2.0-dev libnunit-cil-dev libnunit-console-runner2.6.3-cil\n",
            "  libnunit-core-interfaces2.6.3-cil libnunit-core2.6.3-cil\n",
            "  libnunit-framework2.6.3-cil libnunit-mocks2.6.3-cil libnunit-util2.6.3-cil\n",
            "  mono-4.0-gac mono-csharp-shell mono-devel mono-gac mono-mcs mono-runtime\n",
            "  mono-runtime-common mono-runtime-sgen mono-xbuild\n",
            "0 upgraded, 162 newly installed, 0 to remove and 24 not upgraded.\n",
            "Need to get 45.6 MB of archives.\n",
            "After this operation, 208 MB of additional disk space will be used.\n",
            "Get:1 http://archive.ubuntu.com/ubuntu focal/universe amd64 mono-runtime-sgen amd64 6.8.0.105+dfsg-2 [1,663 kB]\n",
            "Get:2 http://archive.ubuntu.com/ubuntu focal/universe amd64 mono-runtime amd64 6.8.0.105+dfsg-2 [14.8 kB]\n",
            "Get:3 http://archive.ubuntu.com/ubuntu focal/universe amd64 libmono-corlib4.5-cil all 6.8.0.105+dfsg-2 [1,256 kB]\n",
            "Get:4 http://archive.ubuntu.com/ubuntu focal/universe amd64 libmono-system-core4.0-cil all 6.8.0.105+dfsg-2 [302 kB]\n",
            "Get:5 http://archive.ubuntu.com/ubuntu focal/universe amd64 libmono-system-numerics4.0-cil all 6.8.0.105+dfsg-2 [48.6 kB]\n",
            "Get:6 http://archive.ubuntu.com/ubuntu focal/universe amd64 libmono-system-xml4.0-cil all 6.8.0.105+dfsg-2 [816 kB]\n",
            "Get:7 http://archive.ubuntu.com/ubuntu focal/universe amd64 libmono-system-security4.0-cil all 6.8.0.105+dfsg-2 [114 kB]\n",
            "Get:8 http://archive.ubuntu.com/ubuntu focal/universe amd64 libmono-system-configuration4.0-cil all 6.8.0.105+dfsg-2 [54.9 kB]\n",
            "Get:9 http://archive.ubuntu.com/ubuntu focal/universe amd64 libmono-system4.0-cil all 6.8.0.105+dfsg-2 [802 kB]\n",
            "Get:10 http://archive.ubuntu.com/ubuntu focal/universe amd64 libmono-security4.0-cil all 6.8.0.105+dfsg-2 [95.3 kB]\n",
            "Get:11 http://archive.ubuntu.com/ubuntu focal/universe amd64 mono-4.0-gac all 6.8.0.105+dfsg-2 [153 kB]\n",
            "Get:12 http://archive.ubuntu.com/ubuntu focal/universe amd64 mono-gac all 6.8.0.105+dfsg-2 [18.7 kB]\n",
            "Get:13 http://archive.ubuntu.com/ubuntu focal/universe amd64 mono-runtime-common amd64 6.8.0.105+dfsg-2 [1,154 kB]\n",
            "Get:14 http://archive.ubuntu.com/ubuntu focal/universe amd64 ca-certificates-mono all 6.8.0.105+dfsg-2 [18.0 kB]\n",
            "Get:15 http://archive.ubuntu.com/ubuntu focal/universe amd64 binfmt-support amd64 2.2.0-2 [58.2 kB]\n",
            "Get:16 http://archive.ubuntu.com/ubuntu focal/universe amd64 cli-common all 0.10 [171 kB]\n",
            "Get:17 http://archive.ubuntu.com/ubuntu focal/universe amd64 libgdiplus amd64 6.0.4+dfsg-2 [160 kB]\n",
            "Get:18 http://archive.ubuntu.com/ubuntu focal/universe amd64 libmonosgen-2.0-1 amd64 6.8.0.105+dfsg-2 [1,677 kB]\n",
            "Get:19 http://archive.ubuntu.com/ubuntu focal/universe amd64 libmonosgen-2.0-dev amd64 6.8.0.105+dfsg-2 [1,946 kB]\n",
            "Get:20 http://archive.ubuntu.com/ubuntu focal/universe amd64 libmono-2.0-dev amd64 6.8.0.105+dfsg-2 [48.0 kB]\n",
            "Get:21 http://archive.ubuntu.com/ubuntu focal/universe amd64 libmono-accessibility4.0-cil all 6.8.0.105+dfsg-2 [15.8 kB]\n",
            "Get:22 http://archive.ubuntu.com/ubuntu focal/universe amd64 libmono-btls-interface4.0-cil amd64 6.8.0.105+dfsg-2 [26.7 kB]\n",
            "Get:23 http://archive.ubuntu.com/ubuntu focal/universe amd64 libmono-cairo4.0-cil all 6.8.0.105+dfsg-2 [31.9 kB]\n",
            "Get:24 http://archive.ubuntu.com/ubuntu focal/universe amd64 libmono-cecil-private-cil all 6.8.0.105+dfsg-2 [199 kB]\n",
            "Get:25 http://archive.ubuntu.com/ubuntu focal/universe amd64 libmono-codecontracts4.0-cil all 6.8.0.105+dfsg-2 [202 kB]\n",
            "Get:26 http://archive.ubuntu.com/ubuntu focal/universe amd64 libmono-compilerservices-symbolwriter4.0-cil all 6.8.0.105+dfsg-2 [28.5 kB]\n",
            "Get:27 http://archive.ubuntu.com/ubuntu focal/universe amd64 libmono-cscompmgd0.0-cil all 6.8.0.105+dfsg-2 [18.5 kB]\n",
            "Get:28 http://archive.ubuntu.com/ubuntu focal/universe amd64 libmono-csharp4.0c-cil all 6.8.0.105+dfsg-2 [403 kB]\n",
            "Get:29 http://archive.ubuntu.com/ubuntu focal/universe amd64 libmono-custommarshalers4.0-cil all 6.8.0.105+dfsg-2 [16.4 kB]\n",
            "Get:30 http://archive.ubuntu.com/ubuntu focal/universe amd64 libmono-data-tds4.0-cil all 6.8.0.105+dfsg-2 [46.1 kB]\n",
            "Get:31 http://archive.ubuntu.com/ubuntu focal/universe amd64 libmono-system-transactions4.0-cil all 6.8.0.105+dfsg-2 [23.7 kB]\n",
            "Get:32 http://archive.ubuntu.com/ubuntu focal/universe amd64 libmono-system-enterpriseservices4.0-cil all 6.8.0.105+dfsg-2 [27.0 kB]\n",
            "Get:33 http://archive.ubuntu.com/ubuntu focal/universe amd64 libmono-system-data4.0-cil all 6.8.0.105+dfsg-2 [578 kB]\n",
            "Get:34 http://archive.ubuntu.com/ubuntu focal/universe amd64 libmono-db2-1.0-cil all 6.8.0.105+dfsg-2 [36.9 kB]\n",
            "Get:35 http://archive.ubuntu.com/ubuntu focal/universe amd64 libmono-debugger-soft4.0a-cil all 6.8.0.105+dfsg-2 [68.4 kB]\n",
            "Get:36 http://archive.ubuntu.com/ubuntu focal/universe amd64 libmono-sharpzip4.84-cil all 6.8.0.105+dfsg-2 [61.1 kB]\n",
            "Get:37 http://archive.ubuntu.com/ubuntu focal/universe amd64 libmono-sqlite4.0-cil all 6.8.0.105+dfsg-2 [58.2 kB]\n",
            "Get:38 http://archive.ubuntu.com/ubuntu focal/universe amd64 libmono-system-componentmodel-dataannotations4.0-cil all 6.8.0.105+dfsg-2 [37.5 kB]\n",
            "Get:39 http://archive.ubuntu.com/ubuntu focal/universe amd64 libmono-system-drawing4.0-cil all 6.8.0.105+dfsg-2 [150 kB]\n",
            "Get:40 http://archive.ubuntu.com/ubuntu focal/universe amd64 libmono-system-runtime-serialization-formatters-soap4.0-cil all 6.8.0.105+dfsg-2 [26.9 kB]\n",
            "Get:41 http://archive.ubuntu.com/ubuntu focal/universe amd64 libmono-system-web-applicationservices4.0-cil all 6.8.0.105+dfsg-2 [23.0 kB]\n",
            "Get:42 http://archive.ubuntu.com/ubuntu focal/universe amd64 libmono-posix4.0-cil all 6.8.0.105+dfsg-2 [82.2 kB]\n",
            "Get:43 http://archive.ubuntu.com/ubuntu focal/universe amd64 libmono-webbrowser4.0-cil all 6.8.0.105+dfsg-2 [58.3 kB]\n",
            "Get:44 http://archive.ubuntu.com/ubuntu focal/universe amd64 libmono-i18n4.0-cil all 6.8.0.105+dfsg-2 [22.9 kB]\n",
            "Get:45 http://archive.ubuntu.com/ubuntu focal/universe amd64 libmono-i18n-west4.0-cil all 6.8.0.105+dfsg-2 [25.9 kB]\n",
            "Get:46 http://archive.ubuntu.com/ubuntu focal/universe amd64 libmono-system-windows-forms4.0-cil all 6.8.0.105+dfsg-2 [813 kB]\n",
            "Get:47 http://archive.ubuntu.com/ubuntu focal/universe amd64 libmono-system-design4.0-cil all 6.8.0.105+dfsg-2 [104 kB]\n",
            "Get:48 http://archive.ubuntu.com/ubuntu focal/universe amd64 libmono-ldap4.0-cil all 6.8.0.105+dfsg-2 [92.8 kB]\n",
            "Get:49 http://archive.ubuntu.com/ubuntu focal/universe amd64 libmono-system-ldap4.0-cil all 6.8.0.105+dfsg-2 [41.5 kB]\n",
            "Get:50 http://archive.ubuntu.com/ubuntu focal/universe amd64 libmono-system-web-services4.0-cil all 6.8.0.105+dfsg-2 [173 kB]\n",
            "Get:51 http://archive.ubuntu.com/ubuntu focal/universe amd64 libmono-system-web4.0-cil all 6.8.0.105+dfsg-2 [756 kB]\n",
            "Get:52 http://archive.ubuntu.com/ubuntu focal/universe amd64 libmono-http4.0-cil all 6.8.0.105+dfsg-2 [22.8 kB]\n",
            "Get:53 http://archive.ubuntu.com/ubuntu focal/universe amd64 libmono-i18n-cjk4.0-cil all 6.8.0.105+dfsg-2 [240 kB]\n",
            "Get:54 http://archive.ubuntu.com/ubuntu focal/universe amd64 libmono-i18n-mideast4.0-cil all 6.8.0.105+dfsg-2 [20.0 kB]\n",
            "Get:55 http://archive.ubuntu.com/ubuntu focal/universe amd64 libmono-i18n-other4.0-cil all 6.8.0.105+dfsg-2 [21.3 kB]\n",
            "Get:56 http://archive.ubuntu.com/ubuntu focal/universe amd64 libmono-i18n-rare4.0-cil all 6.8.0.105+dfsg-2 [37.7 kB]\n",
            "Get:57 http://archive.ubuntu.com/ubuntu focal/universe amd64 libmono-i18n4.0-all all 6.8.0.105+dfsg-2 [12.5 kB]\n",
            "Get:58 http://archive.ubuntu.com/ubuntu focal/universe amd64 libmono-management4.0-cil all 6.8.0.105+dfsg-2 [16.8 kB]\n",
            "Get:59 http://archive.ubuntu.com/ubuntu focal/universe amd64 libmono-messaging4.0-cil all 6.8.0.105+dfsg-2 [23.5 kB]\n",
            "Get:60 http://archive.ubuntu.com/ubuntu focal/universe amd64 libmono-rabbitmq4.0-cil all 6.8.0.105+dfsg-2 [92.4 kB]\n",
            "Get:61 http://archive.ubuntu.com/ubuntu focal/universe amd64 libmono-messaging-rabbitmq4.0-cil all 6.8.0.105+dfsg-2 [24.1 kB]\n",
            "Get:62 http://archive.ubuntu.com/ubuntu focal/universe amd64 libmono-microsoft-build-framework4.0-cil all 6.8.0.105+dfsg-2 [22.2 kB]\n",
            "Get:63 http://archive.ubuntu.com/ubuntu focal/universe amd64 libmono-microsoft-build4.0-cil all 6.8.0.105+dfsg-2 [100 kB]\n",
            "Get:64 http://archive.ubuntu.com/ubuntu focal/universe amd64 libmono-microsoft-build-utilities-v4.0-4.0-cil all 6.8.0.105+dfsg-2 [32.5 kB]\n",
            "Get:65 http://archive.ubuntu.com/ubuntu focal/universe amd64 libmono-microsoft-build-engine4.0-cil all 6.8.0.105+dfsg-2 [90.8 kB]\n",
            "Get:66 http://archive.ubuntu.com/ubuntu focal/universe amd64 libmono-xbuild-tasks4.0-cil all 6.8.0.105+dfsg-2 [26.0 kB]\n",
            "Get:67 http://archive.ubuntu.com/ubuntu focal/universe amd64 libmono-microsoft-build-tasks-v4.0-4.0-cil all 6.8.0.105+dfsg-2 [69.5 kB]\n",
            "Get:68 http://archive.ubuntu.com/ubuntu focal/universe amd64 libmono-microsoft-csharp4.0-cil all 6.8.0.105+dfsg-2 [116 kB]\n",
            "Get:69 http://archive.ubuntu.com/ubuntu focal/universe amd64 libmono-microsoft-visualc10.0-cil all 6.8.0.105+dfsg-2 [15.3 kB]\n",
            "Get:70 http://archive.ubuntu.com/ubuntu focal/universe amd64 libmono-microsoft-web-infrastructure1.0-cil all 6.8.0.105+dfsg-2 [17.7 kB]\n",
            "Get:71 http://archive.ubuntu.com/ubuntu focal/universe amd64 libmono-oracle4.0-cil all 6.8.0.105+dfsg-2 [64.8 kB]\n",
            "Get:72 http://archive.ubuntu.com/ubuntu focal/universe amd64 libmono-parallel4.0-cil all 6.8.0.105+dfsg-2 [23.3 kB]\n",
            "Get:73 http://archive.ubuntu.com/ubuntu focal/universe amd64 libmono-peapi4.0a-cil all 6.8.0.105+dfsg-2 [47.7 kB]\n",
            "Get:74 http://archive.ubuntu.com/ubuntu focal/universe amd64 libmono-relaxng4.0-cil all 6.8.0.105+dfsg-2 [80.4 kB]\n",
            "Get:75 http://archive.ubuntu.com/ubuntu focal/universe amd64 libmono-simd4.0-cil all 6.8.0.105+dfsg-2 [27.5 kB]\n",
            "Get:76 http://archive.ubuntu.com/ubuntu focal/universe amd64 libmono-system-servicemodel-internals0.0-cil all 6.8.0.105+dfsg-2 [82.3 kB]\n",
            "Get:77 http://archive.ubuntu.com/ubuntu focal/universe amd64 libmono-smdiagnostics0.0-cil all 6.8.0.105+dfsg-2 [28.0 kB]\n",
            "Get:78 http://archive.ubuntu.com/ubuntu focal/universe amd64 libmono-system-componentmodel-composition4.0-cil all 6.8.0.105+dfsg-2 [97.4 kB]\n",
            "Get:79 http://archive.ubuntu.com/ubuntu focal/universe amd64 libmono-system-configuration-install4.0-cil all 6.8.0.105+dfsg-2 [19.9 kB]\n",
            "Get:80 http://archive.ubuntu.com/ubuntu focal/universe amd64 libmono-system-data-datasetextensions4.0-cil all 6.8.0.105+dfsg-2 [22.5 kB]\n",
            "Get:81 http://archive.ubuntu.com/ubuntu focal/universe amd64 libmono-system-runtime-serialization4.0-cil all 6.8.0.105+dfsg-2 [251 kB]\n",
            "Get:82 http://archive.ubuntu.com/ubuntu focal/universe amd64 libmono-system-xml-linq4.0-cil all 6.8.0.105+dfsg-2 [57.3 kB]\n",
            "Get:83 http://archive.ubuntu.com/ubuntu focal/universe amd64 libmono-system-data-entity4.0-cil all 6.8.0.105+dfsg-2 [839 kB]\n",
            "Get:84 http://archive.ubuntu.com/ubuntu focal/universe amd64 libmono-system-data-linq4.0-cil all 6.8.0.105+dfsg-2 [200 kB]\n",
            "Get:85 http://archive.ubuntu.com/ubuntu focal/universe amd64 libmono-system-data-services-client4.0-cil all 6.8.0.105+dfsg-2 [140 kB]\n",
            "Get:86 http://archive.ubuntu.com/ubuntu focal/universe amd64 libmono-system-identitymodel4.0-cil all 6.8.0.105+dfsg-2 [54.3 kB]\n",
            "Get:87 http://archive.ubuntu.com/ubuntu focal/universe amd64 libmono-system-identitymodel-selectors4.0-cil all 6.8.0.105+dfsg-2 [17.3 kB]\n",
            "Get:88 http://archive.ubuntu.com/ubuntu focal/universe amd64 libmono-system-messaging4.0-cil all 6.8.0.105+dfsg-2 [35.8 kB]\n",
            "Get:89 http://archive.ubuntu.com/ubuntu focal/universe amd64 libmono-system-servicemodel4.0a-cil all 6.8.0.105+dfsg-2 [379 kB]\n",
            "Get:90 http://archive.ubuntu.com/ubuntu focal/universe amd64 libmono-system-servicemodel-activation4.0-cil all 6.8.0.105+dfsg-2 [16.1 kB]\n",
            "Get:91 http://archive.ubuntu.com/ubuntu focal/universe amd64 libmono-system-web-extensions4.0-cil all 6.8.0.105+dfsg-2 [163 kB]\n",
            "Get:92 http://archive.ubuntu.com/ubuntu focal/universe amd64 libmono-system-servicemodel-web4.0-cil all 6.8.0.105+dfsg-2 [40.5 kB]\n",
            "Get:93 http://archive.ubuntu.com/ubuntu focal/universe amd64 libmono-system-data-services4.0-cil all 6.8.0.105+dfsg-2 [27.8 kB]\n",
            "Get:94 http://archive.ubuntu.com/ubuntu focal/universe amd64 libmono-system-deployment4.0-cil all 6.8.0.105+dfsg-2 [15.2 kB]\n",
            "Get:95 http://archive.ubuntu.com/ubuntu focal/universe amd64 libmono-system-drawing-design4.0-cil all 6.8.0.105+dfsg-2 [22.5 kB]\n",
            "Get:96 http://archive.ubuntu.com/ubuntu focal/universe amd64 libmono-system-dynamic4.0-cil all 6.8.0.105+dfsg-2 [44.3 kB]\n",
            "Get:97 http://archive.ubuntu.com/ubuntu focal/universe amd64 libmono-system-io-compression4.0-cil all 6.8.0.105+dfsg-2 [56.9 kB]\n",
            "Get:98 http://archive.ubuntu.com/ubuntu focal/universe amd64 libmono-system-io-compression-filesystem4.0-cil all 6.8.0.105+dfsg-2 [18.4 kB]\n",
            "Get:99 http://archive.ubuntu.com/ubuntu focal/universe amd64 libmono-system-json4.0-cil all 6.8.0.105+dfsg-2 [23.0 kB]\n",
            "Get:100 http://archive.ubuntu.com/ubuntu focal/universe amd64 libmono-system-json-microsoft4.0-cil all 6.8.0.105+dfsg-2 [32.1 kB]\n",
            "Get:101 http://archive.ubuntu.com/ubuntu focal/universe amd64 libmono-system-ldap-protocols4.0-cil all 6.8.0.105+dfsg-2 [30.9 kB]\n",
            "Get:102 http://archive.ubuntu.com/ubuntu focal/universe amd64 libmono-system-management4.0-cil all 6.8.0.105+dfsg-2 [26.7 kB]\n",
            "Get:103 http://archive.ubuntu.com/ubuntu focal/universe amd64 libmono-system-net4.0-cil all 6.8.0.105+dfsg-2 [16.0 kB]\n",
            "Get:104 http://archive.ubuntu.com/ubuntu focal/universe amd64 libmono-system-net-http4.0-cil all 6.8.0.105+dfsg-2 [109 kB]\n",
            "Get:105 http://archive.ubuntu.com/ubuntu focal/universe amd64 libmono-system-net-http-formatting4.0-cil all 6.8.0.105+dfsg-2 [173 kB]\n",
            "Get:106 http://archive.ubuntu.com/ubuntu focal/universe amd64 libmono-system-net-http-webrequest4.0-cil all 6.8.0.105+dfsg-2 [21.8 kB]\n",
            "Get:107 http://archive.ubuntu.com/ubuntu focal/universe amd64 libmono-system-numerics-vectors4.0-cil all 6.8.0.105+dfsg-2 [15.5 kB]\n",
            "Get:108 http://archive.ubuntu.com/ubuntu focal/universe amd64 libmono-system-reactive-interfaces2.2-cil all 6.8.0.105+dfsg-2 [15.4 kB]\n",
            "Get:109 http://archive.ubuntu.com/ubuntu focal/universe amd64 libmono-system-reactive-core2.2-cil all 6.8.0.105+dfsg-2 [46.6 kB]\n",
            "Get:110 http://archive.ubuntu.com/ubuntu focal/universe amd64 libmono-system-reactive-linq2.2-cil all 6.8.0.105+dfsg-2 [159 kB]\n",
            "Get:111 http://archive.ubuntu.com/ubuntu focal/universe amd64 libmono-system-reactive-debugger2.2-cil all 6.8.0.105+dfsg-2 [14.4 kB]\n",
            "Get:112 http://archive.ubuntu.com/ubuntu focal/universe amd64 libmono-system-reactive-experimental2.2-cil all 6.8.0.105+dfsg-2 [22.7 kB]\n",
            "Get:113 http://archive.ubuntu.com/ubuntu focal/universe amd64 libmono-system-reactive-providers2.2-cil all 6.8.0.105+dfsg-2 [51.5 kB]\n",
            "Get:114 http://archive.ubuntu.com/ubuntu focal/universe amd64 libmono-system-reactive-observable-aliases0.0-cil all 6.8.0.105+dfsg-2 [15.3 kB]\n",
            "Get:115 http://archive.ubuntu.com/ubuntu focal/universe amd64 libmono-system-reactive-platformservices2.2-cil all 6.8.0.105+dfsg-2 [21.9 kB]\n",
            "Get:116 http://archive.ubuntu.com/ubuntu focal/universe amd64 libmono-system-reactive-runtime-remoting2.2-cil all 6.8.0.105+dfsg-2 [16.3 kB]\n",
            "Get:117 http://archive.ubuntu.com/ubuntu focal/universe amd64 libmono-system-reactive-windows-forms2.2-cil all 6.8.0.105+dfsg-2 [16.3 kB]\n",
            "Get:118 http://archive.ubuntu.com/ubuntu focal/universe amd64 libmono-system-xaml4.0-cil all 6.8.0.105+dfsg-2 [74.6 kB]\n",
            "Get:119 http://archive.ubuntu.com/ubuntu focal/universe amd64 libmono-windowsbase4.0-cil all 6.8.0.105+dfsg-2 [64.8 kB]\n",
            "Get:120 http://archive.ubuntu.com/ubuntu focal/universe amd64 libmono-system-reactive-windows-threading2.2-cil all 6.8.0.105+dfsg-2 [17.6 kB]\n",
            "Get:121 http://archive.ubuntu.com/ubuntu focal/universe amd64 libmono-system-reflection-context4.0-cil all 6.8.0.105+dfsg-2 [15.8 kB]\n",
            "Get:122 http://archive.ubuntu.com/ubuntu focal/universe amd64 libmono-system-runtime4.0-cil all 6.8.0.105+dfsg-2 [56.1 kB]\n",
            "Get:123 http://archive.ubuntu.com/ubuntu focal/universe amd64 libmono-system-runtime-caching4.0-cil all 6.8.0.105+dfsg-2 [38.9 kB]\n",
            "Get:124 http://archive.ubuntu.com/ubuntu focal/universe amd64 libmono-system-runtime-durableinstancing4.0-cil all 6.8.0.105+dfsg-2 [46.7 kB]\n",
            "Get:125 http://archive.ubuntu.com/ubuntu focal/universe amd64 libmono-system-servicemodel-discovery4.0-cil all 6.8.0.105+dfsg-2 [53.3 kB]\n",
            "Get:126 http://archive.ubuntu.com/ubuntu focal/universe amd64 libmono-system-servicemodel-routing4.0-cil all 6.8.0.105+dfsg-2 [23.6 kB]\n",
            "Get:127 http://archive.ubuntu.com/ubuntu focal/universe amd64 libmono-system-serviceprocess4.0-cil all 6.8.0.105+dfsg-2 [28.7 kB]\n",
            "Get:128 http://archive.ubuntu.com/ubuntu focal/universe amd64 libmono-system-threading-tasks-dataflow4.0-cil all 6.8.0.105+dfsg-2 [69.5 kB]\n",
            "Get:129 http://archive.ubuntu.com/ubuntu focal/universe amd64 libmono-system-web-abstractions4.0-cil all 6.8.0.105+dfsg-2 [15.6 kB]\n",
            "Get:130 http://archive.ubuntu.com/ubuntu focal/universe amd64 libmono-system-web-dynamicdata4.0-cil all 6.8.0.105+dfsg-2 [37.2 kB]\n",
            "Get:131 http://archive.ubuntu.com/ubuntu focal/universe amd64 libmono-system-web-extensions-design4.0-cil all 6.8.0.105+dfsg-2 [16.6 kB]\n",
            "Get:132 http://archive.ubuntu.com/ubuntu focal/universe amd64 libmono-system-web-http4.0-cil all 6.8.0.105+dfsg-2 [122 kB]\n",
            "Get:133 http://archive.ubuntu.com/ubuntu focal/universe amd64 libmono-system-web-http-selfhost4.0-cil all 6.8.0.105+dfsg-2 [44.5 kB]\n",
            "Get:134 http://archive.ubuntu.com/ubuntu focal/universe amd64 libmono-system-web-http-webhost4.0-cil all 6.8.0.105+dfsg-2 [34.8 kB]\n",
            "Get:135 http://archive.ubuntu.com/ubuntu focal/universe amd64 libmono-system-web-mobile4.0-cil all 6.8.0.105+dfsg-2 [15.2 kB]\n",
            "Get:136 http://archive.ubuntu.com/ubuntu focal/universe amd64 libmono-system-web-razor2.0-cil all 6.8.0.105+dfsg-2 [96.0 kB]\n",
            "Get:137 http://archive.ubuntu.com/ubuntu focal/universe amd64 libmono-system-web-webpages-deployment2.0-cil all 6.8.0.105+dfsg-2 [26.4 kB]\n",
            "Get:138 http://archive.ubuntu.com/ubuntu focal/universe amd64 libmono-system-web-webpages2.0-cil all 6.8.0.105+dfsg-2 [79.3 kB]\n",
            "Get:139 http://archive.ubuntu.com/ubuntu focal/universe amd64 libmono-system-web-webpages-razor2.0-cil all 6.8.0.105+dfsg-2 [25.8 kB]\n",
            "Get:140 http://archive.ubuntu.com/ubuntu focal/universe amd64 libmono-system-web-mvc3.0-cil all 6.8.0.105+dfsg-2 [142 kB]\n",
            "Get:141 http://archive.ubuntu.com/ubuntu focal/universe amd64 libmono-system-web-regularexpressions4.0-cil all 6.8.0.105+dfsg-2 [15.2 kB]\n",
            "Get:142 http://archive.ubuntu.com/ubuntu focal/universe amd64 libmono-system-web-routing4.0-cil all 6.8.0.105+dfsg-2 [15.5 kB]\n",
            "Get:143 http://archive.ubuntu.com/ubuntu focal/universe amd64 libmono-system-windows4.0-cil all 6.8.0.105+dfsg-2 [15.2 kB]\n",
            "Get:144 http://archive.ubuntu.com/ubuntu focal/universe amd64 libmono-system-windows-forms-datavisualization4.0a-cil all 6.8.0.105+dfsg-2 [49.7 kB]\n",
            "Get:145 http://archive.ubuntu.com/ubuntu focal/universe amd64 libmono-system-workflow-activities4.0-cil all 6.8.0.105+dfsg-2 [15.2 kB]\n",
            "Get:146 http://archive.ubuntu.com/ubuntu focal/universe amd64 libmono-system-workflow-componentmodel4.0-cil all 6.8.0.105+dfsg-2 [15.2 kB]\n",
            "Get:147 http://archive.ubuntu.com/ubuntu focal/universe amd64 libmono-system-workflow-runtime4.0-cil all 6.8.0.105+dfsg-2 [15.2 kB]\n",
            "Get:148 http://archive.ubuntu.com/ubuntu focal/universe amd64 libmono-system-xml-serialization4.0-cil all 6.8.0.105+dfsg-2 [15.1 kB]\n",
            "Get:149 http://archive.ubuntu.com/ubuntu focal/universe amd64 libmono-tasklets4.0-cil all 6.8.0.105+dfsg-2 [15.5 kB]\n",
            "Get:150 http://archive.ubuntu.com/ubuntu focal/universe amd64 libmono-webmatrix-data4.0-cil all 6.8.0.105+dfsg-2 [18.3 kB]\n",
            "Get:151 http://archive.ubuntu.com/ubuntu focal/universe amd64 libnunit-core-interfaces2.6.3-cil all 2.6.4+dfsg-1 [23.3 kB]\n",
            "Get:152 http://archive.ubuntu.com/ubuntu focal/universe amd64 libnunit-core2.6.3-cil all 2.6.4+dfsg-1 [52.7 kB]\n",
            "Get:153 http://archive.ubuntu.com/ubuntu focal/universe amd64 libnunit-util2.6.3-cil all 2.6.4+dfsg-1 [48.4 kB]\n",
            "Get:154 http://archive.ubuntu.com/ubuntu focal/universe amd64 libnunit-console-runner2.6.3-cil all 2.6.4+dfsg-1 [13.5 kB]\n",
            "Get:155 http://archive.ubuntu.com/ubuntu focal/universe amd64 libnunit-framework2.6.3-cil all 2.6.4+dfsg-1 [46.4 kB]\n",
            "Get:156 http://archive.ubuntu.com/ubuntu focal/universe amd64 libnunit-mocks2.6.3-cil all 2.6.4+dfsg-1 [10.5 kB]\n",
            "Get:157 http://archive.ubuntu.com/ubuntu focal/universe amd64 libnunit-cil-dev all 2.6.4+dfsg-1 [4,924 B]\n",
            "Get:158 http://archive.ubuntu.com/ubuntu focal/universe amd64 libmono-cil-dev all 6.8.0.105+dfsg-2 [15.0 kB]\n",
            "Get:159 http://archive.ubuntu.com/ubuntu focal/universe amd64 mono-csharp-shell all 6.8.0.105+dfsg-2 [35.5 kB]\n",
            "Get:160 http://archive.ubuntu.com/ubuntu focal/universe amd64 mono-mcs all 6.8.0.105+dfsg-2 [536 kB]\n",
            "Get:161 http://archive.ubuntu.com/ubuntu focal/universe amd64 mono-xbuild all 6.8.0.105+dfsg-2 [454 kB]\n",
            "Get:162 http://archive.ubuntu.com/ubuntu focal/universe amd64 mono-devel all 6.8.0.105+dfsg-2 [23.5 MB]\n",
            "Fetched 45.6 MB in 15s (3,068 kB/s)\n",
            "debconf: unable to initialize frontend: Dialog\n",
            "debconf: (No usable dialog-like program is installed, so the dialog based frontend cannot be used. at /usr/share/perl5/Debconf/FrontEnd/Dialog.pm line 76, <> line 162.)\n",
            "debconf: falling back to frontend: Readline\n",
            "debconf: unable to initialize frontend: Readline\n",
            "debconf: (This frontend requires a controlling tty.)\n",
            "debconf: falling back to frontend: Teletype\n",
            "dpkg-preconfigure: unable to re-open stdin: \n",
            "Selecting previously unselected package mono-runtime-sgen.\n",
            "(Reading database ... 122349 files and directories currently installed.)\n",
            "Preparing to unpack .../00-mono-runtime-sgen_6.8.0.105+dfsg-2_amd64.deb ...\n",
            "Unpacking mono-runtime-sgen (6.8.0.105+dfsg-2) ...\n",
            "Selecting previously unselected package mono-runtime.\n",
            "Preparing to unpack .../01-mono-runtime_6.8.0.105+dfsg-2_amd64.deb ...\n",
            "Unpacking mono-runtime (6.8.0.105+dfsg-2) ...\n",
            "Selecting previously unselected package libmono-corlib4.5-cil.\n",
            "Preparing to unpack .../02-libmono-corlib4.5-cil_6.8.0.105+dfsg-2_all.deb ...\n",
            "Unpacking libmono-corlib4.5-cil (6.8.0.105+dfsg-2) ...\n",
            "Selecting previously unselected package libmono-system-core4.0-cil.\n",
            "Preparing to unpack .../03-libmono-system-core4.0-cil_6.8.0.105+dfsg-2_all.deb ...\n",
            "Unpacking libmono-system-core4.0-cil (6.8.0.105+dfsg-2) ...\n",
            "Selecting previously unselected package libmono-system-numerics4.0-cil.\n",
            "Preparing to unpack .../04-libmono-system-numerics4.0-cil_6.8.0.105+dfsg-2_all.deb ...\n",
            "Unpacking libmono-system-numerics4.0-cil (6.8.0.105+dfsg-2) ...\n",
            "Selecting previously unselected package libmono-system-xml4.0-cil.\n",
            "Preparing to unpack .../05-libmono-system-xml4.0-cil_6.8.0.105+dfsg-2_all.deb ...\n",
            "Unpacking libmono-system-xml4.0-cil (6.8.0.105+dfsg-2) ...\n",
            "Selecting previously unselected package libmono-system-security4.0-cil.\n",
            "Preparing to unpack .../06-libmono-system-security4.0-cil_6.8.0.105+dfsg-2_all.deb ...\n",
            "Unpacking libmono-system-security4.0-cil (6.8.0.105+dfsg-2) ...\n",
            "Selecting previously unselected package libmono-system-configuration4.0-cil.\n",
            "Preparing to unpack .../07-libmono-system-configuration4.0-cil_6.8.0.105+dfsg-2_all.deb ...\n",
            "Unpacking libmono-system-configuration4.0-cil (6.8.0.105+dfsg-2) ...\n",
            "Selecting previously unselected package libmono-system4.0-cil.\n",
            "Preparing to unpack .../08-libmono-system4.0-cil_6.8.0.105+dfsg-2_all.deb ...\n",
            "Unpacking libmono-system4.0-cil (6.8.0.105+dfsg-2) ...\n",
            "Selecting previously unselected package libmono-security4.0-cil.\n",
            "Preparing to unpack .../09-libmono-security4.0-cil_6.8.0.105+dfsg-2_all.deb ...\n",
            "Unpacking libmono-security4.0-cil (6.8.0.105+dfsg-2) ...\n",
            "Selecting previously unselected package mono-4.0-gac.\n",
            "Preparing to unpack .../10-mono-4.0-gac_6.8.0.105+dfsg-2_all.deb ...\n",
            "Unpacking mono-4.0-gac (6.8.0.105+dfsg-2) ...\n",
            "Selecting previously unselected package mono-gac.\n",
            "Preparing to unpack .../11-mono-gac_6.8.0.105+dfsg-2_all.deb ...\n",
            "Unpacking mono-gac (6.8.0.105+dfsg-2) ...\n",
            "Selecting previously unselected package mono-runtime-common.\n",
            "Preparing to unpack .../12-mono-runtime-common_6.8.0.105+dfsg-2_amd64.deb ...\n",
            "Unpacking mono-runtime-common (6.8.0.105+dfsg-2) ...\n",
            "Setting up libmono-security4.0-cil (6.8.0.105+dfsg-2) ...\n",
            "Setting up mono-runtime-sgen (6.8.0.105+dfsg-2) ...\n",
            "Setting up mono-runtime (6.8.0.105+dfsg-2) ...\n",
            "update-alternatives: using /usr/bin/mono to provide /usr/bin/cli (cli) in auto mode\n",
            "Setting up libmono-corlib4.5-cil (6.8.0.105+dfsg-2) ...\n",
            "Setting up libmono-system-numerics4.0-cil (6.8.0.105+dfsg-2) ...\n",
            "Setting up libmono-system-configuration4.0-cil (6.8.0.105+dfsg-2) ...\n",
            "Setting up libmono-system-xml4.0-cil (6.8.0.105+dfsg-2) ...\n",
            "Setting up libmono-system-core4.0-cil (6.8.0.105+dfsg-2) ...\n",
            "Setting up libmono-system4.0-cil (6.8.0.105+dfsg-2) ...\n",
            "Setting up libmono-system-security4.0-cil (6.8.0.105+dfsg-2) ...\n",
            "Setting up mono-4.0-gac (6.8.0.105+dfsg-2) ...\n",
            "Setting up mono-gac (6.8.0.105+dfsg-2) ...\n",
            "update-alternatives: using /usr/bin/gacutil to provide /usr/bin/cli-gacutil (global-assembly-cache-tool) in auto mode\n",
            "Setting up mono-runtime-common (6.8.0.105+dfsg-2) ...\n",
            "Selecting previously unselected package ca-certificates-mono.\n",
            "(Reading database ... 122483 files and directories currently installed.)\n",
            "Preparing to unpack .../000-ca-certificates-mono_6.8.0.105+dfsg-2_all.deb ...\n",
            "Unpacking ca-certificates-mono (6.8.0.105+dfsg-2) ...\n",
            "Selecting previously unselected package binfmt-support.\n",
            "Preparing to unpack .../001-binfmt-support_2.2.0-2_amd64.deb ...\n",
            "Unpacking binfmt-support (2.2.0-2) ...\n",
            "Selecting previously unselected package cli-common.\n",
            "Preparing to unpack .../002-cli-common_0.10_all.deb ...\n",
            "Unpacking cli-common (0.10) ...\n",
            "Selecting previously unselected package libgdiplus.\n",
            "Preparing to unpack .../003-libgdiplus_6.0.4+dfsg-2_amd64.deb ...\n",
            "Unpacking libgdiplus (6.0.4+dfsg-2) ...\n",
            "Selecting previously unselected package libmonosgen-2.0-1.\n",
            "Preparing to unpack .../004-libmonosgen-2.0-1_6.8.0.105+dfsg-2_amd64.deb ...\n",
            "Unpacking libmonosgen-2.0-1 (6.8.0.105+dfsg-2) ...\n",
            "Selecting previously unselected package libmonosgen-2.0-dev.\n",
            "Preparing to unpack .../005-libmonosgen-2.0-dev_6.8.0.105+dfsg-2_amd64.deb ...\n",
            "Unpacking libmonosgen-2.0-dev (6.8.0.105+dfsg-2) ...\n",
            "Selecting previously unselected package libmono-2.0-dev.\n",
            "Preparing to unpack .../006-libmono-2.0-dev_6.8.0.105+dfsg-2_amd64.deb ...\n",
            "Unpacking libmono-2.0-dev (6.8.0.105+dfsg-2) ...\n",
            "Selecting previously unselected package libmono-accessibility4.0-cil.\n",
            "Preparing to unpack .../007-libmono-accessibility4.0-cil_6.8.0.105+dfsg-2_all.deb ...\n",
            "Unpacking libmono-accessibility4.0-cil (6.8.0.105+dfsg-2) ...\n",
            "Selecting previously unselected package libmono-btls-interface4.0-cil.\n",
            "Preparing to unpack .../008-libmono-btls-interface4.0-cil_6.8.0.105+dfsg-2_amd64.deb ...\n",
            "Unpacking libmono-btls-interface4.0-cil (6.8.0.105+dfsg-2) ...\n",
            "Selecting previously unselected package libmono-cairo4.0-cil.\n",
            "Preparing to unpack .../009-libmono-cairo4.0-cil_6.8.0.105+dfsg-2_all.deb ...\n",
            "Unpacking libmono-cairo4.0-cil (6.8.0.105+dfsg-2) ...\n",
            "Selecting previously unselected package libmono-cecil-private-cil.\n",
            "Preparing to unpack .../010-libmono-cecil-private-cil_6.8.0.105+dfsg-2_all.deb ...\n",
            "Unpacking libmono-cecil-private-cil (6.8.0.105+dfsg-2) ...\n",
            "Selecting previously unselected package libmono-codecontracts4.0-cil.\n",
            "Preparing to unpack .../011-libmono-codecontracts4.0-cil_6.8.0.105+dfsg-2_all.deb ...\n",
            "Unpacking libmono-codecontracts4.0-cil (6.8.0.105+dfsg-2) ...\n",
            "Selecting previously unselected package libmono-compilerservices-symbolwriter4.0-cil.\n",
            "Preparing to unpack .../012-libmono-compilerservices-symbolwriter4.0-cil_6.8.0.105+dfsg-2_all.deb ...\n",
            "Unpacking libmono-compilerservices-symbolwriter4.0-cil (6.8.0.105+dfsg-2) ...\n",
            "Selecting previously unselected package libmono-cscompmgd0.0-cil.\n",
            "Preparing to unpack .../013-libmono-cscompmgd0.0-cil_6.8.0.105+dfsg-2_all.deb ...\n",
            "Unpacking libmono-cscompmgd0.0-cil (6.8.0.105+dfsg-2) ...\n",
            "Selecting previously unselected package libmono-csharp4.0c-cil.\n",
            "Preparing to unpack .../014-libmono-csharp4.0c-cil_6.8.0.105+dfsg-2_all.deb ...\n",
            "Unpacking libmono-csharp4.0c-cil (6.8.0.105+dfsg-2) ...\n",
            "Selecting previously unselected package libmono-custommarshalers4.0-cil.\n",
            "Preparing to unpack .../015-libmono-custommarshalers4.0-cil_6.8.0.105+dfsg-2_all.deb ...\n",
            "Unpacking libmono-custommarshalers4.0-cil (6.8.0.105+dfsg-2) ...\n",
            "Selecting previously unselected package libmono-data-tds4.0-cil.\n",
            "Preparing to unpack .../016-libmono-data-tds4.0-cil_6.8.0.105+dfsg-2_all.deb ...\n",
            "Unpacking libmono-data-tds4.0-cil (6.8.0.105+dfsg-2) ...\n",
            "Selecting previously unselected package libmono-system-transactions4.0-cil.\n",
            "Preparing to unpack .../017-libmono-system-transactions4.0-cil_6.8.0.105+dfsg-2_all.deb ...\n",
            "Unpacking libmono-system-transactions4.0-cil (6.8.0.105+dfsg-2) ...\n",
            "Selecting previously unselected package libmono-system-enterpriseservices4.0-cil.\n",
            "Preparing to unpack .../018-libmono-system-enterpriseservices4.0-cil_6.8.0.105+dfsg-2_all.deb ...\n",
            "Unpacking libmono-system-enterpriseservices4.0-cil (6.8.0.105+dfsg-2) ...\n",
            "Selecting previously unselected package libmono-system-data4.0-cil.\n",
            "Preparing to unpack .../019-libmono-system-data4.0-cil_6.8.0.105+dfsg-2_all.deb ...\n",
            "Unpacking libmono-system-data4.0-cil (6.8.0.105+dfsg-2) ...\n",
            "Selecting previously unselected package libmono-db2-1.0-cil.\n",
            "Preparing to unpack .../020-libmono-db2-1.0-cil_6.8.0.105+dfsg-2_all.deb ...\n",
            "Unpacking libmono-db2-1.0-cil (6.8.0.105+dfsg-2) ...\n",
            "Selecting previously unselected package libmono-debugger-soft4.0a-cil.\n",
            "Preparing to unpack .../021-libmono-debugger-soft4.0a-cil_6.8.0.105+dfsg-2_all.deb ...\n",
            "Unpacking libmono-debugger-soft4.0a-cil (6.8.0.105+dfsg-2) ...\n",
            "Selecting previously unselected package libmono-sharpzip4.84-cil.\n",
            "Preparing to unpack .../022-libmono-sharpzip4.84-cil_6.8.0.105+dfsg-2_all.deb ...\n",
            "Unpacking libmono-sharpzip4.84-cil (6.8.0.105+dfsg-2) ...\n",
            "Selecting previously unselected package libmono-sqlite4.0-cil.\n",
            "Preparing to unpack .../023-libmono-sqlite4.0-cil_6.8.0.105+dfsg-2_all.deb ...\n",
            "Unpacking libmono-sqlite4.0-cil (6.8.0.105+dfsg-2) ...\n",
            "Selecting previously unselected package libmono-system-componentmodel-dataannotations4.0-cil.\n",
            "Preparing to unpack .../024-libmono-system-componentmodel-dataannotations4.0-cil_6.8.0.105+dfsg-2_all.deb ...\n",
            "Unpacking libmono-system-componentmodel-dataannotations4.0-cil (6.8.0.105+dfsg-2) ...\n",
            "Selecting previously unselected package libmono-system-drawing4.0-cil.\n",
            "Preparing to unpack .../025-libmono-system-drawing4.0-cil_6.8.0.105+dfsg-2_all.deb ...\n",
            "Unpacking libmono-system-drawing4.0-cil (6.8.0.105+dfsg-2) ...\n",
            "Selecting previously unselected package libmono-system-runtime-serialization-formatters-soap4.0-cil.\n",
            "Preparing to unpack .../026-libmono-system-runtime-serialization-formatters-soap4.0-cil_6.8.0.105+dfsg-2_all.deb ...\n",
            "Unpacking libmono-system-runtime-serialization-formatters-soap4.0-cil (6.8.0.105+dfsg-2) ...\n",
            "Selecting previously unselected package libmono-system-web-applicationservices4.0-cil.\n",
            "Preparing to unpack .../027-libmono-system-web-applicationservices4.0-cil_6.8.0.105+dfsg-2_all.deb ...\n",
            "Unpacking libmono-system-web-applicationservices4.0-cil (6.8.0.105+dfsg-2) ...\n",
            "Selecting previously unselected package libmono-posix4.0-cil.\n",
            "Preparing to unpack .../028-libmono-posix4.0-cil_6.8.0.105+dfsg-2_all.deb ...\n",
            "Unpacking libmono-posix4.0-cil (6.8.0.105+dfsg-2) ...\n",
            "Selecting previously unselected package libmono-webbrowser4.0-cil.\n",
            "Preparing to unpack .../029-libmono-webbrowser4.0-cil_6.8.0.105+dfsg-2_all.deb ...\n",
            "Unpacking libmono-webbrowser4.0-cil (6.8.0.105+dfsg-2) ...\n",
            "Selecting previously unselected package libmono-i18n4.0-cil.\n",
            "Preparing to unpack .../030-libmono-i18n4.0-cil_6.8.0.105+dfsg-2_all.deb ...\n",
            "Unpacking libmono-i18n4.0-cil (6.8.0.105+dfsg-2) ...\n",
            "Selecting previously unselected package libmono-i18n-west4.0-cil.\n",
            "Preparing to unpack .../031-libmono-i18n-west4.0-cil_6.8.0.105+dfsg-2_all.deb ...\n",
            "Unpacking libmono-i18n-west4.0-cil (6.8.0.105+dfsg-2) ...\n",
            "Selecting previously unselected package libmono-system-windows-forms4.0-cil.\n",
            "Preparing to unpack .../032-libmono-system-windows-forms4.0-cil_6.8.0.105+dfsg-2_all.deb ...\n",
            "Unpacking libmono-system-windows-forms4.0-cil (6.8.0.105+dfsg-2) ...\n",
            "Selecting previously unselected package libmono-system-design4.0-cil.\n",
            "Preparing to unpack .../033-libmono-system-design4.0-cil_6.8.0.105+dfsg-2_all.deb ...\n",
            "Unpacking libmono-system-design4.0-cil (6.8.0.105+dfsg-2) ...\n",
            "Selecting previously unselected package libmono-ldap4.0-cil.\n",
            "Preparing to unpack .../034-libmono-ldap4.0-cil_6.8.0.105+dfsg-2_all.deb ...\n",
            "Unpacking libmono-ldap4.0-cil (6.8.0.105+dfsg-2) ...\n",
            "Selecting previously unselected package libmono-system-ldap4.0-cil.\n",
            "Preparing to unpack .../035-libmono-system-ldap4.0-cil_6.8.0.105+dfsg-2_all.deb ...\n",
            "Unpacking libmono-system-ldap4.0-cil (6.8.0.105+dfsg-2) ...\n",
            "Selecting previously unselected package libmono-system-web-services4.0-cil.\n",
            "Preparing to unpack .../036-libmono-system-web-services4.0-cil_6.8.0.105+dfsg-2_all.deb ...\n",
            "Unpacking libmono-system-web-services4.0-cil (6.8.0.105+dfsg-2) ...\n",
            "Selecting previously unselected package libmono-system-web4.0-cil.\n",
            "Preparing to unpack .../037-libmono-system-web4.0-cil_6.8.0.105+dfsg-2_all.deb ...\n",
            "Unpacking libmono-system-web4.0-cil (6.8.0.105+dfsg-2) ...\n",
            "Selecting previously unselected package libmono-http4.0-cil.\n",
            "Preparing to unpack .../038-libmono-http4.0-cil_6.8.0.105+dfsg-2_all.deb ...\n",
            "Unpacking libmono-http4.0-cil (6.8.0.105+dfsg-2) ...\n",
            "Selecting previously unselected package libmono-i18n-cjk4.0-cil.\n",
            "Preparing to unpack .../039-libmono-i18n-cjk4.0-cil_6.8.0.105+dfsg-2_all.deb ...\n",
            "Unpacking libmono-i18n-cjk4.0-cil (6.8.0.105+dfsg-2) ...\n",
            "Selecting previously unselected package libmono-i18n-mideast4.0-cil.\n",
            "Preparing to unpack .../040-libmono-i18n-mideast4.0-cil_6.8.0.105+dfsg-2_all.deb ...\n",
            "Unpacking libmono-i18n-mideast4.0-cil (6.8.0.105+dfsg-2) ...\n",
            "Selecting previously unselected package libmono-i18n-other4.0-cil.\n",
            "Preparing to unpack .../041-libmono-i18n-other4.0-cil_6.8.0.105+dfsg-2_all.deb ...\n",
            "Unpacking libmono-i18n-other4.0-cil (6.8.0.105+dfsg-2) ...\n",
            "Selecting previously unselected package libmono-i18n-rare4.0-cil.\n",
            "Preparing to unpack .../042-libmono-i18n-rare4.0-cil_6.8.0.105+dfsg-2_all.deb ...\n",
            "Unpacking libmono-i18n-rare4.0-cil (6.8.0.105+dfsg-2) ...\n",
            "Selecting previously unselected package libmono-i18n4.0-all.\n",
            "Preparing to unpack .../043-libmono-i18n4.0-all_6.8.0.105+dfsg-2_all.deb ...\n",
            "Unpacking libmono-i18n4.0-all (6.8.0.105+dfsg-2) ...\n",
            "Selecting previously unselected package libmono-management4.0-cil.\n",
            "Preparing to unpack .../044-libmono-management4.0-cil_6.8.0.105+dfsg-2_all.deb ...\n",
            "Unpacking libmono-management4.0-cil (6.8.0.105+dfsg-2) ...\n",
            "Selecting previously unselected package libmono-messaging4.0-cil.\n",
            "Preparing to unpack .../045-libmono-messaging4.0-cil_6.8.0.105+dfsg-2_all.deb ...\n",
            "Unpacking libmono-messaging4.0-cil (6.8.0.105+dfsg-2) ...\n",
            "Selecting previously unselected package libmono-rabbitmq4.0-cil.\n",
            "Preparing to unpack .../046-libmono-rabbitmq4.0-cil_6.8.0.105+dfsg-2_all.deb ...\n",
            "Unpacking libmono-rabbitmq4.0-cil (6.8.0.105+dfsg-2) ...\n",
            "Selecting previously unselected package libmono-messaging-rabbitmq4.0-cil.\n",
            "Preparing to unpack .../047-libmono-messaging-rabbitmq4.0-cil_6.8.0.105+dfsg-2_all.deb ...\n",
            "Unpacking libmono-messaging-rabbitmq4.0-cil (6.8.0.105+dfsg-2) ...\n",
            "Selecting previously unselected package libmono-microsoft-build-framework4.0-cil.\n",
            "Preparing to unpack .../048-libmono-microsoft-build-framework4.0-cil_6.8.0.105+dfsg-2_all.deb ...\n",
            "Unpacking libmono-microsoft-build-framework4.0-cil (6.8.0.105+dfsg-2) ...\n",
            "Selecting previously unselected package libmono-microsoft-build4.0-cil.\n",
            "Preparing to unpack .../049-libmono-microsoft-build4.0-cil_6.8.0.105+dfsg-2_all.deb ...\n",
            "Unpacking libmono-microsoft-build4.0-cil (6.8.0.105+dfsg-2) ...\n",
            "Selecting previously unselected package libmono-microsoft-build-utilities-v4.0-4.0-cil.\n",
            "Preparing to unpack .../050-libmono-microsoft-build-utilities-v4.0-4.0-cil_6.8.0.105+dfsg-2_all.deb ...\n",
            "Unpacking libmono-microsoft-build-utilities-v4.0-4.0-cil (6.8.0.105+dfsg-2) ...\n",
            "Selecting previously unselected package libmono-microsoft-build-engine4.0-cil.\n",
            "Preparing to unpack .../051-libmono-microsoft-build-engine4.0-cil_6.8.0.105+dfsg-2_all.deb ...\n",
            "Unpacking libmono-microsoft-build-engine4.0-cil (6.8.0.105+dfsg-2) ...\n",
            "Selecting previously unselected package libmono-xbuild-tasks4.0-cil.\n",
            "Preparing to unpack .../052-libmono-xbuild-tasks4.0-cil_6.8.0.105+dfsg-2_all.deb ...\n",
            "Unpacking libmono-xbuild-tasks4.0-cil (6.8.0.105+dfsg-2) ...\n",
            "Selecting previously unselected package libmono-microsoft-build-tasks-v4.0-4.0-cil.\n",
            "Preparing to unpack .../053-libmono-microsoft-build-tasks-v4.0-4.0-cil_6.8.0.105+dfsg-2_all.deb ...\n",
            "Unpacking libmono-microsoft-build-tasks-v4.0-4.0-cil (6.8.0.105+dfsg-2) ...\n",
            "Selecting previously unselected package libmono-microsoft-csharp4.0-cil.\n",
            "Preparing to unpack .../054-libmono-microsoft-csharp4.0-cil_6.8.0.105+dfsg-2_all.deb ...\n",
            "Unpacking libmono-microsoft-csharp4.0-cil (6.8.0.105+dfsg-2) ...\n",
            "Selecting previously unselected package libmono-microsoft-visualc10.0-cil.\n",
            "Preparing to unpack .../055-libmono-microsoft-visualc10.0-cil_6.8.0.105+dfsg-2_all.deb ...\n",
            "Unpacking libmono-microsoft-visualc10.0-cil (6.8.0.105+dfsg-2) ...\n",
            "Selecting previously unselected package libmono-microsoft-web-infrastructure1.0-cil.\n",
            "Preparing to unpack .../056-libmono-microsoft-web-infrastructure1.0-cil_6.8.0.105+dfsg-2_all.deb ...\n",
            "Unpacking libmono-microsoft-web-infrastructure1.0-cil (6.8.0.105+dfsg-2) ...\n",
            "Selecting previously unselected package libmono-oracle4.0-cil.\n",
            "Preparing to unpack .../057-libmono-oracle4.0-cil_6.8.0.105+dfsg-2_all.deb ...\n",
            "Unpacking libmono-oracle4.0-cil (6.8.0.105+dfsg-2) ...\n",
            "Selecting previously unselected package libmono-parallel4.0-cil.\n",
            "Preparing to unpack .../058-libmono-parallel4.0-cil_6.8.0.105+dfsg-2_all.deb ...\n",
            "Unpacking libmono-parallel4.0-cil (6.8.0.105+dfsg-2) ...\n",
            "Selecting previously unselected package libmono-peapi4.0a-cil.\n",
            "Preparing to unpack .../059-libmono-peapi4.0a-cil_6.8.0.105+dfsg-2_all.deb ...\n",
            "Unpacking libmono-peapi4.0a-cil (6.8.0.105+dfsg-2) ...\n",
            "Selecting previously unselected package libmono-relaxng4.0-cil.\n",
            "Preparing to unpack .../060-libmono-relaxng4.0-cil_6.8.0.105+dfsg-2_all.deb ...\n",
            "Unpacking libmono-relaxng4.0-cil (6.8.0.105+dfsg-2) ...\n",
            "Selecting previously unselected package libmono-simd4.0-cil.\n",
            "Preparing to unpack .../061-libmono-simd4.0-cil_6.8.0.105+dfsg-2_all.deb ...\n",
            "Unpacking libmono-simd4.0-cil (6.8.0.105+dfsg-2) ...\n",
            "Selecting previously unselected package libmono-system-servicemodel-internals0.0-cil.\n",
            "Preparing to unpack .../062-libmono-system-servicemodel-internals0.0-cil_6.8.0.105+dfsg-2_all.deb ...\n",
            "Unpacking libmono-system-servicemodel-internals0.0-cil (6.8.0.105+dfsg-2) ...\n",
            "Selecting previously unselected package libmono-smdiagnostics0.0-cil.\n",
            "Preparing to unpack .../063-libmono-smdiagnostics0.0-cil_6.8.0.105+dfsg-2_all.deb ...\n",
            "Unpacking libmono-smdiagnostics0.0-cil (6.8.0.105+dfsg-2) ...\n",
            "Selecting previously unselected package libmono-system-componentmodel-composition4.0-cil.\n",
            "Preparing to unpack .../064-libmono-system-componentmodel-composition4.0-cil_6.8.0.105+dfsg-2_all.deb ...\n",
            "Unpacking libmono-system-componentmodel-composition4.0-cil (6.8.0.105+dfsg-2) ...\n",
            "Selecting previously unselected package libmono-system-configuration-install4.0-cil.\n",
            "Preparing to unpack .../065-libmono-system-configuration-install4.0-cil_6.8.0.105+dfsg-2_all.deb ...\n",
            "Unpacking libmono-system-configuration-install4.0-cil (6.8.0.105+dfsg-2) ...\n",
            "Selecting previously unselected package libmono-system-data-datasetextensions4.0-cil.\n",
            "Preparing to unpack .../066-libmono-system-data-datasetextensions4.0-cil_6.8.0.105+dfsg-2_all.deb ...\n",
            "Unpacking libmono-system-data-datasetextensions4.0-cil (6.8.0.105+dfsg-2) ...\n",
            "Selecting previously unselected package libmono-system-runtime-serialization4.0-cil.\n",
            "Preparing to unpack .../067-libmono-system-runtime-serialization4.0-cil_6.8.0.105+dfsg-2_all.deb ...\n",
            "Unpacking libmono-system-runtime-serialization4.0-cil (6.8.0.105+dfsg-2) ...\n",
            "Selecting previously unselected package libmono-system-xml-linq4.0-cil.\n",
            "Preparing to unpack .../068-libmono-system-xml-linq4.0-cil_6.8.0.105+dfsg-2_all.deb ...\n",
            "Unpacking libmono-system-xml-linq4.0-cil (6.8.0.105+dfsg-2) ...\n",
            "Selecting previously unselected package libmono-system-data-entity4.0-cil.\n",
            "Preparing to unpack .../069-libmono-system-data-entity4.0-cil_6.8.0.105+dfsg-2_all.deb ...\n",
            "Unpacking libmono-system-data-entity4.0-cil (6.8.0.105+dfsg-2) ...\n",
            "Selecting previously unselected package libmono-system-data-linq4.0-cil.\n",
            "Preparing to unpack .../070-libmono-system-data-linq4.0-cil_6.8.0.105+dfsg-2_all.deb ...\n",
            "Unpacking libmono-system-data-linq4.0-cil (6.8.0.105+dfsg-2) ...\n",
            "Selecting previously unselected package libmono-system-data-services-client4.0-cil.\n",
            "Preparing to unpack .../071-libmono-system-data-services-client4.0-cil_6.8.0.105+dfsg-2_all.deb ...\n",
            "Unpacking libmono-system-data-services-client4.0-cil (6.8.0.105+dfsg-2) ...\n",
            "Selecting previously unselected package libmono-system-identitymodel4.0-cil.\n",
            "Preparing to unpack .../072-libmono-system-identitymodel4.0-cil_6.8.0.105+dfsg-2_all.deb ...\n",
            "Unpacking libmono-system-identitymodel4.0-cil (6.8.0.105+dfsg-2) ...\n",
            "Selecting previously unselected package libmono-system-identitymodel-selectors4.0-cil.\n",
            "Preparing to unpack .../073-libmono-system-identitymodel-selectors4.0-cil_6.8.0.105+dfsg-2_all.deb ...\n",
            "Unpacking libmono-system-identitymodel-selectors4.0-cil (6.8.0.105+dfsg-2) ...\n",
            "Selecting previously unselected package libmono-system-messaging4.0-cil.\n",
            "Preparing to unpack .../074-libmono-system-messaging4.0-cil_6.8.0.105+dfsg-2_all.deb ...\n",
            "Unpacking libmono-system-messaging4.0-cil (6.8.0.105+dfsg-2) ...\n",
            "Selecting previously unselected package libmono-system-servicemodel4.0a-cil.\n",
            "Preparing to unpack .../075-libmono-system-servicemodel4.0a-cil_6.8.0.105+dfsg-2_all.deb ...\n",
            "Unpacking libmono-system-servicemodel4.0a-cil (6.8.0.105+dfsg-2) ...\n",
            "Selecting previously unselected package libmono-system-servicemodel-activation4.0-cil.\n",
            "Preparing to unpack .../076-libmono-system-servicemodel-activation4.0-cil_6.8.0.105+dfsg-2_all.deb ...\n",
            "Unpacking libmono-system-servicemodel-activation4.0-cil (6.8.0.105+dfsg-2) ...\n",
            "Selecting previously unselected package libmono-system-web-extensions4.0-cil.\n",
            "Preparing to unpack .../077-libmono-system-web-extensions4.0-cil_6.8.0.105+dfsg-2_all.deb ...\n",
            "Unpacking libmono-system-web-extensions4.0-cil (6.8.0.105+dfsg-2) ...\n",
            "Selecting previously unselected package libmono-system-servicemodel-web4.0-cil.\n",
            "Preparing to unpack .../078-libmono-system-servicemodel-web4.0-cil_6.8.0.105+dfsg-2_all.deb ...\n",
            "Unpacking libmono-system-servicemodel-web4.0-cil (6.8.0.105+dfsg-2) ...\n",
            "Selecting previously unselected package libmono-system-data-services4.0-cil.\n",
            "Preparing to unpack .../079-libmono-system-data-services4.0-cil_6.8.0.105+dfsg-2_all.deb ...\n",
            "Unpacking libmono-system-data-services4.0-cil (6.8.0.105+dfsg-2) ...\n",
            "Selecting previously unselected package libmono-system-deployment4.0-cil.\n",
            "Preparing to unpack .../080-libmono-system-deployment4.0-cil_6.8.0.105+dfsg-2_all.deb ...\n",
            "Unpacking libmono-system-deployment4.0-cil (6.8.0.105+dfsg-2) ...\n",
            "Selecting previously unselected package libmono-system-drawing-design4.0-cil.\n",
            "Preparing to unpack .../081-libmono-system-drawing-design4.0-cil_6.8.0.105+dfsg-2_all.deb ...\n",
            "Unpacking libmono-system-drawing-design4.0-cil (6.8.0.105+dfsg-2) ...\n",
            "Selecting previously unselected package libmono-system-dynamic4.0-cil.\n",
            "Preparing to unpack .../082-libmono-system-dynamic4.0-cil_6.8.0.105+dfsg-2_all.deb ...\n",
            "Unpacking libmono-system-dynamic4.0-cil (6.8.0.105+dfsg-2) ...\n",
            "Selecting previously unselected package libmono-system-io-compression4.0-cil.\n",
            "Preparing to unpack .../083-libmono-system-io-compression4.0-cil_6.8.0.105+dfsg-2_all.deb ...\n",
            "Unpacking libmono-system-io-compression4.0-cil (6.8.0.105+dfsg-2) ...\n",
            "Selecting previously unselected package libmono-system-io-compression-filesystem4.0-cil.\n",
            "Preparing to unpack .../084-libmono-system-io-compression-filesystem4.0-cil_6.8.0.105+dfsg-2_all.deb ...\n",
            "Unpacking libmono-system-io-compression-filesystem4.0-cil (6.8.0.105+dfsg-2) ...\n",
            "Selecting previously unselected package libmono-system-json4.0-cil.\n",
            "Preparing to unpack .../085-libmono-system-json4.0-cil_6.8.0.105+dfsg-2_all.deb ...\n",
            "Unpacking libmono-system-json4.0-cil (6.8.0.105+dfsg-2) ...\n",
            "Selecting previously unselected package libmono-system-json-microsoft4.0-cil.\n",
            "Preparing to unpack .../086-libmono-system-json-microsoft4.0-cil_6.8.0.105+dfsg-2_all.deb ...\n",
            "Unpacking libmono-system-json-microsoft4.0-cil (6.8.0.105+dfsg-2) ...\n",
            "Selecting previously unselected package libmono-system-ldap-protocols4.0-cil.\n",
            "Preparing to unpack .../087-libmono-system-ldap-protocols4.0-cil_6.8.0.105+dfsg-2_all.deb ...\n",
            "Unpacking libmono-system-ldap-protocols4.0-cil (6.8.0.105+dfsg-2) ...\n",
            "Selecting previously unselected package libmono-system-management4.0-cil.\n",
            "Preparing to unpack .../088-libmono-system-management4.0-cil_6.8.0.105+dfsg-2_all.deb ...\n",
            "Unpacking libmono-system-management4.0-cil (6.8.0.105+dfsg-2) ...\n",
            "Selecting previously unselected package libmono-system-net4.0-cil.\n",
            "Preparing to unpack .../089-libmono-system-net4.0-cil_6.8.0.105+dfsg-2_all.deb ...\n",
            "Unpacking libmono-system-net4.0-cil (6.8.0.105+dfsg-2) ...\n",
            "Selecting previously unselected package libmono-system-net-http4.0-cil.\n",
            "Preparing to unpack .../090-libmono-system-net-http4.0-cil_6.8.0.105+dfsg-2_all.deb ...\n",
            "Unpacking libmono-system-net-http4.0-cil (6.8.0.105+dfsg-2) ...\n",
            "Selecting previously unselected package libmono-system-net-http-formatting4.0-cil.\n",
            "Preparing to unpack .../091-libmono-system-net-http-formatting4.0-cil_6.8.0.105+dfsg-2_all.deb ...\n",
            "Unpacking libmono-system-net-http-formatting4.0-cil (6.8.0.105+dfsg-2) ...\n",
            "Selecting previously unselected package libmono-system-net-http-webrequest4.0-cil.\n",
            "Preparing to unpack .../092-libmono-system-net-http-webrequest4.0-cil_6.8.0.105+dfsg-2_all.deb ...\n",
            "Unpacking libmono-system-net-http-webrequest4.0-cil (6.8.0.105+dfsg-2) ...\n",
            "Selecting previously unselected package libmono-system-numerics-vectors4.0-cil.\n",
            "Preparing to unpack .../093-libmono-system-numerics-vectors4.0-cil_6.8.0.105+dfsg-2_all.deb ...\n",
            "Unpacking libmono-system-numerics-vectors4.0-cil (6.8.0.105+dfsg-2) ...\n",
            "Selecting previously unselected package libmono-system-reactive-interfaces2.2-cil.\n",
            "Preparing to unpack .../094-libmono-system-reactive-interfaces2.2-cil_6.8.0.105+dfsg-2_all.deb ...\n",
            "Unpacking libmono-system-reactive-interfaces2.2-cil (6.8.0.105+dfsg-2) ...\n",
            "Selecting previously unselected package libmono-system-reactive-core2.2-cil.\n",
            "Preparing to unpack .../095-libmono-system-reactive-core2.2-cil_6.8.0.105+dfsg-2_all.deb ...\n",
            "Unpacking libmono-system-reactive-core2.2-cil (6.8.0.105+dfsg-2) ...\n",
            "Selecting previously unselected package libmono-system-reactive-linq2.2-cil.\n",
            "Preparing to unpack .../096-libmono-system-reactive-linq2.2-cil_6.8.0.105+dfsg-2_all.deb ...\n",
            "Unpacking libmono-system-reactive-linq2.2-cil (6.8.0.105+dfsg-2) ...\n",
            "Selecting previously unselected package libmono-system-reactive-debugger2.2-cil.\n",
            "Preparing to unpack .../097-libmono-system-reactive-debugger2.2-cil_6.8.0.105+dfsg-2_all.deb ...\n",
            "Unpacking libmono-system-reactive-debugger2.2-cil (6.8.0.105+dfsg-2) ...\n",
            "Selecting previously unselected package libmono-system-reactive-experimental2.2-cil.\n",
            "Preparing to unpack .../098-libmono-system-reactive-experimental2.2-cil_6.8.0.105+dfsg-2_all.deb ...\n",
            "Unpacking libmono-system-reactive-experimental2.2-cil (6.8.0.105+dfsg-2) ...\n",
            "Selecting previously unselected package libmono-system-reactive-providers2.2-cil.\n",
            "Preparing to unpack .../099-libmono-system-reactive-providers2.2-cil_6.8.0.105+dfsg-2_all.deb ...\n",
            "Unpacking libmono-system-reactive-providers2.2-cil (6.8.0.105+dfsg-2) ...\n",
            "Selecting previously unselected package libmono-system-reactive-observable-aliases0.0-cil.\n",
            "Preparing to unpack .../100-libmono-system-reactive-observable-aliases0.0-cil_6.8.0.105+dfsg-2_all.deb ...\n",
            "Unpacking libmono-system-reactive-observable-aliases0.0-cil (6.8.0.105+dfsg-2) ...\n",
            "Selecting previously unselected package libmono-system-reactive-platformservices2.2-cil.\n",
            "Preparing to unpack .../101-libmono-system-reactive-platformservices2.2-cil_6.8.0.105+dfsg-2_all.deb ...\n",
            "Unpacking libmono-system-reactive-platformservices2.2-cil (6.8.0.105+dfsg-2) ...\n",
            "Selecting previously unselected package libmono-system-reactive-runtime-remoting2.2-cil.\n",
            "Preparing to unpack .../102-libmono-system-reactive-runtime-remoting2.2-cil_6.8.0.105+dfsg-2_all.deb ...\n",
            "Unpacking libmono-system-reactive-runtime-remoting2.2-cil (6.8.0.105+dfsg-2) ...\n",
            "Selecting previously unselected package libmono-system-reactive-windows-forms2.2-cil.\n",
            "Preparing to unpack .../103-libmono-system-reactive-windows-forms2.2-cil_6.8.0.105+dfsg-2_all.deb ...\n",
            "Unpacking libmono-system-reactive-windows-forms2.2-cil (6.8.0.105+dfsg-2) ...\n",
            "Selecting previously unselected package libmono-system-xaml4.0-cil.\n",
            "Preparing to unpack .../104-libmono-system-xaml4.0-cil_6.8.0.105+dfsg-2_all.deb ...\n",
            "Unpacking libmono-system-xaml4.0-cil (6.8.0.105+dfsg-2) ...\n",
            "Selecting previously unselected package libmono-windowsbase4.0-cil.\n",
            "Preparing to unpack .../105-libmono-windowsbase4.0-cil_6.8.0.105+dfsg-2_all.deb ...\n",
            "Unpacking libmono-windowsbase4.0-cil (6.8.0.105+dfsg-2) ...\n",
            "Selecting previously unselected package libmono-system-reactive-windows-threading2.2-cil.\n",
            "Preparing to unpack .../106-libmono-system-reactive-windows-threading2.2-cil_6.8.0.105+dfsg-2_all.deb ...\n",
            "Unpacking libmono-system-reactive-windows-threading2.2-cil (6.8.0.105+dfsg-2) ...\n",
            "Selecting previously unselected package libmono-system-reflection-context4.0-cil.\n",
            "Preparing to unpack .../107-libmono-system-reflection-context4.0-cil_6.8.0.105+dfsg-2_all.deb ...\n",
            "Unpacking libmono-system-reflection-context4.0-cil (6.8.0.105+dfsg-2) ...\n",
            "Selecting previously unselected package libmono-system-runtime4.0-cil.\n",
            "Preparing to unpack .../108-libmono-system-runtime4.0-cil_6.8.0.105+dfsg-2_all.deb ...\n",
            "Unpacking libmono-system-runtime4.0-cil (6.8.0.105+dfsg-2) ...\n",
            "Selecting previously unselected package libmono-system-runtime-caching4.0-cil.\n",
            "Preparing to unpack .../109-libmono-system-runtime-caching4.0-cil_6.8.0.105+dfsg-2_all.deb ...\n",
            "Unpacking libmono-system-runtime-caching4.0-cil (6.8.0.105+dfsg-2) ...\n",
            "Selecting previously unselected package libmono-system-runtime-durableinstancing4.0-cil.\n",
            "Preparing to unpack .../110-libmono-system-runtime-durableinstancing4.0-cil_6.8.0.105+dfsg-2_all.deb ...\n",
            "Unpacking libmono-system-runtime-durableinstancing4.0-cil (6.8.0.105+dfsg-2) ...\n",
            "Selecting previously unselected package libmono-system-servicemodel-discovery4.0-cil.\n",
            "Preparing to unpack .../111-libmono-system-servicemodel-discovery4.0-cil_6.8.0.105+dfsg-2_all.deb ...\n",
            "Unpacking libmono-system-servicemodel-discovery4.0-cil (6.8.0.105+dfsg-2) ...\n",
            "Selecting previously unselected package libmono-system-servicemodel-routing4.0-cil.\n",
            "Preparing to unpack .../112-libmono-system-servicemodel-routing4.0-cil_6.8.0.105+dfsg-2_all.deb ...\n",
            "Unpacking libmono-system-servicemodel-routing4.0-cil (6.8.0.105+dfsg-2) ...\n",
            "Selecting previously unselected package libmono-system-serviceprocess4.0-cil.\n",
            "Preparing to unpack .../113-libmono-system-serviceprocess4.0-cil_6.8.0.105+dfsg-2_all.deb ...\n",
            "Unpacking libmono-system-serviceprocess4.0-cil (6.8.0.105+dfsg-2) ...\n",
            "Selecting previously unselected package libmono-system-threading-tasks-dataflow4.0-cil.\n",
            "Preparing to unpack .../114-libmono-system-threading-tasks-dataflow4.0-cil_6.8.0.105+dfsg-2_all.deb ...\n",
            "Unpacking libmono-system-threading-tasks-dataflow4.0-cil (6.8.0.105+dfsg-2) ...\n",
            "Selecting previously unselected package libmono-system-web-abstractions4.0-cil.\n",
            "Preparing to unpack .../115-libmono-system-web-abstractions4.0-cil_6.8.0.105+dfsg-2_all.deb ...\n",
            "Unpacking libmono-system-web-abstractions4.0-cil (6.8.0.105+dfsg-2) ...\n",
            "Selecting previously unselected package libmono-system-web-dynamicdata4.0-cil.\n",
            "Preparing to unpack .../116-libmono-system-web-dynamicdata4.0-cil_6.8.0.105+dfsg-2_all.deb ...\n",
            "Unpacking libmono-system-web-dynamicdata4.0-cil (6.8.0.105+dfsg-2) ...\n",
            "Selecting previously unselected package libmono-system-web-extensions-design4.0-cil.\n",
            "Preparing to unpack .../117-libmono-system-web-extensions-design4.0-cil_6.8.0.105+dfsg-2_all.deb ...\n",
            "Unpacking libmono-system-web-extensions-design4.0-cil (6.8.0.105+dfsg-2) ...\n",
            "Selecting previously unselected package libmono-system-web-http4.0-cil.\n",
            "Preparing to unpack .../118-libmono-system-web-http4.0-cil_6.8.0.105+dfsg-2_all.deb ...\n",
            "Unpacking libmono-system-web-http4.0-cil (6.8.0.105+dfsg-2) ...\n",
            "Selecting previously unselected package libmono-system-web-http-selfhost4.0-cil.\n",
            "Preparing to unpack .../119-libmono-system-web-http-selfhost4.0-cil_6.8.0.105+dfsg-2_all.deb ...\n",
            "Unpacking libmono-system-web-http-selfhost4.0-cil (6.8.0.105+dfsg-2) ...\n",
            "Selecting previously unselected package libmono-system-web-http-webhost4.0-cil.\n",
            "Preparing to unpack .../120-libmono-system-web-http-webhost4.0-cil_6.8.0.105+dfsg-2_all.deb ...\n",
            "Unpacking libmono-system-web-http-webhost4.0-cil (6.8.0.105+dfsg-2) ...\n",
            "Selecting previously unselected package libmono-system-web-mobile4.0-cil.\n",
            "Preparing to unpack .../121-libmono-system-web-mobile4.0-cil_6.8.0.105+dfsg-2_all.deb ...\n",
            "Unpacking libmono-system-web-mobile4.0-cil (6.8.0.105+dfsg-2) ...\n",
            "Selecting previously unselected package libmono-system-web-razor2.0-cil.\n",
            "Preparing to unpack .../122-libmono-system-web-razor2.0-cil_6.8.0.105+dfsg-2_all.deb ...\n",
            "Unpacking libmono-system-web-razor2.0-cil (6.8.0.105+dfsg-2) ...\n",
            "Selecting previously unselected package libmono-system-web-webpages-deployment2.0-cil.\n",
            "Preparing to unpack .../123-libmono-system-web-webpages-deployment2.0-cil_6.8.0.105+dfsg-2_all.deb ...\n",
            "Unpacking libmono-system-web-webpages-deployment2.0-cil (6.8.0.105+dfsg-2) ...\n",
            "Selecting previously unselected package libmono-system-web-webpages2.0-cil.\n",
            "Preparing to unpack .../124-libmono-system-web-webpages2.0-cil_6.8.0.105+dfsg-2_all.deb ...\n",
            "Unpacking libmono-system-web-webpages2.0-cil (6.8.0.105+dfsg-2) ...\n",
            "Selecting previously unselected package libmono-system-web-webpages-razor2.0-cil.\n",
            "Preparing to unpack .../125-libmono-system-web-webpages-razor2.0-cil_6.8.0.105+dfsg-2_all.deb ...\n",
            "Unpacking libmono-system-web-webpages-razor2.0-cil (6.8.0.105+dfsg-2) ...\n",
            "Selecting previously unselected package libmono-system-web-mvc3.0-cil.\n",
            "Preparing to unpack .../126-libmono-system-web-mvc3.0-cil_6.8.0.105+dfsg-2_all.deb ...\n",
            "Unpacking libmono-system-web-mvc3.0-cil (6.8.0.105+dfsg-2) ...\n",
            "Selecting previously unselected package libmono-system-web-regularexpressions4.0-cil.\n",
            "Preparing to unpack .../127-libmono-system-web-regularexpressions4.0-cil_6.8.0.105+dfsg-2_all.deb ...\n",
            "Unpacking libmono-system-web-regularexpressions4.0-cil (6.8.0.105+dfsg-2) ...\n",
            "Selecting previously unselected package libmono-system-web-routing4.0-cil.\n",
            "Preparing to unpack .../128-libmono-system-web-routing4.0-cil_6.8.0.105+dfsg-2_all.deb ...\n",
            "Unpacking libmono-system-web-routing4.0-cil (6.8.0.105+dfsg-2) ...\n",
            "Selecting previously unselected package libmono-system-windows4.0-cil.\n",
            "Preparing to unpack .../129-libmono-system-windows4.0-cil_6.8.0.105+dfsg-2_all.deb ...\n",
            "Unpacking libmono-system-windows4.0-cil (6.8.0.105+dfsg-2) ...\n",
            "Selecting previously unselected package libmono-system-windows-forms-datavisualization4.0a-cil.\n",
            "Preparing to unpack .../130-libmono-system-windows-forms-datavisualization4.0a-cil_6.8.0.105+dfsg-2_all.deb ...\n",
            "Unpacking libmono-system-windows-forms-datavisualization4.0a-cil (6.8.0.105+dfsg-2) ...\n",
            "Selecting previously unselected package libmono-system-workflow-activities4.0-cil.\n",
            "Preparing to unpack .../131-libmono-system-workflow-activities4.0-cil_6.8.0.105+dfsg-2_all.deb ...\n",
            "Unpacking libmono-system-workflow-activities4.0-cil (6.8.0.105+dfsg-2) ...\n",
            "Selecting previously unselected package libmono-system-workflow-componentmodel4.0-cil.\n",
            "Preparing to unpack .../132-libmono-system-workflow-componentmodel4.0-cil_6.8.0.105+dfsg-2_all.deb ...\n",
            "Unpacking libmono-system-workflow-componentmodel4.0-cil (6.8.0.105+dfsg-2) ...\n",
            "Selecting previously unselected package libmono-system-workflow-runtime4.0-cil.\n",
            "Preparing to unpack .../133-libmono-system-workflow-runtime4.0-cil_6.8.0.105+dfsg-2_all.deb ...\n",
            "Unpacking libmono-system-workflow-runtime4.0-cil (6.8.0.105+dfsg-2) ...\n",
            "Selecting previously unselected package libmono-system-xml-serialization4.0-cil.\n",
            "Preparing to unpack .../134-libmono-system-xml-serialization4.0-cil_6.8.0.105+dfsg-2_all.deb ...\n",
            "Unpacking libmono-system-xml-serialization4.0-cil (6.8.0.105+dfsg-2) ...\n",
            "Selecting previously unselected package libmono-tasklets4.0-cil.\n",
            "Preparing to unpack .../135-libmono-tasklets4.0-cil_6.8.0.105+dfsg-2_all.deb ...\n",
            "Unpacking libmono-tasklets4.0-cil (6.8.0.105+dfsg-2) ...\n",
            "Selecting previously unselected package libmono-webmatrix-data4.0-cil.\n",
            "Preparing to unpack .../136-libmono-webmatrix-data4.0-cil_6.8.0.105+dfsg-2_all.deb ...\n",
            "Unpacking libmono-webmatrix-data4.0-cil (6.8.0.105+dfsg-2) ...\n",
            "Selecting previously unselected package libnunit-core-interfaces2.6.3-cil.\n",
            "Preparing to unpack .../137-libnunit-core-interfaces2.6.3-cil_2.6.4+dfsg-1_all.deb ...\n",
            "Unpacking libnunit-core-interfaces2.6.3-cil (2.6.4+dfsg-1) ...\n",
            "Selecting previously unselected package libnunit-core2.6.3-cil.\n",
            "Preparing to unpack .../138-libnunit-core2.6.3-cil_2.6.4+dfsg-1_all.deb ...\n",
            "Unpacking libnunit-core2.6.3-cil (2.6.4+dfsg-1) ...\n",
            "Selecting previously unselected package libnunit-util2.6.3-cil.\n",
            "Preparing to unpack .../139-libnunit-util2.6.3-cil_2.6.4+dfsg-1_all.deb ...\n",
            "Unpacking libnunit-util2.6.3-cil (2.6.4+dfsg-1) ...\n",
            "Selecting previously unselected package libnunit-console-runner2.6.3-cil.\n",
            "Preparing to unpack .../140-libnunit-console-runner2.6.3-cil_2.6.4+dfsg-1_all.deb ...\n",
            "Unpacking libnunit-console-runner2.6.3-cil (2.6.4+dfsg-1) ...\n",
            "Selecting previously unselected package libnunit-framework2.6.3-cil.\n",
            "Preparing to unpack .../141-libnunit-framework2.6.3-cil_2.6.4+dfsg-1_all.deb ...\n",
            "Unpacking libnunit-framework2.6.3-cil (2.6.4+dfsg-1) ...\n",
            "Selecting previously unselected package libnunit-mocks2.6.3-cil.\n",
            "Preparing to unpack .../142-libnunit-mocks2.6.3-cil_2.6.4+dfsg-1_all.deb ...\n",
            "Unpacking libnunit-mocks2.6.3-cil (2.6.4+dfsg-1) ...\n",
            "Selecting previously unselected package libnunit-cil-dev.\n",
            "Preparing to unpack .../143-libnunit-cil-dev_2.6.4+dfsg-1_all.deb ...\n",
            "Unpacking libnunit-cil-dev (2.6.4+dfsg-1) ...\n",
            "Selecting previously unselected package libmono-cil-dev.\n",
            "Preparing to unpack .../144-libmono-cil-dev_6.8.0.105+dfsg-2_all.deb ...\n",
            "Unpacking libmono-cil-dev (6.8.0.105+dfsg-2) ...\n",
            "Selecting previously unselected package mono-csharp-shell.\n",
            "Preparing to unpack .../145-mono-csharp-shell_6.8.0.105+dfsg-2_all.deb ...\n",
            "Unpacking mono-csharp-shell (6.8.0.105+dfsg-2) ...\n",
            "Selecting previously unselected package mono-mcs.\n",
            "Preparing to unpack .../146-mono-mcs_6.8.0.105+dfsg-2_all.deb ...\n",
            "Unpacking mono-mcs (6.8.0.105+dfsg-2) ...\n",
            "Selecting previously unselected package mono-xbuild.\n",
            "Preparing to unpack .../147-mono-xbuild_6.8.0.105+dfsg-2_all.deb ...\n",
            "Unpacking mono-xbuild (6.8.0.105+dfsg-2) ...\n",
            "Selecting previously unselected package mono-devel.\n",
            "Preparing to unpack .../148-mono-devel_6.8.0.105+dfsg-2_all.deb ...\n",
            "Unpacking mono-devel (6.8.0.105+dfsg-2) ...\n",
            "Setting up libmono-system-servicemodel-internals0.0-cil (6.8.0.105+dfsg-2) ...\n",
            "Setting up libmono-btls-interface4.0-cil (6.8.0.105+dfsg-2) ...\n",
            "Setting up libmono-system-configuration-install4.0-cil (6.8.0.105+dfsg-2) ...\n",
            "Setting up libmono-system-numerics-vectors4.0-cil (6.8.0.105+dfsg-2) ...\n",
            "Setting up libmono-system-componentmodel-composition4.0-cil (6.8.0.105+dfsg-2) ...\n",
            "Setting up libmono-rabbitmq4.0-cil (6.8.0.105+dfsg-2) ...\n",
            "Setting up ca-certificates-mono (6.8.0.105+dfsg-2) ...\n",
            "Setting up libmono-system-workflow-activities4.0-cil (6.8.0.105+dfsg-2) ...\n",
            "Setting up libmono-system-xml-linq4.0-cil (6.8.0.105+dfsg-2) ...\n",
            "Setting up libmonosgen-2.0-1 (6.8.0.105+dfsg-2) ...\n",
            "Setting up libmono-system-workflow-runtime4.0-cil (6.8.0.105+dfsg-2) ...\n",
            "Setting up libmono-system-web-regularexpressions4.0-cil (6.8.0.105+dfsg-2) ...\n",
            "Setting up libmono-microsoft-visualc10.0-cil (6.8.0.105+dfsg-2) ...\n",
            "Setting up libmono-simd4.0-cil (6.8.0.105+dfsg-2) ...\n",
            "Setting up libmono-i18n4.0-cil (6.8.0.105+dfsg-2) ...\n",
            "Setting up libmono-system-reflection-context4.0-cil (6.8.0.105+dfsg-2) ...\n",
            "Setting up libgdiplus (6.0.4+dfsg-2) ...\n",
            "Setting up libmono-posix4.0-cil (6.8.0.105+dfsg-2) ...\n",
            "Setting up libmono-peapi4.0a-cil (6.8.0.105+dfsg-2) ...\n",
            "Setting up libmono-data-tds4.0-cil (6.8.0.105+dfsg-2) ...\n",
            "Setting up libmono-system-windows4.0-cil (6.8.0.105+dfsg-2) ...\n",
            "Setting up libmono-i18n-cjk4.0-cil (6.8.0.105+dfsg-2) ...\n",
            "Setting up libmono-ldap4.0-cil (6.8.0.105+dfsg-2) ...\n",
            "Setting up libmono-system-reactive-interfaces2.2-cil (6.8.0.105+dfsg-2) ...\n",
            "Setting up libmono-smdiagnostics0.0-cil (6.8.0.105+dfsg-2) ...\n",
            "Setting up libmono-system-net-http4.0-cil (6.8.0.105+dfsg-2) ...\n",
            "Setting up libmono-system-deployment4.0-cil (6.8.0.105+dfsg-2) ...\n",
            "Setting up libmono-system-io-compression4.0-cil (6.8.0.105+dfsg-2) ...\n",
            "Setting up libmono-system-runtime-serialization4.0-cil (6.8.0.105+dfsg-2) ...\n",
            "Setting up libmono-system-xaml4.0-cil (6.8.0.105+dfsg-2) ...\n",
            "Setting up libmono-relaxng4.0-cil (6.8.0.105+dfsg-2) ...\n",
            "Setting up libmono-messaging4.0-cil (6.8.0.105+dfsg-2) ...\n",
            "Setting up libmono-tasklets4.0-cil (6.8.0.105+dfsg-2) ...\n",
            "Setting up libmono-system-threading-tasks-dataflow4.0-cil (6.8.0.105+dfsg-2) ...\n",
            "Setting up libmono-system-management4.0-cil (6.8.0.105+dfsg-2) ...\n",
            "Setting up libmono-webbrowser4.0-cil (6.8.0.105+dfsg-2) ...\n",
            "Setting up libmono-system-runtime-serialization-formatters-soap4.0-cil (6.8.0.105+dfsg-2) ...\n",
            "Setting up libmono-i18n-mideast4.0-cil (6.8.0.105+dfsg-2) ...\n",
            "Setting up cli-common (0.10) ...\n",
            "Setting up libmono-i18n-west4.0-cil (6.8.0.105+dfsg-2) ...\n",
            "Setting up libmono-parallel4.0-cil (6.8.0.105+dfsg-2) ...\n",
            "Setting up libmono-system-web-mobile4.0-cil (6.8.0.105+dfsg-2) ...\n",
            "Setting up binfmt-support (2.2.0-2) ...\n",
            "Created symlink /etc/systemd/system/multi-user.target.wants/binfmt-support.service → /lib/systemd/system/binfmt-support.service.\n",
            "invoke-rc.d: could not determine current runlevel\n",
            "invoke-rc.d: policy-rc.d denied execution of start.\n",
            "Setting up libmono-system-json4.0-cil (6.8.0.105+dfsg-2) ...\n",
            "Setting up libmono-management4.0-cil (6.8.0.105+dfsg-2) ...\n",
            "Setting up libmono-i18n-rare4.0-cil (6.8.0.105+dfsg-2) ...\n",
            "Setting up libmono-i18n-other4.0-cil (6.8.0.105+dfsg-2) ...\n",
            "Setting up libmono-system-reactive-core2.2-cil (6.8.0.105+dfsg-2) ...\n",
            "Setting up libmono-csharp4.0c-cil (6.8.0.105+dfsg-2) ...\n",
            "Setting up libmono-system-web-razor2.0-cil (6.8.0.105+dfsg-2) ...\n",
            "Setting up libmono-system-drawing4.0-cil (6.8.0.105+dfsg-2) ...\n",
            "Setting up libmono-custommarshalers4.0-cil (6.8.0.105+dfsg-2) ...\n",
            "Setting up libmono-sharpzip4.84-cil (6.8.0.105+dfsg-2) ...\n",
            "Setting up libmono-system-data-services-client4.0-cil (6.8.0.105+dfsg-2) ...\n",
            "Setting up libmono-microsoft-csharp4.0-cil (6.8.0.105+dfsg-2) ...\n",
            "Setting up libnunit-framework2.6.3-cil (2.6.4+dfsg-1) ...\n",
            "* Installing 1 assembly from libnunit-framework2.6.3-cil into Mono\n",
            "Setting up libmono-system-transactions4.0-cil (6.8.0.105+dfsg-2) ...\n",
            "Setting up libmono-system-componentmodel-dataannotations4.0-cil (6.8.0.105+dfsg-2) ...\n",
            "Setting up libmono-cscompmgd0.0-cil (6.8.0.105+dfsg-2) ...\n",
            "Setting up libmono-compilerservices-symbolwriter4.0-cil (6.8.0.105+dfsg-2) ...\n",
            "Setting up libmono-system-dynamic4.0-cil (6.8.0.105+dfsg-2) ...\n",
            "Setting up libmono-xbuild-tasks4.0-cil (6.8.0.105+dfsg-2) ...\n",
            "Setting up libmono-system-workflow-componentmodel4.0-cil (6.8.0.105+dfsg-2) ...\n",
            "Setting up libmono-cairo4.0-cil (6.8.0.105+dfsg-2) ...\n",
            "Setting up libmono-system-net4.0-cil (6.8.0.105+dfsg-2) ...\n",
            "Setting up libmono-microsoft-build-framework4.0-cil (6.8.0.105+dfsg-2) ...\n",
            "Setting up libnunit-mocks2.6.3-cil (2.6.4+dfsg-1) ...\n",
            "* Installing 1 assembly from libnunit-mocks2.6.3-cil into Mono\n",
            "Setting up libmono-system-ldap-protocols4.0-cil (6.8.0.105+dfsg-2) ...\n",
            "Setting up libmono-system-web-applicationservices4.0-cil (6.8.0.105+dfsg-2) ...\n",
            "Setting up libmono-accessibility4.0-cil (6.8.0.105+dfsg-2) ...\n",
            "Setting up libmono-cecil-private-cil (6.8.0.105+dfsg-2) ...\n",
            "Setting up libmono-messaging-rabbitmq4.0-cil (6.8.0.105+dfsg-2) ...\n",
            "Setting up libmono-system-json-microsoft4.0-cil (6.8.0.105+dfsg-2) ...\n",
            "Setting up libmono-system-ldap4.0-cil (6.8.0.105+dfsg-2) ...\n",
            "Setting up libmono-system-io-compression-filesystem4.0-cil (6.8.0.105+dfsg-2) ...\n",
            "Setting up libmono-i18n4.0-all (6.8.0.105+dfsg-2) ...\n",
            "Setting up libmono-microsoft-build-utilities-v4.0-4.0-cil (6.8.0.105+dfsg-2) ...\n",
            "Setting up libmonosgen-2.0-dev (6.8.0.105+dfsg-2) ...\n",
            "Setting up libmono-system-reactive-linq2.2-cil (6.8.0.105+dfsg-2) ...\n",
            "Setting up libmono-system-reactive-debugger2.2-cil (6.8.0.105+dfsg-2) ...\n",
            "Setting up libmono-windowsbase4.0-cil (6.8.0.105+dfsg-2) ...\n",
            "Setting up libmono-microsoft-build-engine4.0-cil (6.8.0.105+dfsg-2) ...\n",
            "Setting up libmono-system-net-http-webrequest4.0-cil (6.8.0.105+dfsg-2) ...\n",
            "Setting up libmono-system-reactive-windows-threading2.2-cil (6.8.0.105+dfsg-2) ...\n",
            "Setting up libmono-system-runtime-durableinstancing4.0-cil (6.8.0.105+dfsg-2) ...\n",
            "Setting up libmono-system-reactive-runtime-remoting2.2-cil (6.8.0.105+dfsg-2) ...\n",
            "Setting up libnunit-core-interfaces2.6.3-cil (2.6.4+dfsg-1) ...\n",
            "* Installing 1 assembly from libnunit-core-interfaces2.6.3-cil into Mono\n",
            "Setting up libmono-system-enterpriseservices4.0-cil (6.8.0.105+dfsg-2) ...\n",
            "Setting up libmono-debugger-soft4.0a-cil (6.8.0.105+dfsg-2) ...\n",
            "Setting up mono-csharp-shell (6.8.0.105+dfsg-2) ...\n",
            "Setting up libmono-codecontracts4.0-cil (6.8.0.105+dfsg-2) ...\n",
            "Setting up libmono-system-reactive-platformservices2.2-cil (6.8.0.105+dfsg-2) ...\n",
            "Setting up mono-mcs (6.8.0.105+dfsg-2) ...\n",
            "Setting up libmono-system-reactive-experimental2.2-cil (6.8.0.105+dfsg-2) ...\n",
            "Setting up libmono-system-identitymodel4.0-cil (6.8.0.105+dfsg-2) ...\n",
            "Setting up libmono-microsoft-build4.0-cil (6.8.0.105+dfsg-2) ...\n",
            "Setting up libmono-system-reactive-providers2.2-cil (6.8.0.105+dfsg-2) ...\n",
            "Setting up libmono-2.0-dev (6.8.0.105+dfsg-2) ...\n",
            "Setting up libmono-system-reactive-observable-aliases0.0-cil (6.8.0.105+dfsg-2) ...\n",
            "Setting up libmono-system-data4.0-cil (6.8.0.105+dfsg-2) ...\n",
            "Setting up libnunit-core2.6.3-cil (2.6.4+dfsg-1) ...\n",
            "* Installing 1 assembly from libnunit-core2.6.3-cil into Mono\n",
            "Setting up libmono-system-data-datasetextensions4.0-cil (6.8.0.105+dfsg-2) ...\n",
            "Setting up libmono-system-runtime-caching4.0-cil (6.8.0.105+dfsg-2) ...\n",
            "Setting up libmono-microsoft-build-tasks-v4.0-4.0-cil (6.8.0.105+dfsg-2) ...\n",
            "Setting up libmono-oracle4.0-cil (6.8.0.105+dfsg-2) ...\n",
            "Setting up libmono-webmatrix-data4.0-cil (6.8.0.105+dfsg-2) ...\n",
            "Setting up libmono-sqlite4.0-cil (6.8.0.105+dfsg-2) ...\n",
            "Setting up mono-xbuild (6.8.0.105+dfsg-2) ...\n",
            "Setting up libmono-system-net-http-formatting4.0-cil (6.8.0.105+dfsg-2) ...\n",
            "Setting up libmono-system-data-entity4.0-cil (6.8.0.105+dfsg-2) ...\n",
            "Setting up libmono-system-windows-forms4.0-cil (6.8.0.105+dfsg-2) ...\n",
            "Setting up libmono-system-identitymodel-selectors4.0-cil (6.8.0.105+dfsg-2) ...\n",
            "Setting up libmono-db2-1.0-cil (6.8.0.105+dfsg-2) ...\n",
            "Setting up libmono-system-data-linq4.0-cil (6.8.0.105+dfsg-2) ...\n",
            "Setting up libmono-system-serviceprocess4.0-cil (6.8.0.105+dfsg-2) ...\n",
            "Setting up libmono-system-windows-forms-datavisualization4.0a-cil (6.8.0.105+dfsg-2) ...\n",
            "Setting up libmono-system-messaging4.0-cil (6.8.0.105+dfsg-2) ...\n",
            "Setting up libmono-system-drawing-design4.0-cil (6.8.0.105+dfsg-2) ...\n",
            "Setting up libmono-system-reactive-windows-forms2.2-cil (6.8.0.105+dfsg-2) ...\n",
            "Setting up libmono-system-web-http4.0-cil (6.8.0.105+dfsg-2) ...\n",
            "Setting up libmono-system-design4.0-cil (6.8.0.105+dfsg-2) ...\n",
            "Setting up libmono-system-web-extensions-design4.0-cil (6.8.0.105+dfsg-2) ...\n",
            "Setting up libmono-system-web-services4.0-cil (6.8.0.105+dfsg-2) ...\n",
            "Setting up libmono-system-web4.0-cil (6.8.0.105+dfsg-2) ...\n",
            "Setting up libmono-system-servicemodel4.0a-cil (6.8.0.105+dfsg-2) ...\n",
            "Setting up libmono-system-servicemodel-activation4.0-cil (6.8.0.105+dfsg-2) ...\n",
            "Setting up libmono-system-web-abstractions4.0-cil (6.8.0.105+dfsg-2) ...\n",
            "Setting up libmono-system-xml-serialization4.0-cil (6.8.0.105+dfsg-2) ...\n",
            "Setting up libmono-microsoft-web-infrastructure1.0-cil (6.8.0.105+dfsg-2) ...\n",
            "Setting up libmono-system-servicemodel-routing4.0-cil (6.8.0.105+dfsg-2) ...\n",
            "Setting up libmono-system-servicemodel-discovery4.0-cil (6.8.0.105+dfsg-2) ...\n",
            "Setting up libmono-system-web-http-selfhost4.0-cil (6.8.0.105+dfsg-2) ...\n",
            "Setting up libmono-system-runtime4.0-cil (6.8.0.105+dfsg-2) ...\n",
            "Setting up libmono-system-web-webpages-deployment2.0-cil (6.8.0.105+dfsg-2) ...\n",
            "Setting up libmono-system-web-http-webhost4.0-cil (6.8.0.105+dfsg-2) ...\n",
            "Setting up libmono-system-web-extensions4.0-cil (6.8.0.105+dfsg-2) ...\n",
            "Setting up libmono-system-servicemodel-web4.0-cil (6.8.0.105+dfsg-2) ...\n",
            "Setting up libmono-http4.0-cil (6.8.0.105+dfsg-2) ...\n",
            "Setting up libmono-system-web-routing4.0-cil (6.8.0.105+dfsg-2) ...\n",
            "Setting up libmono-system-web-dynamicdata4.0-cil (6.8.0.105+dfsg-2) ...\n",
            "Setting up libnunit-util2.6.3-cil (2.6.4+dfsg-1) ...\n",
            "* Installing 1 assembly from libnunit-util2.6.3-cil into Mono\n",
            "Setting up libmono-system-web-webpages2.0-cil (6.8.0.105+dfsg-2) ...\n",
            "Setting up libnunit-console-runner2.6.3-cil (2.6.4+dfsg-1) ...\n",
            "* Installing 1 assembly from libnunit-console-runner2.6.3-cil into Mono\n",
            "Setting up libmono-system-data-services4.0-cil (6.8.0.105+dfsg-2) ...\n",
            "Setting up libnunit-cil-dev (2.6.4+dfsg-1) ...\n",
            "Setting up libmono-system-web-webpages-razor2.0-cil (6.8.0.105+dfsg-2) ...\n",
            "Setting up libmono-system-web-mvc3.0-cil (6.8.0.105+dfsg-2) ...\n",
            "Setting up libmono-cil-dev (6.8.0.105+dfsg-2) ...\n",
            "Processing triggers for mime-support (3.64ubuntu1) ...\n",
            "Processing triggers for libc-bin (2.31-0ubuntu9.9) ...\n",
            "Processing triggers for systemd (245.4-4ubuntu3.20) ...\n",
            "Processing triggers for man-db (2.9.1-1) ...\n",
            "Processing triggers for ca-certificates (20211016ubuntu0.20.04.1) ...\n",
            "Updating certificates in /etc/ssl/certs...\n",
            "0 added, 0 removed; done.\n",
            "Running hooks in /etc/ca-certificates/update.d...\n",
            "\n",
            "done.\n",
            "Updating Mono key store\n",
            "Mono Certificate Store Sync - version 6.8.0.105\n",
            "Populate Mono certificate store from a concatenated list of certificates.\n",
            "Copyright 2002, 2003 Motus Technologies. Copyright 2004-2008 Novell. BSD licensed.\n",
            "\n",
            "Importing into legacy system store:\n",
            "I already trust 0, your new list has 124\n",
            "Certificate added: CN=ACCVRAIZ1, OU=PKIACCV, O=ACCV, C=ES\n",
            "Certificate added: C=ES, O=FNMT-RCM, OU=AC RAIZ FNMT-RCM\n",
            "Certificate added: C=ES, O=FNMT-RCM, OU=Ceres, OID.2.5.4.97=VATES-Q2826004J, CN=AC RAIZ FNMT-RCM SERVIDORES SEGUROS\n",
            "Certificate added: SERIALNUMBER=G63287510, C=ES, O=ANF Autoridad de Certificacion, OU=ANF CA Raiz, CN=ANF Secure Server Root CA\n",
            "Certificate added: C=IT, L=Milan, O=Actalis S.p.A./03358520967, CN=Actalis Authentication Root CA\n",
            "Certificate added: C=US, O=AffirmTrust, CN=AffirmTrust Commercial\n",
            "Certificate added: C=US, O=AffirmTrust, CN=AffirmTrust Networking\n",
            "Certificate added: C=US, O=AffirmTrust, CN=AffirmTrust Premium\n",
            "Certificate added: C=US, O=AffirmTrust, CN=AffirmTrust Premium ECC\n",
            "Certificate added: C=US, O=Amazon, CN=Amazon Root CA 1\n",
            "Certificate added: C=US, O=Amazon, CN=Amazon Root CA 2\n",
            "Certificate added: C=US, O=Amazon, CN=Amazon Root CA 3\n",
            "Certificate added: C=US, O=Amazon, CN=Amazon Root CA 4\n",
            "Certificate added: CN=Atos TrustedRoot 2011, O=Atos, C=DE\n",
            "Certificate added: C=ES, CN=Autoridad de Certificacion Firmaprofesional CIF A62634068\n",
            "Certificate added: C=IE, O=Baltimore, OU=CyberTrust, CN=Baltimore CyberTrust Root\n",
            "Certificate added: C=NO, O=Buypass AS-983163327, CN=Buypass Class 2 Root CA\n",
            "Certificate added: C=NO, O=Buypass AS-983163327, CN=Buypass Class 3 Root CA\n",
            "Certificate added: C=SK, L=Bratislava, O=Disig a.s., CN=CA Disig Root R2\n",
            "Certificate added: C=CN, O=China Financial Certification Authority, CN=CFCA EV ROOT\n",
            "Certificate added: C=GB, S=Greater Manchester, L=Salford, O=COMODO CA Limited, CN=COMODO Certification Authority\n",
            "Certificate added: C=GB, S=Greater Manchester, L=Salford, O=COMODO CA Limited, CN=COMODO ECC Certification Authority\n",
            "Certificate added: C=GB, S=Greater Manchester, L=Salford, O=COMODO CA Limited, CN=COMODO RSA Certification Authority\n",
            "Certificate added: C=FR, O=Dhimyotis, CN=Certigna\n",
            "Certificate added: C=FR, O=Dhimyotis, OU=0002 48146308100036, CN=Certigna Root CA\n",
            "Certificate added: C=PL, O=Asseco Data Systems S.A., OU=Certum Certification Authority, CN=Certum EC-384 CA\n",
            "Certificate added: C=PL, O=Unizeto Technologies S.A., OU=Certum Certification Authority, CN=Certum Trusted Network CA\n",
            "Certificate added: C=PL, O=Unizeto Technologies S.A., OU=Certum Certification Authority, CN=Certum Trusted Network CA 2\n",
            "Certificate added: C=PL, O=Asseco Data Systems S.A., OU=Certum Certification Authority, CN=Certum Trusted Root CA\n",
            "Certificate added: C=GB, S=Greater Manchester, L=Salford, O=Comodo CA Limited, CN=AAA Certificate Services\n",
            "Certificate added: O=\"Cybertrust, Inc\", CN=Cybertrust Global Root\n",
            "Certificate added: C=DE, O=D-Trust GmbH, CN=D-TRUST Root Class 3 CA 2 2009\n",
            "Certificate added: C=DE, O=D-Trust GmbH, CN=D-TRUST Root Class 3 CA 2 EV 2009\n",
            "Certificate added: C=US, O=DigiCert Inc, OU=www.digicert.com, CN=DigiCert Assured ID Root CA\n",
            "Certificate added: C=US, O=DigiCert Inc, OU=www.digicert.com, CN=DigiCert Assured ID Root G2\n",
            "Certificate added: C=US, O=DigiCert Inc, OU=www.digicert.com, CN=DigiCert Assured ID Root G3\n",
            "Certificate added: C=US, O=DigiCert Inc, OU=www.digicert.com, CN=DigiCert Global Root CA\n",
            "Certificate added: C=US, O=DigiCert Inc, OU=www.digicert.com, CN=DigiCert Global Root G2\n",
            "Certificate added: C=US, O=DigiCert Inc, OU=www.digicert.com, CN=DigiCert Global Root G3\n",
            "Certificate added: C=US, O=DigiCert Inc, OU=www.digicert.com, CN=DigiCert High Assurance EV Root CA\n",
            "Certificate added: C=US, O=DigiCert Inc, OU=www.digicert.com, CN=DigiCert Trusted Root G4\n",
            "Certificate added: C=TR, L=Ankara, O=E-Tuğra EBG Bilişim Teknolojileri ve Hizmetleri A.Ş., OU=E-Tugra Sertifikasyon Merkezi, CN=E-Tugra Certification Authority\n",
            "Certificate added: C=ES, O=Agencia Catalana de Certificacio (NIF Q-0801176-I), OU=Serveis Publics de Certificacio, OU=Vegeu https://www.catcert.net/verarrel (c)03, OU=Jerarquia Entitats de Certificacio Catalanes, CN=EC-ACC\n",
            "Certificate added: O=Entrust.net, OU=www.entrust.net/CPS_2048 incorp. by ref. (limits liab.), OU=(c) 1999 Entrust.net Limited, CN=Entrust.net Certification Authority (2048)\n",
            "Certificate added: C=US, O=\"Entrust, Inc.\", OU=www.entrust.net/CPS is incorporated by reference, OU=\"(c) 2006 Entrust, Inc.\", CN=Entrust Root Certification Authority\n",
            "Certificate added: C=US, O=\"Entrust, Inc.\", OU=See www.entrust.net/legal-terms, OU=\"(c) 2012 Entrust, Inc. - for authorized use only\", CN=Entrust Root Certification Authority - EC1\n",
            "Certificate added: C=US, O=\"Entrust, Inc.\", OU=See www.entrust.net/legal-terms, OU=\"(c) 2009 Entrust, Inc. - for authorized use only\", CN=Entrust Root Certification Authority - G2\n",
            "Certificate added: C=US, O=\"Entrust, Inc.\", OU=See www.entrust.net/legal-terms, OU=\"(c) 2015 Entrust, Inc. - for authorized use only\", CN=Entrust Root Certification Authority - G4\n",
            "Certificate added: C=CN, O=\"GUANG DONG CERTIFICATE AUTHORITY CO.,LTD.\", CN=GDCA TrustAUTH R5 ROOT\n",
            "Certificate added: C=AT, O=e-commerce monitoring GmbH, CN=GLOBALTRUST 2020\n",
            "Certificate added: C=US, O=Google Trust Services LLC, CN=GTS Root R1\n",
            "Certificate added: C=US, O=Google Trust Services LLC, CN=GTS Root R2\n",
            "Certificate added: C=US, O=Google Trust Services LLC, CN=GTS Root R3\n",
            "Certificate added: C=US, O=Google Trust Services LLC, CN=GTS Root R4\n",
            "Certificate added: OU=GlobalSign ECC Root CA - R4, O=GlobalSign, CN=GlobalSign\n",
            "Certificate added: OU=GlobalSign ECC Root CA - R5, O=GlobalSign, CN=GlobalSign\n",
            "Certificate added: C=BE, O=GlobalSign nv-sa, OU=Root CA, CN=GlobalSign Root CA\n",
            "Certificate added: OU=GlobalSign Root CA - R2, O=GlobalSign, CN=GlobalSign\n",
            "Certificate added: OU=GlobalSign Root CA - R3, O=GlobalSign, CN=GlobalSign\n",
            "Certificate added: OU=GlobalSign Root CA - R6, O=GlobalSign, CN=GlobalSign\n",
            "Certificate added: C=BE, O=GlobalSign nv-sa, CN=GlobalSign Root E46\n",
            "Certificate added: C=BE, O=GlobalSign nv-sa, CN=GlobalSign Root R46\n",
            "Certificate added: C=US, O=\"The Go Daddy Group, Inc.\", OU=Go Daddy Class 2 Certification Authority\n",
            "Certificate added: C=US, S=Arizona, L=Scottsdale, O=\"GoDaddy.com, Inc.\", CN=Go Daddy Root Certificate Authority - G2\n",
            "Certificate added: C=GR, L=Athens, O=Hellenic Academic and Research Institutions Cert. Authority, CN=Hellenic Academic and Research Institutions ECC RootCA 2015\n",
            "Certificate added: C=GR, O=Hellenic Academic and Research Institutions Cert. Authority, CN=Hellenic Academic and Research Institutions RootCA 2011\n",
            "Certificate added: C=GR, L=Athens, O=Hellenic Academic and Research Institutions Cert. Authority, CN=Hellenic Academic and Research Institutions RootCA 2015\n",
            "Certificate added: C=HK, O=Hongkong Post, CN=Hongkong Post Root CA 1\n",
            "Certificate added: C=HK, S=Hong Kong, L=Hong Kong, O=Hongkong Post, CN=Hongkong Post Root CA 3\n",
            "Certificate added: C=US, O=Internet Security Research Group, CN=ISRG Root X1\n",
            "Certificate added: C=US, O=IdenTrust, CN=IdenTrust Commercial Root CA 1\n",
            "Certificate added: C=US, O=IdenTrust, CN=IdenTrust Public Sector Root CA 1\n",
            "Certificate added: C=ES, O=IZENPE S.A., CN=Izenpe.com\n",
            "Certificate added: C=HU, L=Budapest, O=Microsec Ltd., CN=Microsec e-Szigno Root CA 2009, E=info@e-szigno.hu\n",
            "Certificate added: C=US, O=Microsoft Corporation, CN=Microsoft ECC Root Certificate Authority 2017\n",
            "Certificate added: C=US, O=Microsoft Corporation, CN=Microsoft RSA Root Certificate Authority 2017\n",
            "Certificate added: C=KR, O=NAVER BUSINESS PLATFORM Corp., CN=NAVER Global Root Certification Authority\n",
            "Certificate added: C=HU, L=Budapest, O=NetLock Kft., OU=Tanúsítványkiadók (Certification Services), CN=NetLock Arany (Class Gold) Főtanúsítvány\n",
            "Certificate added: C=US, O=Network Solutions L.L.C., CN=Network Solutions Certificate Authority\n",
            "Certificate added: C=CH, O=WISeKey, OU=OISTE Foundation Endorsed, CN=OISTE WISeKey Global Root GB CA\n",
            "Certificate added: C=CH, O=WISeKey, OU=OISTE Foundation Endorsed, CN=OISTE WISeKey Global Root GC CA\n",
            "Certificate added: C=BM, O=QuoVadis Limited, CN=QuoVadis Root CA 1 G3\n",
            "Certificate added: C=BM, O=QuoVadis Limited, CN=QuoVadis Root CA 2\n",
            "Certificate added: C=BM, O=QuoVadis Limited, CN=QuoVadis Root CA 2 G3\n",
            "Certificate added: C=BM, O=QuoVadis Limited, CN=QuoVadis Root CA 3\n",
            "Certificate added: C=BM, O=QuoVadis Limited, CN=QuoVadis Root CA 3 G3\n",
            "Certificate added: C=US, S=Texas, L=Houston, O=SSL Corporation, CN=SSL.com EV Root Certification Authority ECC\n",
            "Certificate added: C=US, S=Texas, L=Houston, O=SSL Corporation, CN=SSL.com EV Root Certification Authority RSA R2\n",
            "Certificate added: C=US, S=Texas, L=Houston, O=SSL Corporation, CN=SSL.com Root Certification Authority ECC\n",
            "Certificate added: C=US, S=Texas, L=Houston, O=SSL Corporation, CN=SSL.com Root Certification Authority RSA\n",
            "Certificate added: C=PL, O=Krajowa Izba Rozliczeniowa S.A., CN=SZAFIR ROOT CA2\n",
            "Certificate added: C=JP, O=\"Japan Certification Services, Inc.\", CN=SecureSign RootCA11\n",
            "Certificate added: C=US, O=SecureTrust Corporation, CN=SecureTrust CA\n",
            "Certificate added: C=US, O=SecureTrust Corporation, CN=Secure Global CA\n",
            "Certificate added: C=JP, O=\"SECOM Trust Systems CO.,LTD.\", OU=Security Communication RootCA2\n",
            "Certificate added: C=JP, O=SECOM Trust.net, OU=Security Communication RootCA1\n",
            "Certificate added: C=NL, O=Staat der Nederlanden, CN=Staat der Nederlanden EV Root CA\n",
            "Certificate added: C=US, O=\"Starfield Technologies, Inc.\", OU=Starfield Class 2 Certification Authority\n",
            "Certificate added: C=US, S=Arizona, L=Scottsdale, O=\"Starfield Technologies, Inc.\", CN=Starfield Root Certificate Authority - G2\n",
            "Certificate added: C=US, S=Arizona, L=Scottsdale, O=\"Starfield Technologies, Inc.\", CN=Starfield Services Root Certificate Authority - G2\n",
            "Certificate added: C=CH, O=SwissSign AG, CN=SwissSign Gold CA - G2\n",
            "Certificate added: C=CH, O=SwissSign AG, CN=SwissSign Silver CA - G2\n",
            "Certificate added: C=DE, O=T-Systems Enterprise Services GmbH, OU=T-Systems Trust Center, CN=T-TeleSec GlobalRoot Class 2\n",
            "Certificate added: C=DE, O=T-Systems Enterprise Services GmbH, OU=T-Systems Trust Center, CN=T-TeleSec GlobalRoot Class 3\n",
            "Certificate added: C=TR, L=Gebze - Kocaeli, O=Turkiye Bilimsel ve Teknolojik Arastirma Kurumu - TUBITAK, OU=Kamu Sertifikasyon Merkezi - Kamu SM, CN=TUBITAK Kamu SM SSL Kok Sertifikasi - Surum 1\n",
            "Certificate added: C=TW, O=TAIWAN-CA, OU=Root CA, CN=TWCA Global Root CA\n",
            "Certificate added: C=TW, O=TAIWAN-CA, OU=Root CA, CN=TWCA Root Certification Authority\n",
            "Certificate added: O=TeliaSonera, CN=TeliaSonera Root CA v1\n",
            "Certificate added: C=US, S=Illinois, L=Chicago, O=\"Trustwave Holdings, Inc.\", CN=Trustwave Global Certification Authority\n",
            "Certificate added: C=US, S=Illinois, L=Chicago, O=\"Trustwave Holdings, Inc.\", CN=Trustwave Global ECC P256 Certification Authority\n",
            "Certificate added: C=US, S=Illinois, L=Chicago, O=\"Trustwave Holdings, Inc.\", CN=Trustwave Global ECC P384 Certification Authority\n",
            "Certificate added: C=CN, O=UniTrust, CN=UCA Extended Validation Root\n",
            "Certificate added: C=CN, O=UniTrust, CN=UCA Global G2 Root\n",
            "Certificate added: C=US, S=New Jersey, L=Jersey City, O=The USERTRUST Network, CN=USERTrust ECC Certification Authority\n",
            "Certificate added: C=US, S=New Jersey, L=Jersey City, O=The USERTRUST Network, CN=USERTrust RSA Certification Authority\n",
            "Certificate added: C=US, OU=www.xrampsecurity.com, O=XRamp Security Services Inc, CN=XRamp Global Certification Authority\n",
            "Certificate added: C=RO, O=certSIGN, OU=certSIGN ROOT CA\n",
            "Certificate added: C=RO, O=CERTSIGN SA, OU=certSIGN ROOT CA G2\n",
            "Certificate added: C=HU, L=Budapest, O=Microsec Ltd., OID.2.5.4.97=VATHU-23584497, CN=e-Szigno Root CA 2017\n",
            "Certificate added: C=TW, O=\"Chunghwa Telecom Co., Ltd.\", OU=ePKI Root Certification Authority\n",
            "Certificate added: C=US, OU=emSign PKI, O=eMudhra Inc, CN=emSign ECC Root CA - C3\n",
            "Certificate added: C=IN, OU=emSign PKI, O=eMudhra Technologies Limited, CN=emSign ECC Root CA - G3\n",
            "Certificate added: C=US, OU=emSign PKI, O=eMudhra Inc, CN=emSign Root CA - C1\n",
            "Certificate added: C=IN, OU=emSign PKI, O=eMudhra Technologies Limited, CN=emSign Root CA - G1\n",
            "124 new root certificates were added to your trust store.\n",
            "Import process completed.\n",
            "\n",
            "Importing into BTLS system store:\n",
            "I already trust 0, your new list has 124\n",
            "Certificate added: CN=ACCVRAIZ1, OU=PKIACCV, O=ACCV, C=ES\n",
            "Certificate added: C=ES, O=FNMT-RCM, OU=AC RAIZ FNMT-RCM\n",
            "Certificate added: C=ES, O=FNMT-RCM, OU=Ceres, OID.2.5.4.97=VATES-Q2826004J, CN=AC RAIZ FNMT-RCM SERVIDORES SEGUROS\n",
            "Certificate added: SERIALNUMBER=G63287510, C=ES, O=ANF Autoridad de Certificacion, OU=ANF CA Raiz, CN=ANF Secure Server Root CA\n",
            "Certificate added: C=IT, L=Milan, O=Actalis S.p.A./03358520967, CN=Actalis Authentication Root CA\n",
            "Certificate added: C=US, O=AffirmTrust, CN=AffirmTrust Commercial\n",
            "Certificate added: C=US, O=AffirmTrust, CN=AffirmTrust Networking\n",
            "Certificate added: C=US, O=AffirmTrust, CN=AffirmTrust Premium\n",
            "Certificate added: C=US, O=AffirmTrust, CN=AffirmTrust Premium ECC\n",
            "Certificate added: C=US, O=Amazon, CN=Amazon Root CA 1\n",
            "Certificate added: C=US, O=Amazon, CN=Amazon Root CA 2\n",
            "Certificate added: C=US, O=Amazon, CN=Amazon Root CA 3\n",
            "Certificate added: C=US, O=Amazon, CN=Amazon Root CA 4\n",
            "Certificate added: CN=Atos TrustedRoot 2011, O=Atos, C=DE\n",
            "Certificate added: C=ES, CN=Autoridad de Certificacion Firmaprofesional CIF A62634068\n",
            "Certificate added: C=IE, O=Baltimore, OU=CyberTrust, CN=Baltimore CyberTrust Root\n",
            "Certificate added: C=NO, O=Buypass AS-983163327, CN=Buypass Class 2 Root CA\n",
            "Certificate added: C=NO, O=Buypass AS-983163327, CN=Buypass Class 3 Root CA\n",
            "Certificate added: C=SK, L=Bratislava, O=Disig a.s., CN=CA Disig Root R2\n",
            "Certificate added: C=CN, O=China Financial Certification Authority, CN=CFCA EV ROOT\n",
            "Certificate added: C=GB, S=Greater Manchester, L=Salford, O=COMODO CA Limited, CN=COMODO Certification Authority\n",
            "Certificate added: C=GB, S=Greater Manchester, L=Salford, O=COMODO CA Limited, CN=COMODO ECC Certification Authority\n",
            "Certificate added: C=GB, S=Greater Manchester, L=Salford, O=COMODO CA Limited, CN=COMODO RSA Certification Authority\n",
            "Certificate added: C=FR, O=Dhimyotis, CN=Certigna\n",
            "Certificate added: C=FR, O=Dhimyotis, OU=0002 48146308100036, CN=Certigna Root CA\n",
            "Certificate added: C=PL, O=Asseco Data Systems S.A., OU=Certum Certification Authority, CN=Certum EC-384 CA\n",
            "Certificate added: C=PL, O=Unizeto Technologies S.A., OU=Certum Certification Authority, CN=Certum Trusted Network CA\n",
            "Certificate added: C=PL, O=Unizeto Technologies S.A., OU=Certum Certification Authority, CN=Certum Trusted Network CA 2\n",
            "Certificate added: C=PL, O=Asseco Data Systems S.A., OU=Certum Certification Authority, CN=Certum Trusted Root CA\n",
            "Certificate added: C=GB, S=Greater Manchester, L=Salford, O=Comodo CA Limited, CN=AAA Certificate Services\n",
            "Certificate added: O=\"Cybertrust, Inc\", CN=Cybertrust Global Root\n",
            "Certificate added: C=DE, O=D-Trust GmbH, CN=D-TRUST Root Class 3 CA 2 2009\n",
            "Certificate added: C=DE, O=D-Trust GmbH, CN=D-TRUST Root Class 3 CA 2 EV 2009\n",
            "Certificate added: C=US, O=DigiCert Inc, OU=www.digicert.com, CN=DigiCert Assured ID Root CA\n",
            "Certificate added: C=US, O=DigiCert Inc, OU=www.digicert.com, CN=DigiCert Assured ID Root G2\n",
            "Certificate added: C=US, O=DigiCert Inc, OU=www.digicert.com, CN=DigiCert Assured ID Root G3\n",
            "Certificate added: C=US, O=DigiCert Inc, OU=www.digicert.com, CN=DigiCert Global Root CA\n",
            "Certificate added: C=US, O=DigiCert Inc, OU=www.digicert.com, CN=DigiCert Global Root G2\n",
            "Certificate added: C=US, O=DigiCert Inc, OU=www.digicert.com, CN=DigiCert Global Root G3\n",
            "Certificate added: C=US, O=DigiCert Inc, OU=www.digicert.com, CN=DigiCert High Assurance EV Root CA\n",
            "Certificate added: C=US, O=DigiCert Inc, OU=www.digicert.com, CN=DigiCert Trusted Root G4\n",
            "Certificate added: C=TR, L=Ankara, O=E-Tuğra EBG Bilişim Teknolojileri ve Hizmetleri A.Ş., OU=E-Tugra Sertifikasyon Merkezi, CN=E-Tugra Certification Authority\n",
            "Certificate added: C=ES, O=Agencia Catalana de Certificacio (NIF Q-0801176-I), OU=Serveis Publics de Certificacio, OU=Vegeu https://www.catcert.net/verarrel (c)03, OU=Jerarquia Entitats de Certificacio Catalanes, CN=EC-ACC\n",
            "Certificate added: O=Entrust.net, OU=www.entrust.net/CPS_2048 incorp. by ref. (limits liab.), OU=(c) 1999 Entrust.net Limited, CN=Entrust.net Certification Authority (2048)\n",
            "Certificate added: C=US, O=\"Entrust, Inc.\", OU=www.entrust.net/CPS is incorporated by reference, OU=\"(c) 2006 Entrust, Inc.\", CN=Entrust Root Certification Authority\n",
            "Certificate added: C=US, O=\"Entrust, Inc.\", OU=See www.entrust.net/legal-terms, OU=\"(c) 2012 Entrust, Inc. - for authorized use only\", CN=Entrust Root Certification Authority - EC1\n",
            "Certificate added: C=US, O=\"Entrust, Inc.\", OU=See www.entrust.net/legal-terms, OU=\"(c) 2009 Entrust, Inc. - for authorized use only\", CN=Entrust Root Certification Authority - G2\n",
            "Certificate added: C=US, O=\"Entrust, Inc.\", OU=See www.entrust.net/legal-terms, OU=\"(c) 2015 Entrust, Inc. - for authorized use only\", CN=Entrust Root Certification Authority - G4\n",
            "Certificate added: C=CN, O=\"GUANG DONG CERTIFICATE AUTHORITY CO.,LTD.\", CN=GDCA TrustAUTH R5 ROOT\n",
            "Certificate added: C=AT, O=e-commerce monitoring GmbH, CN=GLOBALTRUST 2020\n",
            "Certificate added: C=US, O=Google Trust Services LLC, CN=GTS Root R1\n",
            "Certificate added: C=US, O=Google Trust Services LLC, CN=GTS Root R2\n",
            "Certificate added: C=US, O=Google Trust Services LLC, CN=GTS Root R3\n",
            "Certificate added: C=US, O=Google Trust Services LLC, CN=GTS Root R4\n",
            "Certificate added: OU=GlobalSign ECC Root CA - R4, O=GlobalSign, CN=GlobalSign\n",
            "Certificate added: OU=GlobalSign ECC Root CA - R5, O=GlobalSign, CN=GlobalSign\n",
            "Certificate added: C=BE, O=GlobalSign nv-sa, OU=Root CA, CN=GlobalSign Root CA\n",
            "Certificate added: OU=GlobalSign Root CA - R2, O=GlobalSign, CN=GlobalSign\n",
            "Certificate added: OU=GlobalSign Root CA - R3, O=GlobalSign, CN=GlobalSign\n",
            "Certificate added: OU=GlobalSign Root CA - R6, O=GlobalSign, CN=GlobalSign\n",
            "Certificate added: C=BE, O=GlobalSign nv-sa, CN=GlobalSign Root E46\n",
            "Certificate added: C=BE, O=GlobalSign nv-sa, CN=GlobalSign Root R46\n",
            "Certificate added: C=US, O=\"The Go Daddy Group, Inc.\", OU=Go Daddy Class 2 Certification Authority\n",
            "Certificate added: C=US, S=Arizona, L=Scottsdale, O=\"GoDaddy.com, Inc.\", CN=Go Daddy Root Certificate Authority - G2\n",
            "Certificate added: C=GR, L=Athens, O=Hellenic Academic and Research Institutions Cert. Authority, CN=Hellenic Academic and Research Institutions ECC RootCA 2015\n",
            "Certificate added: C=GR, O=Hellenic Academic and Research Institutions Cert. Authority, CN=Hellenic Academic and Research Institutions RootCA 2011\n",
            "Certificate added: C=GR, L=Athens, O=Hellenic Academic and Research Institutions Cert. Authority, CN=Hellenic Academic and Research Institutions RootCA 2015\n",
            "Certificate added: C=HK, O=Hongkong Post, CN=Hongkong Post Root CA 1\n",
            "Certificate added: C=HK, S=Hong Kong, L=Hong Kong, O=Hongkong Post, CN=Hongkong Post Root CA 3\n",
            "Certificate added: C=US, O=Internet Security Research Group, CN=ISRG Root X1\n",
            "Certificate added: C=US, O=IdenTrust, CN=IdenTrust Commercial Root CA 1\n",
            "Certificate added: C=US, O=IdenTrust, CN=IdenTrust Public Sector Root CA 1\n",
            "Certificate added: C=ES, O=IZENPE S.A., CN=Izenpe.com\n",
            "Certificate added: C=HU, L=Budapest, O=Microsec Ltd., CN=Microsec e-Szigno Root CA 2009, E=info@e-szigno.hu\n",
            "Certificate added: C=US, O=Microsoft Corporation, CN=Microsoft ECC Root Certificate Authority 2017\n",
            "Certificate added: C=US, O=Microsoft Corporation, CN=Microsoft RSA Root Certificate Authority 2017\n",
            "Certificate added: C=KR, O=NAVER BUSINESS PLATFORM Corp., CN=NAVER Global Root Certification Authority\n",
            "Certificate added: C=HU, L=Budapest, O=NetLock Kft., OU=Tanúsítványkiadók (Certification Services), CN=NetLock Arany (Class Gold) Főtanúsítvány\n",
            "Certificate added: C=US, O=Network Solutions L.L.C., CN=Network Solutions Certificate Authority\n",
            "Certificate added: C=CH, O=WISeKey, OU=OISTE Foundation Endorsed, CN=OISTE WISeKey Global Root GB CA\n",
            "Certificate added: C=CH, O=WISeKey, OU=OISTE Foundation Endorsed, CN=OISTE WISeKey Global Root GC CA\n",
            "Certificate added: C=BM, O=QuoVadis Limited, CN=QuoVadis Root CA 1 G3\n",
            "Certificate added: C=BM, O=QuoVadis Limited, CN=QuoVadis Root CA 2\n",
            "Certificate added: C=BM, O=QuoVadis Limited, CN=QuoVadis Root CA 2 G3\n",
            "Certificate added: C=BM, O=QuoVadis Limited, CN=QuoVadis Root CA 3\n",
            "Certificate added: C=BM, O=QuoVadis Limited, CN=QuoVadis Root CA 3 G3\n",
            "Certificate added: C=US, S=Texas, L=Houston, O=SSL Corporation, CN=SSL.com EV Root Certification Authority ECC\n",
            "Certificate added: C=US, S=Texas, L=Houston, O=SSL Corporation, CN=SSL.com EV Root Certification Authority RSA R2\n",
            "Certificate added: C=US, S=Texas, L=Houston, O=SSL Corporation, CN=SSL.com Root Certification Authority ECC\n",
            "Certificate added: C=US, S=Texas, L=Houston, O=SSL Corporation, CN=SSL.com Root Certification Authority RSA\n",
            "Certificate added: C=PL, O=Krajowa Izba Rozliczeniowa S.A., CN=SZAFIR ROOT CA2\n",
            "Certificate added: C=JP, O=\"Japan Certification Services, Inc.\", CN=SecureSign RootCA11\n",
            "Certificate added: C=US, O=SecureTrust Corporation, CN=SecureTrust CA\n",
            "Certificate added: C=US, O=SecureTrust Corporation, CN=Secure Global CA\n",
            "Certificate added: C=JP, O=\"SECOM Trust Systems CO.,LTD.\", OU=Security Communication RootCA2\n",
            "Certificate added: C=JP, O=SECOM Trust.net, OU=Security Communication RootCA1\n",
            "Certificate added: C=NL, O=Staat der Nederlanden, CN=Staat der Nederlanden EV Root CA\n",
            "Certificate added: C=US, O=\"Starfield Technologies, Inc.\", OU=Starfield Class 2 Certification Authority\n",
            "Certificate added: C=US, S=Arizona, L=Scottsdale, O=\"Starfield Technologies, Inc.\", CN=Starfield Root Certificate Authority - G2\n",
            "Certificate added: C=US, S=Arizona, L=Scottsdale, O=\"Starfield Technologies, Inc.\", CN=Starfield Services Root Certificate Authority - G2\n",
            "Certificate added: C=CH, O=SwissSign AG, CN=SwissSign Gold CA - G2\n",
            "Certificate added: C=CH, O=SwissSign AG, CN=SwissSign Silver CA - G2\n",
            "Certificate added: C=DE, O=T-Systems Enterprise Services GmbH, OU=T-Systems Trust Center, CN=T-TeleSec GlobalRoot Class 2\n",
            "Certificate added: C=DE, O=T-Systems Enterprise Services GmbH, OU=T-Systems Trust Center, CN=T-TeleSec GlobalRoot Class 3\n",
            "Certificate added: C=TR, L=Gebze - Kocaeli, O=Turkiye Bilimsel ve Teknolojik Arastirma Kurumu - TUBITAK, OU=Kamu Sertifikasyon Merkezi - Kamu SM, CN=TUBITAK Kamu SM SSL Kok Sertifikasi - Surum 1\n",
            "Certificate added: C=TW, O=TAIWAN-CA, OU=Root CA, CN=TWCA Global Root CA\n",
            "Certificate added: C=TW, O=TAIWAN-CA, OU=Root CA, CN=TWCA Root Certification Authority\n",
            "Certificate added: O=TeliaSonera, CN=TeliaSonera Root CA v1\n",
            "Certificate added: C=US, S=Illinois, L=Chicago, O=\"Trustwave Holdings, Inc.\", CN=Trustwave Global Certification Authority\n",
            "Certificate added: C=US, S=Illinois, L=Chicago, O=\"Trustwave Holdings, Inc.\", CN=Trustwave Global ECC P256 Certification Authority\n",
            "Certificate added: C=US, S=Illinois, L=Chicago, O=\"Trustwave Holdings, Inc.\", CN=Trustwave Global ECC P384 Certification Authority\n",
            "Certificate added: C=CN, O=UniTrust, CN=UCA Extended Validation Root\n",
            "Certificate added: C=CN, O=UniTrust, CN=UCA Global G2 Root\n",
            "Certificate added: C=US, S=New Jersey, L=Jersey City, O=The USERTRUST Network, CN=USERTrust ECC Certification Authority\n",
            "Certificate added: C=US, S=New Jersey, L=Jersey City, O=The USERTRUST Network, CN=USERTrust RSA Certification Authority\n",
            "Certificate added: C=US, OU=www.xrampsecurity.com, O=XRamp Security Services Inc, CN=XRamp Global Certification Authority\n",
            "Certificate added: C=RO, O=certSIGN, OU=certSIGN ROOT CA\n",
            "Certificate added: C=RO, O=CERTSIGN SA, OU=certSIGN ROOT CA G2\n",
            "Certificate added: C=HU, L=Budapest, O=Microsec Ltd., OID.2.5.4.97=VATHU-23584497, CN=e-Szigno Root CA 2017\n",
            "Certificate added: C=TW, O=\"Chunghwa Telecom Co., Ltd.\", OU=ePKI Root Certification Authority\n",
            "Certificate added: C=US, OU=emSign PKI, O=eMudhra Inc, CN=emSign ECC Root CA - C3\n",
            "Certificate added: C=IN, OU=emSign PKI, O=eMudhra Technologies Limited, CN=emSign ECC Root CA - G3\n",
            "Certificate added: C=US, OU=emSign PKI, O=eMudhra Inc, CN=emSign Root CA - C1\n",
            "Certificate added: C=IN, OU=emSign PKI, O=eMudhra Technologies Limited, CN=emSign Root CA - G1\n",
            "124 new root certificates were added to your trust store.\n",
            "Import process completed.\n",
            "Done\n",
            "done.\n",
            "Setting up mono-devel (6.8.0.105+dfsg-2) ...\n",
            "update-alternatives: using /usr/bin/mono-csc to provide /usr/bin/cli-csc (c-sharp-compiler) in auto mode\n",
            "update-alternatives: using /usr/bin/resgen to provide /usr/bin/cli-resgen (resource-file-generator) in auto mode\n",
            "update-alternatives: using /usr/bin/al to provide /usr/bin/cli-al (assembly-linker) in auto mode\n",
            "update-alternatives: using /usr/bin/sn to provide /usr/bin/cli-sn (strong-name-tool) in auto mode\n"
          ]
        }
      ],
      "source": [
        "!sudo apt-get install mono-devel"
      ]
    },
    {
      "cell_type": "code",
      "source": [
        "!mono --version"
      ],
      "metadata": {
        "colab": {
          "base_uri": "https://localhost:8080/"
        },
        "id": "Usxg-Co-jxcG",
        "outputId": "69b86f08-e183-4e3d-822e-a7d0eac6cc5e"
      },
      "execution_count": null,
      "outputs": [
        {
          "output_type": "stream",
          "name": "stdout",
          "text": [
            "Mono JIT compiler version 6.8.0.105 (Debian 6.8.0.105+dfsg-2 Wed Feb 26 23:23:50 UTC 2020)\n",
            "Copyright (C) 2002-2014 Novell, Inc, Xamarin Inc and Contributors. www.mono-project.com\n",
            "\tTLS:           __thread\n",
            "\tSIGSEGV:       altstack\n",
            "\tNotifications: epoll\n",
            "\tArchitecture:  amd64\n",
            "\tDisabled:      none\n",
            "\tMisc:          softdebug \n",
            "\tInterpreter:   yes\n",
            "\tLLVM:          supported, not enabled.\n",
            "\tSuspend:       hybrid\n",
            "\tGC:            sgen (concurrent by default)\n"
          ]
        }
      ]
    },
    {
      "cell_type": "markdown",
      "source": [
        "## Lista 1 – Entradas e Saídas\n",
        "### Exercício 1"
      ],
      "metadata": {
        "id": "D5Vl2E-ei0BP"
      }
    },
    {
      "cell_type": "code",
      "execution_count": 66,
      "metadata": {
        "colab": {
          "base_uri": "https://localhost:8080/"
        },
        "id": "tTLrmTJgixMA",
        "outputId": "2fbead8e-ebfa-42f3-f4f0-a3cc4bb99c86"
      },
      "outputs": [
        {
          "output_type": "stream",
          "name": "stdout",
          "text": [
            "Writing lista1exercicio1.cs\n"
          ]
        }
      ],
      "source": [
        "%%writefile lista1exercicio1.cs\n",
        "\n",
        "using System;\n",
        "\n",
        "namespace Lista1Exercicio1{\n",
        "\n",
        "    class Program{\n",
        "\n",
        "        static void Main(){\n",
        "            \n",
        "            // Variáveis\n",
        "            double preco1, preco2, preco3, precomedio;\n",
        "\n",
        "            // Entrada\n",
        "            Console.Write(\"Preço no 1º Posto: R$ \");\n",
        "            preco1 = double.Parse(Console.ReadLine());\n",
        "            Console.Write(\"Preço no 2º Posto: R$ \");\n",
        "            preco2 = double.Parse(Console.ReadLine());\n",
        "            Console.Write(\"Preço no 3º Posto: R$ \");\n",
        "            preco3 = double.Parse(Console.ReadLine());\n",
        "\n",
        "            // Processamento\n",
        "            precomedio = (preco1 + preco2 + preco3)/3;\n",
        "\n",
        "            // Saída\n",
        "            Console.WriteLine(\"Preço médio: R$ {0}\", precomedio);\n",
        "\n",
        "        }\n",
        "\n",
        "    }\n",
        "\n",
        "}"
      ]
    },
    {
      "cell_type": "code",
      "source": [
        "!mcs lista1exercicio1.cs -out:lista1exercicio1.x"
      ],
      "metadata": {
        "id": "kYo2xl2Hl-iL"
      },
      "execution_count": 67,
      "outputs": []
    },
    {
      "cell_type": "code",
      "source": [
        "!mono lista1exercicio1.x"
      ],
      "metadata": {
        "colab": {
          "base_uri": "https://localhost:8080/"
        },
        "id": "Hp6g9m34mKzx",
        "outputId": "6a7709b9-ae5a-415e-ed3f-2c8d4c897ece"
      },
      "execution_count": null,
      "outputs": [
        {
          "output_type": "stream",
          "name": "stdout",
          "text": [
            "Preço 1º Posto: R$ \u001b[?1h\u001b=\u001b[6n\u001b[H\u001b[2J\u001b[6n5\n",
            "Preço 2º Posto: R$ \u001b[6n6\n",
            "Preço 3º Posto: R$ \u001b[6n7\n",
            "Preço médio: R$ 6\n",
            "\u001b[?1l\u001b>\u001b[m"
          ]
        }
      ]
    },
    {
      "cell_type": "markdown",
      "source": [
        "### Exercício 2"
      ],
      "metadata": {
        "id": "EI71DG8MoC6k"
      }
    },
    {
      "cell_type": "code",
      "source": [
        "%%writefile lista1exercicio2.cs\n",
        "\n",
        "using System;\n",
        "\n",
        "namespace Lista1Exercicio2{\n",
        "\n",
        "    class Program{\n",
        "\n",
        "        static void Main(){\n",
        "\n",
        "            // Variáveis\n",
        "            string nome;\n",
        "            int idade, dias;\n",
        "            \n",
        "            // Entrada\n",
        "            Console.Write(\"Nome: \");\n",
        "            nome = Console.ReadLine();\n",
        "            Console.Write(\"Idade: \");\n",
        "            idade = int.Parse(Console.ReadLine());\n",
        "            \n",
        "            // Processamento\n",
        "            dias = idade*365+idade/4+182;\n",
        "            if(idade%4 == 0) dias++;\n",
        "            \n",
        "            // Saída\n",
        "            Console.WriteLine(\"{0}, você tem aproximadamente {1} dias de vida!\", nome, dias);\n",
        "\n",
        "        }\n",
        "\n",
        "    }\n",
        "\n",
        "}"
      ],
      "metadata": {
        "colab": {
          "base_uri": "https://localhost:8080/"
        },
        "id": "Kb-R3g_FoGnM",
        "outputId": "22af7636-f64b-4a8f-d5e9-3d2906885778"
      },
      "execution_count": 68,
      "outputs": [
        {
          "output_type": "stream",
          "name": "stdout",
          "text": [
            "Writing lista1exercicio2.cs\n"
          ]
        }
      ]
    },
    {
      "cell_type": "code",
      "source": [
        "!mcs lista1exercicio2.cs -out:lista1exercicio2.x"
      ],
      "metadata": {
        "id": "cp0Ix-xXqMyk"
      },
      "execution_count": 69,
      "outputs": []
    },
    {
      "cell_type": "code",
      "source": [
        "!mono lista1exercicio2.x"
      ],
      "metadata": {
        "colab": {
          "base_uri": "https://localhost:8080/"
        },
        "id": "k12HOutoqS8g",
        "outputId": "398165ae-644c-42f8-b620-ae5d739cf8ef"
      },
      "execution_count": null,
      "outputs": [
        {
          "output_type": "stream",
          "name": "stdout",
          "text": [
            "Nome: \u001b[?1h\u001b=\u001b[6n\u001b[H\u001b[2J\u001b[6nPedro\n",
            "Idade: \u001b[6n34\n",
            "Pedro, você tem aproximadamente 12600 dias de vida!\n",
            "\u001b[?1l\u001b>\u001b[m"
          ]
        }
      ]
    },
    {
      "cell_type": "markdown",
      "source": [
        "### Exercício 3"
      ],
      "metadata": {
        "id": "BoRroEGJ_OTw"
      }
    },
    {
      "cell_type": "code",
      "source": [
        "%%writefile lista1exercicio3.cs\n",
        "\n",
        "using System;\n",
        "\n",
        "namespace Lista1Exercicio3{\n",
        "\n",
        "  class Program{\n",
        "\n",
        "    static void Main(){\n",
        "\n",
        "      // Variáveis\n",
        "      double larguraparede, alturaparede, taxatinta=0.3, tintalata=2.0, parcial;\n",
        "      int latasdetinta;\n",
        "      \n",
        "      // Entrada\n",
        "      Console.Write(\"Largura (m): \");\n",
        "      larguraparede = double.Parse(Console.ReadLine());\n",
        "      Console.Write(\"Altura (m): \");\n",
        "      alturaparede = double.Parse(Console.ReadLine());\n",
        "      \n",
        "      // Processamento\n",
        "      parcial = (larguraparede*alturaparede*taxatinta)/tintalata;\n",
        "      latasdetinta = (int) Math.Ceiling(parcial);\n",
        "      \n",
        "      // Saída\n",
        "      Console.WriteLine(\"Quantidade de latas de tinta: {0}.\", latasdetinta);\n",
        "\n",
        "    }\n",
        "\n",
        "  }\n",
        "\n",
        "}"
      ],
      "metadata": {
        "colab": {
          "base_uri": "https://localhost:8080/"
        },
        "id": "SQZFS9C2rd8t",
        "outputId": "2b6cdeb9-be91-45a9-b845-795dda732778"
      },
      "execution_count": 70,
      "outputs": [
        {
          "output_type": "stream",
          "name": "stdout",
          "text": [
            "Writing lista1exercicio3.cs\n"
          ]
        }
      ]
    },
    {
      "cell_type": "code",
      "source": [
        "!mcs lista1exercicio3.cs -out:lista1exercicio3.x"
      ],
      "metadata": {
        "id": "zmSsFzzXvKC-"
      },
      "execution_count": 71,
      "outputs": []
    },
    {
      "cell_type": "code",
      "source": [
        "!mono lista1exercicio3.x"
      ],
      "metadata": {
        "colab": {
          "base_uri": "https://localhost:8080/"
        },
        "id": "O2Hob_NDvSJD",
        "outputId": "751b9daa-76be-4c95-ec39-272c23a3d1bb"
      },
      "execution_count": null,
      "outputs": [
        {
          "output_type": "stream",
          "name": "stdout",
          "text": [
            "Largura (m): \u001b[?1h\u001b=\u001b[6n\u001b[H\u001b[2J\u001b[6n13.4\n",
            "Altura (m): \u001b[6n12.8\n",
            "Quantidade de latas de tinta: 26\n",
            "\u001b[?1l\u001b>\u001b[m"
          ]
        }
      ]
    },
    {
      "cell_type": "markdown",
      "source": [
        "### Exercício 4"
      ],
      "metadata": {
        "id": "I4YP-5nd_Q9n"
      }
    },
    {
      "cell_type": "code",
      "source": [
        "%%writefile lista1exercicio4.cs\n",
        "\n",
        "using System;\n",
        "\n",
        "namespace Lista1Exercicio4{\n",
        "\n",
        "  class Program{\n",
        "\n",
        "    static void Main(){\n",
        "\n",
        "      // Variáveis\n",
        "      int cronometrohoras, cronometrominutos, cronometrosegundos, tempototal;\n",
        "\n",
        "      // Entrada\n",
        "      Console.WriteLine(\"Informe o tempo do cronômetro.\");\n",
        "      Console.Write(\"Horas:\");\n",
        "      cronometrohoras = int.Parse(Console.ReadLine());\n",
        "      Console.Write(\"Minutos:\");\n",
        "      cronometrominutos = int.Parse(Console.ReadLine());\n",
        "      Console.Write(\"Segundos:\");\n",
        "      cronometrosegundos = int.Parse(Console.ReadLine());\n",
        "\n",
        "      // Processamento\n",
        "      tempototal = cronometrosegundos + 60*(cronometrominutos + 60*cronometrohoras);\n",
        "\n",
        "      // Saída\n",
        "      Console.WriteLine(\"Tempo total em segundos: {0}s.\", tempototal);\n",
        "\n",
        "    }\n",
        "\n",
        "  }\n",
        "\n",
        "}"
      ],
      "metadata": {
        "colab": {
          "base_uri": "https://localhost:8080/"
        },
        "id": "RqoJ93P__XFu",
        "outputId": "d105ded9-5ec8-4716-f96f-4e912a2cc00b"
      },
      "execution_count": 72,
      "outputs": [
        {
          "output_type": "stream",
          "name": "stdout",
          "text": [
            "Writing lista1exercicio4.cs\n"
          ]
        }
      ]
    },
    {
      "cell_type": "code",
      "source": [
        "!mcs lista1exercicio4.cs -out:lista1exercicio4.x"
      ],
      "metadata": {
        "id": "eBhth2NS1mAy"
      },
      "execution_count": 73,
      "outputs": []
    },
    {
      "cell_type": "code",
      "source": [
        "!mono lista1exercicio4.x"
      ],
      "metadata": {
        "id": "ltXfD24b1reI"
      },
      "execution_count": null,
      "outputs": []
    },
    {
      "cell_type": "markdown",
      "source": [
        "### Exercício 5\n",
        "Assume-se que a sala é um paralelepípedo de base quadrada, ou seja, o comprimento e a largura do chão têm a mesma medida."
      ],
      "metadata": {
        "id": "Ws2FKjDk_Sl3"
      }
    },
    {
      "cell_type": "code",
      "source": [
        "%%writefile lista1exercicio5.cs\n",
        "\n",
        "using System;\n",
        "\n",
        "namespace Lista1Exercicio5{\n",
        "\n",
        "  class Program{\n",
        "\n",
        "    static void Main(){\n",
        "\n",
        "      // Variáveis\n",
        "      double larguratijolo, alturatijolo, largurasala, alturasala, larguraporta, alturaporta, largurajanela, alturajanela, areatotal;\n",
        "      int qtetijolos;\n",
        "\n",
        "      // Entrada\n",
        "      Console.Write(\"Largura do tijolo: \");\n",
        "      larguratijolo = double.Parse(Console.ReadLine());\n",
        "      Console.Write(\"Altura do tijolo: \");\n",
        "      alturatijolo = double.Parse(Console.ReadLine());\n",
        "      Console.Write(\"Largura da parede: \");\n",
        "      largurasala = double.Parse(Console.ReadLine());\n",
        "      Console.Write(\"Altura da parede: \");\n",
        "      alturasala = double.Parse(Console.ReadLine());\n",
        "      Console.Write(\"Largura da porta: \");\n",
        "      larguraporta = double.Parse(Console.ReadLine());\n",
        "      Console.Write(\"Altura da porta: \");\n",
        "      alturaporta = double.Parse(Console.ReadLine());\n",
        "      Console.Write(\"Largura da janela: \");\n",
        "      largurajanela = double.Parse(Console.ReadLine());\n",
        "      Console.Write(\"Altura da janela: \");\n",
        "      alturajanela = double.Parse(Console.ReadLine());\n",
        "\n",
        "      // Processamento\n",
        "      areatotal = 4*largurasala*alturasala-(larguraporta*alturaporta+largurajanela*alturajanela);\n",
        "      qtetijolos = (int) Math.Ceiling(areatotal/(larguratijolo*alturatijolo));\n",
        "\n",
        "      // Saída\n",
        "      Console.WriteLine(\"Serão precisos {0} tijolos.\", qtetijolos);\n",
        "\n",
        "    }\n",
        "\n",
        "  }\n",
        "  \n",
        "}"
      ],
      "metadata": {
        "colab": {
          "base_uri": "https://localhost:8080/"
        },
        "id": "Kg3S5DBpwhta",
        "outputId": "dc6a6f54-bd96-46fc-dd03-7af2ff2bda4f"
      },
      "execution_count": 74,
      "outputs": [
        {
          "output_type": "stream",
          "name": "stdout",
          "text": [
            "Writing lista1exercicio5.cs\n"
          ]
        }
      ]
    },
    {
      "cell_type": "code",
      "source": [
        "!mcs lista1exercicio5.cs -out:lista1exercicio5.x"
      ],
      "metadata": {
        "id": "Pw2n4FN20gzU"
      },
      "execution_count": 75,
      "outputs": []
    },
    {
      "cell_type": "code",
      "source": [
        "!mono lista1exercicio5.x"
      ],
      "metadata": {
        "colab": {
          "base_uri": "https://localhost:8080/"
        },
        "id": "iCxHZU8f0mwT",
        "outputId": "149fc652-3523-4a47-b63a-a9a32d0cedbf"
      },
      "execution_count": null,
      "outputs": [
        {
          "output_type": "stream",
          "name": "stdout",
          "text": [
            "Largura do tijolo: \u001b[?1h\u001b=\u001b[6n\u001b[H\u001b[2J\u001b[6n3\n",
            "Altura do tijolo: \u001b[6n2\n",
            "Largura da parede: \u001b[6n30\n",
            "Altura da parede: \u001b[6n20\n",
            "Largura da porta: \u001b[6n5\n",
            "Altura da porta: \u001b[6n8\n",
            "Largura da janela: \u001b[6n6\n",
            "Altura da janela: \u001b[6n6\n",
            "Serão precisos 388 tijolos.\n",
            "\u001b[?1l\u001b>\u001b[m"
          ]
        }
      ]
    },
    {
      "cell_type": "markdown",
      "source": [
        "### Exercício 6\n",
        "Assume-se que os valores de dia, mês e ano da segunda data serão maiores que os da primeira data. Sem esse pressuposto, seria necessário fazer o adequado tratamento dos dados."
      ],
      "metadata": {
        "id": "mhxuoXHl_Uag"
      }
    },
    {
      "cell_type": "code",
      "source": [
        "%%writefile lista1exercicio6.cs\n",
        "\n",
        "using System;\n",
        "\n",
        "namespace Lista1Exercicio6{\n",
        "\n",
        "  class Program{\n",
        "\n",
        "    static void Main(){\n",
        "\n",
        "      // Variáveis (data2_ >= data1_)\n",
        "      int data1dia,data1mes,data1ano,data2dia,data2mes,data2ano;\n",
        "      int difdias, difmeses, difanos;\n",
        "\n",
        "      // Entrada\n",
        "      Console.Write(\"Informe dia da primeira data:\");\n",
        "      data1dia = int.Parse(Console.ReadLine());\n",
        "      Console.Write(\"Informe mês da primeira data:\");\n",
        "      data1mes = int.Parse(Console.ReadLine());\n",
        "      Console.Write(\"Informe ano da primeira data:\");\n",
        "      data1ano = int.Parse(Console.ReadLine());\n",
        "      Console.Write(\"Informe dia da segunda data:\");\n",
        "      data2dia = int.Parse(Console.ReadLine());\n",
        "      Console.Write(\"Informe mês da segunda data:\");\n",
        "      data2mes = int.Parse(Console.ReadLine());\n",
        "      Console.Write(\"Informe ano da segunda data:\");\n",
        "      data2ano = int.Parse(Console.ReadLine());\n",
        "\n",
        "      // Processamento\n",
        "      difdias = data2dia - data1dia;\n",
        "      difmeses = data2mes - data1mes;\n",
        "      difanos = data2ano - data1ano;\n",
        "      \n",
        "      // Saída\n",
        "      Console.WriteLine(\"Diferença de dias: {0}\", difdias);\n",
        "      Console.WriteLine(\"Diferença de meses: {0}\", difmeses);\n",
        "      Console.WriteLine(\"Diferença de anos: {0}\", difanos);\n",
        "\n",
        "    }\n",
        "\n",
        "  }\n",
        "\n",
        "}"
      ],
      "metadata": {
        "colab": {
          "base_uri": "https://localhost:8080/"
        },
        "id": "hMRXbs1K_z5i",
        "outputId": "61692365-d04e-4b9b-dabd-7966bf8fbd65"
      },
      "execution_count": 76,
      "outputs": [
        {
          "output_type": "stream",
          "name": "stdout",
          "text": [
            "Writing lista1exercicio6.cs\n"
          ]
        }
      ]
    },
    {
      "cell_type": "code",
      "source": [
        "!mcs lista1exercicio6.cs -out:lista1exercicio6.x"
      ],
      "metadata": {
        "id": "aV3WtarX12vz"
      },
      "execution_count": 77,
      "outputs": []
    },
    {
      "cell_type": "code",
      "source": [
        "!mono lista1exercicio6.x"
      ],
      "metadata": {
        "id": "OhbPSJzT17qh"
      },
      "execution_count": null,
      "outputs": []
    },
    {
      "cell_type": "markdown",
      "source": [
        "## Lista 2 – Estruturas Condicionais"
      ],
      "metadata": {
        "id": "otg9bvDX24nE"
      }
    },
    {
      "cell_type": "markdown",
      "source": [
        "### Exercício 1"
      ],
      "metadata": {
        "id": "qmlKdm-Y56w3"
      }
    },
    {
      "cell_type": "code",
      "source": [
        "%%writefile lista2exercicio1.cs\n",
        "\n",
        "using System;\n",
        "\n",
        "namespace Lista2Exercicio1{\n",
        "\n",
        "    class Program{\n",
        "\n",
        "        static void Main(){\n",
        "\n",
        "            // Variáveis\n",
        "            int numero, partemaior, partemenor, soma;\n",
        "\n",
        "            // Entrada\n",
        "            Console.WriteLine(\"Informe um número de 4 dígitos.\");\n",
        "            numero = int.Parse(Console.ReadLine());\n",
        "\n",
        "            // Processamento\n",
        "            partemaior = numero / 100;\n",
        "            partemenor = numero % 100;\n",
        "            soma = partemaior + partemenor;\n",
        "\n",
        "            // Saída\n",
        "            if (soma*soma == numero) {\n",
        "              Console.WriteLine(\"O número informado segue a propriedade!\");\n",
        "            } else {\n",
        "              Console.WriteLine(\"O número informado não segue a propriedade.\");\n",
        "            }\n",
        "            \n",
        "        }\n",
        "\n",
        "    }\n",
        "\n",
        "}"
      ],
      "metadata": {
        "colab": {
          "base_uri": "https://localhost:8080/"
        },
        "id": "OsLmWVBM59fu",
        "outputId": "e77bf0fb-4b29-4189-8b84-6d66c77d93f9"
      },
      "execution_count": 78,
      "outputs": [
        {
          "output_type": "stream",
          "name": "stdout",
          "text": [
            "Overwriting lista2exercicio1.cs\n"
          ]
        }
      ]
    },
    {
      "cell_type": "code",
      "source": [
        "!mcs lista2exercicio1.cs -out:lista2exercicio1.x"
      ],
      "metadata": {
        "id": "6tmlKn1E7sUC"
      },
      "execution_count": 79,
      "outputs": []
    },
    {
      "cell_type": "code",
      "source": [
        "!mono lista2exercicio1.x"
      ],
      "metadata": {
        "colab": {
          "base_uri": "https://localhost:8080/"
        },
        "id": "GUYQ1TFM7yYM",
        "outputId": "ce78499e-2b5e-4fb8-b9d3-261a89f76707"
      },
      "execution_count": 5,
      "outputs": [
        {
          "output_type": "stream",
          "name": "stdout",
          "text": [
            "Informe um número de 4 dígitos.\n",
            "\u001b[?1h\u001b=\u001b[6n\u001b[H\u001b[2J\u001b[6n6789\n",
            "O número informado não segue a propriedade.\n",
            "\u001b[?1l\u001b>\u001b[m"
          ]
        }
      ]
    },
    {
      "cell_type": "markdown",
      "source": [
        "### Exercício 2"
      ],
      "metadata": {
        "id": "vjUCXYt-8Ios"
      }
    },
    {
      "cell_type": "code",
      "source": [
        "%%writefile lista2exercicio2.cs\n",
        "\n",
        "using System;\n",
        "\n",
        "namespace Lista2Exercicio2{\n",
        "\n",
        "    class Program{\n",
        "\n",
        "        static void Main(){\n",
        "\n",
        "            // Variáveis\n",
        "            int numero1, numero2;\n",
        "\n",
        "            // Entrada\n",
        "            Console.WriteLine(\"Informe dois números:\");\n",
        "            numero1 = int.Parse(Console.ReadLine());\n",
        "            numero2 = int.Parse(Console.ReadLine());\n",
        "\n",
        "            // Processamento\n",
        "            \n",
        "            // Saída\n",
        "            Console.WriteLine(\"Em ordem ascendente:\");\n",
        "            if (numero1 < numero2 ) {\n",
        "              Console.WriteLine(\"{0}, {1}\", numero1, numero2);\n",
        "            } else {\n",
        "              Console.WriteLine(\"{0}, {1}\", numero2, numero1);\n",
        "            }\n",
        "        \n",
        "        }\n",
        "\n",
        "    }\n",
        "\n",
        "}"
      ],
      "metadata": {
        "colab": {
          "base_uri": "https://localhost:8080/"
        },
        "id": "rSfxR5UM8LPl",
        "outputId": "4df2132f-f720-4522-f6b5-b95a74569864"
      },
      "execution_count": 80,
      "outputs": [
        {
          "output_type": "stream",
          "name": "stdout",
          "text": [
            "Overwriting lista2exercicio2.cs\n"
          ]
        }
      ]
    },
    {
      "cell_type": "code",
      "source": [
        "!mcs lista2exercicio2.cs -out:lista2exercicio2.x"
      ],
      "metadata": {
        "id": "rcuyZpyN9AsF"
      },
      "execution_count": 81,
      "outputs": []
    },
    {
      "cell_type": "code",
      "source": [
        "!mono lista2exercicio2.x"
      ],
      "metadata": {
        "colab": {
          "base_uri": "https://localhost:8080/"
        },
        "id": "nUFhlTz69H9z",
        "outputId": "b591822a-22b7-4bde-fdbd-06f952f7aaf9"
      },
      "execution_count": 9,
      "outputs": [
        {
          "output_type": "stream",
          "name": "stdout",
          "text": [
            "Informe dois números:\n",
            "\u001b[?1h\u001b=\u001b[6n\u001b[H\u001b[2J\u001b[6n18\n",
            "\u001b[6n2\n",
            "Em ordem ascendente:\n",
            "2, 18\n",
            "\u001b[?1l\u001b>\u001b[m"
          ]
        }
      ]
    },
    {
      "cell_type": "markdown",
      "source": [
        "### Exercício 3"
      ],
      "metadata": {
        "id": "hnbCuOia9SAS"
      }
    },
    {
      "cell_type": "code",
      "source": [
        "%%writefile lista2exercicio3.cs\n",
        "\n",
        "using System;\n",
        "\n",
        "namespace Lista2Exercicio3{\n",
        "\n",
        "    class Program{\n",
        "\n",
        "        static void Main(){\n",
        "\n",
        "            // Variáveis\n",
        "            int numero;\n",
        "\n",
        "            // Entrada\n",
        "            Console.Write(\"Digite um número inteiro: \");\n",
        "            numero = int.Parse(Console.ReadLine());\n",
        "\n",
        "            // Processamento\n",
        "            \n",
        "            // Saída\n",
        "            if (numero%2 == 0) {\n",
        "              Console.WriteLine(\"{0} é par.\", numero);\n",
        "            } else {\n",
        "              Console.WriteLine(\"{0} é ímpar.\", numero);\n",
        "            }\n",
        "        \n",
        "        }\n",
        "\n",
        "    }\n",
        "\n",
        "}"
      ],
      "metadata": {
        "colab": {
          "base_uri": "https://localhost:8080/"
        },
        "id": "XALiaQcC9TvE",
        "outputId": "47251122-f69f-4e09-f372-901591b87190"
      },
      "execution_count": 82,
      "outputs": [
        {
          "output_type": "stream",
          "name": "stdout",
          "text": [
            "Overwriting lista2exercicio3.cs\n"
          ]
        }
      ]
    },
    {
      "cell_type": "code",
      "source": [
        "!mcs lista2exercicio3.cs -out:lista2exercicio3.x"
      ],
      "metadata": {
        "id": "oBmMYF6c97I0"
      },
      "execution_count": 83,
      "outputs": []
    },
    {
      "cell_type": "code",
      "source": [
        "!mono lista2exercicio3.x"
      ],
      "metadata": {
        "colab": {
          "base_uri": "https://localhost:8080/"
        },
        "id": "hYis_ptp-InU",
        "outputId": "2c350140-05ff-473f-952a-8da51e5d4014"
      },
      "execution_count": 17,
      "outputs": [
        {
          "output_type": "stream",
          "name": "stdout",
          "text": [
            "Digite um número inteiro: \u001b[?1h\u001b=\u001b[6n\u001b[H\u001b[2J\u001b[6n-328\n",
            "-328 é par.\n",
            "\u001b[?1l\u001b>\u001b[m"
          ]
        }
      ]
    },
    {
      "cell_type": "markdown",
      "source": [
        "### Exercício 4"
      ],
      "metadata": {
        "id": "BbYbzihk-V10"
      }
    },
    {
      "cell_type": "code",
      "source": [
        "%%writefile lista2exercicio4.cs\n",
        "\n",
        "using System;\n",
        "\n",
        "namespace Lista2Exercicio4{\n",
        "\n",
        "    class Program{\n",
        "\n",
        "        static void Main(){\n",
        "\n",
        "            // Variáveis\n",
        "            int numero1, numero2, numero3, maiornumero;\n",
        "\n",
        "            // Entrada\n",
        "            Console.WriteLine(\"Informe três numeros inteiros.\");\n",
        "            numero1 = int.Parse(Console.ReadLine());\n",
        "            numero2 = int.Parse(Console.ReadLine());\n",
        "            numero3 = int.Parse(Console.ReadLine());\n",
        "\n",
        "            // Processamento\n",
        "            maiornumero = numero1;\n",
        "            if (numero2 > maiornumero) {\n",
        "              maiornumero = numero2;\n",
        "            }\n",
        "            if (numero3 > maiornumero) {\n",
        "              maiornumero = numero3;\n",
        "            }\n",
        "\n",
        "            // Saída\n",
        "            Console.WriteLine(\"O maior dentre os três números é {0}.\", maiornumero);\n",
        "\n",
        "        }\n",
        "\n",
        "    }\n",
        "\n",
        "}"
      ],
      "metadata": {
        "colab": {
          "base_uri": "https://localhost:8080/"
        },
        "id": "PuVr0BE--X1M",
        "outputId": "7bcde4b0-e497-40bd-929a-38d1d0bdbad4"
      },
      "execution_count": 18,
      "outputs": [
        {
          "output_type": "stream",
          "name": "stdout",
          "text": [
            "Writing lista2exercicio4.cs\n"
          ]
        }
      ]
    },
    {
      "cell_type": "code",
      "source": [
        "!mcs lista2exercicio4.cs -out:lista2exercicio4.x"
      ],
      "metadata": {
        "id": "XFPGmdI9_jsU"
      },
      "execution_count": 20,
      "outputs": []
    },
    {
      "cell_type": "code",
      "source": [
        "!mono lista2exercicio4.x"
      ],
      "metadata": {
        "colab": {
          "base_uri": "https://localhost:8080/"
        },
        "id": "v1s4YBjj_sWO",
        "outputId": "b84d906a-2798-4180-a358-245d7ce690e3"
      },
      "execution_count": 21,
      "outputs": [
        {
          "output_type": "stream",
          "name": "stdout",
          "text": [
            "Informe três numeros inteiros.\n",
            "\u001b[?1h\u001b=\u001b[6n\u001b[H\u001b[2J\u001b[6n45\n",
            "\u001b[6n-702\n",
            "\u001b[6n1093\n",
            "O maior dentre os três números é 1093.\n",
            "\u001b[?1l\u001b>\u001b[m"
          ]
        }
      ]
    },
    {
      "cell_type": "markdown",
      "source": [
        "### Exercício 5"
      ],
      "metadata": {
        "id": "qufV7qpc_2Kc"
      }
    },
    {
      "cell_type": "code",
      "source": [
        "%%writefile lista2exercicio5.cs\n",
        "\n",
        "using System;\n",
        "\n",
        "namespace Lista2Exercicio5{\n",
        "\n",
        "    class Program{\n",
        "\n",
        "        static void Main(){\n",
        "\n",
        "            // Variáveis\n",
        "            double valorreais, valorconvertido;\n",
        "            double cambiodolar=4.00, cambiolibra=6.15, cambioeuro=4.72;\n",
        "            int tipomoeda;\n",
        "\n",
        "            // Entrada\n",
        "            Console.WriteLine(\"Informe um valor em reais\\ne qual opção de moeda para conversão.\\n1: Dólar\\n2: Libra\\n3: Euro\");\n",
        "            Console.Write(\"R$ \");\n",
        "            valorreais = double.Parse(Console.ReadLine());\n",
        "            Console.Write(\"Tipo: \");\n",
        "            tipomoeda = int.Parse(Console.ReadLine());\n",
        "\n",
        "            // Processamento e Saída\n",
        "            switch (tipomoeda) {\n",
        "              case 1:\n",
        "                valorconvertido = valorreais / cambiodolar;\n",
        "                Console.WriteLine(\"Convertido para US$ {0}.\", Math.Round(valorconvertido,2));\n",
        "                break;\n",
        "              case 2:\n",
        "                valorconvertido = valorreais / cambiolibra;\n",
        "                Console.WriteLine(\"Convertido para £ {0}.\", Math.Round(valorconvertido,2));\n",
        "                break;\n",
        "              case 3:\n",
        "                valorconvertido = valorreais / cambioeuro;\n",
        "                Console.WriteLine(\"Convertido para € {0}.\", Math.Round(valorconvertido,2));\n",
        "                break;\n",
        "              default:\n",
        "                Console.WriteLine(\"Erro: código de tipo de moeda inválido.\");\n",
        "                break; // Em C#, é preciso usar break mesmo no default case.\n",
        "            }\n",
        "            \n",
        "        }\n",
        "\n",
        "    }\n",
        "\n",
        "}"
      ],
      "metadata": {
        "colab": {
          "base_uri": "https://localhost:8080/"
        },
        "id": "tKUwQ4RI_3-0",
        "outputId": "bf1d3033-1fe8-4e58-da30-f5a7e2b103bd"
      },
      "execution_count": 38,
      "outputs": [
        {
          "output_type": "stream",
          "name": "stdout",
          "text": [
            "Overwriting lista2exercicio5.cs\n"
          ]
        }
      ]
    },
    {
      "cell_type": "code",
      "source": [
        "!mcs lista2exercicio5.cs -out:lista2exercicio5.x"
      ],
      "metadata": {
        "id": "qa0uMKZWEC3-"
      },
      "execution_count": 39,
      "outputs": []
    },
    {
      "cell_type": "code",
      "source": [
        "!mono lista2exercicio5.x"
      ],
      "metadata": {
        "colab": {
          "base_uri": "https://localhost:8080/"
        },
        "id": "YetcKiQXESMo",
        "outputId": "4e6c03ef-1ab9-4b8e-f40a-99275e761ab8"
      },
      "execution_count": 40,
      "outputs": [
        {
          "output_type": "stream",
          "name": "stdout",
          "text": [
            "Informe um valor em reais\n",
            "e qual opção de moeda para conversão.\n",
            "1: Dólar\n",
            "2: Libra\n",
            "3: Euro\n",
            "R$ \u001b[?1h\u001b=\u001b[6n\u001b[H\u001b[2J\u001b[6n2525.25\n",
            "Tipo: \u001b[6n2\n",
            "Convertido para £ 410.61.\n",
            "\u001b[?1l\u001b>\u001b[m"
          ]
        }
      ]
    },
    {
      "cell_type": "markdown",
      "source": [
        "### Exercício 6"
      ],
      "metadata": {
        "id": "Zk8BJ0nLI69B"
      }
    },
    {
      "cell_type": "code",
      "source": [
        "%%writefile lista2exercicio6.cs\n",
        "\n",
        "using System;\n",
        "\n",
        "namespace Lista2Exercicio6{\n",
        "\n",
        "    class Program{\n",
        "\n",
        "        static void Main(){\n",
        "\n",
        "            // Variáveis\n",
        "            int idade;\n",
        "\n",
        "            // Entrada\n",
        "            Console.Write(\"Informe a idade do(a) nadador(a): \");\n",
        "            idade = int.Parse(Console.ReadLine());\n",
        "\n",
        "            // Processamento\n",
        "            \n",
        "            // Saída\n",
        "            if (idade >= 18) {\n",
        "              Console.WriteLine(\"Categoria sênior.\");\n",
        "            } else if (idade >= 14) {\n",
        "              Console.WriteLine(\"Categoria juvenil B.\");\n",
        "            } else if (idade >= 11) {\n",
        "              Console.WriteLine(\"Categoria juvenil A.\");\n",
        "            } else if (idade >= 8) {\n",
        "              Console.WriteLine(\"Categoria infantil B.\");\n",
        "            } else {\n",
        "              Console.WriteLine(\"Nenhuma das categorias atendidads.\");\n",
        "            }\n",
        "\n",
        "        }\n",
        "\n",
        "    }\n",
        "\n",
        "}"
      ],
      "metadata": {
        "colab": {
          "base_uri": "https://localhost:8080/"
        },
        "id": "LSZ0TtNrI8pF",
        "outputId": "a754ff95-32e8-4dee-cf6d-29d0e47bc0b8"
      },
      "execution_count": 41,
      "outputs": [
        {
          "output_type": "stream",
          "name": "stdout",
          "text": [
            "Writing lista2exercicio6.cs\n"
          ]
        }
      ]
    },
    {
      "cell_type": "code",
      "source": [
        "!mcs lista2exercicio6.cs -out:lista2exercicio6.x"
      ],
      "metadata": {
        "id": "tkVkKBTPKbEa"
      },
      "execution_count": 42,
      "outputs": []
    },
    {
      "cell_type": "code",
      "source": [
        "!mono lista2exercicio6.x"
      ],
      "metadata": {
        "colab": {
          "base_uri": "https://localhost:8080/"
        },
        "id": "MXOfsNrQKfvn",
        "outputId": "3b9e7147-797a-4071-9a57-b4c5e4b86a31"
      },
      "execution_count": 44,
      "outputs": [
        {
          "output_type": "stream",
          "name": "stdout",
          "text": [
            "Informe a idade do(a) nadador(a): \u001b[?1h\u001b=\u001b[6n\u001b[H\u001b[2J\u001b[6n34\n",
            "Categoria sênior.\n",
            "\u001b[?1l\u001b>\u001b[m"
          ]
        }
      ]
    },
    {
      "cell_type": "markdown",
      "source": [
        "### Exercício 7"
      ],
      "metadata": {
        "id": "wjxFpl-KK6Vq"
      }
    },
    {
      "cell_type": "code",
      "source": [
        "%%writefile lista2exercicio7.cs\n",
        "\n",
        "using System;\n",
        "\n",
        "namespace Lista2Exercicio7{\n",
        "\n",
        "    class Program{\n",
        "\n",
        "        static void Main(){\n",
        "\n",
        "            // Variáveis\n",
        "            int Opcao, Num1, Num2, Num3;\n",
        "\n",
        "            // Entrada\n",
        "            Console.WriteLine(\"Informe Opção, Número 1, Número 2, Número 3.\");\n",
        "            Opcao = int.Parse(Console.ReadLine());\n",
        "            Num1 = int.Parse(Console.ReadLine());\n",
        "            Num2 = int.Parse(Console.ReadLine());\n",
        "            Num3 = int.Parse(Console.ReadLine());\n",
        "\n",
        "            // Processamento\n",
        "            \n",
        "            // Saída\n",
        "            switch (Opcao) {\n",
        "              case 1:\n",
        "                Console.WriteLine(\"Número 1: {0}.\", Num1);\n",
        "                break;\n",
        "              case 2:\n",
        "                Console.WriteLine(\"Número 2: {0}.\", Num2);\n",
        "                break;\n",
        "              case 3:\n",
        "                Console.WriteLine(\"Número 3: {0}.\", Num3);\n",
        "                break;\n",
        "              default:\n",
        "                Console.WriteLine(\"Opção inválida!\");\n",
        "                break;                \n",
        "            }\n",
        "\n",
        "        }\n",
        "\n",
        "    }\n",
        "\n",
        "}"
      ],
      "metadata": {
        "colab": {
          "base_uri": "https://localhost:8080/"
        },
        "id": "C-fSzgeAK8ri",
        "outputId": "90e8b1a1-ef45-4b40-bcd8-651faee0571d"
      },
      "execution_count": 45,
      "outputs": [
        {
          "output_type": "stream",
          "name": "stdout",
          "text": [
            "Writing lista2exercicio7.cs\n"
          ]
        }
      ]
    },
    {
      "cell_type": "code",
      "source": [
        "!mcs lista2exercicio7.cs -out:lista2exercicio7.x"
      ],
      "metadata": {
        "id": "8VoypSz6M9aG"
      },
      "execution_count": 46,
      "outputs": []
    },
    {
      "cell_type": "code",
      "source": [
        "!mono lista2exercicio7.x"
      ],
      "metadata": {
        "colab": {
          "base_uri": "https://localhost:8080/"
        },
        "id": "TNc3ZTUMNCWK",
        "outputId": "47a17764-db83-404b-bfae-942990498c22"
      },
      "execution_count": 47,
      "outputs": [
        {
          "output_type": "stream",
          "name": "stdout",
          "text": [
            "Informe Opção, Número 1, Número 2, Número 3.\n",
            "\u001b[?1h\u001b=\u001b[6n\u001b[H\u001b[2J\u001b[6n4\n",
            "\u001b[6n7\n",
            "\u001b[6n\n",
            "\u001b[6n\n",
            "Opção inválida!\n",
            "\u001b[?1l\u001b>\u001b[m"
          ]
        }
      ]
    },
    {
      "cell_type": "markdown",
      "source": [
        "### Exercício 8"
      ],
      "metadata": {
        "id": "bJU0gmtyNPkF"
      }
    },
    {
      "cell_type": "code",
      "source": [
        "%%writefile lista2exercicio8.cs\n",
        "\n",
        "using System;\n",
        "\n",
        "namespace Lista2Exercicio8{\n",
        "\n",
        "    class Program{\n",
        "\n",
        "        static void Main(){\n",
        "\n",
        "            // Variáveis\n",
        "            int notas1, notas5, notas10, notas50, notas100, total;\n",
        "\n",
        "            // Entrada\n",
        "            Console.WriteLine(\"Informe quantas notas de cada tipo você tem.\");\n",
        "            Console.Write(\"De R$ 1: \");\n",
        "            notas1 = int.Parse(Console.ReadLine());\n",
        "            Console.Write(\"De R$ 5: \");\n",
        "            notas5 = int.Parse(Console.ReadLine());\n",
        "            Console.Write(\"De R$ 10: \");\n",
        "            notas10 = int.Parse(Console.ReadLine());\n",
        "            Console.Write(\"De R$ 50: \");\n",
        "            notas50 = int.Parse(Console.ReadLine());\n",
        "            Console.Write(\"De R$ 100: \");\n",
        "            notas100 = int.Parse(Console.ReadLine());\n",
        "            \n",
        "            // Processamento\n",
        "            total = notas1 + 5*notas5 + 10*notas10 + 50*notas50 + 100*notas100;\n",
        "\n",
        "            // Saída\n",
        "            Console.WriteLine(\"Dinheiro total: R$ {0},00.\", total);\n",
        "\n",
        "        }\n",
        "\n",
        "    }\n",
        "\n",
        "}"
      ],
      "metadata": {
        "colab": {
          "base_uri": "https://localhost:8080/"
        },
        "id": "x9nqkCniNRWy",
        "outputId": "a177a3e2-9ff0-4c8f-a2b8-77cb86ae3f91"
      },
      "execution_count": 48,
      "outputs": [
        {
          "output_type": "stream",
          "name": "stdout",
          "text": [
            "Writing lista2exercicio8.cs\n"
          ]
        }
      ]
    },
    {
      "cell_type": "code",
      "source": [
        "!mcs lista2exercicio8.cs -out:lista2exercicio8.x"
      ],
      "metadata": {
        "id": "dJPTbm7YOgTq"
      },
      "execution_count": 49,
      "outputs": []
    },
    {
      "cell_type": "code",
      "source": [
        "!mono lista2exercicio8.x"
      ],
      "metadata": {
        "colab": {
          "base_uri": "https://localhost:8080/"
        },
        "id": "iXqEACNrOmeh",
        "outputId": "a34f600d-19c1-48e4-e7a2-5ccc9609607c"
      },
      "execution_count": 50,
      "outputs": [
        {
          "output_type": "stream",
          "name": "stdout",
          "text": [
            "Informe quantas notas de cada tipo você tem.\n",
            "De R$ 1: \u001b[?1h\u001b=\u001b[6n\u001b[H\u001b[2J\u001b[6n26\n",
            "De R$ 5: \u001b[6n30\n",
            "De R$ 10: \u001b[6n44\n",
            "De R$ 50: \u001b[6n18\n",
            "De R$ 100: \u001b[6n9\n",
            "Dinheiro total: R$ 2416,00.\n",
            "\u001b[?1l\u001b>\u001b[m"
          ]
        }
      ]
    },
    {
      "cell_type": "markdown",
      "source": [
        "### Exercício 9"
      ],
      "metadata": {
        "id": "TpCfzyeKO6vp"
      }
    },
    {
      "cell_type": "code",
      "source": [
        "%%writefile lista2exercicio9.cs\n",
        "\n",
        "using System;\n",
        "\n",
        "namespace Lista2Exercicio9{\n",
        "\n",
        "    class Program{\n",
        "\n",
        "        static void Main(){\n",
        "\n",
        "            // Variáveis\n",
        "            int montante, sobrou, notas100, notas50, notas10, notas5, notas1;\n",
        "\n",
        "            // Entrada\n",
        "            Console.WriteLine(\"Informe o montante total.\");\n",
        "            Console.Write(\"R$ \");\n",
        "            montante = int.Parse(Console.ReadLine());\n",
        "            \n",
        "            // Processamento\n",
        "            sobrou = montante;\n",
        "            notas100 = sobrou / 100;\n",
        "            sobrou = sobrou % 100;\n",
        "            notas50 = sobrou / 50;\n",
        "            sobrou = sobrou % 50;\n",
        "            notas10 = sobrou / 10;\n",
        "            sobrou = sobrou % 10;\n",
        "            notas5 = sobrou / 5;\n",
        "            notas1 = sobrou % 5;\n",
        "\n",
        "            // Saída\n",
        "            // Console.WriteLine(\"Você vai precisar de:\\n{0} notas de R$ 100,00;\\n{1} notas de R$ 50,00;\\n{2} notas de R$ 10,00;\\n{3} notas de R$ 5,00;\\ne {4} notas de R$ 1,00.\", notas100, notas50, notas10, notas5, notas1);\n",
        "            Console.WriteLine(\"Você vai precisar de:\");\n",
        "            if (notas100>0) {\n",
        "              Console.WriteLine(\"{0} notas de R$ 100,00\", notas100);\n",
        "            }\n",
        "            if (notas50>0) {\n",
        "              Console.WriteLine(\"{0} notas de R$ 50,00\", notas50);\n",
        "            }\n",
        "            if (notas10>0) {\n",
        "              Console.WriteLine(\"{0} notas de R$ 10,00\", notas10);\n",
        "            }\n",
        "            if (notas5>0) {\n",
        "              Console.WriteLine(\"{0} notas de R$ 5,00\", notas5);\n",
        "            }\n",
        "            if (notas1>0) {\n",
        "              Console.WriteLine(\"{0} notas de R$ 1,00\", notas1);\n",
        "            }\n",
        "\n",
        "        }\n",
        "\n",
        "    }\n",
        "\n",
        "}"
      ],
      "metadata": {
        "colab": {
          "base_uri": "https://localhost:8080/"
        },
        "id": "lOTt63oeO8-5",
        "outputId": "53cc4e40-33cb-4b29-d024-2ffd4713974b"
      },
      "execution_count": 58,
      "outputs": [
        {
          "output_type": "stream",
          "name": "stdout",
          "text": [
            "Overwriting lista2exercicio9.cs\n"
          ]
        }
      ]
    },
    {
      "cell_type": "code",
      "source": [
        "!mcs lista2exercicio9.cs -out:lista2exercicio9.x"
      ],
      "metadata": {
        "id": "XRfO3nTWRVF0"
      },
      "execution_count": 59,
      "outputs": []
    },
    {
      "cell_type": "code",
      "source": [
        "!mono lista2exercicio9.x"
      ],
      "metadata": {
        "colab": {
          "base_uri": "https://localhost:8080/"
        },
        "id": "7ZPg4Mn9RcCj",
        "outputId": "606f0828-8135-419a-8bc4-cbf463e60590"
      },
      "execution_count": 61,
      "outputs": [
        {
          "output_type": "stream",
          "name": "stdout",
          "text": [
            "Informe o montante total.\n",
            "R$ \u001b[?1h\u001b=\u001b[6n\u001b[H\u001b[2J\u001b[6n2530\n",
            "Você vai precisar de:\n",
            "25 notas de R$ 100,00\n",
            "3 notas de R$ 10,00\n",
            "\u001b[?1l\u001b>\u001b[m"
          ]
        }
      ]
    },
    {
      "cell_type": "markdown",
      "source": [
        "### Exercício 10"
      ],
      "metadata": {
        "id": "zrjjbnmCS7PO"
      }
    },
    {
      "cell_type": "code",
      "source": [
        "%%writefile lista2exercicio10.cs\n",
        "\n",
        "using System;\n",
        "\n",
        "namespace Lista2Exercicio10{\n",
        "\n",
        "    class Program{\n",
        "\n",
        "        static void Main(){\n",
        "\n",
        "            // Variáveis\n",
        "            double comprimentoPista, velocidadeCarro1, velocidadeCarro2, tempoCarro1, tempoCarro2;\n",
        "\n",
        "            // Entrada\n",
        "            Console.Write(\"Tamanho da pista, em metros: \");\n",
        "            comprimentoPista = double.Parse(Console.ReadLine());\n",
        "            Console.Write(\"Tempo, em segundos, do primeiro carro: \");\n",
        "            tempoCarro1 = double.Parse(Console.ReadLine());\n",
        "            Console.Write(\"Tempo, em segundos, do segundo carro: \");\n",
        "            tempoCarro2 = double.Parse(Console.ReadLine());\n",
        "            \n",
        "            // Processamento – assume-se que os tempos informados serão sempre diferentes, levando a velocidades diferentes\n",
        "            velocidadeCarro1 = comprimentoPista / tempoCarro1;\n",
        "            velocidadeCarro2 = comprimentoPista / tempoCarro2;\n",
        "\n",
        "            // Saída\n",
        "            if (velocidadeCarro1 > velocidadeCarro2) {\n",
        "              Console.WriteLine(\"O primeiro carro foi o mais rápido, com velocidade de {0} m/s.\", velocidadeCarro1);\n",
        "            } else {\n",
        "              Console.WriteLine(\"O segundo carro foi o mais rápido, com velocidade de {0} m/s.\", velocidadeCarro2);\n",
        "            }\n",
        "\n",
        "        }\n",
        "\n",
        "    }\n",
        "\n",
        "}"
      ],
      "metadata": {
        "colab": {
          "base_uri": "https://localhost:8080/"
        },
        "id": "g80NM7UES9CX",
        "outputId": "075c7f61-8cd3-41ab-c7cd-cf7f8a41ceff"
      },
      "execution_count": 62,
      "outputs": [
        {
          "output_type": "stream",
          "name": "stdout",
          "text": [
            "Writing lista2exercicio10.cs\n"
          ]
        }
      ]
    },
    {
      "cell_type": "code",
      "source": [
        "!mcs lista2exercicio10.cs -out:lista2exercicio10.x"
      ],
      "metadata": {
        "id": "5AFlEUOCUpOc"
      },
      "execution_count": 63,
      "outputs": []
    },
    {
      "cell_type": "code",
      "source": [
        "!mono lista2exercicio10.x"
      ],
      "metadata": {
        "colab": {
          "base_uri": "https://localhost:8080/"
        },
        "id": "-uEysewEUuMq",
        "outputId": "98006742-375c-4e21-bfe8-5cb18359527a"
      },
      "execution_count": 65,
      "outputs": [
        {
          "output_type": "stream",
          "name": "stdout",
          "text": [
            "Tamanho da pista, em metros: \u001b[?1h\u001b=\u001b[6n\u001b[H\u001b[2J\u001b[6n10000\n",
            "Tempo, em segundos, do primeiro carro: \u001b[6n800\n",
            "Tempo, em segundos, do segundo carro: \u001b[6n300\n",
            "O segundo carro foi o mais rápido, com velocidade de 33.3333333333333 m/s.\n",
            "\u001b[?1l\u001b>\u001b[m"
          ]
        }
      ]
    },
    {
      "cell_type": "markdown",
      "source": [
        "## Lista 3 – Estruturas de Repetição"
      ],
      "metadata": {
        "id": "gGSms2Az3Ddq"
      }
    },
    {
      "cell_type": "markdown",
      "source": [
        "### Exercício 1"
      ],
      "metadata": {
        "id": "ItlO8ZEjsjEp"
      }
    },
    {
      "cell_type": "code",
      "source": [
        "%%writefile lista3exercicio1.cs\n",
        "\n",
        "using System;\n",
        "\n",
        "namespace Lista3Exercicio1 {\n",
        "\n",
        "  class Program {\n",
        "\n",
        "    static void Main(){\n",
        "\n",
        "      // Variáveis\n",
        "      int a, b, i, somaImpares=0;\n",
        "\n",
        "      // Entrada\n",
        "      Console.WriteLine(\"Informe início e fim do intervalo.\");\n",
        "      Console.Write(\"Início: \");\n",
        "      a = int.Parse(Console.ReadLine());\n",
        "      Console.Write(\"Fim: \");\n",
        "      b = int.Parse(Console.ReadLine());\n",
        "\n",
        "      // Processamento\n",
        "      i=a+1;\n",
        "      while (i<b) {\n",
        "        if(i%2!=0) somaImpares+=i;\n",
        "        i++;\n",
        "      }\n",
        "\n",
        "      // Saída\n",
        "      Console.WriteLine(\"A soma dos números ímpares dentro do intervalo ({0},{1}) é igual a {2}.\", a, b, somaImpares);\n",
        "\n",
        "    }\n",
        "\n",
        "  }\n",
        "\n",
        "}"
      ],
      "metadata": {
        "colab": {
          "base_uri": "https://localhost:8080/"
        },
        "id": "BshU_kdHtIp3",
        "outputId": "b32ead88-1df9-46d8-ffb9-6503e6f09a5e"
      },
      "execution_count": 87,
      "outputs": [
        {
          "output_type": "stream",
          "name": "stdout",
          "text": [
            "Overwriting lista3exercicio1.cs\n"
          ]
        }
      ]
    },
    {
      "cell_type": "code",
      "source": [
        "!mcs lista3exercicio1.cs -out:lista3exercicio1.x"
      ],
      "metadata": {
        "id": "lABSige6vQUQ"
      },
      "execution_count": 88,
      "outputs": []
    },
    {
      "cell_type": "code",
      "source": [
        "!mono lista3exercicio1.x"
      ],
      "metadata": {
        "colab": {
          "base_uri": "https://localhost:8080/"
        },
        "id": "lErMN8UdvV4h",
        "outputId": "489f7c21-6b7d-4308-87d9-c9b681be91da"
      },
      "execution_count": 91,
      "outputs": [
        {
          "output_type": "stream",
          "name": "stdout",
          "text": [
            "Informe início e fim do intervalo.\n",
            "Início: \u001b[?1h\u001b=\u001b[6n\u001b[H\u001b[2J\u001b[6n-9\n",
            "Fim: \u001b[6n19\n",
            "A soma dos números ímpares dentro do intervalo (-9,19) é igual a 65.\n",
            "\u001b[?1l\u001b>\u001b[m"
          ]
        }
      ]
    },
    {
      "cell_type": "markdown",
      "source": [
        "### Exercício 2"
      ],
      "metadata": {
        "id": "4LuyqCYfslBj"
      }
    },
    {
      "cell_type": "code",
      "source": [
        "%%writefile lista3exercicio2.cs\n",
        "\n",
        "using System;\n",
        "\n",
        "namespace Lista3Exercicio2 {\n",
        "\n",
        "  class Program {\n",
        "\n",
        "    static void Main(){\n",
        "\n",
        "      // Variáveis\n",
        "      int N, i, soma, diferenca, produto;\n",
        "\n",
        "      // Entrada\n",
        "      Console.Write(\"N=\");\n",
        "      N = int.Parse(Console.ReadLine());\n",
        "\n",
        "      // Processamento e Saída\n",
        "      Console.WriteLine(\"Tabuada do {0}:\", N);\n",
        "      for (i=0; i<=10; i++){\n",
        "        soma = N+i;\n",
        "        diferenca = N-i;\n",
        "        produto = N*i;\n",
        "        Console.WriteLine(\"{0} + {1} = {2} | {0} - {1} = {3} | {0} * {1} = {4}\", N, i, soma, diferenca, produto);\n",
        "      }\n",
        "\n",
        "    }\n",
        "\n",
        "  }\n",
        "\n",
        "}"
      ],
      "metadata": {
        "colab": {
          "base_uri": "https://localhost:8080/"
        },
        "id": "hn6-dBWqwiVy",
        "outputId": "450c0211-cc36-492f-f444-1ecfcd52cd55"
      },
      "execution_count": 92,
      "outputs": [
        {
          "output_type": "stream",
          "name": "stdout",
          "text": [
            "Writing lista3exercicio2.cs\n"
          ]
        }
      ]
    },
    {
      "cell_type": "code",
      "source": [
        "!mcs lista3exercicio2.cs -out:lista3exercicio2.x"
      ],
      "metadata": {
        "id": "zQIGmVxXzkp8"
      },
      "execution_count": 93,
      "outputs": []
    },
    {
      "cell_type": "code",
      "source": [
        "!mono lista3exercicio2.x"
      ],
      "metadata": {
        "colab": {
          "base_uri": "https://localhost:8080/"
        },
        "id": "ZqqM8Wqpztt6",
        "outputId": "05d44c6e-41ce-4de2-baad-2ce177c46b81"
      },
      "execution_count": 94,
      "outputs": [
        {
          "output_type": "stream",
          "name": "stdout",
          "text": [
            "N=\u001b[?1h\u001b=\u001b[6n\u001b[H\u001b[2J\u001b[6n13\n",
            "Tabuada do 13:\n",
            "13 + 0 = 13 | 13 - 0 = 13 | 13 * 0 = 0\n",
            "13 + 1 = 14 | 13 - 1 = 12 | 13 * 1 = 13\n",
            "13 + 2 = 15 | 13 - 2 = 11 | 13 * 2 = 26\n",
            "13 + 3 = 16 | 13 - 3 = 10 | 13 * 3 = 39\n",
            "13 + 4 = 17 | 13 - 4 = 9 | 13 * 4 = 52\n",
            "13 + 5 = 18 | 13 - 5 = 8 | 13 * 5 = 65\n",
            "13 + 6 = 19 | 13 - 6 = 7 | 13 * 6 = 78\n",
            "13 + 7 = 20 | 13 - 7 = 6 | 13 * 7 = 91\n",
            "13 + 8 = 21 | 13 - 8 = 5 | 13 * 8 = 104\n",
            "13 + 9 = 22 | 13 - 9 = 4 | 13 * 9 = 117\n",
            "13 + 10 = 23 | 13 - 10 = 3 | 13 * 10 = 130\n",
            "\u001b[?1l\u001b>\u001b[m"
          ]
        }
      ]
    },
    {
      "cell_type": "markdown",
      "source": [
        "### Exercício 3"
      ],
      "metadata": {
        "id": "_wlQrI9zsmsj"
      }
    },
    {
      "cell_type": "code",
      "source": [
        "%%writefile lista3exercicio3.cs\n",
        "\n",
        "using System;\n",
        "\n",
        "namespace Lista3Exercicio3 {\n",
        "\n",
        "  class Program {\n",
        "\n",
        "    static void Main(){\n",
        "\n",
        "      // Variáveis\n",
        "      int numero, menor=int.MaxValue; // 2147483647\n",
        "      bool flag=false;\n",
        "\n",
        "      // Entrada e Processamento – assume-se que os números serão positivos\n",
        "      Console.WriteLine(\"Informe os números do conjunto.\");\n",
        "      do {\n",
        "        numero = int.Parse(Console.ReadLine());\n",
        "        if (numero == 0) break;\n",
        "        else {\n",
        "           if (numero < menor) menor = numero;\n",
        "           flag=true;\n",
        "        }\n",
        "      } while (numero != 0);\n",
        "\n",
        "      // Saída\n",
        "      if (flag) Console.WriteLine(\"Menor valor do conjunto: {0}\", menor);\n",
        "\n",
        "    }\n",
        "\n",
        "  }\n",
        "\n",
        "}"
      ],
      "metadata": {
        "colab": {
          "base_uri": "https://localhost:8080/"
        },
        "id": "w4G80bnk0H4A",
        "outputId": "d77a50c1-4fbb-41d6-9bd8-81c6eaf2d2db"
      },
      "execution_count": 102,
      "outputs": [
        {
          "output_type": "stream",
          "name": "stdout",
          "text": [
            "Overwriting lista3exercicio3.cs\n"
          ]
        }
      ]
    },
    {
      "cell_type": "code",
      "source": [
        "!mcs lista3exercicio3.cs -out:lista3exercicio3.x"
      ],
      "metadata": {
        "id": "RFWeEBmA4sFH"
      },
      "execution_count": 103,
      "outputs": []
    },
    {
      "cell_type": "code",
      "source": [
        "!mono lista3exercicio3.x"
      ],
      "metadata": {
        "colab": {
          "base_uri": "https://localhost:8080/"
        },
        "id": "jHH2x_Cr4x8Q",
        "outputId": "efb1c350-cffe-47d1-9eff-afaa65f63eac"
      },
      "execution_count": 106,
      "outputs": [
        {
          "output_type": "stream",
          "name": "stdout",
          "text": [
            "Informe os números do conjunto.\n",
            "\u001b[?1h\u001b=\u001b[6n\u001b[H\u001b[2J\u001b[6n15\n",
            "\u001b[6n13\n",
            "\u001b[6n8\n",
            "\u001b[6n0\n",
            "\u001b[6n6\n",
            "\u001b[6n\n",
            "\u001b[6n5\n",
            "\u001b[6n9\n",
            "\u001b[6n0\n",
            "Menor valor do conjunto: 5\n",
            "\u001b[?1l\u001b>\u001b[m"
          ]
        }
      ]
    },
    {
      "cell_type": "markdown",
      "source": [
        "### Exercício 4"
      ],
      "metadata": {
        "id": "NkQ1GJKjsoU6"
      }
    },
    {
      "cell_type": "code",
      "source": [
        "%%writefile lista3exercicio4.cs\n",
        "\n",
        "using System;\n",
        "\n",
        "namespace Lista3Exercicio4 {\n",
        "\n",
        "  class Program {\n",
        "\n",
        "    static void Main(){\n",
        "\n",
        "      // Variáveis\n",
        "      int primeiro, numero;\n",
        "\n",
        "      // Entrada\n",
        "      Console.Write(\"Informe número: \");\n",
        "      primeiro = int.Parse(Console.ReadLine());\n",
        "\n",
        "      // Processamento\n",
        "      do {\n",
        "        Console.Write(\"Informe número: \");\n",
        "        numero = int.Parse(Console.ReadLine());\n",
        "      } while (numero != primeiro);\n",
        "\n",
        "      // Saída\n",
        "      Console.WriteLine(\"Número igual ao primeiro informado. Encerrando aplicação...\");\n",
        "\n",
        "    }\n",
        "\n",
        "  }\n",
        "\n",
        "}"
      ],
      "metadata": {
        "colab": {
          "base_uri": "https://localhost:8080/"
        },
        "id": "ngfB5UqI6M5d",
        "outputId": "852fc701-b5f8-4fa0-8d0c-fb701f45be5c"
      },
      "execution_count": 119,
      "outputs": [
        {
          "output_type": "stream",
          "name": "stdout",
          "text": [
            "Overwriting lista3exercicio4.cs\n"
          ]
        }
      ]
    },
    {
      "cell_type": "code",
      "source": [
        "!mcs lista3exercicio4.cs -out:lista3exercicio4.x"
      ],
      "metadata": {
        "id": "IoQxuT1g7jhd"
      },
      "execution_count": 120,
      "outputs": []
    },
    {
      "cell_type": "code",
      "source": [
        "!mono lista3exercicio4.x"
      ],
      "metadata": {
        "colab": {
          "base_uri": "https://localhost:8080/"
        },
        "id": "pPEJHf1C9j1Y",
        "outputId": "9d333e04-dd95-4b69-cc4a-565239c67e63"
      },
      "execution_count": 121,
      "outputs": [
        {
          "output_type": "stream",
          "name": "stdout",
          "text": [
            "Informe número: \u001b[?1h\u001b=\u001b[6n\u001b[H\u001b[2J\u001b[6n0\n",
            "Informe número: \u001b[6n0\n",
            "Número igual ao primeiro informado. Encerrando aplicação...\n",
            "\u001b[?1l\u001b>\u001b[m"
          ]
        }
      ]
    },
    {
      "cell_type": "markdown",
      "source": [
        "### Exercício 5"
      ],
      "metadata": {
        "id": "xbTtjNZNsrAz"
      }
    },
    {
      "cell_type": "code",
      "source": [
        "%%writefile lista3exercicio5.cs\n",
        "\n",
        "using System;\n",
        "\n",
        "namespace Lista3Exercicio5 {\n",
        "\n",
        "  class Program {\n",
        "\n",
        "    static void Main(){\n",
        "\n",
        "      // Variáveis\n",
        "      int numero, numeroPares=0, numeroImpares=0;\n",
        "\n",
        "      // Entrada\n",
        "      Console.Write(\"Informe número: \");\n",
        "      numero = int.Parse(Console.ReadLine());\n",
        "      \n",
        "      // Processamento\n",
        "      while (numero != -1) {\n",
        "        if (numero%2 == 0) numeroPares++;\n",
        "        else numeroImpares++;\n",
        "        Console.Write(\"Informe número: \");\n",
        "        numero = int.Parse(Console.ReadLine());\n",
        "      }\n",
        "\n",
        "      // Saída\n",
        "      Console.WriteLine(\"Quantidade de pares no conjunto: {0}.\", numeroPares);\n",
        "      Console.WriteLine(\"Quantidade de ímpares no conjunto: {0}\", numeroImpares);\n",
        "\n",
        "    }\n",
        "\n",
        "  }\n",
        "\n",
        "}"
      ],
      "metadata": {
        "colab": {
          "base_uri": "https://localhost:8080/"
        },
        "id": "Qu0ENUVr90ta",
        "outputId": "a1601432-82aa-4639-fc4e-4b7ecbc09e3b"
      },
      "execution_count": 122,
      "outputs": [
        {
          "output_type": "stream",
          "name": "stdout",
          "text": [
            "Writing lista3exercicio5.cs\n"
          ]
        }
      ]
    },
    {
      "cell_type": "code",
      "source": [
        "!mcs lista3exercicio5.cs -out:lista3exercicio5.x"
      ],
      "metadata": {
        "id": "JHWAp2eu_gAS"
      },
      "execution_count": 124,
      "outputs": []
    },
    {
      "cell_type": "code",
      "source": [
        "!mono lista3exercicio5.x"
      ],
      "metadata": {
        "colab": {
          "base_uri": "https://localhost:8080/"
        },
        "id": "FmbgZWMW_oTZ",
        "outputId": "806078a4-88b4-4618-a7b5-95a8a8d33534"
      },
      "execution_count": 126,
      "outputs": [
        {
          "output_type": "stream",
          "name": "stdout",
          "text": [
            "Informe número: \u001b[?1h\u001b=\u001b[6n\u001b[H\u001b[2J\u001b[6n2\n",
            "Informe número: \u001b[6n3\n",
            "Informe número: \u001b[6n4\n",
            "Informe número: \u001b[6n5\n",
            "Informe número: \u001b[6n6\n",
            "Informe número: \u001b[6n-1\n",
            "Quantidade de pares no conjunto: 3.\n",
            "Quantidade de ímpares no conjunto: 2\n",
            "\u001b[?1l\u001b>\u001b[m"
          ]
        }
      ]
    },
    {
      "cell_type": "markdown",
      "source": [
        "### Exercício 6"
      ],
      "metadata": {
        "id": "VsThGmfcssVh"
      }
    },
    {
      "cell_type": "code",
      "source": [
        "%%writefile lista3exercicio6.cs\n",
        "\n",
        "using System;\n",
        "\n",
        "namespace Lista3Exercicio6 {\n",
        "\n",
        "  class Program {\n",
        "\n",
        "    static void Main(){\n",
        "\n",
        "      // Variáveis\n",
        "      /* ulong: unsigned long, ou seja, inteiro positivo usando até 64 bits para armazenar;\n",
        "         vai de 0 até 18,446,744,073,709,551,615, ou seja, 20 dígitos; acredite, pra fatoriais,\n",
        "         você VAI precisar desse tamanho; para testar, calcule o fatorial de 20. */\n",
        "      ulong numero, indice, fatorial=1;\n",
        "\n",
        "      // Entrada\n",
        "      Console.Write(\"Informe um número: \");\n",
        "      numero = ulong.Parse(Console.ReadLine());\n",
        "\n",
        "      // Processamento\n",
        "      if (numero > 1) {\n",
        "        for (indice=1; indice<=numero; indice++) {\n",
        "          fatorial*=indice;\n",
        "        }\n",
        "      }\n",
        "\n",
        "      // Saída\n",
        "      Console.WriteLine(\"Fatorial do número informado: {0}! = {1}.\", numero, fatorial);\n",
        "      \n",
        "    }\n",
        "\n",
        "  }\n",
        "\n",
        "}"
      ],
      "metadata": {
        "colab": {
          "base_uri": "https://localhost:8080/"
        },
        "id": "RGHYGb4w_zaP",
        "outputId": "33fcf1f2-2478-47d0-c7f9-61a8fa7a992b"
      },
      "execution_count": 148,
      "outputs": [
        {
          "output_type": "stream",
          "name": "stdout",
          "text": [
            "Overwriting lista3exercicio6.cs\n"
          ]
        }
      ]
    },
    {
      "cell_type": "code",
      "source": [
        "!mcs lista3exercicio6.cs -out:lista3exercicio6.x"
      ],
      "metadata": {
        "id": "E6Z9cMTUBTie"
      },
      "execution_count": 149,
      "outputs": []
    },
    {
      "cell_type": "code",
      "source": [
        "!mono lista3exercicio6.x"
      ],
      "metadata": {
        "colab": {
          "base_uri": "https://localhost:8080/"
        },
        "id": "HF44c1RbBZvx",
        "outputId": "291bc2bb-9deb-4ae2-f77f-a2919b13dc80"
      },
      "execution_count": 150,
      "outputs": [
        {
          "output_type": "stream",
          "name": "stdout",
          "text": [
            "Informe um número: \u001b[?1h\u001b=\u001b[6n\u001b[H\u001b[2J\u001b[6n20\n",
            "Fatorial do número informado: 20! = 2432902008176640000.\n",
            "\u001b[?1l\u001b>\u001b[m"
          ]
        }
      ]
    },
    {
      "cell_type": "markdown",
      "source": [
        "### Exercício 7"
      ],
      "metadata": {
        "id": "6SujTX0sstl_"
      }
    },
    {
      "cell_type": "code",
      "source": [
        "%%writefile lista3exercicio7.cs\n",
        "\n",
        "using System;\n",
        "\n",
        "namespace Lista3Exercicio7 {\n",
        "\n",
        "  class Program {\n",
        "\n",
        "    static void Main(){\n",
        "\n",
        "      // Variáveis\n",
        "      int primeiro=1, segundo=1, terceiro, numero, contador;\n",
        "\n",
        "      // Entrada\n",
        "      Console.WriteLine(\"Quantos termos da sequência de Fibonacci você vai querer?\");\n",
        "      numero = int.Parse(Console.ReadLine());\n",
        "\n",
        "      // Processamento e Saída\n",
        "      if (numero > 0) {\n",
        "        Console.Write(\"Sequência de Fibonacci: \");\n",
        "        if (numero == 1) {\n",
        "          Console.WriteLine(\"{0}\", primeiro);\n",
        "        } else {\n",
        "          Console.Write(\"{0}, {1}\", primeiro, segundo);\n",
        "          if (numero > 2) {\n",
        "            contador = 2;\n",
        "            do {\n",
        "              terceiro = primeiro + segundo;\n",
        "              Console.Write(\", {0}\", terceiro);\n",
        "              primeiro = segundo;\n",
        "              segundo = terceiro;\n",
        "              contador++;\n",
        "            } while (contador < numero);\n",
        "          }\n",
        "          Console.Write(\"\\n\");\n",
        "        }\n",
        "      }\n",
        "\n",
        "    }\n",
        "\n",
        "  }\n",
        "\n",
        "}"
      ],
      "metadata": {
        "colab": {
          "base_uri": "https://localhost:8080/"
        },
        "id": "XK3oX6grEt0s",
        "outputId": "8462e8db-a7f1-43fe-9915-313e20aa40f5"
      },
      "execution_count": 158,
      "outputs": [
        {
          "output_type": "stream",
          "name": "stdout",
          "text": [
            "Overwriting lista3exercicio7.cs\n"
          ]
        }
      ]
    },
    {
      "cell_type": "code",
      "source": [
        "!mcs lista3exercicio7.cs -out:lista3exercicio7.x"
      ],
      "metadata": {
        "id": "DgFBjceLHsWD"
      },
      "execution_count": 159,
      "outputs": []
    },
    {
      "cell_type": "code",
      "source": [
        "!mono lista3exercicio7.x"
      ],
      "metadata": {
        "colab": {
          "base_uri": "https://localhost:8080/"
        },
        "id": "tU0aDDoUID38",
        "outputId": "f26222c0-5dc6-4d69-e2e8-66bc5b5941a1"
      },
      "execution_count": 167,
      "outputs": [
        {
          "output_type": "stream",
          "name": "stdout",
          "text": [
            "Quantos termos da sequência de Fibonacci você vai querer?\n",
            "\u001b[?1h\u001b=\u001b[6n\u001b[H\u001b[2J\u001b[6n9\n",
            "Sequência de Fibonacci: 1, 1, 2, 3, 5, 8, 13, 21, 34\n",
            "\u001b[?1l\u001b>\u001b[m"
          ]
        }
      ]
    },
    {
      "cell_type": "markdown",
      "source": [
        "### Exercício 8"
      ],
      "metadata": {
        "id": "AdFD7rubsvRD"
      }
    },
    {
      "cell_type": "code",
      "source": [
        "%%writefile lista3exercicio8.cs\n",
        "\n",
        "using System;\n",
        "\n",
        "namespace Lista3Exercicio8 {\n",
        "\n",
        "  class Program {\n",
        "\n",
        "    static void Main(){\n",
        "\n",
        "      // Variáveis\n",
        "      string nome, codigo;\n",
        "      char sexo;\n",
        "      int idade, total=0, totalServicos=0, totalHomens=0, totalMulheres=0, percentualServicos;\n",
        "\n",
        "      // Entrada e Processamento\n",
        "\n",
        "      Console.WriteLine(\"Informe nome, idade, sexo e código:\");\n",
        "      Console.Write(\"Nome: \");\n",
        "      nome = Console.ReadLine();\n",
        "\n",
        "      while(nome != \"fim\") {\n",
        "        Console.Write(\"Idade: \");\n",
        "        idade = int.Parse(Console.ReadLine());\n",
        "        Console.Write(\"Sexo: \");\n",
        "        sexo = char.Parse(Console.ReadLine());\n",
        "        Console.Write(\"Código: \");\n",
        "        codigo = Console.ReadLine();\n",
        "\n",
        "        total++;\n",
        "        if (sexo == 'M') totalHomens++;\n",
        "        else if (sexo == 'F') totalMulheres++;\n",
        "        if (codigo == \"020\") totalServicos++;\n",
        "        \n",
        "        Console.WriteLine(\"Consumidor Registrado. Próximo consumidor...\\n\");\n",
        "        Console.WriteLine(\"Informe nome, idade, sexo e código:\");\n",
        "        Console.Write(\"Nome: \");\n",
        "        nome = Console.ReadLine();\n",
        "      }\n",
        "\n",
        "      // Saída\n",
        "      if (total>0) {\n",
        "        percentualServicos = 100 * totalServicos / total;\n",
        "        Console.WriteLine(\"Percentual dos consumidores que buscaram Serviços: {0}%.\", percentualServicos);\n",
        "        if (totalHomens > totalMulheres) Console.WriteLine(\"A maioria dos consumidores foram homens.\");\n",
        "        else Console.WriteLine(\"A maioria dos consumidores foram mulheres.\");\n",
        "      }\n",
        "      \n",
        "    }\n",
        "\n",
        "  }\n",
        "\n",
        "}"
      ],
      "metadata": {
        "colab": {
          "base_uri": "https://localhost:8080/"
        },
        "id": "zVDXFHEiJRvB",
        "outputId": "ce5acbd3-9918-413f-fbbc-f0118e37cb67"
      },
      "execution_count": 171,
      "outputs": [
        {
          "output_type": "stream",
          "name": "stdout",
          "text": [
            "Overwriting lista3exercicio8.cs\n"
          ]
        }
      ]
    },
    {
      "cell_type": "code",
      "source": [
        "!mcs lista3exercicio8.cs -out:lista3exercicio8.x"
      ],
      "metadata": {
        "colab": {
          "base_uri": "https://localhost:8080/"
        },
        "id": "C5cwjFvgN46S",
        "outputId": "95d813cf-9bff-4eea-9892-5e87465876df"
      },
      "execution_count": 172,
      "outputs": [
        {
          "output_type": "stream",
          "name": "stdout",
          "text": [
            "lista3exercicio8.cs(13,11): warning CS0219: The variable `idade' is assigned but its value is never used\n",
            "Compilation succeeded - 1 warning(s)\n"
          ]
        }
      ]
    },
    {
      "cell_type": "code",
      "source": [
        "!mono lista3exercicio8.x"
      ],
      "metadata": {
        "colab": {
          "base_uri": "https://localhost:8080/"
        },
        "id": "QHioVkQJOEtX",
        "outputId": "546a78d3-679f-464d-8441-7d92548716f7"
      },
      "execution_count": 174,
      "outputs": [
        {
          "output_type": "stream",
          "name": "stdout",
          "text": [
            "Informe nome, idade, sexo e código:\n",
            "Nome: \u001b[?1h\u001b=\u001b[6n\u001b[H\u001b[2J\u001b[6nPedro\n",
            "Idade: \u001b[6n34\n",
            "Sexo: \u001b[6nM\n",
            "Código: \u001b[6n020\n",
            "Consumidor Registrado. Próximo consumidor...\n",
            "\n",
            "Informe nome, idade, sexo e código:\n",
            "Nome: \u001b[6nMaria\n",
            "Idade: \u001b[6n28\n",
            "Sexo: \u001b[6nF\n",
            "Código: \u001b[6n010\n",
            "Consumidor Registrado. Próximo consumidor...\n",
            "\n",
            "Informe nome, idade, sexo e código:\n",
            "Nome: \u001b[6nJoca\n",
            "Idade: \u001b[6n47\n",
            "Sexo: \u001b[6nM\n",
            "Código: \u001b[6n040\n",
            "Consumidor Registrado. Próximo consumidor...\n",
            "\n",
            "Informe nome, idade, sexo e código:\n",
            "Nome: \u001b[6nLynnie\n",
            "Idade: \u001b[6n21\n",
            "Sexo: \u001b[6nN\n",
            "Código: \u001b[6n030\n",
            "Consumidor Registrado. Próximo consumidor...\n",
            "\n",
            "Informe nome, idade, sexo e código:\n",
            "Nome: \u001b[6nfim\n",
            "Percentual dos consumidores que buscaram Serviços: 25%.\n",
            "A maioria dos consumidores foram homens.\n",
            "\u001b[?1l\u001b>\u001b[m"
          ]
        }
      ]
    },
    {
      "cell_type": "markdown",
      "source": [
        "### Exercício 9"
      ],
      "metadata": {
        "id": "1kdoLRD-swhy"
      }
    },
    {
      "cell_type": "code",
      "source": [
        "%%writefile lista3exercicio9.cs\n",
        "\n",
        "using System;\n",
        "\n",
        "namespace Lista3Exercicio9 {\n",
        "\n",
        "  class Program {\n",
        "\n",
        "    static void Main(){\n",
        "\n",
        "      // Variáveis\n",
        "      char tipo, sexo, tipoMaisVendido;\n",
        "      int totalHomensRomance=0, totalFiccao=0, totalRomance=0, totalAventura=0;\n",
        "      int totalCompradores=0, totalMaisVendido, percentualHomensRomance=0;\n",
        "      int totalHomens=0;\n",
        "\n",
        "      // Entrada e Processamento\n",
        "\n",
        "      Console.WriteLine(\"Informe tipo do livro comprado e sexo do comprador:\");\n",
        "      Console.Write(\"Tipo: \");\n",
        "      tipo = char.Parse(Console.ReadLine());\n",
        "\n",
        "      while(tipo != '0') {\n",
        "        Console.Write(\"Sexo: \");\n",
        "        sexo = char.Parse(Console.ReadLine());\n",
        "\n",
        "        totalCompradores++;\n",
        "        if (sexo == 'M') totalHomens++;\n",
        "        switch (tipo) {\n",
        "          case '1':\n",
        "            totalFiccao++;\n",
        "            break;\n",
        "          case '2':\n",
        "            totalRomance++;\n",
        "            if(sexo == 'M') totalHomensRomance++;\n",
        "            break;\n",
        "          case '3':\n",
        "            totalAventura++;\n",
        "            break;\n",
        "          default:\n",
        "            break;\n",
        "        }\n",
        "\n",
        "        Console.WriteLine(\"Comprador Registrado. Próximo...\\n\");\n",
        "        Console.WriteLine(\"Informe tipo do livro comprado e sexo do comprador:\");\n",
        "        Console.Write(\"Tipo: \");\n",
        "        tipo = char.Parse(Console.ReadLine());\n",
        "      }\n",
        "\n",
        "      if (totalCompradores > 0) {\n",
        "        totalMaisVendido = totalFiccao;\n",
        "        tipoMaisVendido = '1';\n",
        "        if (totalRomance > totalMaisVendido) {\n",
        "          totalMaisVendido = totalRomance;\n",
        "          tipoMaisVendido = '2';\n",
        "        }\n",
        "        if (totalAventura > totalMaisVendido) {\n",
        "          totalMaisVendido = totalAventura;\n",
        "          tipoMaisVendido = '3';\n",
        "        }\n",
        "        if (totalHomens > 0) percentualHomensRomance = 100 * totalHomensRomance / totalHomens;\n",
        "      } else tipoMaisVendido = '0';\n",
        "\n",
        "      // Saída\n",
        "      switch (tipoMaisVendido) {\n",
        "        case '1':\n",
        "          Console.WriteLine(\"O tipo de livro mais vendido foi Ficção.\");\n",
        "          break;\n",
        "        case '2':\n",
        "          Console.WriteLine(\"O tipo de livro mais vendido foi Romance.\");\n",
        "          break;\n",
        "        case '3':\n",
        "          Console.WriteLine(\"O tipo de livro mais vendido foi Aventura.\");\n",
        "          break;\n",
        "        default:\n",
        "          Console.WriteLine(\"O tipo de livro mais vendido foi Outros.\");\n",
        "          break;\n",
        "      }\n",
        "\n",
        "      if (totalHomens > 0) {\n",
        "        Console.WriteLine(\"O percentual de homens que lêem livros de romance é de {0}%.\", percentualHomensRomance);\n",
        "      }\n",
        "\n",
        "    }\n",
        "\n",
        "  }\n",
        "\n",
        "}"
      ],
      "metadata": {
        "colab": {
          "base_uri": "https://localhost:8080/"
        },
        "id": "g_PbwgpuTXvj",
        "outputId": "bec1f148-7c20-4fc3-b033-cdb175620649"
      },
      "execution_count": 195,
      "outputs": [
        {
          "output_type": "stream",
          "name": "stdout",
          "text": [
            "Overwriting lista3exercicio9.cs\n"
          ]
        }
      ]
    },
    {
      "cell_type": "code",
      "source": [
        "!mcs lista3exercicio9.cs -out:lista3exercicio9.x"
      ],
      "metadata": {
        "id": "pjZYjCyxYZ44"
      },
      "execution_count": 196,
      "outputs": []
    },
    {
      "cell_type": "code",
      "source": [
        "!mono lista3exercicio9.x"
      ],
      "metadata": {
        "colab": {
          "base_uri": "https://localhost:8080/"
        },
        "id": "VgGbPG1yajJS",
        "outputId": "e2f5edf8-8af6-46ca-ee23-19f6658e5717"
      },
      "execution_count": 198,
      "outputs": [
        {
          "output_type": "stream",
          "name": "stdout",
          "text": [
            "Informe tipo do livro comprado e sexo do comprador:\n",
            "Tipo: \u001b[?1h\u001b=\u001b[6n\u001b[H\u001b[2J\u001b[6n2\n",
            "Sexo: \u001b[6nM\n",
            "Comprador Registrado. Próximo...\n",
            "\n",
            "Informe tipo do livro comprado e sexo do comprador:\n",
            "Tipo: \u001b[6n2\n",
            "Sexo: \u001b[6nF\n",
            "Comprador Registrado. Próximo...\n",
            "\n",
            "Informe tipo do livro comprado e sexo do comprador:\n",
            "Tipo: \u001b[6n2\n",
            "Sexo: \u001b[6nF\n",
            "Comprador Registrado. Próximo...\n",
            "\n",
            "Informe tipo do livro comprado e sexo do comprador:\n",
            "Tipo: \u001b[6n1\n",
            "Sexo: \u001b[6nM\n",
            "Comprador Registrado. Próximo...\n",
            "\n",
            "Informe tipo do livro comprado e sexo do comprador:\n",
            "Tipo: \u001b[6n3\n",
            "Sexo: \u001b[6nF\n",
            "Comprador Registrado. Próximo...\n",
            "\n",
            "Informe tipo do livro comprado e sexo do comprador:\n",
            "Tipo: \u001b[6n0\n",
            "O tipo de livro mais vendido foi Romance.\n",
            "O percentual de homens que lêem livros de romance é de 50%.\n",
            "\u001b[?1l\u001b>\u001b[m"
          ]
        }
      ]
    },
    {
      "cell_type": "markdown",
      "source": [
        "### Exercício 10\n",
        "Esta versão funciona mais como um contador de tempo do que como um relógio, já que o tempo inicial é 00:00:00."
      ],
      "metadata": {
        "id": "ZTFsI8qksx3X"
      }
    },
    {
      "cell_type": "code",
      "source": [
        "%%writefile lista3exercicio10.cs\n",
        "\n",
        "using System;\n",
        "using System.Threading;\n",
        "\n",
        "namespace Lista3Exercicio10 {\n",
        "\n",
        "  class Program {\n",
        "\n",
        "    static void Main(){\n",
        "\n",
        "      // Variáveis\n",
        "      int hora=0, minuto=0, segundo=0, contador=0;\n",
        "      string stringHora, stringMinuto, stringSegundo;\n",
        "      bool flag=true;\n",
        "\n",
        "      // Processamento e Saída\n",
        "      while (flag) {\n",
        "\n",
        "        // Para que os dados numéricos tenham dois dígitos\n",
        "        stringHora = hora.ToString();\n",
        "        if (stringHora.Length < 2) stringHora = \"0\" + stringHora;\n",
        "        stringMinuto = minuto.ToString();\n",
        "        if (stringMinuto.Length < 2) stringMinuto = \"0\" + stringMinuto;\n",
        "        stringSegundo = segundo.ToString();\n",
        "        if (stringSegundo.Length < 2) stringSegundo = \"0\" + stringSegundo;\n",
        "\n",
        "        // Para montar o mostrador do relógio\n",
        "        Console.Clear(); // Não funciona no colab, mas funciona no console.\n",
        "        Console.WriteLine(\"Relógio\");\n",
        "        Console.WriteLine(\"{0}:{1}:{2}\", stringHora, stringMinuto, stringSegundo);\n",
        "        \n",
        "        Thread.Sleep(1000); // Pára o programa por 1000 milissegundos.\n",
        "        contador++;\n",
        "        if (contador > 200) flag = false; // Pro programa parar.\n",
        "        \n",
        "        // Para atualizar o horário\n",
        "        segundo++;\n",
        "        if (segundo == 60) {\n",
        "          segundo = 0;\n",
        "          minuto++;\n",
        "          if (minuto == 60) {\n",
        "            minuto = 0;\n",
        "            hora++;\n",
        "            if (hora == 24) hora = 0;\n",
        "          }\n",
        "        }\n",
        "      }\n",
        "\n",
        "    }\n",
        "\n",
        "  }\n",
        "\n",
        "}"
      ],
      "metadata": {
        "colab": {
          "base_uri": "https://localhost:8080/"
        },
        "id": "JD2YaW15qkWs",
        "outputId": "d2ab030f-663c-4bcc-fd16-82210bb49e20"
      },
      "execution_count": 221,
      "outputs": [
        {
          "output_type": "stream",
          "name": "stdout",
          "text": [
            "Overwriting lista3exercicio10.cs\n"
          ]
        }
      ]
    },
    {
      "cell_type": "code",
      "source": [
        "!mcs lista3exercicio10.cs -out:lista3exercicio10.x"
      ],
      "metadata": {
        "id": "oIiGEdUTrOdQ"
      },
      "execution_count": 222,
      "outputs": []
    },
    {
      "cell_type": "code",
      "source": [
        "!mono lista3exercicio10.x"
      ],
      "metadata": {
        "colab": {
          "base_uri": "https://localhost:8080/"
        },
        "id": "JicUEwKgrg-y",
        "outputId": "53c7e834-9278-4eee-f5bd-09fd1f76a1e5"
      },
      "execution_count": 223,
      "outputs": [
        {
          "output_type": "stream",
          "name": "stdout",
          "text": [
            "\u001b[?1h\u001b=\u001b[6n\u001b[H\u001b[2J\u001b[H\u001b[2JRelógio\n",
            "00:00:00\n",
            "\u001b[H\u001b[2JRelógio\n",
            "00:00:01\n",
            "\u001b[H\u001b[2JRelógio\n",
            "00:00:02\n",
            "\u001b[H\u001b[2JRelógio\n",
            "00:00:03\n",
            "\u001b[H\u001b[2JRelógio\n",
            "00:00:04\n",
            "\u001b[?1l\u001b>\u001b[m"
          ]
        }
      ]
    },
    {
      "cell_type": "markdown",
      "source": [
        "### Exercício 10 – Versão Alternativa\n",
        "Esta versão de fato funciona como um relógio, uma vez que acessa a hora do sistema no início da execução para inicializar as variáveis `hora`, `minuto` e `segundo` do programa.  \n",
        "Nota: no colab, o horário disponibilizado parece ser o GMT, ou horário de Greenwich (UTC-0); o horário de Brasília corresponde a UTC-3."
      ],
      "metadata": {
        "id": "zrCv08qpqVzr"
      }
    },
    {
      "cell_type": "code",
      "source": [
        "%%writefile lista3exercicio10extra.cs\n",
        "\n",
        "using System;\n",
        "using System.Threading;\n",
        "\n",
        "namespace Lista3Exercicio10 {\n",
        "\n",
        "  class Program {\n",
        "\n",
        "    static void Main(){\n",
        "\n",
        "      // Variáveis\n",
        "      int hora, minuto, segundo, contador=0;\n",
        "      string stringHora, stringMinuto, stringSegundo;\n",
        "      bool flag=true;\n",
        "      DateTime agora=DateTime.Now; /* Struct que pega a hora do sistema APENAS para inicializar o nosso relógio. */\n",
        "\n",
        "      // Entrada\n",
        "\n",
        "      // Inicializando nosso relógio\n",
        "      hora = agora.Hour;\n",
        "      minuto = agora.Minute;\n",
        "      segundo = agora.Second;\n",
        "\n",
        "      // Processamento e Saída\n",
        "      while (flag) {\n",
        "\n",
        "        // Para que os dados numéricos tenham dois dígitos\n",
        "        stringHora = hora.ToString();\n",
        "        if (stringHora.Length < 2) stringHora = \"0\" + stringHora;\n",
        "        stringMinuto = minuto.ToString();\n",
        "        if (stringMinuto.Length < 2) stringMinuto = \"0\" + stringMinuto;\n",
        "        stringSegundo = segundo.ToString();\n",
        "        if (stringSegundo.Length < 2) stringSegundo = \"0\" + stringSegundo;\n",
        "        \n",
        "        // Para montar o mostrador do relógio\n",
        "        Console.Clear(); // Não funciona no colab, mas funciona no console.\n",
        "        Console.WriteLine(\"Relógio\");\n",
        "        Console.WriteLine(\"{0}:{1}:{2}\", stringHora, stringMinuto, stringSegundo);\n",
        "        \n",
        "        Thread.Sleep(1000); // Pára o programa por 1000 milissegundos.\n",
        "        contador++;\n",
        "        if (contador > 200) flag = false; // Pro programa parar.\n",
        "        \n",
        "        // Para atualizar o horário\n",
        "        segundo++;\n",
        "        if (segundo == 60) {\n",
        "          segundo = 0;\n",
        "          minuto++;\n",
        "          if (minuto == 60) {\n",
        "            minuto = 0;\n",
        "            hora++;\n",
        "            if (hora == 24) hora = 0;\n",
        "          }\n",
        "        }\n",
        "      }\n",
        "\n",
        "    }\n",
        "\n",
        "  }\n",
        "\n",
        "}"
      ],
      "metadata": {
        "colab": {
          "base_uri": "https://localhost:8080/"
        },
        "id": "VRDuivkxfJ6I",
        "outputId": "73c26f6d-b9be-4fec-9271-1e4229b6d2f0"
      },
      "execution_count": 224,
      "outputs": [
        {
          "output_type": "stream",
          "name": "stdout",
          "text": [
            "Overwriting lista3exercicio10extra.cs\n"
          ]
        }
      ]
    },
    {
      "cell_type": "code",
      "source": [
        "!mcs lista3exercicio10extra.cs -out:lista3exercicio10extra.x"
      ],
      "metadata": {
        "id": "ukwW0pd4kX1j"
      },
      "execution_count": 225,
      "outputs": []
    },
    {
      "cell_type": "code",
      "source": [
        "!mono lista3exercicio10extra.x"
      ],
      "metadata": {
        "colab": {
          "base_uri": "https://localhost:8080/"
        },
        "id": "3cCHgeGgliy2",
        "outputId": "e6814e17-9b73-46af-9138-380327586c55"
      },
      "execution_count": 226,
      "outputs": [
        {
          "output_type": "stream",
          "name": "stdout",
          "text": [
            "\u001b[?1h\u001b=\u001b[6n\u001b[H\u001b[2J\u001b[H\u001b[2JRelógio\n",
            "22:37:39\n",
            "\u001b[H\u001b[2JRelógio\n",
            "22:37:40\n",
            "\u001b[H\u001b[2JRelógio\n",
            "22:37:41\n",
            "\u001b[H\u001b[2JRelógio\n",
            "22:37:42\n",
            "\u001b[H\u001b[2JRelógio\n",
            "22:37:43\n",
            "\u001b[H\u001b[2JRelógio\n",
            "22:37:44\n",
            "\u001b[H\u001b[2JRelógio\n",
            "22:37:45\n",
            "\u001b[?1l\u001b>\u001b[m"
          ]
        }
      ]
    },
    {
      "cell_type": "markdown",
      "source": [
        "## Lista 4 – Modularização"
      ],
      "metadata": {
        "id": "dmJV1HN03J9y"
      }
    },
    {
      "cell_type": "markdown",
      "source": [
        "## Lista 5 – Vetores e Matrizes"
      ],
      "metadata": {
        "id": "m7GMeQhw3Q0a"
      }
    },
    {
      "cell_type": "markdown",
      "source": [
        "## Lista 6 – Tipos de Estrutura"
      ],
      "metadata": {
        "id": "3wdN_Xpt3Z7K"
      }
    },
    {
      "cell_type": "markdown",
      "source": [
        "## Lista 7 – Orientação a Objetos"
      ],
      "metadata": {
        "id": "-_IFzGx43rfm"
      }
    },
    {
      "cell_type": "markdown",
      "source": [
        "### 7.1 Classes, Atributos e Métodos"
      ],
      "metadata": {
        "id": "OwoDn_9B3042"
      }
    },
    {
      "cell_type": "markdown",
      "source": [
        "### 7.2 Herança"
      ],
      "metadata": {
        "id": "B-yDVk7A4A1v"
      }
    },
    {
      "cell_type": "markdown",
      "source": [
        "### 7.3 Associação"
      ],
      "metadata": {
        "id": "MjGa_f1v4GxT"
      }
    },
    {
      "cell_type": "markdown",
      "source": [
        "### 7.4 Interfaces"
      ],
      "metadata": {
        "id": "aPlq2Lvl4I8s"
      }
    }
  ]
}