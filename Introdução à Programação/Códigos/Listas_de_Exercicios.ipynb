{
  "nbformat": 4,
  "nbformat_minor": 0,
  "metadata": {
    "colab": {
      "provenance": []
    },
    "kernelspec": {
      "name": "python3",
      "display_name": "Python 3"
    },
    "language_info": {
      "name": "python"
    }
  },
  "cells": [
    {
      "cell_type": "markdown",
      "source": [
        "# Listas de Exercícios\n",
        "Abaixo seguem os comandos para instalar, e checar a versão instalada, do mono."
      ],
      "metadata": {
        "id": "b8LiYRFCjnft"
      }
    },
    {
      "cell_type": "code",
      "execution_count": 96,
      "metadata": {
        "id": "cIWeteLFbMdM",
        "colab": {
          "base_uri": "https://localhost:8080/"
        },
        "outputId": "be92a7f5-e44e-473e-9148-1c42243de8ae"
      },
      "outputs": [
        {
          "output_type": "stream",
          "name": "stdout",
          "text": [
            "Reading package lists... Done\n",
            "Building dependency tree       \n",
            "Reading state information... Done\n",
            "mono-devel is already the newest version (6.8.0.105+dfsg-2).\n",
            "0 upgraded, 0 newly installed, 0 to remove and 24 not upgraded.\n"
          ]
        }
      ],
      "source": [
        "!sudo apt-get install mono-devel"
      ]
    },
    {
      "cell_type": "code",
      "source": [
        "!mono --version"
      ],
      "metadata": {
        "colab": {
          "base_uri": "https://localhost:8080/"
        },
        "id": "Usxg-Co-jxcG",
        "outputId": "69b86f08-e183-4e3d-822e-a7d0eac6cc5e"
      },
      "execution_count": null,
      "outputs": [
        {
          "output_type": "stream",
          "name": "stdout",
          "text": [
            "Mono JIT compiler version 6.8.0.105 (Debian 6.8.0.105+dfsg-2 Wed Feb 26 23:23:50 UTC 2020)\n",
            "Copyright (C) 2002-2014 Novell, Inc, Xamarin Inc and Contributors. www.mono-project.com\n",
            "\tTLS:           __thread\n",
            "\tSIGSEGV:       altstack\n",
            "\tNotifications: epoll\n",
            "\tArchitecture:  amd64\n",
            "\tDisabled:      none\n",
            "\tMisc:          softdebug \n",
            "\tInterpreter:   yes\n",
            "\tLLVM:          supported, not enabled.\n",
            "\tSuspend:       hybrid\n",
            "\tGC:            sgen (concurrent by default)\n"
          ]
        }
      ]
    },
    {
      "cell_type": "markdown",
      "source": [
        "## Lista 1 – Entradas e Saídas\n",
        "### Exercício 1"
      ],
      "metadata": {
        "id": "D5Vl2E-ei0BP"
      }
    },
    {
      "cell_type": "code",
      "execution_count": null,
      "metadata": {
        "colab": {
          "base_uri": "https://localhost:8080/"
        },
        "id": "tTLrmTJgixMA",
        "outputId": "2fbead8e-ebfa-42f3-f4f0-a3cc4bb99c86"
      },
      "outputs": [
        {
          "output_type": "stream",
          "name": "stdout",
          "text": [
            "Writing lista1exercicio1.cs\n"
          ]
        }
      ],
      "source": [
        "%%writefile lista1exercicio1.cs\n",
        "\n",
        "using System;\n",
        "\n",
        "namespace Lista1Exercicio1{\n",
        "\n",
        "    class Program{\n",
        "\n",
        "        static void Main(){\n",
        "            \n",
        "            // Variáveis\n",
        "            double preco1, preco2, preco3, precomedio;\n",
        "\n",
        "            // Entrada\n",
        "            Console.Write(\"Preço no 1º Posto: R$ \");\n",
        "            preco1 = double.Parse(Console.ReadLine());\n",
        "            Console.Write(\"Preço no 2º Posto: R$ \");\n",
        "            preco2 = double.Parse(Console.ReadLine());\n",
        "            Console.Write(\"Preço no 3º Posto: R$ \");\n",
        "            preco3 = double.Parse(Console.ReadLine());\n",
        "\n",
        "            // Processamento\n",
        "            precomedio = (preco1 + preco2 + preco3)/3;\n",
        "\n",
        "            // Saída\n",
        "            Console.WriteLine(\"Preço médio: R$ {0}\", precomedio);\n",
        "\n",
        "        }\n",
        "\n",
        "    }\n",
        "\n",
        "}"
      ]
    },
    {
      "cell_type": "code",
      "source": [
        "!mcs lista1exercicio1.cs -out:lista1exercicio1.x"
      ],
      "metadata": {
        "id": "kYo2xl2Hl-iL"
      },
      "execution_count": null,
      "outputs": []
    },
    {
      "cell_type": "code",
      "source": [
        "!mono lista1exercicio1.x"
      ],
      "metadata": {
        "colab": {
          "base_uri": "https://localhost:8080/"
        },
        "id": "Hp6g9m34mKzx",
        "outputId": "6a7709b9-ae5a-415e-ed3f-2c8d4c897ece"
      },
      "execution_count": null,
      "outputs": [
        {
          "output_type": "stream",
          "name": "stdout",
          "text": [
            "Preço 1º Posto: R$ \u001b[?1h\u001b=\u001b[6n\u001b[H\u001b[2J\u001b[6n5\n",
            "Preço 2º Posto: R$ \u001b[6n6\n",
            "Preço 3º Posto: R$ \u001b[6n7\n",
            "Preço médio: R$ 6\n",
            "\u001b[?1l\u001b>\u001b[m"
          ]
        }
      ]
    },
    {
      "cell_type": "markdown",
      "source": [
        "### Exercício 2"
      ],
      "metadata": {
        "id": "EI71DG8MoC6k"
      }
    },
    {
      "cell_type": "code",
      "source": [
        "%%writefile lista1exercicio2.cs\n",
        "\n",
        "using System;\n",
        "\n",
        "namespace Lista1Exercicio2{\n",
        "\n",
        "    class Program{\n",
        "\n",
        "        static void Main(){\n",
        "\n",
        "            // Variáveis\n",
        "            string nome;\n",
        "            int idade, dias;\n",
        "            \n",
        "            // Entrada\n",
        "            Console.Write(\"Nome: \");\n",
        "            nome = Console.ReadLine();\n",
        "            Console.Write(\"Idade: \");\n",
        "            idade = int.Parse(Console.ReadLine());\n",
        "            \n",
        "            // Processamento\n",
        "            dias = idade*365+idade/4+182;\n",
        "            if(idade%4 == 0) dias++;\n",
        "            \n",
        "            // Saída\n",
        "            Console.WriteLine(\"{0}, você tem aproximadamente {1} dias de vida!\", nome, dias);\n",
        "\n",
        "        }\n",
        "\n",
        "    }\n",
        "\n",
        "}"
      ],
      "metadata": {
        "colab": {
          "base_uri": "https://localhost:8080/"
        },
        "id": "Kb-R3g_FoGnM",
        "outputId": "22af7636-f64b-4a8f-d5e9-3d2906885778"
      },
      "execution_count": null,
      "outputs": [
        {
          "output_type": "stream",
          "name": "stdout",
          "text": [
            "Writing lista1exercicio2.cs\n"
          ]
        }
      ]
    },
    {
      "cell_type": "code",
      "source": [
        "!mcs lista1exercicio2.cs -out:lista1exercicio2.x"
      ],
      "metadata": {
        "id": "cp0Ix-xXqMyk"
      },
      "execution_count": null,
      "outputs": []
    },
    {
      "cell_type": "code",
      "source": [
        "!mono lista1exercicio2.x"
      ],
      "metadata": {
        "colab": {
          "base_uri": "https://localhost:8080/"
        },
        "id": "k12HOutoqS8g",
        "outputId": "398165ae-644c-42f8-b620-ae5d739cf8ef"
      },
      "execution_count": null,
      "outputs": [
        {
          "output_type": "stream",
          "name": "stdout",
          "text": [
            "Nome: \u001b[?1h\u001b=\u001b[6n\u001b[H\u001b[2J\u001b[6nPedro\n",
            "Idade: \u001b[6n34\n",
            "Pedro, você tem aproximadamente 12600 dias de vida!\n",
            "\u001b[?1l\u001b>\u001b[m"
          ]
        }
      ]
    },
    {
      "cell_type": "markdown",
      "source": [
        "### Exercício 3"
      ],
      "metadata": {
        "id": "BoRroEGJ_OTw"
      }
    },
    {
      "cell_type": "code",
      "source": [
        "%%writefile lista1exercicio3.cs\n",
        "\n",
        "using System;\n",
        "\n",
        "namespace Lista1Exercicio3{\n",
        "\n",
        "  class Program{\n",
        "\n",
        "    static void Main(){\n",
        "\n",
        "      // Variáveis\n",
        "      double larguraparede, alturaparede, taxatinta=0.3, tintalata=2.0, parcial;\n",
        "      int latasdetinta;\n",
        "      \n",
        "      // Entrada\n",
        "      Console.Write(\"Largura (m): \");\n",
        "      larguraparede = double.Parse(Console.ReadLine());\n",
        "      Console.Write(\"Altura (m): \");\n",
        "      alturaparede = double.Parse(Console.ReadLine());\n",
        "      \n",
        "      // Processamento\n",
        "      parcial = (larguraparede*alturaparede*taxatinta)/tintalata;\n",
        "      latasdetinta = (int) Math.Ceiling(parcial);\n",
        "      \n",
        "      // Saída\n",
        "      Console.WriteLine(\"Quantidade de latas de tinta: {0}.\", latasdetinta);\n",
        "\n",
        "    }\n",
        "\n",
        "  }\n",
        "\n",
        "}"
      ],
      "metadata": {
        "colab": {
          "base_uri": "https://localhost:8080/"
        },
        "id": "SQZFS9C2rd8t",
        "outputId": "2b6cdeb9-be91-45a9-b845-795dda732778"
      },
      "execution_count": null,
      "outputs": [
        {
          "output_type": "stream",
          "name": "stdout",
          "text": [
            "Writing lista1exercicio3.cs\n"
          ]
        }
      ]
    },
    {
      "cell_type": "code",
      "source": [
        "!mcs lista1exercicio3.cs -out:lista1exercicio3.x"
      ],
      "metadata": {
        "id": "zmSsFzzXvKC-"
      },
      "execution_count": null,
      "outputs": []
    },
    {
      "cell_type": "code",
      "source": [
        "!mono lista1exercicio3.x"
      ],
      "metadata": {
        "colab": {
          "base_uri": "https://localhost:8080/"
        },
        "id": "O2Hob_NDvSJD",
        "outputId": "751b9daa-76be-4c95-ec39-272c23a3d1bb"
      },
      "execution_count": null,
      "outputs": [
        {
          "output_type": "stream",
          "name": "stdout",
          "text": [
            "Largura (m): \u001b[?1h\u001b=\u001b[6n\u001b[H\u001b[2J\u001b[6n13.4\n",
            "Altura (m): \u001b[6n12.8\n",
            "Quantidade de latas de tinta: 26\n",
            "\u001b[?1l\u001b>\u001b[m"
          ]
        }
      ]
    },
    {
      "cell_type": "markdown",
      "source": [
        "### Exercício 4"
      ],
      "metadata": {
        "id": "I4YP-5nd_Q9n"
      }
    },
    {
      "cell_type": "code",
      "source": [
        "%%writefile lista1exercicio4.cs\n",
        "\n",
        "using System;\n",
        "\n",
        "namespace Lista1Exercicio4{\n",
        "\n",
        "  class Program{\n",
        "\n",
        "    static void Main(){\n",
        "\n",
        "      // Variáveis\n",
        "      int cronometrohoras, cronometrominutos, cronometrosegundos, tempototal;\n",
        "\n",
        "      // Entrada\n",
        "      Console.WriteLine(\"Informe o tempo do cronômetro.\");\n",
        "      Console.Write(\"Horas:\");\n",
        "      cronometrohoras = int.Parse(Console.ReadLine());\n",
        "      Console.Write(\"Minutos:\");\n",
        "      cronometrominutos = int.Parse(Console.ReadLine());\n",
        "      Console.Write(\"Segundos:\");\n",
        "      cronometrosegundos = int.Parse(Console.ReadLine());\n",
        "\n",
        "      // Processamento\n",
        "      tempototal = cronometrosegundos + 60*(cronometrominutos + 60*cronometrohoras);\n",
        "\n",
        "      // Saída\n",
        "      Console.WriteLine(\"Tempo total em segundos: {0}s.\", tempototal);\n",
        "\n",
        "    }\n",
        "\n",
        "  }\n",
        "\n",
        "}"
      ],
      "metadata": {
        "colab": {
          "base_uri": "https://localhost:8080/"
        },
        "id": "RqoJ93P__XFu",
        "outputId": "d105ded9-5ec8-4716-f96f-4e912a2cc00b"
      },
      "execution_count": null,
      "outputs": [
        {
          "output_type": "stream",
          "name": "stdout",
          "text": [
            "Writing lista1exercicio4.cs\n"
          ]
        }
      ]
    },
    {
      "cell_type": "code",
      "source": [
        "!mcs lista1exercicio4.cs -out:lista1exercicio4.x"
      ],
      "metadata": {
        "id": "eBhth2NS1mAy"
      },
      "execution_count": null,
      "outputs": []
    },
    {
      "cell_type": "code",
      "source": [
        "!mono lista1exercicio4.x"
      ],
      "metadata": {
        "id": "ltXfD24b1reI"
      },
      "execution_count": null,
      "outputs": []
    },
    {
      "cell_type": "markdown",
      "source": [
        "### Exercício 5\n",
        "Assume-se que a sala é um paralelepípedo de base quadrada, ou seja, o comprimento e a largura do chão têm a mesma medida."
      ],
      "metadata": {
        "id": "Ws2FKjDk_Sl3"
      }
    },
    {
      "cell_type": "code",
      "source": [
        "%%writefile lista1exercicio5.cs\n",
        "\n",
        "using System;\n",
        "\n",
        "namespace Lista1Exercicio5{\n",
        "\n",
        "  class Program{\n",
        "\n",
        "    static void Main(){\n",
        "\n",
        "      // Variáveis\n",
        "      double larguratijolo, alturatijolo, largurasala, alturasala, larguraporta, alturaporta, largurajanela, alturajanela, areatotal;\n",
        "      int qtetijolos;\n",
        "\n",
        "      // Entrada\n",
        "      Console.Write(\"Largura do tijolo: \");\n",
        "      larguratijolo = double.Parse(Console.ReadLine());\n",
        "      Console.Write(\"Altura do tijolo: \");\n",
        "      alturatijolo = double.Parse(Console.ReadLine());\n",
        "      Console.Write(\"Largura da parede: \");\n",
        "      largurasala = double.Parse(Console.ReadLine());\n",
        "      Console.Write(\"Altura da parede: \");\n",
        "      alturasala = double.Parse(Console.ReadLine());\n",
        "      Console.Write(\"Largura da porta: \");\n",
        "      larguraporta = double.Parse(Console.ReadLine());\n",
        "      Console.Write(\"Altura da porta: \");\n",
        "      alturaporta = double.Parse(Console.ReadLine());\n",
        "      Console.Write(\"Largura da janela: \");\n",
        "      largurajanela = double.Parse(Console.ReadLine());\n",
        "      Console.Write(\"Altura da janela: \");\n",
        "      alturajanela = double.Parse(Console.ReadLine());\n",
        "\n",
        "      // Processamento\n",
        "      areatotal = 4*largurasala*alturasala-(larguraporta*alturaporta+largurajanela*alturajanela);\n",
        "      qtetijolos = (int) Math.Ceiling(areatotal/(larguratijolo*alturatijolo));\n",
        "\n",
        "      // Saída\n",
        "      Console.WriteLine(\"Serão precisos {0} tijolos.\", qtetijolos);\n",
        "\n",
        "    }\n",
        "\n",
        "  }\n",
        "  \n",
        "}"
      ],
      "metadata": {
        "colab": {
          "base_uri": "https://localhost:8080/"
        },
        "id": "Kg3S5DBpwhta",
        "outputId": "dc6a6f54-bd96-46fc-dd03-7af2ff2bda4f"
      },
      "execution_count": null,
      "outputs": [
        {
          "output_type": "stream",
          "name": "stdout",
          "text": [
            "Writing lista1exercicio5.cs\n"
          ]
        }
      ]
    },
    {
      "cell_type": "code",
      "source": [
        "!mcs lista1exercicio5.cs -out:lista1exercicio5.x"
      ],
      "metadata": {
        "id": "Pw2n4FN20gzU"
      },
      "execution_count": null,
      "outputs": []
    },
    {
      "cell_type": "code",
      "source": [
        "!mono lista1exercicio5.x"
      ],
      "metadata": {
        "colab": {
          "base_uri": "https://localhost:8080/"
        },
        "id": "iCxHZU8f0mwT",
        "outputId": "149fc652-3523-4a47-b63a-a9a32d0cedbf"
      },
      "execution_count": null,
      "outputs": [
        {
          "output_type": "stream",
          "name": "stdout",
          "text": [
            "Largura do tijolo: \u001b[?1h\u001b=\u001b[6n\u001b[H\u001b[2J\u001b[6n3\n",
            "Altura do tijolo: \u001b[6n2\n",
            "Largura da parede: \u001b[6n30\n",
            "Altura da parede: \u001b[6n20\n",
            "Largura da porta: \u001b[6n5\n",
            "Altura da porta: \u001b[6n8\n",
            "Largura da janela: \u001b[6n6\n",
            "Altura da janela: \u001b[6n6\n",
            "Serão precisos 388 tijolos.\n",
            "\u001b[?1l\u001b>\u001b[m"
          ]
        }
      ]
    },
    {
      "cell_type": "markdown",
      "source": [
        "### Exercício 6\n",
        "Assume-se que os valores de dia, mês e ano da segunda data serão maiores que os da primeira data. Sem esse pressuposto, seria necessário fazer o adequado tratamento dos dados."
      ],
      "metadata": {
        "id": "mhxuoXHl_Uag"
      }
    },
    {
      "cell_type": "code",
      "source": [
        "%%writefile lista1exercicio6.cs\n",
        "\n",
        "using System;\n",
        "\n",
        "namespace Lista1Exercicio6{\n",
        "\n",
        "  class Program{\n",
        "\n",
        "    static void Main(){\n",
        "\n",
        "      // Variáveis (data2_ >= data1_)\n",
        "      int data1dia,data1mes,data1ano,data2dia,data2mes,data2ano;\n",
        "      int difdias, difmeses, difanos;\n",
        "\n",
        "      // Entrada\n",
        "      Console.Write(\"Informe dia da primeira data:\");\n",
        "      data1dia = int.Parse(Console.ReadLine());\n",
        "      Console.Write(\"Informe mês da primeira data:\");\n",
        "      data1mes = int.Parse(Console.ReadLine());\n",
        "      Console.Write(\"Informe ano da primeira data:\");\n",
        "      data1ano = int.Parse(Console.ReadLine());\n",
        "      Console.Write(\"Informe dia da segunda data:\");\n",
        "      data2dia = int.Parse(Console.ReadLine());\n",
        "      Console.Write(\"Informe mês da segunda data:\");\n",
        "      data2mes = int.Parse(Console.ReadLine());\n",
        "      Console.Write(\"Informe ano da segunda data:\");\n",
        "      data2ano = int.Parse(Console.ReadLine());\n",
        "\n",
        "      // Processamento\n",
        "      difdias = data2dia - data1dia;\n",
        "      difmeses = data2mes - data1mes;\n",
        "      difanos = data2ano - data1ano;\n",
        "      \n",
        "      // Saída\n",
        "      Console.WriteLine(\"Diferença de dias: {0}\", difdias);\n",
        "      Console.WriteLine(\"Diferença de meses: {0}\", difmeses);\n",
        "      Console.WriteLine(\"Diferença de anos: {0}\", difanos);\n",
        "\n",
        "    }\n",
        "\n",
        "  }\n",
        "\n",
        "}"
      ],
      "metadata": {
        "colab": {
          "base_uri": "https://localhost:8080/"
        },
        "id": "hMRXbs1K_z5i",
        "outputId": "61692365-d04e-4b9b-dabd-7966bf8fbd65"
      },
      "execution_count": null,
      "outputs": [
        {
          "output_type": "stream",
          "name": "stdout",
          "text": [
            "Writing lista1exercicio6.cs\n"
          ]
        }
      ]
    },
    {
      "cell_type": "code",
      "source": [
        "!mcs lista1exercicio6.cs -out:lista1exercicio6.x"
      ],
      "metadata": {
        "id": "aV3WtarX12vz"
      },
      "execution_count": null,
      "outputs": []
    },
    {
      "cell_type": "code",
      "source": [
        "!mono lista1exercicio6.x"
      ],
      "metadata": {
        "id": "OhbPSJzT17qh"
      },
      "execution_count": null,
      "outputs": []
    },
    {
      "cell_type": "markdown",
      "source": [
        "## Lista 2 – Estruturas Condicionais"
      ],
      "metadata": {
        "id": "otg9bvDX24nE"
      }
    },
    {
      "cell_type": "markdown",
      "source": [
        "### Exercício 1"
      ],
      "metadata": {
        "id": "qmlKdm-Y56w3"
      }
    },
    {
      "cell_type": "code",
      "source": [
        "%%writefile lista2exercicio1.cs\n",
        "\n",
        "using System;\n",
        "\n",
        "namespace Lista2Exercicio1{\n",
        "\n",
        "    class Program{\n",
        "\n",
        "        static void Main(){\n",
        "\n",
        "            // Variáveis\n",
        "            int numero, partemaior, partemenor, soma;\n",
        "\n",
        "            // Entrada\n",
        "            Console.WriteLine(\"Informe um número de 4 dígitos.\");\n",
        "            numero = int.Parse(Console.ReadLine());\n",
        "\n",
        "            // Processamento\n",
        "            partemaior = numero / 100;\n",
        "            partemenor = numero % 100;\n",
        "            soma = partemaior + partemenor;\n",
        "\n",
        "            // Saída\n",
        "            if (soma*soma == numero) {\n",
        "              Console.WriteLine(\"O número informado segue a propriedade!\");\n",
        "            } else {\n",
        "              Console.WriteLine(\"O número informado não segue a propriedade.\");\n",
        "            }\n",
        "            \n",
        "        }\n",
        "\n",
        "    }\n",
        "\n",
        "}"
      ],
      "metadata": {
        "colab": {
          "base_uri": "https://localhost:8080/"
        },
        "id": "OsLmWVBM59fu",
        "outputId": "e77bf0fb-4b29-4189-8b84-6d66c77d93f9"
      },
      "execution_count": null,
      "outputs": [
        {
          "output_type": "stream",
          "name": "stdout",
          "text": [
            "Overwriting lista2exercicio1.cs\n"
          ]
        }
      ]
    },
    {
      "cell_type": "code",
      "source": [
        "!mcs lista2exercicio1.cs -out:lista2exercicio1.x"
      ],
      "metadata": {
        "id": "6tmlKn1E7sUC"
      },
      "execution_count": null,
      "outputs": []
    },
    {
      "cell_type": "code",
      "source": [
        "!mono lista2exercicio1.x"
      ],
      "metadata": {
        "colab": {
          "base_uri": "https://localhost:8080/"
        },
        "id": "GUYQ1TFM7yYM",
        "outputId": "ce78499e-2b5e-4fb8-b9d3-261a89f76707"
      },
      "execution_count": null,
      "outputs": [
        {
          "output_type": "stream",
          "name": "stdout",
          "text": [
            "Informe um número de 4 dígitos.\n",
            "\u001b[?1h\u001b=\u001b[6n\u001b[H\u001b[2J\u001b[6n6789\n",
            "O número informado não segue a propriedade.\n",
            "\u001b[?1l\u001b>\u001b[m"
          ]
        }
      ]
    },
    {
      "cell_type": "markdown",
      "source": [
        "### Exercício 2"
      ],
      "metadata": {
        "id": "vjUCXYt-8Ios"
      }
    },
    {
      "cell_type": "code",
      "source": [
        "%%writefile lista2exercicio2.cs\n",
        "\n",
        "using System;\n",
        "\n",
        "namespace Lista2Exercicio2{\n",
        "\n",
        "    class Program{\n",
        "\n",
        "        static void Main(){\n",
        "\n",
        "            // Variáveis\n",
        "            int numero1, numero2;\n",
        "\n",
        "            // Entrada\n",
        "            Console.WriteLine(\"Informe dois números:\");\n",
        "            numero1 = int.Parse(Console.ReadLine());\n",
        "            numero2 = int.Parse(Console.ReadLine());\n",
        "\n",
        "            // Processamento\n",
        "            \n",
        "            // Saída\n",
        "            Console.WriteLine(\"Em ordem ascendente:\");\n",
        "            if (numero1 < numero2 ) {\n",
        "              Console.WriteLine(\"{0}, {1}\", numero1, numero2);\n",
        "            } else {\n",
        "              Console.WriteLine(\"{0}, {1}\", numero2, numero1);\n",
        "            }\n",
        "        \n",
        "        }\n",
        "\n",
        "    }\n",
        "\n",
        "}"
      ],
      "metadata": {
        "colab": {
          "base_uri": "https://localhost:8080/"
        },
        "id": "rSfxR5UM8LPl",
        "outputId": "4df2132f-f720-4522-f6b5-b95a74569864"
      },
      "execution_count": null,
      "outputs": [
        {
          "output_type": "stream",
          "name": "stdout",
          "text": [
            "Overwriting lista2exercicio2.cs\n"
          ]
        }
      ]
    },
    {
      "cell_type": "code",
      "source": [
        "!mcs lista2exercicio2.cs -out:lista2exercicio2.x"
      ],
      "metadata": {
        "id": "rcuyZpyN9AsF"
      },
      "execution_count": null,
      "outputs": []
    },
    {
      "cell_type": "code",
      "source": [
        "!mono lista2exercicio2.x"
      ],
      "metadata": {
        "colab": {
          "base_uri": "https://localhost:8080/"
        },
        "id": "nUFhlTz69H9z",
        "outputId": "b591822a-22b7-4bde-fdbd-06f952f7aaf9"
      },
      "execution_count": null,
      "outputs": [
        {
          "output_type": "stream",
          "name": "stdout",
          "text": [
            "Informe dois números:\n",
            "\u001b[?1h\u001b=\u001b[6n\u001b[H\u001b[2J\u001b[6n18\n",
            "\u001b[6n2\n",
            "Em ordem ascendente:\n",
            "2, 18\n",
            "\u001b[?1l\u001b>\u001b[m"
          ]
        }
      ]
    },
    {
      "cell_type": "markdown",
      "source": [
        "### Exercício 3"
      ],
      "metadata": {
        "id": "hnbCuOia9SAS"
      }
    },
    {
      "cell_type": "code",
      "source": [
        "%%writefile lista2exercicio3.cs\n",
        "\n",
        "using System;\n",
        "\n",
        "namespace Lista2Exercicio3{\n",
        "\n",
        "    class Program{\n",
        "\n",
        "        static void Main(){\n",
        "\n",
        "            // Variáveis\n",
        "            int numero;\n",
        "\n",
        "            // Entrada\n",
        "            Console.Write(\"Digite um número inteiro: \");\n",
        "            numero = int.Parse(Console.ReadLine());\n",
        "\n",
        "            // Processamento\n",
        "            \n",
        "            // Saída\n",
        "            if (numero%2 == 0) {\n",
        "              Console.WriteLine(\"{0} é par.\", numero);\n",
        "            } else {\n",
        "              Console.WriteLine(\"{0} é ímpar.\", numero);\n",
        "            }\n",
        "        \n",
        "        }\n",
        "\n",
        "    }\n",
        "\n",
        "}"
      ],
      "metadata": {
        "colab": {
          "base_uri": "https://localhost:8080/"
        },
        "id": "XALiaQcC9TvE",
        "outputId": "47251122-f69f-4e09-f372-901591b87190"
      },
      "execution_count": null,
      "outputs": [
        {
          "output_type": "stream",
          "name": "stdout",
          "text": [
            "Overwriting lista2exercicio3.cs\n"
          ]
        }
      ]
    },
    {
      "cell_type": "code",
      "source": [
        "!mcs lista2exercicio3.cs -out:lista2exercicio3.x"
      ],
      "metadata": {
        "id": "oBmMYF6c97I0"
      },
      "execution_count": null,
      "outputs": []
    },
    {
      "cell_type": "code",
      "source": [
        "!mono lista2exercicio3.x"
      ],
      "metadata": {
        "colab": {
          "base_uri": "https://localhost:8080/"
        },
        "id": "hYis_ptp-InU",
        "outputId": "2c350140-05ff-473f-952a-8da51e5d4014"
      },
      "execution_count": null,
      "outputs": [
        {
          "output_type": "stream",
          "name": "stdout",
          "text": [
            "Digite um número inteiro: \u001b[?1h\u001b=\u001b[6n\u001b[H\u001b[2J\u001b[6n-328\n",
            "-328 é par.\n",
            "\u001b[?1l\u001b>\u001b[m"
          ]
        }
      ]
    },
    {
      "cell_type": "markdown",
      "source": [
        "### Exercício 4"
      ],
      "metadata": {
        "id": "BbYbzihk-V10"
      }
    },
    {
      "cell_type": "code",
      "source": [
        "%%writefile lista2exercicio4.cs\n",
        "\n",
        "using System;\n",
        "\n",
        "namespace Lista2Exercicio4{\n",
        "\n",
        "    class Program{\n",
        "\n",
        "        static void Main(){\n",
        "\n",
        "            // Variáveis\n",
        "            int numero1, numero2, numero3, maiornumero;\n",
        "\n",
        "            // Entrada\n",
        "            Console.WriteLine(\"Informe três numeros inteiros.\");\n",
        "            numero1 = int.Parse(Console.ReadLine());\n",
        "            numero2 = int.Parse(Console.ReadLine());\n",
        "            numero3 = int.Parse(Console.ReadLine());\n",
        "\n",
        "            // Processamento\n",
        "            maiornumero = numero1;\n",
        "            if (numero2 > maiornumero) {\n",
        "              maiornumero = numero2;\n",
        "            }\n",
        "            if (numero3 > maiornumero) {\n",
        "              maiornumero = numero3;\n",
        "            }\n",
        "\n",
        "            // Saída\n",
        "            Console.WriteLine(\"O maior dentre os três números é {0}.\", maiornumero);\n",
        "\n",
        "        }\n",
        "\n",
        "    }\n",
        "\n",
        "}"
      ],
      "metadata": {
        "colab": {
          "base_uri": "https://localhost:8080/"
        },
        "id": "PuVr0BE--X1M",
        "outputId": "7bcde4b0-e497-40bd-929a-38d1d0bdbad4"
      },
      "execution_count": null,
      "outputs": [
        {
          "output_type": "stream",
          "name": "stdout",
          "text": [
            "Writing lista2exercicio4.cs\n"
          ]
        }
      ]
    },
    {
      "cell_type": "code",
      "source": [
        "!mcs lista2exercicio4.cs -out:lista2exercicio4.x"
      ],
      "metadata": {
        "id": "XFPGmdI9_jsU"
      },
      "execution_count": null,
      "outputs": []
    },
    {
      "cell_type": "code",
      "source": [
        "!mono lista2exercicio4.x"
      ],
      "metadata": {
        "colab": {
          "base_uri": "https://localhost:8080/"
        },
        "id": "v1s4YBjj_sWO",
        "outputId": "b84d906a-2798-4180-a358-245d7ce690e3"
      },
      "execution_count": null,
      "outputs": [
        {
          "output_type": "stream",
          "name": "stdout",
          "text": [
            "Informe três numeros inteiros.\n",
            "\u001b[?1h\u001b=\u001b[6n\u001b[H\u001b[2J\u001b[6n45\n",
            "\u001b[6n-702\n",
            "\u001b[6n1093\n",
            "O maior dentre os três números é 1093.\n",
            "\u001b[?1l\u001b>\u001b[m"
          ]
        }
      ]
    },
    {
      "cell_type": "markdown",
      "source": [
        "### Exercício 5"
      ],
      "metadata": {
        "id": "qufV7qpc_2Kc"
      }
    },
    {
      "cell_type": "code",
      "source": [
        "%%writefile lista2exercicio5.cs\n",
        "\n",
        "using System;\n",
        "\n",
        "namespace Lista2Exercicio5{\n",
        "\n",
        "    class Program{\n",
        "\n",
        "        static void Main(){\n",
        "\n",
        "            // Variáveis\n",
        "            double valorreais, valorconvertido;\n",
        "            double cambiodolar=4.00, cambiolibra=6.15, cambioeuro=4.72;\n",
        "            int tipomoeda;\n",
        "\n",
        "            // Entrada\n",
        "            Console.WriteLine(\"Informe um valor em reais\\ne qual opção de moeda para conversão.\\n1: Dólar\\n2: Libra\\n3: Euro\");\n",
        "            Console.Write(\"R$ \");\n",
        "            valorreais = double.Parse(Console.ReadLine());\n",
        "            Console.Write(\"Tipo: \");\n",
        "            tipomoeda = int.Parse(Console.ReadLine());\n",
        "\n",
        "            // Processamento e Saída\n",
        "            switch (tipomoeda) {\n",
        "              case 1:\n",
        "                valorconvertido = valorreais / cambiodolar;\n",
        "                Console.WriteLine(\"Convertido para US$ {0}.\", Math.Round(valorconvertido,2));\n",
        "                break;\n",
        "              case 2:\n",
        "                valorconvertido = valorreais / cambiolibra;\n",
        "                Console.WriteLine(\"Convertido para £ {0}.\", Math.Round(valorconvertido,2));\n",
        "                break;\n",
        "              case 3:\n",
        "                valorconvertido = valorreais / cambioeuro;\n",
        "                Console.WriteLine(\"Convertido para € {0}.\", Math.Round(valorconvertido,2));\n",
        "                break;\n",
        "              default:\n",
        "                Console.WriteLine(\"Erro: código de tipo de moeda inválido.\");\n",
        "                break; // Em C#, é preciso usar break mesmo no default case.\n",
        "            }\n",
        "            \n",
        "        }\n",
        "\n",
        "    }\n",
        "\n",
        "}"
      ],
      "metadata": {
        "colab": {
          "base_uri": "https://localhost:8080/"
        },
        "id": "tKUwQ4RI_3-0",
        "outputId": "bf1d3033-1fe8-4e58-da30-f5a7e2b103bd"
      },
      "execution_count": null,
      "outputs": [
        {
          "output_type": "stream",
          "name": "stdout",
          "text": [
            "Overwriting lista2exercicio5.cs\n"
          ]
        }
      ]
    },
    {
      "cell_type": "code",
      "source": [
        "!mcs lista2exercicio5.cs -out:lista2exercicio5.x"
      ],
      "metadata": {
        "id": "qa0uMKZWEC3-"
      },
      "execution_count": null,
      "outputs": []
    },
    {
      "cell_type": "code",
      "source": [
        "!mono lista2exercicio5.x"
      ],
      "metadata": {
        "colab": {
          "base_uri": "https://localhost:8080/"
        },
        "id": "YetcKiQXESMo",
        "outputId": "4e6c03ef-1ab9-4b8e-f40a-99275e761ab8"
      },
      "execution_count": null,
      "outputs": [
        {
          "output_type": "stream",
          "name": "stdout",
          "text": [
            "Informe um valor em reais\n",
            "e qual opção de moeda para conversão.\n",
            "1: Dólar\n",
            "2: Libra\n",
            "3: Euro\n",
            "R$ \u001b[?1h\u001b=\u001b[6n\u001b[H\u001b[2J\u001b[6n2525.25\n",
            "Tipo: \u001b[6n2\n",
            "Convertido para £ 410.61.\n",
            "\u001b[?1l\u001b>\u001b[m"
          ]
        }
      ]
    },
    {
      "cell_type": "markdown",
      "source": [
        "### Exercício 6"
      ],
      "metadata": {
        "id": "Zk8BJ0nLI69B"
      }
    },
    {
      "cell_type": "code",
      "source": [
        "%%writefile lista2exercicio6.cs\n",
        "\n",
        "using System;\n",
        "\n",
        "namespace Lista2Exercicio6{\n",
        "\n",
        "    class Program{\n",
        "\n",
        "        static void Main(){\n",
        "\n",
        "            // Variáveis\n",
        "            int idade;\n",
        "\n",
        "            // Entrada\n",
        "            Console.Write(\"Informe a idade do(a) nadador(a): \");\n",
        "            idade = int.Parse(Console.ReadLine());\n",
        "\n",
        "            // Processamento\n",
        "            \n",
        "            // Saída\n",
        "            if (idade >= 18) {\n",
        "              Console.WriteLine(\"Categoria sênior.\");\n",
        "            } else if (idade >= 14) {\n",
        "              Console.WriteLine(\"Categoria juvenil B.\");\n",
        "            } else if (idade >= 11) {\n",
        "              Console.WriteLine(\"Categoria juvenil A.\");\n",
        "            } else if (idade >= 8) {\n",
        "              Console.WriteLine(\"Categoria infantil B.\");\n",
        "            } else {\n",
        "              Console.WriteLine(\"Nenhuma das categorias atendidads.\");\n",
        "            }\n",
        "\n",
        "        }\n",
        "\n",
        "    }\n",
        "\n",
        "}"
      ],
      "metadata": {
        "colab": {
          "base_uri": "https://localhost:8080/"
        },
        "id": "LSZ0TtNrI8pF",
        "outputId": "a754ff95-32e8-4dee-cf6d-29d0e47bc0b8"
      },
      "execution_count": null,
      "outputs": [
        {
          "output_type": "stream",
          "name": "stdout",
          "text": [
            "Writing lista2exercicio6.cs\n"
          ]
        }
      ]
    },
    {
      "cell_type": "code",
      "source": [
        "!mcs lista2exercicio6.cs -out:lista2exercicio6.x"
      ],
      "metadata": {
        "id": "tkVkKBTPKbEa"
      },
      "execution_count": null,
      "outputs": []
    },
    {
      "cell_type": "code",
      "source": [
        "!mono lista2exercicio6.x"
      ],
      "metadata": {
        "colab": {
          "base_uri": "https://localhost:8080/"
        },
        "id": "MXOfsNrQKfvn",
        "outputId": "3b9e7147-797a-4071-9a57-b4c5e4b86a31"
      },
      "execution_count": null,
      "outputs": [
        {
          "output_type": "stream",
          "name": "stdout",
          "text": [
            "Informe a idade do(a) nadador(a): \u001b[?1h\u001b=\u001b[6n\u001b[H\u001b[2J\u001b[6n34\n",
            "Categoria sênior.\n",
            "\u001b[?1l\u001b>\u001b[m"
          ]
        }
      ]
    },
    {
      "cell_type": "markdown",
      "source": [
        "### Exercício 7"
      ],
      "metadata": {
        "id": "wjxFpl-KK6Vq"
      }
    },
    {
      "cell_type": "code",
      "source": [
        "%%writefile lista2exercicio7.cs\n",
        "\n",
        "using System;\n",
        "\n",
        "namespace Lista2Exercicio7{\n",
        "\n",
        "    class Program{\n",
        "\n",
        "        static void Main(){\n",
        "\n",
        "            // Variáveis\n",
        "            int Opcao, Num1, Num2, Num3;\n",
        "\n",
        "            // Entrada\n",
        "            Console.WriteLine(\"Informe Opção, Número 1, Número 2, Número 3.\");\n",
        "            Opcao = int.Parse(Console.ReadLine());\n",
        "            Num1 = int.Parse(Console.ReadLine());\n",
        "            Num2 = int.Parse(Console.ReadLine());\n",
        "            Num3 = int.Parse(Console.ReadLine());\n",
        "\n",
        "            // Processamento\n",
        "            \n",
        "            // Saída\n",
        "            switch (Opcao) {\n",
        "              case 1:\n",
        "                Console.WriteLine(\"Número 1: {0}.\", Num1);\n",
        "                break;\n",
        "              case 2:\n",
        "                Console.WriteLine(\"Número 2: {0}.\", Num2);\n",
        "                break;\n",
        "              case 3:\n",
        "                Console.WriteLine(\"Número 3: {0}.\", Num3);\n",
        "                break;\n",
        "              default:\n",
        "                Console.WriteLine(\"Opção inválida!\");\n",
        "                break;                \n",
        "            }\n",
        "\n",
        "        }\n",
        "\n",
        "    }\n",
        "\n",
        "}"
      ],
      "metadata": {
        "colab": {
          "base_uri": "https://localhost:8080/"
        },
        "id": "C-fSzgeAK8ri",
        "outputId": "90e8b1a1-ef45-4b40-bcd8-651faee0571d"
      },
      "execution_count": null,
      "outputs": [
        {
          "output_type": "stream",
          "name": "stdout",
          "text": [
            "Writing lista2exercicio7.cs\n"
          ]
        }
      ]
    },
    {
      "cell_type": "code",
      "source": [
        "!mcs lista2exercicio7.cs -out:lista2exercicio7.x"
      ],
      "metadata": {
        "id": "8VoypSz6M9aG"
      },
      "execution_count": null,
      "outputs": []
    },
    {
      "cell_type": "code",
      "source": [
        "!mono lista2exercicio7.x"
      ],
      "metadata": {
        "colab": {
          "base_uri": "https://localhost:8080/"
        },
        "id": "TNc3ZTUMNCWK",
        "outputId": "47a17764-db83-404b-bfae-942990498c22"
      },
      "execution_count": null,
      "outputs": [
        {
          "output_type": "stream",
          "name": "stdout",
          "text": [
            "Informe Opção, Número 1, Número 2, Número 3.\n",
            "\u001b[?1h\u001b=\u001b[6n\u001b[H\u001b[2J\u001b[6n4\n",
            "\u001b[6n7\n",
            "\u001b[6n\n",
            "\u001b[6n\n",
            "Opção inválida!\n",
            "\u001b[?1l\u001b>\u001b[m"
          ]
        }
      ]
    },
    {
      "cell_type": "markdown",
      "source": [
        "### Exercício 8"
      ],
      "metadata": {
        "id": "bJU0gmtyNPkF"
      }
    },
    {
      "cell_type": "code",
      "source": [
        "%%writefile lista2exercicio8.cs\n",
        "\n",
        "using System;\n",
        "\n",
        "namespace Lista2Exercicio8{\n",
        "\n",
        "    class Program{\n",
        "\n",
        "        static void Main(){\n",
        "\n",
        "            // Variáveis\n",
        "            int notas1, notas5, notas10, notas50, notas100, total;\n",
        "\n",
        "            // Entrada\n",
        "            Console.WriteLine(\"Informe quantas notas de cada tipo você tem.\");\n",
        "            Console.Write(\"De R$ 1: \");\n",
        "            notas1 = int.Parse(Console.ReadLine());\n",
        "            Console.Write(\"De R$ 5: \");\n",
        "            notas5 = int.Parse(Console.ReadLine());\n",
        "            Console.Write(\"De R$ 10: \");\n",
        "            notas10 = int.Parse(Console.ReadLine());\n",
        "            Console.Write(\"De R$ 50: \");\n",
        "            notas50 = int.Parse(Console.ReadLine());\n",
        "            Console.Write(\"De R$ 100: \");\n",
        "            notas100 = int.Parse(Console.ReadLine());\n",
        "            \n",
        "            // Processamento\n",
        "            total = notas1 + 5*notas5 + 10*notas10 + 50*notas50 + 100*notas100;\n",
        "\n",
        "            // Saída\n",
        "            Console.WriteLine(\"Dinheiro total: R$ {0},00.\", total);\n",
        "\n",
        "        }\n",
        "\n",
        "    }\n",
        "\n",
        "}"
      ],
      "metadata": {
        "colab": {
          "base_uri": "https://localhost:8080/"
        },
        "id": "x9nqkCniNRWy",
        "outputId": "a177a3e2-9ff0-4c8f-a2b8-77cb86ae3f91"
      },
      "execution_count": null,
      "outputs": [
        {
          "output_type": "stream",
          "name": "stdout",
          "text": [
            "Writing lista2exercicio8.cs\n"
          ]
        }
      ]
    },
    {
      "cell_type": "code",
      "source": [
        "!mcs lista2exercicio8.cs -out:lista2exercicio8.x"
      ],
      "metadata": {
        "id": "dJPTbm7YOgTq"
      },
      "execution_count": null,
      "outputs": []
    },
    {
      "cell_type": "code",
      "source": [
        "!mono lista2exercicio8.x"
      ],
      "metadata": {
        "colab": {
          "base_uri": "https://localhost:8080/"
        },
        "id": "iXqEACNrOmeh",
        "outputId": "a34f600d-19c1-48e4-e7a2-5ccc9609607c"
      },
      "execution_count": null,
      "outputs": [
        {
          "output_type": "stream",
          "name": "stdout",
          "text": [
            "Informe quantas notas de cada tipo você tem.\n",
            "De R$ 1: \u001b[?1h\u001b=\u001b[6n\u001b[H\u001b[2J\u001b[6n26\n",
            "De R$ 5: \u001b[6n30\n",
            "De R$ 10: \u001b[6n44\n",
            "De R$ 50: \u001b[6n18\n",
            "De R$ 100: \u001b[6n9\n",
            "Dinheiro total: R$ 2416,00.\n",
            "\u001b[?1l\u001b>\u001b[m"
          ]
        }
      ]
    },
    {
      "cell_type": "markdown",
      "source": [
        "### Exercício 9"
      ],
      "metadata": {
        "id": "TpCfzyeKO6vp"
      }
    },
    {
      "cell_type": "code",
      "source": [
        "%%writefile lista2exercicio9.cs\n",
        "\n",
        "using System;\n",
        "\n",
        "namespace Lista2Exercicio9{\n",
        "\n",
        "    class Program{\n",
        "\n",
        "        static void Main(){\n",
        "\n",
        "            // Variáveis\n",
        "            int montante, sobrou, notas100, notas50, notas10, notas5, notas1;\n",
        "\n",
        "            // Entrada\n",
        "            Console.WriteLine(\"Informe o montante total.\");\n",
        "            Console.Write(\"R$ \");\n",
        "            montante = int.Parse(Console.ReadLine());\n",
        "            \n",
        "            // Processamento\n",
        "            sobrou = montante;\n",
        "            notas100 = sobrou / 100;\n",
        "            sobrou = sobrou % 100;\n",
        "            notas50 = sobrou / 50;\n",
        "            sobrou = sobrou % 50;\n",
        "            notas10 = sobrou / 10;\n",
        "            sobrou = sobrou % 10;\n",
        "            notas5 = sobrou / 5;\n",
        "            notas1 = sobrou % 5;\n",
        "\n",
        "            // Saída\n",
        "            // Console.WriteLine(\"Você vai precisar de:\\n{0} notas de R$ 100,00;\\n{1} notas de R$ 50,00;\\n{2} notas de R$ 10,00;\\n{3} notas de R$ 5,00;\\ne {4} notas de R$ 1,00.\", notas100, notas50, notas10, notas5, notas1);\n",
        "            Console.WriteLine(\"Você vai precisar de:\");\n",
        "            if (notas100>0) {\n",
        "              Console.WriteLine(\"{0} notas de R$ 100,00\", notas100);\n",
        "            }\n",
        "            if (notas50>0) {\n",
        "              Console.WriteLine(\"{0} notas de R$ 50,00\", notas50);\n",
        "            }\n",
        "            if (notas10>0) {\n",
        "              Console.WriteLine(\"{0} notas de R$ 10,00\", notas10);\n",
        "            }\n",
        "            if (notas5>0) {\n",
        "              Console.WriteLine(\"{0} notas de R$ 5,00\", notas5);\n",
        "            }\n",
        "            if (notas1>0) {\n",
        "              Console.WriteLine(\"{0} notas de R$ 1,00\", notas1);\n",
        "            }\n",
        "\n",
        "        }\n",
        "\n",
        "    }\n",
        "\n",
        "}"
      ],
      "metadata": {
        "colab": {
          "base_uri": "https://localhost:8080/"
        },
        "id": "lOTt63oeO8-5",
        "outputId": "53cc4e40-33cb-4b29-d024-2ffd4713974b"
      },
      "execution_count": null,
      "outputs": [
        {
          "output_type": "stream",
          "name": "stdout",
          "text": [
            "Overwriting lista2exercicio9.cs\n"
          ]
        }
      ]
    },
    {
      "cell_type": "code",
      "source": [
        "!mcs lista2exercicio9.cs -out:lista2exercicio9.x"
      ],
      "metadata": {
        "id": "XRfO3nTWRVF0"
      },
      "execution_count": null,
      "outputs": []
    },
    {
      "cell_type": "code",
      "source": [
        "!mono lista2exercicio9.x"
      ],
      "metadata": {
        "colab": {
          "base_uri": "https://localhost:8080/"
        },
        "id": "7ZPg4Mn9RcCj",
        "outputId": "606f0828-8135-419a-8bc4-cbf463e60590"
      },
      "execution_count": null,
      "outputs": [
        {
          "output_type": "stream",
          "name": "stdout",
          "text": [
            "Informe o montante total.\n",
            "R$ \u001b[?1h\u001b=\u001b[6n\u001b[H\u001b[2J\u001b[6n2530\n",
            "Você vai precisar de:\n",
            "25 notas de R$ 100,00\n",
            "3 notas de R$ 10,00\n",
            "\u001b[?1l\u001b>\u001b[m"
          ]
        }
      ]
    },
    {
      "cell_type": "markdown",
      "source": [
        "### Exercício 10"
      ],
      "metadata": {
        "id": "zrjjbnmCS7PO"
      }
    },
    {
      "cell_type": "code",
      "source": [
        "%%writefile lista2exercicio10.cs\n",
        "\n",
        "using System;\n",
        "\n",
        "namespace Lista2Exercicio10{\n",
        "\n",
        "    class Program{\n",
        "\n",
        "        static void Main(){\n",
        "\n",
        "            // Variáveis\n",
        "            double comprimentoPista, velocidadeCarro1, velocidadeCarro2, tempoCarro1, tempoCarro2;\n",
        "\n",
        "            // Entrada\n",
        "            Console.Write(\"Tamanho da pista, em metros: \");\n",
        "            comprimentoPista = double.Parse(Console.ReadLine());\n",
        "            Console.Write(\"Tempo, em segundos, do primeiro carro: \");\n",
        "            tempoCarro1 = double.Parse(Console.ReadLine());\n",
        "            Console.Write(\"Tempo, em segundos, do segundo carro: \");\n",
        "            tempoCarro2 = double.Parse(Console.ReadLine());\n",
        "            \n",
        "            // Processamento – assume-se que os tempos informados serão sempre diferentes, levando a velocidades diferentes\n",
        "            velocidadeCarro1 = comprimentoPista / tempoCarro1;\n",
        "            velocidadeCarro2 = comprimentoPista / tempoCarro2;\n",
        "\n",
        "            // Saída\n",
        "            if (velocidadeCarro1 > velocidadeCarro2) {\n",
        "              Console.WriteLine(\"O primeiro carro foi o mais rápido, com velocidade de {0} m/s.\", velocidadeCarro1);\n",
        "            } else {\n",
        "              Console.WriteLine(\"O segundo carro foi o mais rápido, com velocidade de {0} m/s.\", velocidadeCarro2);\n",
        "            }\n",
        "\n",
        "        }\n",
        "\n",
        "    }\n",
        "\n",
        "}"
      ],
      "metadata": {
        "colab": {
          "base_uri": "https://localhost:8080/"
        },
        "id": "g80NM7UES9CX",
        "outputId": "075c7f61-8cd3-41ab-c7cd-cf7f8a41ceff"
      },
      "execution_count": null,
      "outputs": [
        {
          "output_type": "stream",
          "name": "stdout",
          "text": [
            "Writing lista2exercicio10.cs\n"
          ]
        }
      ]
    },
    {
      "cell_type": "code",
      "source": [
        "!mcs lista2exercicio10.cs -out:lista2exercicio10.x"
      ],
      "metadata": {
        "id": "5AFlEUOCUpOc"
      },
      "execution_count": null,
      "outputs": []
    },
    {
      "cell_type": "code",
      "source": [
        "!mono lista2exercicio10.x"
      ],
      "metadata": {
        "colab": {
          "base_uri": "https://localhost:8080/"
        },
        "id": "-uEysewEUuMq",
        "outputId": "98006742-375c-4e21-bfe8-5cb18359527a"
      },
      "execution_count": null,
      "outputs": [
        {
          "output_type": "stream",
          "name": "stdout",
          "text": [
            "Tamanho da pista, em metros: \u001b[?1h\u001b=\u001b[6n\u001b[H\u001b[2J\u001b[6n10000\n",
            "Tempo, em segundos, do primeiro carro: \u001b[6n800\n",
            "Tempo, em segundos, do segundo carro: \u001b[6n300\n",
            "O segundo carro foi o mais rápido, com velocidade de 33.3333333333333 m/s.\n",
            "\u001b[?1l\u001b>\u001b[m"
          ]
        }
      ]
    },
    {
      "cell_type": "markdown",
      "source": [
        "## Lista 3 – Estruturas de Repetição"
      ],
      "metadata": {
        "id": "gGSms2Az3Ddq"
      }
    },
    {
      "cell_type": "markdown",
      "source": [
        "### Exercício 1"
      ],
      "metadata": {
        "id": "ItlO8ZEjsjEp"
      }
    },
    {
      "cell_type": "code",
      "source": [
        "%%writefile lista3exercicio1.cs\n",
        "\n",
        "using System;\n",
        "\n",
        "namespace Lista3Exercicio1 {\n",
        "\n",
        "  class Program {\n",
        "\n",
        "    static void Main(){\n",
        "\n",
        "      // Variáveis\n",
        "      int a, b, i, somaImpares=0;\n",
        "\n",
        "      // Entrada\n",
        "      Console.WriteLine(\"Informe início e fim do intervalo.\");\n",
        "      Console.Write(\"Início: \");\n",
        "      a = int.Parse(Console.ReadLine());\n",
        "      Console.Write(\"Fim: \");\n",
        "      b = int.Parse(Console.ReadLine());\n",
        "\n",
        "      // Processamento\n",
        "      i=a+1;\n",
        "      while (i<b) {\n",
        "        if(i%2!=0) somaImpares+=i;\n",
        "        i++;\n",
        "      }\n",
        "\n",
        "      // Saída\n",
        "      Console.WriteLine(\"A soma dos números ímpares dentro do intervalo ({0},{1}) é igual a {2}.\", a, b, somaImpares);\n",
        "\n",
        "    }\n",
        "\n",
        "  }\n",
        "\n",
        "}"
      ],
      "metadata": {
        "colab": {
          "base_uri": "https://localhost:8080/"
        },
        "id": "BshU_kdHtIp3",
        "outputId": "b32ead88-1df9-46d8-ffb9-6503e6f09a5e"
      },
      "execution_count": null,
      "outputs": [
        {
          "output_type": "stream",
          "name": "stdout",
          "text": [
            "Overwriting lista3exercicio1.cs\n"
          ]
        }
      ]
    },
    {
      "cell_type": "code",
      "source": [
        "!mcs lista3exercicio1.cs -out:lista3exercicio1.x"
      ],
      "metadata": {
        "id": "lABSige6vQUQ"
      },
      "execution_count": null,
      "outputs": []
    },
    {
      "cell_type": "code",
      "source": [
        "!mono lista3exercicio1.x"
      ],
      "metadata": {
        "colab": {
          "base_uri": "https://localhost:8080/"
        },
        "id": "lErMN8UdvV4h",
        "outputId": "489f7c21-6b7d-4308-87d9-c9b681be91da"
      },
      "execution_count": null,
      "outputs": [
        {
          "output_type": "stream",
          "name": "stdout",
          "text": [
            "Informe início e fim do intervalo.\n",
            "Início: \u001b[?1h\u001b=\u001b[6n\u001b[H\u001b[2J\u001b[6n-9\n",
            "Fim: \u001b[6n19\n",
            "A soma dos números ímpares dentro do intervalo (-9,19) é igual a 65.\n",
            "\u001b[?1l\u001b>\u001b[m"
          ]
        }
      ]
    },
    {
      "cell_type": "markdown",
      "source": [
        "### Exercício 2"
      ],
      "metadata": {
        "id": "4LuyqCYfslBj"
      }
    },
    {
      "cell_type": "code",
      "source": [
        "%%writefile lista3exercicio2.cs\n",
        "\n",
        "using System;\n",
        "\n",
        "namespace Lista3Exercicio2 {\n",
        "\n",
        "  class Program {\n",
        "\n",
        "    static void Main(){\n",
        "\n",
        "      // Variáveis\n",
        "      int N, i, soma, diferenca, produto;\n",
        "\n",
        "      // Entrada\n",
        "      Console.Write(\"N=\");\n",
        "      N = int.Parse(Console.ReadLine());\n",
        "\n",
        "      // Processamento e Saída\n",
        "      Console.WriteLine(\"Tabuada do {0}:\", N);\n",
        "      for (i=0; i<=10; i++){\n",
        "        soma = N+i;\n",
        "        diferenca = N-i;\n",
        "        produto = N*i;\n",
        "        Console.WriteLine(\"{0} + {1} = {2} | {0} - {1} = {3} | {0} * {1} = {4}\", N, i, soma, diferenca, produto);\n",
        "      }\n",
        "\n",
        "    }\n",
        "\n",
        "  }\n",
        "\n",
        "}"
      ],
      "metadata": {
        "colab": {
          "base_uri": "https://localhost:8080/"
        },
        "id": "hn6-dBWqwiVy",
        "outputId": "450c0211-cc36-492f-f444-1ecfcd52cd55"
      },
      "execution_count": null,
      "outputs": [
        {
          "output_type": "stream",
          "name": "stdout",
          "text": [
            "Writing lista3exercicio2.cs\n"
          ]
        }
      ]
    },
    {
      "cell_type": "code",
      "source": [
        "!mcs lista3exercicio2.cs -out:lista3exercicio2.x"
      ],
      "metadata": {
        "id": "zQIGmVxXzkp8"
      },
      "execution_count": null,
      "outputs": []
    },
    {
      "cell_type": "code",
      "source": [
        "!mono lista3exercicio2.x"
      ],
      "metadata": {
        "colab": {
          "base_uri": "https://localhost:8080/"
        },
        "id": "ZqqM8Wqpztt6",
        "outputId": "05d44c6e-41ce-4de2-baad-2ce177c46b81"
      },
      "execution_count": null,
      "outputs": [
        {
          "output_type": "stream",
          "name": "stdout",
          "text": [
            "N=\u001b[?1h\u001b=\u001b[6n\u001b[H\u001b[2J\u001b[6n13\n",
            "Tabuada do 13:\n",
            "13 + 0 = 13 | 13 - 0 = 13 | 13 * 0 = 0\n",
            "13 + 1 = 14 | 13 - 1 = 12 | 13 * 1 = 13\n",
            "13 + 2 = 15 | 13 - 2 = 11 | 13 * 2 = 26\n",
            "13 + 3 = 16 | 13 - 3 = 10 | 13 * 3 = 39\n",
            "13 + 4 = 17 | 13 - 4 = 9 | 13 * 4 = 52\n",
            "13 + 5 = 18 | 13 - 5 = 8 | 13 * 5 = 65\n",
            "13 + 6 = 19 | 13 - 6 = 7 | 13 * 6 = 78\n",
            "13 + 7 = 20 | 13 - 7 = 6 | 13 * 7 = 91\n",
            "13 + 8 = 21 | 13 - 8 = 5 | 13 * 8 = 104\n",
            "13 + 9 = 22 | 13 - 9 = 4 | 13 * 9 = 117\n",
            "13 + 10 = 23 | 13 - 10 = 3 | 13 * 10 = 130\n",
            "\u001b[?1l\u001b>\u001b[m"
          ]
        }
      ]
    },
    {
      "cell_type": "markdown",
      "source": [
        "### Exercício 3"
      ],
      "metadata": {
        "id": "_wlQrI9zsmsj"
      }
    },
    {
      "cell_type": "code",
      "source": [
        "%%writefile lista3exercicio3.cs\n",
        "\n",
        "using System;\n",
        "\n",
        "namespace Lista3Exercicio3 {\n",
        "\n",
        "  class Program {\n",
        "\n",
        "    static void Main(){\n",
        "\n",
        "      // Variáveis\n",
        "      int numero, menor=int.MaxValue; // 2147483647\n",
        "      bool flag=false;\n",
        "\n",
        "      // Entrada e Processamento – assume-se que os números serão positivos\n",
        "      Console.WriteLine(\"Informe os números do conjunto.\");\n",
        "      do {\n",
        "        numero = int.Parse(Console.ReadLine());\n",
        "        if (numero == 0) break;\n",
        "        else {\n",
        "           if (numero < menor) menor = numero;\n",
        "           flag=true;\n",
        "        }\n",
        "      } while (numero != 0);\n",
        "\n",
        "      // Saída\n",
        "      if (flag) Console.WriteLine(\"Menor valor do conjunto: {0}\", menor);\n",
        "\n",
        "    }\n",
        "\n",
        "  }\n",
        "\n",
        "}"
      ],
      "metadata": {
        "colab": {
          "base_uri": "https://localhost:8080/"
        },
        "id": "w4G80bnk0H4A",
        "outputId": "d77a50c1-4fbb-41d6-9bd8-81c6eaf2d2db"
      },
      "execution_count": null,
      "outputs": [
        {
          "output_type": "stream",
          "name": "stdout",
          "text": [
            "Overwriting lista3exercicio3.cs\n"
          ]
        }
      ]
    },
    {
      "cell_type": "code",
      "source": [
        "!mcs lista3exercicio3.cs -out:lista3exercicio3.x"
      ],
      "metadata": {
        "id": "RFWeEBmA4sFH"
      },
      "execution_count": null,
      "outputs": []
    },
    {
      "cell_type": "code",
      "source": [
        "!mono lista3exercicio3.x"
      ],
      "metadata": {
        "colab": {
          "base_uri": "https://localhost:8080/"
        },
        "id": "jHH2x_Cr4x8Q",
        "outputId": "efb1c350-cffe-47d1-9eff-afaa65f63eac"
      },
      "execution_count": null,
      "outputs": [
        {
          "output_type": "stream",
          "name": "stdout",
          "text": [
            "Informe os números do conjunto.\n",
            "\u001b[?1h\u001b=\u001b[6n\u001b[H\u001b[2J\u001b[6n15\n",
            "\u001b[6n13\n",
            "\u001b[6n8\n",
            "\u001b[6n0\n",
            "\u001b[6n6\n",
            "\u001b[6n\n",
            "\u001b[6n5\n",
            "\u001b[6n9\n",
            "\u001b[6n0\n",
            "Menor valor do conjunto: 5\n",
            "\u001b[?1l\u001b>\u001b[m"
          ]
        }
      ]
    },
    {
      "cell_type": "markdown",
      "source": [
        "### Exercício 4"
      ],
      "metadata": {
        "id": "NkQ1GJKjsoU6"
      }
    },
    {
      "cell_type": "code",
      "source": [
        "%%writefile lista3exercicio4.cs\n",
        "\n",
        "using System;\n",
        "\n",
        "namespace Lista3Exercicio4 {\n",
        "\n",
        "  class Program {\n",
        "\n",
        "    static void Main(){\n",
        "\n",
        "      // Variáveis\n",
        "      int primeiro, numero;\n",
        "\n",
        "      // Entrada\n",
        "      Console.Write(\"Informe número: \");\n",
        "      primeiro = int.Parse(Console.ReadLine());\n",
        "\n",
        "      // Processamento\n",
        "      do {\n",
        "        Console.Write(\"Informe número: \");\n",
        "        numero = int.Parse(Console.ReadLine());\n",
        "      } while (numero != primeiro);\n",
        "\n",
        "      // Saída\n",
        "      Console.WriteLine(\"Número igual ao primeiro informado. Encerrando aplicação...\");\n",
        "\n",
        "    }\n",
        "\n",
        "  }\n",
        "\n",
        "}"
      ],
      "metadata": {
        "colab": {
          "base_uri": "https://localhost:8080/"
        },
        "id": "ngfB5UqI6M5d",
        "outputId": "852fc701-b5f8-4fa0-8d0c-fb701f45be5c"
      },
      "execution_count": null,
      "outputs": [
        {
          "output_type": "stream",
          "name": "stdout",
          "text": [
            "Overwriting lista3exercicio4.cs\n"
          ]
        }
      ]
    },
    {
      "cell_type": "code",
      "source": [
        "!mcs lista3exercicio4.cs -out:lista3exercicio4.x"
      ],
      "metadata": {
        "id": "IoQxuT1g7jhd"
      },
      "execution_count": null,
      "outputs": []
    },
    {
      "cell_type": "code",
      "source": [
        "!mono lista3exercicio4.x"
      ],
      "metadata": {
        "colab": {
          "base_uri": "https://localhost:8080/"
        },
        "id": "pPEJHf1C9j1Y",
        "outputId": "9d333e04-dd95-4b69-cc4a-565239c67e63"
      },
      "execution_count": null,
      "outputs": [
        {
          "output_type": "stream",
          "name": "stdout",
          "text": [
            "Informe número: \u001b[?1h\u001b=\u001b[6n\u001b[H\u001b[2J\u001b[6n0\n",
            "Informe número: \u001b[6n0\n",
            "Número igual ao primeiro informado. Encerrando aplicação...\n",
            "\u001b[?1l\u001b>\u001b[m"
          ]
        }
      ]
    },
    {
      "cell_type": "markdown",
      "source": [
        "### Exercício 5"
      ],
      "metadata": {
        "id": "xbTtjNZNsrAz"
      }
    },
    {
      "cell_type": "code",
      "source": [
        "%%writefile lista3exercicio5.cs\n",
        "\n",
        "using System;\n",
        "\n",
        "namespace Lista3Exercicio5 {\n",
        "\n",
        "  class Program {\n",
        "\n",
        "    static void Main(){\n",
        "\n",
        "      // Variáveis\n",
        "      int numero, numeroPares=0, numeroImpares=0;\n",
        "\n",
        "      // Entrada\n",
        "      Console.Write(\"Informe número: \");\n",
        "      numero = int.Parse(Console.ReadLine());\n",
        "      \n",
        "      // Processamento\n",
        "      while (numero != -1) {\n",
        "        if (numero%2 == 0) numeroPares++;\n",
        "        else numeroImpares++;\n",
        "        Console.Write(\"Informe número: \");\n",
        "        numero = int.Parse(Console.ReadLine());\n",
        "      }\n",
        "\n",
        "      // Saída\n",
        "      Console.WriteLine(\"Quantidade de pares no conjunto: {0}.\", numeroPares);\n",
        "      Console.WriteLine(\"Quantidade de ímpares no conjunto: {0}\", numeroImpares);\n",
        "\n",
        "    }\n",
        "\n",
        "  }\n",
        "\n",
        "}"
      ],
      "metadata": {
        "colab": {
          "base_uri": "https://localhost:8080/"
        },
        "id": "Qu0ENUVr90ta",
        "outputId": "a1601432-82aa-4639-fc4e-4b7ecbc09e3b"
      },
      "execution_count": null,
      "outputs": [
        {
          "output_type": "stream",
          "name": "stdout",
          "text": [
            "Writing lista3exercicio5.cs\n"
          ]
        }
      ]
    },
    {
      "cell_type": "code",
      "source": [
        "!mcs lista3exercicio5.cs -out:lista3exercicio5.x"
      ],
      "metadata": {
        "id": "JHWAp2eu_gAS"
      },
      "execution_count": null,
      "outputs": []
    },
    {
      "cell_type": "code",
      "source": [
        "!mono lista3exercicio5.x"
      ],
      "metadata": {
        "colab": {
          "base_uri": "https://localhost:8080/"
        },
        "id": "FmbgZWMW_oTZ",
        "outputId": "806078a4-88b4-4618-a7b5-95a8a8d33534"
      },
      "execution_count": null,
      "outputs": [
        {
          "output_type": "stream",
          "name": "stdout",
          "text": [
            "Informe número: \u001b[?1h\u001b=\u001b[6n\u001b[H\u001b[2J\u001b[6n2\n",
            "Informe número: \u001b[6n3\n",
            "Informe número: \u001b[6n4\n",
            "Informe número: \u001b[6n5\n",
            "Informe número: \u001b[6n6\n",
            "Informe número: \u001b[6n-1\n",
            "Quantidade de pares no conjunto: 3.\n",
            "Quantidade de ímpares no conjunto: 2\n",
            "\u001b[?1l\u001b>\u001b[m"
          ]
        }
      ]
    },
    {
      "cell_type": "markdown",
      "source": [
        "### Exercício 6"
      ],
      "metadata": {
        "id": "VsThGmfcssVh"
      }
    },
    {
      "cell_type": "code",
      "source": [
        "%%writefile lista3exercicio6.cs\n",
        "\n",
        "using System;\n",
        "\n",
        "namespace Lista3Exercicio6 {\n",
        "\n",
        "  class Program {\n",
        "\n",
        "    static void Main(){\n",
        "\n",
        "      // Variáveis\n",
        "      /* ulong: unsigned long, ou seja, inteiro positivo usando até 64 bits para armazenar;\n",
        "         vai de 0 até 18,446,744,073,709,551,615, ou seja, 20 dígitos; acredite, pra fatoriais,\n",
        "         você VAI precisar desse tamanho; para testar, calcule o fatorial de 20. */\n",
        "      ulong numero, indice, fatorial=1;\n",
        "\n",
        "      // Entrada\n",
        "      Console.Write(\"Informe um número: \");\n",
        "      numero = ulong.Parse(Console.ReadLine());\n",
        "\n",
        "      // Processamento\n",
        "      if (numero > 1) {\n",
        "        for (indice=1; indice<=numero; indice++) {\n",
        "          fatorial*=indice;\n",
        "        }\n",
        "      }\n",
        "\n",
        "      // Saída\n",
        "      Console.WriteLine(\"Fatorial do número informado: {0}! = {1}.\", numero, fatorial);\n",
        "      \n",
        "    }\n",
        "\n",
        "  }\n",
        "\n",
        "}"
      ],
      "metadata": {
        "colab": {
          "base_uri": "https://localhost:8080/"
        },
        "id": "RGHYGb4w_zaP",
        "outputId": "33fcf1f2-2478-47d0-c7f9-61a8fa7a992b"
      },
      "execution_count": null,
      "outputs": [
        {
          "output_type": "stream",
          "name": "stdout",
          "text": [
            "Overwriting lista3exercicio6.cs\n"
          ]
        }
      ]
    },
    {
      "cell_type": "code",
      "source": [
        "!mcs lista3exercicio6.cs -out:lista3exercicio6.x"
      ],
      "metadata": {
        "id": "E6Z9cMTUBTie"
      },
      "execution_count": null,
      "outputs": []
    },
    {
      "cell_type": "code",
      "source": [
        "!mono lista3exercicio6.x"
      ],
      "metadata": {
        "colab": {
          "base_uri": "https://localhost:8080/"
        },
        "id": "HF44c1RbBZvx",
        "outputId": "291bc2bb-9deb-4ae2-f77f-a2919b13dc80"
      },
      "execution_count": null,
      "outputs": [
        {
          "output_type": "stream",
          "name": "stdout",
          "text": [
            "Informe um número: \u001b[?1h\u001b=\u001b[6n\u001b[H\u001b[2J\u001b[6n20\n",
            "Fatorial do número informado: 20! = 2432902008176640000.\n",
            "\u001b[?1l\u001b>\u001b[m"
          ]
        }
      ]
    },
    {
      "cell_type": "markdown",
      "source": [
        "### Exercício 7"
      ],
      "metadata": {
        "id": "6SujTX0sstl_"
      }
    },
    {
      "cell_type": "code",
      "source": [
        "%%writefile lista3exercicio7.cs\n",
        "\n",
        "using System;\n",
        "\n",
        "namespace Lista3Exercicio7 {\n",
        "\n",
        "  class Program {\n",
        "\n",
        "    static void Main(){\n",
        "\n",
        "      // Variáveis\n",
        "      int primeiro=1, segundo=1, terceiro, numero, contador;\n",
        "\n",
        "      // Entrada\n",
        "      Console.WriteLine(\"Quantos termos da sequência de Fibonacci você vai querer?\");\n",
        "      numero = int.Parse(Console.ReadLine());\n",
        "\n",
        "      // Processamento e Saída\n",
        "      if (numero > 0) {\n",
        "        Console.Write(\"Sequência de Fibonacci: \");\n",
        "        if (numero == 1) {\n",
        "          Console.WriteLine(\"{0}\", primeiro);\n",
        "        } else {\n",
        "          Console.Write(\"{0}, {1}\", primeiro, segundo);\n",
        "          if (numero > 2) {\n",
        "            contador = 2;\n",
        "            do {\n",
        "              terceiro = primeiro + segundo;\n",
        "              Console.Write(\", {0}\", terceiro);\n",
        "              primeiro = segundo;\n",
        "              segundo = terceiro;\n",
        "              contador++;\n",
        "            } while (contador < numero);\n",
        "          }\n",
        "          Console.Write(\"\\n\");\n",
        "        }\n",
        "      }\n",
        "\n",
        "    }\n",
        "\n",
        "  }\n",
        "\n",
        "}"
      ],
      "metadata": {
        "colab": {
          "base_uri": "https://localhost:8080/"
        },
        "id": "XK3oX6grEt0s",
        "outputId": "8462e8db-a7f1-43fe-9915-313e20aa40f5"
      },
      "execution_count": null,
      "outputs": [
        {
          "output_type": "stream",
          "name": "stdout",
          "text": [
            "Overwriting lista3exercicio7.cs\n"
          ]
        }
      ]
    },
    {
      "cell_type": "code",
      "source": [
        "!mcs lista3exercicio7.cs -out:lista3exercicio7.x"
      ],
      "metadata": {
        "id": "DgFBjceLHsWD"
      },
      "execution_count": null,
      "outputs": []
    },
    {
      "cell_type": "code",
      "source": [
        "!mono lista3exercicio7.x"
      ],
      "metadata": {
        "colab": {
          "base_uri": "https://localhost:8080/"
        },
        "id": "tU0aDDoUID38",
        "outputId": "f26222c0-5dc6-4d69-e2e8-66bc5b5941a1"
      },
      "execution_count": null,
      "outputs": [
        {
          "output_type": "stream",
          "name": "stdout",
          "text": [
            "Quantos termos da sequência de Fibonacci você vai querer?\n",
            "\u001b[?1h\u001b=\u001b[6n\u001b[H\u001b[2J\u001b[6n9\n",
            "Sequência de Fibonacci: 1, 1, 2, 3, 5, 8, 13, 21, 34\n",
            "\u001b[?1l\u001b>\u001b[m"
          ]
        }
      ]
    },
    {
      "cell_type": "markdown",
      "source": [
        "### Exercício 8"
      ],
      "metadata": {
        "id": "AdFD7rubsvRD"
      }
    },
    {
      "cell_type": "code",
      "source": [
        "%%writefile lista3exercicio8.cs\n",
        "\n",
        "using System;\n",
        "\n",
        "namespace Lista3Exercicio8 {\n",
        "\n",
        "  class Program {\n",
        "\n",
        "    static void Main(){\n",
        "\n",
        "      // Variáveis\n",
        "      string nome, codigo;\n",
        "      char sexo;\n",
        "      int idade, total=0, totalServicos=0, totalHomens=0, totalMulheres=0, percentualServicos;\n",
        "\n",
        "      // Entrada e Processamento\n",
        "\n",
        "      Console.WriteLine(\"Informe nome, idade, sexo e código:\");\n",
        "      Console.Write(\"Nome: \");\n",
        "      nome = Console.ReadLine();\n",
        "\n",
        "      while(nome != \"fim\") {\n",
        "        Console.Write(\"Idade: \");\n",
        "        idade = int.Parse(Console.ReadLine());\n",
        "        Console.Write(\"Sexo: \");\n",
        "        sexo = char.Parse(Console.ReadLine());\n",
        "        Console.Write(\"Código: \");\n",
        "        codigo = Console.ReadLine();\n",
        "\n",
        "        total++;\n",
        "        if (sexo == 'M') totalHomens++;\n",
        "        else if (sexo == 'F') totalMulheres++;\n",
        "        if (codigo == \"020\") totalServicos++;\n",
        "        \n",
        "        Console.WriteLine(\"Consumidor Registrado. Próximo consumidor...\\n\");\n",
        "        Console.WriteLine(\"Informe nome, idade, sexo e código:\");\n",
        "        Console.Write(\"Nome: \");\n",
        "        nome = Console.ReadLine();\n",
        "      }\n",
        "\n",
        "      // Saída\n",
        "      if (total>0) {\n",
        "        percentualServicos = 100 * totalServicos / total;\n",
        "        Console.WriteLine(\"Percentual dos consumidores que buscaram Serviços: {0}%.\", percentualServicos);\n",
        "        if (totalHomens > totalMulheres) Console.WriteLine(\"A maioria dos consumidores foram homens.\");\n",
        "        else Console.WriteLine(\"A maioria dos consumidores foram mulheres.\");\n",
        "      }\n",
        "      \n",
        "    }\n",
        "\n",
        "  }\n",
        "\n",
        "}"
      ],
      "metadata": {
        "colab": {
          "base_uri": "https://localhost:8080/"
        },
        "id": "zVDXFHEiJRvB",
        "outputId": "ce5acbd3-9918-413f-fbbc-f0118e37cb67"
      },
      "execution_count": null,
      "outputs": [
        {
          "output_type": "stream",
          "name": "stdout",
          "text": [
            "Overwriting lista3exercicio8.cs\n"
          ]
        }
      ]
    },
    {
      "cell_type": "code",
      "source": [
        "!mcs lista3exercicio8.cs -out:lista3exercicio8.x"
      ],
      "metadata": {
        "colab": {
          "base_uri": "https://localhost:8080/"
        },
        "id": "C5cwjFvgN46S",
        "outputId": "95d813cf-9bff-4eea-9892-5e87465876df"
      },
      "execution_count": null,
      "outputs": [
        {
          "output_type": "stream",
          "name": "stdout",
          "text": [
            "lista3exercicio8.cs(13,11): warning CS0219: The variable `idade' is assigned but its value is never used\n",
            "Compilation succeeded - 1 warning(s)\n"
          ]
        }
      ]
    },
    {
      "cell_type": "code",
      "source": [
        "!mono lista3exercicio8.x"
      ],
      "metadata": {
        "colab": {
          "base_uri": "https://localhost:8080/"
        },
        "id": "QHioVkQJOEtX",
        "outputId": "546a78d3-679f-464d-8441-7d92548716f7"
      },
      "execution_count": null,
      "outputs": [
        {
          "output_type": "stream",
          "name": "stdout",
          "text": [
            "Informe nome, idade, sexo e código:\n",
            "Nome: \u001b[?1h\u001b=\u001b[6n\u001b[H\u001b[2J\u001b[6nPedro\n",
            "Idade: \u001b[6n34\n",
            "Sexo: \u001b[6nM\n",
            "Código: \u001b[6n020\n",
            "Consumidor Registrado. Próximo consumidor...\n",
            "\n",
            "Informe nome, idade, sexo e código:\n",
            "Nome: \u001b[6nMaria\n",
            "Idade: \u001b[6n28\n",
            "Sexo: \u001b[6nF\n",
            "Código: \u001b[6n010\n",
            "Consumidor Registrado. Próximo consumidor...\n",
            "\n",
            "Informe nome, idade, sexo e código:\n",
            "Nome: \u001b[6nJoca\n",
            "Idade: \u001b[6n47\n",
            "Sexo: \u001b[6nM\n",
            "Código: \u001b[6n040\n",
            "Consumidor Registrado. Próximo consumidor...\n",
            "\n",
            "Informe nome, idade, sexo e código:\n",
            "Nome: \u001b[6nLynnie\n",
            "Idade: \u001b[6n21\n",
            "Sexo: \u001b[6nN\n",
            "Código: \u001b[6n030\n",
            "Consumidor Registrado. Próximo consumidor...\n",
            "\n",
            "Informe nome, idade, sexo e código:\n",
            "Nome: \u001b[6nfim\n",
            "Percentual dos consumidores que buscaram Serviços: 25%.\n",
            "A maioria dos consumidores foram homens.\n",
            "\u001b[?1l\u001b>\u001b[m"
          ]
        }
      ]
    },
    {
      "cell_type": "markdown",
      "source": [
        "### Exercício 9"
      ],
      "metadata": {
        "id": "1kdoLRD-swhy"
      }
    },
    {
      "cell_type": "code",
      "source": [
        "%%writefile lista3exercicio9.cs\n",
        "\n",
        "using System;\n",
        "\n",
        "namespace Lista3Exercicio9 {\n",
        "\n",
        "  class Program {\n",
        "\n",
        "    static void Main(){\n",
        "\n",
        "      // Variáveis\n",
        "      char tipo, sexo, tipoMaisVendido;\n",
        "      int totalHomensRomance=0, totalFiccao=0, totalRomance=0, totalAventura=0;\n",
        "      int totalCompradores=0, totalMaisVendido, percentualHomensRomance=0;\n",
        "      int totalHomens=0;\n",
        "\n",
        "      // Entrada e Processamento\n",
        "\n",
        "      Console.WriteLine(\"Informe tipo do livro comprado e sexo do comprador:\");\n",
        "      Console.Write(\"Tipo: \");\n",
        "      tipo = char.Parse(Console.ReadLine());\n",
        "\n",
        "      while(tipo != '0') {\n",
        "        Console.Write(\"Sexo: \");\n",
        "        sexo = char.Parse(Console.ReadLine());\n",
        "\n",
        "        totalCompradores++;\n",
        "        if (sexo == 'M') totalHomens++;\n",
        "        switch (tipo) {\n",
        "          case '1':\n",
        "            totalFiccao++;\n",
        "            break;\n",
        "          case '2':\n",
        "            totalRomance++;\n",
        "            if(sexo == 'M') totalHomensRomance++;\n",
        "            break;\n",
        "          case '3':\n",
        "            totalAventura++;\n",
        "            break;\n",
        "          default:\n",
        "            break;\n",
        "        }\n",
        "\n",
        "        Console.WriteLine(\"Comprador Registrado. Próximo...\\n\");\n",
        "        Console.WriteLine(\"Informe tipo do livro comprado e sexo do comprador:\");\n",
        "        Console.Write(\"Tipo: \");\n",
        "        tipo = char.Parse(Console.ReadLine());\n",
        "      }\n",
        "\n",
        "      if (totalCompradores > 0) {\n",
        "        totalMaisVendido = totalFiccao;\n",
        "        tipoMaisVendido = '1';\n",
        "        if (totalRomance > totalMaisVendido) {\n",
        "          totalMaisVendido = totalRomance;\n",
        "          tipoMaisVendido = '2';\n",
        "        }\n",
        "        if (totalAventura > totalMaisVendido) {\n",
        "          totalMaisVendido = totalAventura;\n",
        "          tipoMaisVendido = '3';\n",
        "        }\n",
        "        if (totalHomens > 0) percentualHomensRomance = 100 * totalHomensRomance / totalHomens;\n",
        "      } else tipoMaisVendido = '0';\n",
        "\n",
        "      // Saída\n",
        "      switch (tipoMaisVendido) {\n",
        "        case '1':\n",
        "          Console.WriteLine(\"O tipo de livro mais vendido foi Ficção.\");\n",
        "          break;\n",
        "        case '2':\n",
        "          Console.WriteLine(\"O tipo de livro mais vendido foi Romance.\");\n",
        "          break;\n",
        "        case '3':\n",
        "          Console.WriteLine(\"O tipo de livro mais vendido foi Aventura.\");\n",
        "          break;\n",
        "        default:\n",
        "          Console.WriteLine(\"O tipo de livro mais vendido foi Outros.\");\n",
        "          break;\n",
        "      }\n",
        "\n",
        "      if (totalHomens > 0) {\n",
        "        Console.WriteLine(\"O percentual de homens que lêem livros de romance é de {0}%.\", percentualHomensRomance);\n",
        "      }\n",
        "\n",
        "    }\n",
        "\n",
        "  }\n",
        "\n",
        "}"
      ],
      "metadata": {
        "colab": {
          "base_uri": "https://localhost:8080/"
        },
        "id": "g_PbwgpuTXvj",
        "outputId": "bec1f148-7c20-4fc3-b033-cdb175620649"
      },
      "execution_count": null,
      "outputs": [
        {
          "output_type": "stream",
          "name": "stdout",
          "text": [
            "Overwriting lista3exercicio9.cs\n"
          ]
        }
      ]
    },
    {
      "cell_type": "code",
      "source": [
        "!mcs lista3exercicio9.cs -out:lista3exercicio9.x"
      ],
      "metadata": {
        "id": "pjZYjCyxYZ44"
      },
      "execution_count": null,
      "outputs": []
    },
    {
      "cell_type": "code",
      "source": [
        "!mono lista3exercicio9.x"
      ],
      "metadata": {
        "colab": {
          "base_uri": "https://localhost:8080/"
        },
        "id": "VgGbPG1yajJS",
        "outputId": "e2f5edf8-8af6-46ca-ee23-19f6658e5717"
      },
      "execution_count": null,
      "outputs": [
        {
          "output_type": "stream",
          "name": "stdout",
          "text": [
            "Informe tipo do livro comprado e sexo do comprador:\n",
            "Tipo: \u001b[?1h\u001b=\u001b[6n\u001b[H\u001b[2J\u001b[6n2\n",
            "Sexo: \u001b[6nM\n",
            "Comprador Registrado. Próximo...\n",
            "\n",
            "Informe tipo do livro comprado e sexo do comprador:\n",
            "Tipo: \u001b[6n2\n",
            "Sexo: \u001b[6nF\n",
            "Comprador Registrado. Próximo...\n",
            "\n",
            "Informe tipo do livro comprado e sexo do comprador:\n",
            "Tipo: \u001b[6n2\n",
            "Sexo: \u001b[6nF\n",
            "Comprador Registrado. Próximo...\n",
            "\n",
            "Informe tipo do livro comprado e sexo do comprador:\n",
            "Tipo: \u001b[6n1\n",
            "Sexo: \u001b[6nM\n",
            "Comprador Registrado. Próximo...\n",
            "\n",
            "Informe tipo do livro comprado e sexo do comprador:\n",
            "Tipo: \u001b[6n3\n",
            "Sexo: \u001b[6nF\n",
            "Comprador Registrado. Próximo...\n",
            "\n",
            "Informe tipo do livro comprado e sexo do comprador:\n",
            "Tipo: \u001b[6n0\n",
            "O tipo de livro mais vendido foi Romance.\n",
            "O percentual de homens que lêem livros de romance é de 50%.\n",
            "\u001b[?1l\u001b>\u001b[m"
          ]
        }
      ]
    },
    {
      "cell_type": "markdown",
      "source": [
        "### Exercício 10\n",
        "Esta versão funciona mais como um contador de tempo do que como um relógio, já que o tempo inicial é 00:00:00."
      ],
      "metadata": {
        "id": "ZTFsI8qksx3X"
      }
    },
    {
      "cell_type": "code",
      "source": [
        "%%writefile lista3exercicio10.cs\n",
        "\n",
        "using System;\n",
        "using System.Threading;\n",
        "\n",
        "namespace Lista3Exercicio10 {\n",
        "\n",
        "  class Program {\n",
        "\n",
        "    static void Main(){\n",
        "\n",
        "      // Variáveis\n",
        "      int hora=0, minuto=0, segundo=0, contador=0;\n",
        "      string stringHora, stringMinuto, stringSegundo;\n",
        "      bool flag=true;\n",
        "\n",
        "      // Processamento e Saída\n",
        "      while (flag) {\n",
        "\n",
        "        // Para que os dados numéricos tenham dois dígitos\n",
        "        stringHora = hora.ToString();\n",
        "        if (stringHora.Length < 2) stringHora = \"0\" + stringHora;\n",
        "        stringMinuto = minuto.ToString();\n",
        "        if (stringMinuto.Length < 2) stringMinuto = \"0\" + stringMinuto;\n",
        "        stringSegundo = segundo.ToString();\n",
        "        if (stringSegundo.Length < 2) stringSegundo = \"0\" + stringSegundo;\n",
        "\n",
        "        // Para montar o mostrador do relógio\n",
        "        Console.Clear(); // Não funciona no colab, mas funciona no console.\n",
        "        Console.WriteLine(\"Relógio\");\n",
        "        Console.WriteLine(\"{0}:{1}:{2}\", stringHora, stringMinuto, stringSegundo);\n",
        "        \n",
        "        Thread.Sleep(1000); // Pára o programa por 1000 milissegundos.\n",
        "        contador++;\n",
        "        if (contador > 200) flag = false; // Pro programa parar.\n",
        "        \n",
        "        // Para atualizar o horário\n",
        "        segundo++;\n",
        "        if (segundo == 60) {\n",
        "          segundo = 0;\n",
        "          minuto++;\n",
        "          if (minuto == 60) {\n",
        "            minuto = 0;\n",
        "            hora++;\n",
        "            if (hora == 24) hora = 0;\n",
        "          }\n",
        "        }\n",
        "      }\n",
        "\n",
        "    }\n",
        "\n",
        "  }\n",
        "\n",
        "}"
      ],
      "metadata": {
        "colab": {
          "base_uri": "https://localhost:8080/"
        },
        "id": "JD2YaW15qkWs",
        "outputId": "d2ab030f-663c-4bcc-fd16-82210bb49e20"
      },
      "execution_count": null,
      "outputs": [
        {
          "output_type": "stream",
          "name": "stdout",
          "text": [
            "Overwriting lista3exercicio10.cs\n"
          ]
        }
      ]
    },
    {
      "cell_type": "code",
      "source": [
        "!mcs lista3exercicio10.cs -out:lista3exercicio10.x"
      ],
      "metadata": {
        "id": "oIiGEdUTrOdQ"
      },
      "execution_count": null,
      "outputs": []
    },
    {
      "cell_type": "code",
      "source": [
        "!mono lista3exercicio10.x"
      ],
      "metadata": {
        "colab": {
          "base_uri": "https://localhost:8080/"
        },
        "id": "JicUEwKgrg-y",
        "outputId": "53c7e834-9278-4eee-f5bd-09fd1f76a1e5"
      },
      "execution_count": null,
      "outputs": [
        {
          "output_type": "stream",
          "name": "stdout",
          "text": [
            "\u001b[?1h\u001b=\u001b[6n\u001b[H\u001b[2J\u001b[H\u001b[2JRelógio\n",
            "00:00:00\n",
            "\u001b[H\u001b[2JRelógio\n",
            "00:00:01\n",
            "\u001b[H\u001b[2JRelógio\n",
            "00:00:02\n",
            "\u001b[H\u001b[2JRelógio\n",
            "00:00:03\n",
            "\u001b[H\u001b[2JRelógio\n",
            "00:00:04\n",
            "\u001b[?1l\u001b>\u001b[m"
          ]
        }
      ]
    },
    {
      "cell_type": "markdown",
      "source": [
        "### Exercício 10 – Versão Alternativa\n",
        "Esta versão de fato funciona como um relógio, uma vez que acessa a hora do sistema no início da execução para inicializar as variáveis `hora`, `minuto` e `segundo` do programa.  \n",
        "Nota: no colab, o horário disponibilizado parece ser o GMT, ou horário de Greenwich (UTC-0); o horário de Brasília corresponde a UTC-3."
      ],
      "metadata": {
        "id": "zrCv08qpqVzr"
      }
    },
    {
      "cell_type": "code",
      "source": [
        "%%writefile lista3exercicio10extra.cs\n",
        "\n",
        "using System;\n",
        "using System.Threading;\n",
        "\n",
        "namespace Lista3Exercicio10 {\n",
        "\n",
        "  class Program {\n",
        "\n",
        "    static void Main(){\n",
        "\n",
        "      // Variáveis\n",
        "      int hora, minuto, segundo, contador=0;\n",
        "      string stringHora, stringMinuto, stringSegundo;\n",
        "      bool flag=true;\n",
        "      DateTime agora = DateTime.Now; /* Struct que pega a hora do sistema APENAS para inicializar o nosso relógio. */\n",
        "\n",
        "      // Entrada\n",
        "\n",
        "      // Inicializando nosso relógio\n",
        "      hora = agora.Hour;\n",
        "      minuto = agora.Minute;\n",
        "      segundo = agora.Second;\n",
        "\n",
        "      // Processamento e Saída\n",
        "      while (flag) {\n",
        "\n",
        "        // Para que os dados numéricos tenham dois dígitos\n",
        "        stringHora = hora.ToString();\n",
        "        if (stringHora.Length < 2) stringHora = \"0\" + stringHora;\n",
        "        stringMinuto = minuto.ToString();\n",
        "        if (stringMinuto.Length < 2) stringMinuto = \"0\" + stringMinuto;\n",
        "        stringSegundo = segundo.ToString();\n",
        "        if (stringSegundo.Length < 2) stringSegundo = \"0\" + stringSegundo;\n",
        "        \n",
        "        // Para montar o mostrador do relógio\n",
        "        Console.Clear(); // Não funciona no colab, mas funciona no console.\n",
        "        Console.WriteLine(\"Relógio\");\n",
        "        Console.WriteLine(\"{0}:{1}:{2}\", stringHora, stringMinuto, stringSegundo);\n",
        "        \n",
        "        Thread.Sleep(1000); // Pára o programa por 1000 milissegundos.\n",
        "        contador++;\n",
        "        if (contador > 200) flag = false; // Pro programa parar.\n",
        "        \n",
        "        // Para atualizar o horário\n",
        "        segundo++;\n",
        "        if (segundo == 60) {\n",
        "          segundo = 0;\n",
        "          minuto++;\n",
        "          if (minuto == 60) {\n",
        "            minuto = 0;\n",
        "            hora++;\n",
        "            if (hora == 24) hora = 0;\n",
        "          }\n",
        "        }\n",
        "      }\n",
        "\n",
        "    }\n",
        "\n",
        "  }\n",
        "\n",
        "}"
      ],
      "metadata": {
        "colab": {
          "base_uri": "https://localhost:8080/"
        },
        "id": "VRDuivkxfJ6I",
        "outputId": "65be1132-1bcb-45b2-bf96-8a26d4f6ef67"
      },
      "execution_count": 213,
      "outputs": [
        {
          "output_type": "stream",
          "name": "stdout",
          "text": [
            "Writing lista3exercicio10extra.cs\n"
          ]
        }
      ]
    },
    {
      "cell_type": "code",
      "source": [
        "!mcs lista3exercicio10extra.cs -out:lista3exercicio10extra.x"
      ],
      "metadata": {
        "id": "ukwW0pd4kX1j"
      },
      "execution_count": 214,
      "outputs": []
    },
    {
      "cell_type": "code",
      "source": [
        "!mono lista3exercicio10extra.x"
      ],
      "metadata": {
        "colab": {
          "base_uri": "https://localhost:8080/"
        },
        "id": "3cCHgeGgliy2",
        "outputId": "53ae0acb-c21d-46fd-bd84-5a84f59af3ab"
      },
      "execution_count": 215,
      "outputs": [
        {
          "output_type": "stream",
          "name": "stdout",
          "text": [
            "\u001b[?1h\u001b=\u001b[6n\u001b[H\u001b[2J\u001b[H\u001b[2JRelógio\n",
            "21:54:38\n",
            "\u001b[H\u001b[2JRelógio\n",
            "21:54:39\n",
            "\u001b[H\u001b[2JRelógio\n",
            "21:54:40\n",
            "\u001b[H\u001b[2JRelógio\n",
            "21:54:41\n",
            "\u001b[H\u001b[2JRelógio\n",
            "21:54:42\n",
            "\u001b[H\u001b[2JRelógio\n",
            "21:54:43\n",
            "\u001b[H\u001b[2JRelógio\n",
            "21:54:44\n",
            "\u001b[H\u001b[2JRelógio\n",
            "21:54:45\n",
            "\u001b[H\u001b[2JRelógio\n",
            "21:54:46\n",
            "\u001b[H\u001b[2JRelógio\n",
            "21:54:47\n",
            "\u001b[H\u001b[2JRelógio\n",
            "21:54:48\n",
            "\u001b[?1l\u001b>\u001b[m"
          ]
        }
      ]
    },
    {
      "cell_type": "markdown",
      "source": [
        "## Lista 4 – Modularização\n",
        "**Nota:** nos exercícios 9, 11 e 13, dados são lidos de um arquivo de entrada. No colab os códigos funcionam, contudo se você for testá-los no terminal, sugiro que altere os caminhos dos arquivos de entrada, ou seja: `static readonly string entrada = \"<path>/filename\"` (ou `\"<path>\\filename\"` em Windows)."
      ],
      "metadata": {
        "id": "dmJV1HN03J9y"
      }
    },
    {
      "cell_type": "markdown",
      "source": [
        "### Exercício 1"
      ],
      "metadata": {
        "id": "4bOm089VNhsO"
      }
    },
    {
      "cell_type": "code",
      "source": [
        "%%writefile lista4exercicio1.cs\n",
        "\n",
        "using System;\n",
        "\n",
        "namespace Lista4Exercicio1{\n",
        "\n",
        "  class Program{\n",
        "\n",
        "    // Módulo Raízes Equação Segundo Grau\n",
        "\n",
        "    static int equacao2Grau(double A, double B, double C, ref double x1, ref double x2){\n",
        "      int STATUS;\n",
        "      double delta = B*B - 4*A*C;\n",
        "      if(delta < 0){\n",
        "        x1 = 0;\n",
        "        x2 = 0;\n",
        "        STATUS = 0;\n",
        "      }\n",
        "      else if (delta == 0){\n",
        "        x1 = (-1)*B / (2*A);\n",
        "        x2 = 0;\n",
        "        STATUS = 1;\n",
        "      }\n",
        "      else{\n",
        "        x1 = (-1)*B + Math.Sqrt(delta);\n",
        "        x1 = x1 / (2*A);\n",
        "        x2 = (-1)*B - Math.Sqrt(delta);\n",
        "        x2 = x2 / (2*A);\n",
        "        STATUS = 2;\n",
        "      }\n",
        "      return STATUS;\n",
        "    }\n",
        "\n",
        "    static void Main(){\n",
        "\n",
        "      // Variáveis\n",
        "      double A, B, C, x1=0, x2=0;\n",
        "      int qteRaizes;\n",
        "\n",
        "      // Entrada\n",
        "      Console.WriteLine(\"Insira os coeficientes da equação Ax²+Bx+C=0:\");\n",
        "      Console.Write(\"A= \");\n",
        "      A = double.Parse(Console.ReadLine());\n",
        "      Console.Write(\"B= \");\n",
        "      B = double.Parse(Console.ReadLine());\n",
        "      Console.Write(\"C= \");\n",
        "      C = double.Parse(Console.ReadLine());\n",
        "\n",
        "      // Processamento\n",
        "      qteRaizes = equacao2Grau(A, B, C, ref x1, ref x2);\n",
        "\n",
        "      // Saída\n",
        "      if(qteRaizes == 0) Console.WriteLine(\"A equação não possui raízes reais.\");\n",
        "      else if(qteRaizes == 1) Console.WriteLine(\"A equação possui uma raiz real dupla, igual a {0}.\", x1);\n",
        "      else Console.WriteLine(\"A equação possui duas raízes reais, iguais a {0} e {1}.\", x1, x2);\n",
        "\n",
        "    }\n",
        "\n",
        "  }\n",
        "\n",
        "}"
      ],
      "metadata": {
        "colab": {
          "base_uri": "https://localhost:8080/"
        },
        "id": "EEg4aJY9bpSz",
        "outputId": "f824a198-de8c-4f79-ff10-86057cbfa423"
      },
      "execution_count": null,
      "outputs": [
        {
          "output_type": "stream",
          "name": "stdout",
          "text": [
            "Overwriting lista4exercicio1.cs\n"
          ]
        }
      ]
    },
    {
      "cell_type": "code",
      "source": [
        "!mcs lista4exercicio1.cs -out:lista4exercicio1.x"
      ],
      "metadata": {
        "id": "UIaZ2G3EfR6O"
      },
      "execution_count": null,
      "outputs": []
    },
    {
      "cell_type": "code",
      "source": [
        "!mono lista4exercicio1.x"
      ],
      "metadata": {
        "colab": {
          "base_uri": "https://localhost:8080/"
        },
        "id": "goHuojDhgM2B",
        "outputId": "be687cf9-8ffa-470f-bf9e-149b7b83aa15"
      },
      "execution_count": null,
      "outputs": [
        {
          "output_type": "stream",
          "name": "stdout",
          "text": [
            "Insira os coeficientes da equação Ax²+Bx+C=0:\n",
            "A= \u001b[?1h\u001b=\u001b[6n\u001b[H\u001b[2J\u001b[6n1\n",
            "B= \u001b[6n4\n",
            "C= \u001b[6n6\n",
            "A equação não possui raízes reais.\n",
            "\u001b[?1l\u001b>\u001b[m"
          ]
        }
      ]
    },
    {
      "cell_type": "markdown",
      "source": [
        "### Exercício 2"
      ],
      "metadata": {
        "id": "VzBli0-pNjpY"
      }
    },
    {
      "cell_type": "code",
      "source": [
        "%%writefile lista4exercicio2.cs\n",
        "\n",
        "using System;\n",
        "\n",
        "namespace Lista4Exercicio2{\n",
        "\n",
        "  class Program{\n",
        "\n",
        "    static void TROCA(ref int primeiro, ref int segundo){\n",
        "      int terceiro = primeiro;\n",
        "      primeiro = segundo;\n",
        "      segundo = terceiro;\n",
        "    }\n",
        "\n",
        "    static void OrdenaPares(int[] vetor, int tamanho){\n",
        "      int i, contador;\n",
        "      do {\n",
        "        contador=0;\n",
        "        for(i=0; i < (tamanho-1); i++){\n",
        "          if(vetor[i]>vetor[i+1]){\n",
        "            TROCA(ref vetor[i], ref vetor[i+1]);\n",
        "            contador++;\n",
        "          }\n",
        "        }\n",
        "      } while(contador > 0);\n",
        "    }\n",
        "\n",
        "    static void LerVetor(int[] vetor, int tamanho){\n",
        "      int i;\n",
        "      Console.WriteLine(\"Insira valores da sequência:\");\n",
        "      for(i=0; i < tamanho; i++){\n",
        "        Console.Write(\"{0}º termo: \", i+1);\n",
        "        vetor[i] = int.Parse(Console.ReadLine());\n",
        "      }\n",
        "    }\n",
        "\n",
        "    static void ImprimirVetor(int[] vetor, int tamanho){\n",
        "      int i;\n",
        "      Console.WriteLine(\"Sequência ordenada:\");\n",
        "      for(i=0; i < tamanho; i++){\n",
        "        Console.Write(\"{0}\", vetor[i]);\n",
        "        if(i < (tamanho-1)) Console.Write(\", \");\n",
        "      }\n",
        "      Console.Write(\"\\n\");\n",
        "    }\n",
        "\n",
        "    static void Main(){\n",
        "\n",
        "      // Variáveis\n",
        "      int[] meuVetor = new int[4];\n",
        "\n",
        "      // Entrada\n",
        "      LerVetor(meuVetor, 4);\n",
        "\n",
        "      // Processamento\n",
        "      OrdenaPares(meuVetor, 4);\n",
        "\n",
        "      // Saída\n",
        "      ImprimirVetor(meuVetor, 4);\n",
        "\n",
        "    }\n",
        "\n",
        "  }\n",
        "\n",
        "}"
      ],
      "metadata": {
        "colab": {
          "base_uri": "https://localhost:8080/"
        },
        "id": "v8PXUy-EcNsK",
        "outputId": "52a4d52d-c634-432a-b878-6b1785500845"
      },
      "execution_count": null,
      "outputs": [
        {
          "output_type": "stream",
          "name": "stdout",
          "text": [
            "Overwriting lista4exercicio2.cs\n"
          ]
        }
      ]
    },
    {
      "cell_type": "code",
      "source": [
        "!mcs lista4exercicio2.cs -out:lista4exercicio2.x"
      ],
      "metadata": {
        "id": "XF7Yjn9phoJp"
      },
      "execution_count": null,
      "outputs": []
    },
    {
      "cell_type": "code",
      "source": [
        "!mono lista4exercicio2.x"
      ],
      "metadata": {
        "colab": {
          "base_uri": "https://localhost:8080/"
        },
        "id": "NKEeW_4liKcW",
        "outputId": "9c20f22f-cd1e-456b-93cd-27a112cfcfe2"
      },
      "execution_count": null,
      "outputs": [
        {
          "output_type": "stream",
          "name": "stdout",
          "text": [
            "Insira valores da sequência:\n",
            "1º termo: \u001b[?1h\u001b=\u001b[6n\u001b[H\u001b[2J\u001b[6n7\n",
            "2º termo: \u001b[6n3\n",
            "3º termo: \u001b[6n2\n",
            "4º termo: \u001b[6n5\n",
            "Sequência ordenada:\n",
            "2, 3, 5, 7\n",
            "\u001b[?1l\u001b>\u001b[m"
          ]
        }
      ]
    },
    {
      "cell_type": "markdown",
      "source": [
        "### Exercício 3"
      ],
      "metadata": {
        "id": "aQGhAo3TNlHD"
      }
    },
    {
      "cell_type": "code",
      "source": [
        "%%writefile lista4exercicio3.cs\n",
        "\n",
        "using System;\n",
        "\n",
        "namespace Lista4Exercicio3{\n",
        "\n",
        "  class Program{\n",
        "\n",
        "    static bool ChecaData(int dia, int mes, int ano){\n",
        "      bool dataValida = true;\n",
        "      if(ano == 0) dataValida = false;\n",
        "      else {\n",
        "        if((mes < 1) || (mes > 12)) dataValida = false;\n",
        "        else {\n",
        "          if(dia < 1) dataValida = false;\n",
        "          else {\n",
        "            bool mes31 = (mes == 1) || (mes == 3) || (mes == 5) || (mes == 7) || (mes == 8) || (mes == 10) || (mes == 12);\n",
        "            if(mes31){\n",
        "              if(dia > 31) dataValida = false;\n",
        "            } else {\n",
        "              bool mes30 = (mes == 4) || (mes == 6) || (mes == 9) || (mes == 11);\n",
        "              if(mes30){\n",
        "                if(dia > 30) dataValida = false;\n",
        "              } else { // É fevereiro...\n",
        "                bool anoBissexto = (ano%4 == 0) && ((ano%100 != 0) || (ano%400 == 0));\n",
        "                if(anoBissexto){\n",
        "                  if(dia > 29) dataValida = false;\n",
        "                } else {\n",
        "                  if(dia > 28) dataValida = false;\n",
        "                }\n",
        "              }\n",
        "            }\n",
        "          }\n",
        "        }\n",
        "      }\n",
        "      return dataValida;\n",
        "    }\n",
        "\n",
        "    static void Main(){\n",
        "\n",
        "      // Variáveis\n",
        "      int dia, mes, ano;\n",
        "      bool dataOK;\n",
        "\n",
        "      // Entrada\n",
        "      Console.WriteLine(\"Informe uma data a seguir.\");\n",
        "      Console.Write(\"Dia: \");\n",
        "      dia = int.Parse(Console.ReadLine());\n",
        "      Console.Write(\"Mês: \");\n",
        "      mes = int.Parse(Console.ReadLine());\n",
        "      Console.Write(\"Ano: \");\n",
        "      ano = int.Parse(Console.ReadLine());\n",
        "\n",
        "      // Processamento\n",
        "      dataOK = ChecaData(dia, mes, ano);\n",
        "\n",
        "      // Saída\n",
        "      if(!dataOK) Console.WriteLine(\"Data informada inválida.\");\n",
        "      else{\n",
        "        Console.Write(\"A data informada, de {0}/{1}/\", dia, mes);\n",
        "        if(ano < 0) Console.Write(\"{0} a.C.\", (-1)*ano);\n",
        "        else Console.Write(\"{0} A.D.\", ano);\n",
        "        Console.Write(\", é válida.\\n\");\n",
        "      }\n",
        "\n",
        "    }\n",
        "\n",
        "  }\n",
        "\n",
        "}"
      ],
      "metadata": {
        "colab": {
          "base_uri": "https://localhost:8080/"
        },
        "id": "O9farSo-lVFh",
        "outputId": "19d22bde-ede8-4e61-a5b3-e9d6a4ac6bd8"
      },
      "execution_count": null,
      "outputs": [
        {
          "output_type": "stream",
          "name": "stdout",
          "text": [
            "Writing lista4exercicio3.cs\n"
          ]
        }
      ]
    },
    {
      "cell_type": "code",
      "source": [
        "!mcs lista4exercicio3.cs -out:lista4exercicio3.x"
      ],
      "metadata": {
        "id": "f_4T8_VItDkv"
      },
      "execution_count": null,
      "outputs": []
    },
    {
      "cell_type": "code",
      "source": [
        "!mono lista4exercicio3.x"
      ],
      "metadata": {
        "colab": {
          "base_uri": "https://localhost:8080/"
        },
        "id": "njDmU96_tI9D",
        "outputId": "583b2726-90bd-49e7-9988-def94e362384"
      },
      "execution_count": null,
      "outputs": [
        {
          "output_type": "stream",
          "name": "stdout",
          "text": [
            "Informe uma data a seguir.\n",
            "Dia: \u001b[?1h\u001b=\u001b[6n\u001b[H\u001b[2J\u001b[6n32\n",
            "Mês: \u001b[6n2\n",
            "Ano: \u001b[6n0\n",
            "Data informada inválida.\n",
            "\u001b[?1l\u001b>\u001b[m"
          ]
        }
      ]
    },
    {
      "cell_type": "markdown",
      "source": [
        "### Exercício 4"
      ],
      "metadata": {
        "id": "Yg5qjZ9cNmrj"
      }
    },
    {
      "cell_type": "code",
      "source": [
        "%%writefile lista4exercicio4.cs\n",
        "\n",
        "using System;\n",
        "\n",
        "namespace Lista4Exercicio4{\n",
        "\n",
        "  class Program{\n",
        "\n",
        "    // Função Fatorial Versão Iterativa\n",
        "\n",
        "    static ulong FatorialIterativo(int numero){\n",
        "      ulong myNumero = Convert.ToUInt64(numero);\n",
        "      if (myNumero > 1){\n",
        "        ulong fat = myNumero;\n",
        "        while (myNumero > 2){\n",
        "          myNumero--;\n",
        "          fat*=myNumero;\n",
        "        }\n",
        "        return fat;\n",
        "      } else return 1;\n",
        "    }\n",
        "\n",
        "    // Função Fatorial Versão Recursiva\n",
        "\n",
        "    static ulong FatorialRecursivo(int numero){\n",
        "      ulong myNumero = Convert.ToUInt64(numero);\n",
        "      if (myNumero >1){\n",
        "        return myNumero*FatorialRecursivo(numero-1);\n",
        "      } else return 1;\n",
        "    }\n",
        "\n",
        "    static void Main(){\n",
        "\n",
        "      // Variáveis\n",
        "      int numero;\n",
        "      ulong fat;\n",
        "      bool usaVersaoRecursiva=true;\n",
        "\n",
        "      // Entrada\n",
        "\n",
        "      // Processamento\n",
        "\n",
        "      // Saída\n",
        "\n",
        "      for(numero=1; numero<=15; numero++){\n",
        "        if(usaVersaoRecursiva){\n",
        "          fat = FatorialRecursivo(numero);\n",
        "        } else {\n",
        "          fat = FatorialIterativo(numero);\n",
        "        }\n",
        "        Console.WriteLine(\"{0}! = {1}\", numero, fat);\n",
        "      }\n",
        "\n",
        "    }\n",
        "\n",
        "  }\n",
        "\n",
        "}"
      ],
      "metadata": {
        "colab": {
          "base_uri": "https://localhost:8080/"
        },
        "id": "PsIhLpeA9vaI",
        "outputId": "5fb3b930-7b40-4765-870e-4a0dd6430844"
      },
      "execution_count": null,
      "outputs": [
        {
          "output_type": "stream",
          "name": "stdout",
          "text": [
            "Overwriting lista4exercicio4.cs\n"
          ]
        }
      ]
    },
    {
      "cell_type": "code",
      "source": [
        "!mcs lista4exercicio4.cs -out:lista4exercicio4.x"
      ],
      "metadata": {
        "id": "EGc_W-y0BdZH"
      },
      "execution_count": null,
      "outputs": []
    },
    {
      "cell_type": "code",
      "source": [
        "!mono lista4exercicio4.x"
      ],
      "metadata": {
        "colab": {
          "base_uri": "https://localhost:8080/"
        },
        "id": "8kwGxPjXC0B2",
        "outputId": "9ae90c49-a5e7-4ecf-b5fd-054b6c496c6b"
      },
      "execution_count": null,
      "outputs": [
        {
          "output_type": "stream",
          "name": "stdout",
          "text": [
            "1! = 1\n",
            "2! = 2\n",
            "3! = 6\n",
            "4! = 24\n",
            "5! = 120\n",
            "6! = 720\n",
            "7! = 5040\n",
            "8! = 40320\n",
            "9! = 362880\n",
            "10! = 3628800\n",
            "11! = 39916800\n",
            "12! = 479001600\n",
            "13! = 6227020800\n",
            "14! = 87178291200\n",
            "15! = 1307674368000\n"
          ]
        }
      ]
    },
    {
      "cell_type": "markdown",
      "source": [
        "### Exercício 5"
      ],
      "metadata": {
        "id": "8rpFnNTrNoJu"
      }
    },
    {
      "cell_type": "code",
      "source": [
        "%%writefile lista4exercicio5.cs\n",
        "\n",
        "using System;\n",
        "\n",
        "namespace Lista4Exercicio5{\n",
        "\n",
        "  class Program{\n",
        "\n",
        "    /* Versão iterativa; a versão recursiva fica como exercício ao leitor. */\n",
        "    \n",
        "    static long Potencia(int baseNum, int expoente){\n",
        "      long myBase = Convert.ToInt64(baseNum);\n",
        "      long resposta=1;\n",
        "      bool inverte=(expoente < 0);\n",
        "      if(expoente != 0){\n",
        "        if (inverte) expoente = (-1)*expoente;\n",
        "        while(expoente > 0){\n",
        "          resposta*=myBase;\n",
        "          expoente--;\n",
        "        }\n",
        "        if(inverte) resposta = 1/resposta;\n",
        "      }\n",
        "      return resposta;\n",
        "    }\n",
        "\n",
        "    static void Main(){\n",
        "\n",
        "      // Variáveis\n",
        "      int baseNum, expoente;\n",
        "      long pot;\n",
        "\n",
        "      // Entrada\n",
        "\n",
        "      // Processamento\n",
        "\n",
        "      // Saída\n",
        "      for(baseNum=2; baseNum <= 20; baseNum++){\n",
        "        for(expoente=1; expoente <= 10; expoente++){\n",
        "          pot=Potencia(baseNum, expoente);\n",
        "          Console.WriteLine(\"{0}^{1} = {2}\", baseNum, expoente, pot);\n",
        "        }\n",
        "      }\n",
        "\n",
        "    }\n",
        "\n",
        "  }\n",
        "\n",
        "}"
      ],
      "metadata": {
        "colab": {
          "base_uri": "https://localhost:8080/"
        },
        "id": "ifsTV_aWFS6U",
        "outputId": "eb530fb8-d118-4d5a-9aa8-f3857d50d7ea"
      },
      "execution_count": null,
      "outputs": [
        {
          "output_type": "stream",
          "name": "stdout",
          "text": [
            "Overwriting lista4exercicio5.cs\n"
          ]
        }
      ]
    },
    {
      "cell_type": "code",
      "source": [
        "!mcs lista4exercicio5.cs -out:lista4exercicio5.x"
      ],
      "metadata": {
        "id": "-wzgYjsEIfXM"
      },
      "execution_count": null,
      "outputs": []
    },
    {
      "cell_type": "code",
      "source": [
        "!mono lista4exercicio5.x"
      ],
      "metadata": {
        "colab": {
          "base_uri": "https://localhost:8080/"
        },
        "id": "6yPcW0UTK7S5",
        "outputId": "4c204809-6774-424b-d7b5-76b62e528fb9"
      },
      "execution_count": null,
      "outputs": [
        {
          "output_type": "stream",
          "name": "stdout",
          "text": [
            "2^1 = 2\n",
            "2^2 = 4\n",
            "2^3 = 8\n",
            "2^4 = 16\n",
            "2^5 = 32\n",
            "2^6 = 64\n",
            "2^7 = 128\n",
            "2^8 = 256\n",
            "2^9 = 512\n",
            "2^10 = 1024\n",
            "3^1 = 3\n",
            "3^2 = 9\n",
            "3^3 = 27\n",
            "3^4 = 81\n",
            "3^5 = 243\n",
            "3^6 = 729\n",
            "3^7 = 2187\n",
            "3^8 = 6561\n",
            "3^9 = 19683\n",
            "3^10 = 59049\n",
            "4^1 = 4\n",
            "4^2 = 16\n",
            "4^3 = 64\n",
            "4^4 = 256\n",
            "4^5 = 1024\n",
            "4^6 = 4096\n",
            "4^7 = 16384\n",
            "4^8 = 65536\n",
            "4^9 = 262144\n",
            "4^10 = 1048576\n",
            "5^1 = 5\n",
            "5^2 = 25\n",
            "5^3 = 125\n",
            "5^4 = 625\n",
            "5^5 = 3125\n",
            "5^6 = 15625\n",
            "5^7 = 78125\n",
            "5^8 = 390625\n",
            "5^9 = 1953125\n",
            "5^10 = 9765625\n",
            "6^1 = 6\n",
            "6^2 = 36\n",
            "6^3 = 216\n",
            "6^4 = 1296\n",
            "6^5 = 7776\n",
            "6^6 = 46656\n",
            "6^7 = 279936\n",
            "6^8 = 1679616\n",
            "6^9 = 10077696\n",
            "6^10 = 60466176\n",
            "7^1 = 7\n",
            "7^2 = 49\n",
            "7^3 = 343\n",
            "7^4 = 2401\n",
            "7^5 = 16807\n",
            "7^6 = 117649\n",
            "7^7 = 823543\n",
            "7^8 = 5764801\n",
            "7^9 = 40353607\n",
            "7^10 = 282475249\n",
            "8^1 = 8\n",
            "8^2 = 64\n",
            "8^3 = 512\n",
            "8^4 = 4096\n",
            "8^5 = 32768\n",
            "8^6 = 262144\n",
            "8^7 = 2097152\n",
            "8^8 = 16777216\n",
            "8^9 = 134217728\n",
            "8^10 = 1073741824\n",
            "9^1 = 9\n",
            "9^2 = 81\n",
            "9^3 = 729\n",
            "9^4 = 6561\n",
            "9^5 = 59049\n",
            "9^6 = 531441\n",
            "9^7 = 4782969\n",
            "9^8 = 43046721\n",
            "9^9 = 387420489\n",
            "9^10 = 3486784401\n",
            "10^1 = 10\n",
            "10^2 = 100\n",
            "10^3 = 1000\n",
            "10^4 = 10000\n",
            "10^5 = 100000\n",
            "10^6 = 1000000\n",
            "10^7 = 10000000\n",
            "10^8 = 100000000\n",
            "10^9 = 1000000000\n",
            "10^10 = 10000000000\n",
            "11^1 = 11\n",
            "11^2 = 121\n",
            "11^3 = 1331\n",
            "11^4 = 14641\n",
            "11^5 = 161051\n",
            "11^6 = 1771561\n",
            "11^7 = 19487171\n",
            "11^8 = 214358881\n",
            "11^9 = 2357947691\n",
            "11^10 = 25937424601\n",
            "12^1 = 12\n",
            "12^2 = 144\n",
            "12^3 = 1728\n",
            "12^4 = 20736\n",
            "12^5 = 248832\n",
            "12^6 = 2985984\n",
            "12^7 = 35831808\n",
            "12^8 = 429981696\n",
            "12^9 = 5159780352\n",
            "12^10 = 61917364224\n",
            "13^1 = 13\n",
            "13^2 = 169\n",
            "13^3 = 2197\n",
            "13^4 = 28561\n",
            "13^5 = 371293\n",
            "13^6 = 4826809\n",
            "13^7 = 62748517\n",
            "13^8 = 815730721\n",
            "13^9 = 10604499373\n",
            "13^10 = 137858491849\n",
            "14^1 = 14\n",
            "14^2 = 196\n",
            "14^3 = 2744\n",
            "14^4 = 38416\n",
            "14^5 = 537824\n",
            "14^6 = 7529536\n",
            "14^7 = 105413504\n",
            "14^8 = 1475789056\n",
            "14^9 = 20661046784\n",
            "14^10 = 289254654976\n",
            "15^1 = 15\n",
            "15^2 = 225\n",
            "15^3 = 3375\n",
            "15^4 = 50625\n",
            "15^5 = 759375\n",
            "15^6 = 11390625\n",
            "15^7 = 170859375\n",
            "15^8 = 2562890625\n",
            "15^9 = 38443359375\n",
            "15^10 = 576650390625\n",
            "16^1 = 16\n",
            "16^2 = 256\n",
            "16^3 = 4096\n",
            "16^4 = 65536\n",
            "16^5 = 1048576\n",
            "16^6 = 16777216\n",
            "16^7 = 268435456\n",
            "16^8 = 4294967296\n",
            "16^9 = 68719476736\n",
            "16^10 = 1099511627776\n",
            "17^1 = 17\n",
            "17^2 = 289\n",
            "17^3 = 4913\n",
            "17^4 = 83521\n",
            "17^5 = 1419857\n",
            "17^6 = 24137569\n",
            "17^7 = 410338673\n",
            "17^8 = 6975757441\n",
            "17^9 = 118587876497\n",
            "17^10 = 2015993900449\n",
            "18^1 = 18\n",
            "18^2 = 324\n",
            "18^3 = 5832\n",
            "18^4 = 104976\n",
            "18^5 = 1889568\n",
            "18^6 = 34012224\n",
            "18^7 = 612220032\n",
            "18^8 = 11019960576\n",
            "18^9 = 198359290368\n",
            "18^10 = 3570467226624\n",
            "19^1 = 19\n",
            "19^2 = 361\n",
            "19^3 = 6859\n",
            "19^4 = 130321\n",
            "19^5 = 2476099\n",
            "19^6 = 47045881\n",
            "19^7 = 893871739\n",
            "19^8 = 16983563041\n",
            "19^9 = 322687697779\n",
            "19^10 = 6131066257801\n",
            "20^1 = 20\n",
            "20^2 = 400\n",
            "20^3 = 8000\n",
            "20^4 = 160000\n",
            "20^5 = 3200000\n",
            "20^6 = 64000000\n",
            "20^7 = 1280000000\n",
            "20^8 = 25600000000\n",
            "20^9 = 512000000000\n",
            "20^10 = 10240000000000\n"
          ]
        }
      ]
    },
    {
      "cell_type": "markdown",
      "source": [
        "### Exercício 6\n",
        "**Nota:** este relógio não tem condição de parada, ou seja, uma vez iniciado, continuará ininterruptamente. Mas você pode interromper a execução, no colab (apertando o botão com `X` no lado esquerdo, abaixo do botão de *play* `>`) ou no terminal (fechando a janela). "
      ],
      "metadata": {
        "id": "HY8idGacNqsJ"
      }
    },
    {
      "cell_type": "code",
      "source": [
        "%%writefile lista4exercicio6.cs\n",
        "\n",
        "using System;\n",
        "using System.Threading;\n",
        "\n",
        "namespace Lista4Exercicio6\n",
        "{\n",
        "\n",
        "  class Program\n",
        "  {\n",
        "\n",
        "    // Módulos aqui!\n",
        "\n",
        "    public struct Tempo\n",
        "    {\n",
        "      public int hora, minuto, segundo;\n",
        "      public Tempo(int hora, int minuto, int segundo)\n",
        "      {\n",
        "        this.hora = hora;\n",
        "        this.minuto = minuto;\n",
        "        this.segundo = segundo;\n",
        "      }\n",
        "    }\n",
        "\n",
        "    static void Relogio()\n",
        "    {\n",
        "      Tempo meuTempo = new Tempo();\n",
        "      InicializarRelogio(ref meuTempo);\n",
        "      while(true)\n",
        "      {\n",
        "        ContarHora(ref meuTempo, ContarMinuto(ref meuTempo, ContarSegundo(ref meuTempo)));\n",
        "        MostrarRelogio(meuTempo);\n",
        "      }\n",
        "    }\n",
        "\n",
        "    static void InicializarRelogio(ref Tempo meuTempo)\n",
        "    { // Erro aqui. Aonde???\n",
        "      DateTime agora = DateTime.Now;\n",
        "      // meuTempo = Tempo(agora.Hour, agora.Minute, agora.Second);\n",
        "      meuTempo.hora = agora.Hour;\n",
        "      meuTempo.minuto = agora.Minute;\n",
        "      meuTempo.segundo = agora.Second;\n",
        "    }\n",
        "\n",
        "    static bool ContarSegundo(ref Tempo meuTempo)\n",
        "    {\n",
        "      bool passouMinuto=false;\n",
        "      Thread.Sleep(1000);\n",
        "      meuTempo.segundo++;\n",
        "      if(meuTempo.segundo == 60)\n",
        "      {\n",
        "        meuTempo.segundo = 0;\n",
        "        passouMinuto = true;\n",
        "      }\n",
        "      return passouMinuto;\n",
        "    }\n",
        "\n",
        "    static bool ContarMinuto(ref Tempo meuTempo, bool passouMinuto)\n",
        "    {\n",
        "      bool passouHora=false;\n",
        "      if(passouMinuto)\n",
        "      {\n",
        "        meuTempo.minuto++;\n",
        "        if(meuTempo.minuto == 60)\n",
        "        {\n",
        "          meuTempo.minuto = 0;\n",
        "          passouHora = true;\n",
        "        }\n",
        "      }\n",
        "      return passouHora;\n",
        "    }\n",
        "\n",
        "    static void ContarHora(ref Tempo meuTempo, bool passouHora)\n",
        "    {\n",
        "      if(passouHora)\n",
        "      {\n",
        "        meuTempo.hora++;\n",
        "        if(meuTempo.hora == 24) meuTempo.hora = 0;\n",
        "      }\n",
        "    }\n",
        "\n",
        "    static void MostrarRelogio(Tempo meuTempo)\n",
        "    {\n",
        "      // Para que os dados numéricos tenham dois dígitos\n",
        "      string stringHora = meuTempo.hora.ToString();\n",
        "      if (stringHora.Length < 2) stringHora = \"0\" + stringHora;\n",
        "      string stringMinuto = meuTempo.minuto.ToString();\n",
        "      if (stringMinuto.Length < 2) stringMinuto = \"0\" + stringMinuto;\n",
        "      string stringSegundo = meuTempo.segundo.ToString();\n",
        "      if (stringSegundo.Length < 2) stringSegundo = \"0\" + stringSegundo;\n",
        "        \n",
        "      // Para montar o mostrador do relógio\n",
        "      Console.Clear(); // Não funciona no colab, mas funciona no console.\n",
        "      Console.WriteLine(\"Relógio\");\n",
        "      Console.WriteLine(\"{0}:{1}:{2}\", stringHora, stringMinuto, stringSegundo);\n",
        "    }\n",
        "\n",
        "    static void Main()\n",
        "    {\n",
        "\n",
        "      // Variáveis\n",
        "\n",
        "      // Entrada\n",
        "\n",
        "      // Processamento\n",
        "\n",
        "      Relogio();\n",
        "\n",
        "      // Saída\n",
        "\n",
        "    }\n",
        "\n",
        "  }\n",
        "\n",
        "}"
      ],
      "metadata": {
        "colab": {
          "base_uri": "https://localhost:8080/"
        },
        "id": "66lGH79anyFs",
        "outputId": "732b5b02-00f0-4ed3-9f82-fd4aef0d8aa1"
      },
      "execution_count": 251,
      "outputs": [
        {
          "output_type": "stream",
          "name": "stdout",
          "text": [
            "Overwriting lista4exercicio6.cs\n"
          ]
        }
      ]
    },
    {
      "cell_type": "code",
      "source": [
        "!mcs lista4exercicio6.cs -out:lista4exercicio6.x"
      ],
      "metadata": {
        "id": "VTQF4WaEuDzh"
      },
      "execution_count": 252,
      "outputs": []
    },
    {
      "cell_type": "code",
      "source": [
        "!mono lista4exercicio6.x"
      ],
      "metadata": {
        "colab": {
          "base_uri": "https://localhost:8080/"
        },
        "id": "dhq-zLAkGdJm",
        "outputId": "3f87d93c-fb54-4256-b9bb-a8b8f4d1efea"
      },
      "execution_count": 253,
      "outputs": [
        {
          "output_type": "stream",
          "name": "stdout",
          "text": [
            "\u001b[?1h\u001b=\u001b[6n\u001b[H\u001b[2J\u001b[H\u001b[2JRelógio\n",
            "23:01:00\n",
            "\u001b[H\u001b[2JRelógio\n",
            "23:01:01\n",
            "\u001b[H\u001b[2JRelógio\n",
            "23:01:02\n",
            "\u001b[H\u001b[2JRelógio\n",
            "23:01:03\n",
            "\u001b[H\u001b[2JRelógio\n",
            "23:01:04\n",
            "\u001b[H\u001b[2JRelógio\n",
            "23:01:05\n",
            "\u001b[H\u001b[2JRelógio\n",
            "23:01:06\n",
            "\u001b[H\u001b[2JRelógio\n",
            "23:01:07\n",
            "\u001b[H\u001b[2JRelógio\n",
            "23:01:08\n",
            "\u001b[H\u001b[2JRelógio\n",
            "23:01:09\n",
            "\u001b[H\u001b[2JRelógio\n",
            "23:01:10\n",
            "\u001b[H\u001b[2JRelógio\n",
            "23:01:11\n",
            "\u001b[H\u001b[2JRelógio\n",
            "23:01:12\n",
            "\u001b[H\u001b[2JRelógio\n",
            "23:01:13\n",
            "\u001b[H\u001b[2JRelógio\n",
            "23:01:14\n",
            "\u001b[H\u001b[2JRelógio\n",
            "23:01:15\n",
            "\u001b[H\u001b[2JRelógio\n",
            "23:01:16\n",
            "\u001b[H\u001b[2JRelógio\n",
            "23:01:17\n",
            "\u001b[H\u001b[2JRelógio\n",
            "23:01:18\n",
            "\u001b[H\u001b[2JRelógio\n",
            "23:01:19\n",
            "\u001b[H\u001b[2JRelógio\n",
            "23:01:20\n",
            "\u001b[H\u001b[2JRelógio\n",
            "23:01:21\n",
            "\u001b[H\u001b[2JRelógio\n",
            "23:01:22\n",
            "\u001b[H\u001b[2JRelógio\n",
            "23:01:23\n",
            "\u001b[?1l\u001b>\u001b[m"
          ]
        }
      ]
    },
    {
      "cell_type": "markdown",
      "source": [
        "### Exercício 7"
      ],
      "metadata": {
        "id": "rzarzvRuNscM"
      }
    },
    {
      "cell_type": "code",
      "source": [
        "%%writefile lista4exercicio7.cs\n",
        "\n",
        "using System;\n",
        "\n",
        "namespace Lista4Exercicio7{\n",
        "\n",
        "  class Program{\n",
        "    \n",
        "    static bool ChecaPrimo(int numero){\n",
        "      bool resposta=true;\n",
        "      int divisor;\n",
        "      if(numero < 0) numero = (-1)*numero;\n",
        "      if((numero == 0) || (numero == 1)) resposta=false;\n",
        "      else if(numero == 2) resposta=true;\n",
        "      else if(numero%2 == 0) resposta=false;\n",
        "      else{\n",
        "        for(divisor=3; divisor<numero; divisor+=2){\n",
        "          if(numero%divisor == 0){\n",
        "            resposta=false;\n",
        "            break;\n",
        "          }\n",
        "        }\n",
        "      }\n",
        "      return resposta;\n",
        "    }\n",
        "\n",
        "    static void Main(){\n",
        "\n",
        "      // Variáveis\n",
        "      int numero, i, contador;\n",
        "      bool Nprimeiros=false;\n",
        "      bool ateN=false;\n",
        "      bool primeiroPrimo;\n",
        "\n",
        "      // Entrada\n",
        "      Console.Write(\"Informe número:\");\n",
        "      numero = int.Parse(Console.ReadLine());\n",
        "      if(numero < 0) numero=(-1)*numero;\n",
        "      Console.WriteLine(\"Você prefere que eu imprima os {0} primeiros números primos? (S/N)\", numero);\n",
        "      Nprimeiros = 'S' == char.Parse(Console.ReadLine());\n",
        "      if(!Nprimeiros){\n",
        "        Console.WriteLine(\"Ou você prefere que eu imprima os números primos até {0}? (S/N)\", numero);\n",
        "        ateN = 'S' == char.Parse(Console.ReadLine());\n",
        "      }\n",
        "\n",
        "      // Processamento e Saída\n",
        "      if((!Nprimeiros) && (!ateN)) Console.WriteLine(\"Nenhuma opção escolhida. Programa encerrando...\");\n",
        "      else{\n",
        "        if(Nprimeiros){\n",
        "          Console.WriteLine(\"{0} primeiros números primos:\", numero);\n",
        "          contador=0;\n",
        "          i=0;\n",
        "          do{\n",
        "            if(ChecaPrimo(i)){\n",
        "              Console.Write(\"{0}\", i);\n",
        "              if(contador<numero) Console.Write(\", \");\n",
        "              contador++;\n",
        "            }\n",
        "            i++;\n",
        "          } while(contador<=numero);\n",
        "          Console.Write(\"\\n\");\n",
        "        }\n",
        "        else {\n",
        "          Console.WriteLine(\"Os números primos até {0}:\", numero);\n",
        "          primeiroPrimo=true;\n",
        "          for(i=0; i<=numero; i++){\n",
        "            if(ChecaPrimo(i)){\n",
        "              if(primeiroPrimo){\n",
        "                Console.Write(\"{0}\", i);\n",
        "                primeiroPrimo=false;\n",
        "              } else Console.Write(\", {0}\", i);\n",
        "            }\n",
        "          }\n",
        "          Console.Write(\"\\n\");\n",
        "        }\n",
        "      }\n",
        "\n",
        "    }\n",
        "\n",
        "  }\n",
        "\n",
        "}"
      ],
      "metadata": {
        "colab": {
          "base_uri": "https://localhost:8080/"
        },
        "id": "i_fsRboENT7t",
        "outputId": "f577abe2-0ac6-4588-e467-ca262cadb60b"
      },
      "execution_count": null,
      "outputs": [
        {
          "output_type": "stream",
          "name": "stdout",
          "text": [
            "Overwriting lista4exercicio7.cs\n"
          ]
        }
      ]
    },
    {
      "cell_type": "code",
      "source": [
        "!mcs lista4exercicio7.cs -out:lista4exercicio7.x"
      ],
      "metadata": {
        "id": "8-AZFSx5Ufmr"
      },
      "execution_count": null,
      "outputs": []
    },
    {
      "cell_type": "code",
      "source": [
        "!mono lista4exercicio7.x"
      ],
      "metadata": {
        "colab": {
          "base_uri": "https://localhost:8080/"
        },
        "id": "w4FR11u4VgvA",
        "outputId": "33855be3-9521-497c-f737-0b96d4307505"
      },
      "execution_count": null,
      "outputs": [
        {
          "output_type": "stream",
          "name": "stdout",
          "text": [
            "Informe número:\u001b[?1h\u001b=\u001b[6n\u001b[H\u001b[2J\u001b[6n100\n",
            "Você prefere que eu imprima os 100 primeiros números primos? (S/N)\n",
            "\u001b[6nN\n",
            "Ou você prefere que eu imprima os números primos até 100? (S/N)\n",
            "\u001b[6nS\n",
            "Os números primos até 100:\n",
            "2, 3, 5, 7, 11, 13, 17, 19, 23, 29, 31, 37, 41, 43, 47, 53, 59, 61, 67, 71, 73, 79, 83, 89, 97\n",
            "\u001b[?1l\u001b>\u001b[m"
          ]
        }
      ]
    },
    {
      "cell_type": "markdown",
      "source": [
        "### Exercício 8\n",
        "A série também pode ser escrita como:  \n",
        "$$ S(n) = \\sum_{i=0}^{n-1} \\frac{(-1)^i(i+1)}{(n-i)} $$"
      ],
      "metadata": {
        "id": "yrZ_gKZRNuF4"
      }
    },
    {
      "cell_type": "code",
      "source": [
        "%%writefile lista4exercicio8.cs\n",
        "\n",
        "using System;\n",
        "\n",
        "namespace Lista4Exercicio8{\n",
        "\n",
        "  class Program{\n",
        "\n",
        "    static double valorSerie(int numero){\n",
        "      double i, n, termo, resposta=0;\n",
        "      int indice;\n",
        "      n = Convert.ToDouble(numero);\n",
        "      for(indice=0; indice < numero; indice++){\n",
        "        if(indice%2 == 0) termo=1;\n",
        "        else termo=-1;\n",
        "        i = Convert.ToDouble(indice);\n",
        "        termo*=(i+1)/(n-i);\n",
        "        resposta+=termo;\n",
        "      }\n",
        "      return resposta;\n",
        "    }\n",
        "\n",
        "    static void Main(){\n",
        "\n",
        "      // Variáveis\n",
        "      int numero;\n",
        "      double serie;\n",
        "\n",
        "      // Entrada\n",
        "      Console.Write(\"Informe número: \");\n",
        "      numero = int.Parse(Console.ReadLine());\n",
        "      while(numero <= 0){\n",
        "        Console.WriteLine(\"Número inválido! Precisa ser positivo.\");\n",
        "        Console.Write(\"Informe número: \");\n",
        "        numero = int.Parse(Console.ReadLine());\n",
        "      }\n",
        "\n",
        "      // Processamento\n",
        "      serie = valorSerie(numero);\n",
        "\n",
        "      // Saída\n",
        "      Console.WriteLine(\"S({0}) = {1}\", numero, serie);\n",
        "\n",
        "    }\n",
        "\n",
        "  }\n",
        "\n",
        "}"
      ],
      "metadata": {
        "colab": {
          "base_uri": "https://localhost:8080/"
        },
        "id": "N5lhwkHwZS4f",
        "outputId": "dbcfeed3-fc03-4af2-8e1b-6aef8a84e3e4"
      },
      "execution_count": null,
      "outputs": [
        {
          "output_type": "stream",
          "name": "stdout",
          "text": [
            "Overwriting lista4exercicio8.cs\n"
          ]
        }
      ]
    },
    {
      "cell_type": "code",
      "source": [
        "!mcs lista4exercicio8.cs -out:lista4exercicio8.x"
      ],
      "metadata": {
        "id": "YDyzFFumbkIG"
      },
      "execution_count": null,
      "outputs": []
    },
    {
      "cell_type": "code",
      "source": [
        "!mono lista4exercicio8.x"
      ],
      "metadata": {
        "colab": {
          "base_uri": "https://localhost:8080/"
        },
        "id": "e_J1tJ40bzmS",
        "outputId": "25625dd6-7776-4efb-e90e-66e53fff57da"
      },
      "execution_count": null,
      "outputs": [
        {
          "output_type": "stream",
          "name": "stdout",
          "text": [
            "Informe número: \u001b[?1h\u001b=\u001b[6n\u001b[H\u001b[2J\u001b[6n10001\n",
            "S(10001) = 6932.35812495557\n",
            "\u001b[?1l\u001b>\u001b[m"
          ]
        }
      ]
    },
    {
      "cell_type": "markdown",
      "source": [
        "### Exercício 9\n",
        "Maior altura para homens, maior peso para mulheres... sexista isso, não?  \n",
        "**Nota:** números dos arquivos de entrada obtidos do site [random.org](random.org)."
      ],
      "metadata": {
        "id": "4dYDOfadNvnJ"
      }
    },
    {
      "cell_type": "code",
      "source": [
        "%%writefile lista4exercicio9.cs\n",
        "\n",
        "using System;\n",
        "using System.IO;\n",
        "\n",
        "namespace Lista4Exercicio9{\n",
        "\n",
        "  class Program{\n",
        "\n",
        "    static readonly string entrada_nome = \"L4E9_entrada_nome.txt\";\n",
        "    static readonly string entrada_sexo = \"L4E9_entrada_sexo.txt\";\n",
        "    static readonly string entrada_altura = \"L4E9_entrada_altura.txt\"; // em m\n",
        "    static readonly string entrada_peso = \"L4E9_entrada_peso.txt\"; // em kg\n",
        "\n",
        "    static void ModuloL4E9(string[] listaNomes, char[] listaSexos, double[] listaAlturas, double[] listaPesos, int tamanho){\n",
        "      int i, qteHomens=0, qteMulheres=0;\n",
        "      string nomeHomemMaiorAltura=\"\", nomeMulherMaiorPeso=\"\";\n",
        "      double mediaAlturaHomens=0, mediaPesoMulheres=0, maiorAlturaHomens=0, maiorPesoMulheres=0;\n",
        "\n",
        "      for(i=0; i < tamanho; i++){\n",
        "        if(listaSexos[i] == 'M'){\n",
        "          qteHomens++;\n",
        "          mediaAlturaHomens+=listaAlturas[i];\n",
        "          if(listaAlturas[i] > maiorAlturaHomens){\n",
        "            maiorAlturaHomens = listaAlturas[i];\n",
        "            nomeHomemMaiorAltura = listaNomes[i];\n",
        "          }\n",
        "        } else if(listaSexos[i] == 'F'){\n",
        "          qteMulheres++;\n",
        "          mediaPesoMulheres+=listaPesos[i];\n",
        "          if(listaPesos[i] > maiorPesoMulheres){\n",
        "            maiorPesoMulheres = listaPesos[i];\n",
        "            nomeMulherMaiorPeso = listaNomes[i];\n",
        "          }\n",
        "        }\n",
        "      }\n",
        "      mediaAlturaHomens = mediaAlturaHomens / Convert.ToDouble(qteHomens);\n",
        "      mediaPesoMulheres = mediaPesoMulheres / Convert.ToDouble(qteMulheres);\n",
        "\n",
        "      Console.WriteLine(\"Média de altura entre os homens: {0} m.\", Math.Round(mediaAlturaHomens,2));\n",
        "      Console.WriteLine(\"Média de peso entre as mulheres: {0} kg.\", Math.Round(mediaPesoMulheres,1));\n",
        "      Console.WriteLine(\"Homem com maior altura: {0}.\", nomeHomemMaiorAltura);\n",
        "      Console.WriteLine(\"Mulher com maior peso: {0}.\", nomeMulherMaiorPeso);\n",
        "    }\n",
        "\n",
        "    static void Main(){\n",
        "\n",
        "      // Variáveis\n",
        "      int i, tamanhoGrupo=10;\n",
        "      string[] nomesGrupo = new string[10];\n",
        "      char[] sexosGrupo = new char[10];\n",
        "      double[] alturasGrupo = new double[10];\n",
        "      double[] pesosGrupo = new double[10];\n",
        "      string[] stringSexosGrupo = new string[10];\n",
        "      string[] stringAlturasGrupo = new string[10];\n",
        "      string[] stringPesosGrupo = new string[10];\n",
        "\n",
        "      // Entrada\n",
        "      \n",
        "      nomesGrupo = File.ReadAllLines(entrada_nome);\n",
        "      stringSexosGrupo = File.ReadAllLines(entrada_sexo);\n",
        "      stringAlturasGrupo = File.ReadAllLines(entrada_altura);\n",
        "      stringPesosGrupo = File.ReadAllLines(entrada_peso);\n",
        "\n",
        "      for(i=0; i < tamanhoGrupo; i++){\n",
        "        sexosGrupo[i] = char.Parse(stringSexosGrupo[i]);\n",
        "        alturasGrupo[i] = double.Parse(stringAlturasGrupo[i]);\n",
        "        pesosGrupo[i] = double.Parse(stringPesosGrupo[i]);\n",
        "      }\n",
        "\n",
        "      // Processamento e Saída\n",
        "      \n",
        "      ModuloL4E9(nomesGrupo, sexosGrupo, alturasGrupo, pesosGrupo, tamanhoGrupo);\n",
        "\n",
        "    }\n",
        "\n",
        "  }\n",
        "\n",
        "}"
      ],
      "metadata": {
        "colab": {
          "base_uri": "https://localhost:8080/"
        },
        "id": "LiL8nRNLrHG5",
        "outputId": "2bfd6b73-3bbd-40cb-d716-3af26399761f"
      },
      "execution_count": null,
      "outputs": [
        {
          "output_type": "stream",
          "name": "stdout",
          "text": [
            "Overwriting lista4exercicio9.cs\n"
          ]
        }
      ]
    },
    {
      "cell_type": "code",
      "source": [
        "%%writefile L4E9_entrada_nome.txt\n",
        "Pedro\n",
        "Maria\n",
        "Joca\n",
        "Emanuel\n",
        "Rita\n",
        "Sílvia\n",
        "Ana Flávia\n",
        "Lynnie\n",
        "Renato\n",
        "Yvette"
      ],
      "metadata": {
        "colab": {
          "base_uri": "https://localhost:8080/"
        },
        "id": "1YynWzy4zBPi",
        "outputId": "0675b694-bdb2-4a13-c7af-5e31ffe8b9dc"
      },
      "execution_count": null,
      "outputs": [
        {
          "output_type": "stream",
          "name": "stdout",
          "text": [
            "Overwriting L4E9_entrada_nome.txt\n"
          ]
        }
      ]
    },
    {
      "cell_type": "code",
      "source": [
        "%%writefile L4E9_entrada_sexo.txt\n",
        "M\n",
        "F\n",
        "M\n",
        "M\n",
        "F\n",
        "F\n",
        "F\n",
        "N\n",
        "M\n",
        "F"
      ],
      "metadata": {
        "colab": {
          "base_uri": "https://localhost:8080/"
        },
        "id": "Yh8NMa8jzLe2",
        "outputId": "3bddb29a-4966-435d-822b-4edadd0ab8e9"
      },
      "execution_count": null,
      "outputs": [
        {
          "output_type": "stream",
          "name": "stdout",
          "text": [
            "Writing L4E9_entrada_sexo.txt\n"
          ]
        }
      ]
    },
    {
      "cell_type": "code",
      "source": [
        "%%writefile L4E9_entrada_altura.txt\n",
        "1.62\n",
        "1.56\n",
        "1.54\n",
        "1.86\n",
        "1.67\n",
        "1.87\n",
        "1.77\n",
        "1.62\n",
        "1.57\n",
        "1.79"
      ],
      "metadata": {
        "colab": {
          "base_uri": "https://localhost:8080/"
        },
        "id": "Qu-u-bdyzP9E",
        "outputId": "0bcde138-1123-41ec-b894-5959163fc05c"
      },
      "execution_count": null,
      "outputs": [
        {
          "output_type": "stream",
          "name": "stdout",
          "text": [
            "Overwriting L4E9_entrada_altura.txt\n"
          ]
        }
      ]
    },
    {
      "cell_type": "code",
      "source": [
        "%%writefile L4E9_entrada_peso.txt\n",
        "112\n",
        "65\n",
        "107\n",
        "55\n",
        "77\n",
        "64\n",
        "105\n",
        "106\n",
        "102\n",
        "52"
      ],
      "metadata": {
        "colab": {
          "base_uri": "https://localhost:8080/"
        },
        "id": "oGb-3GxSzUbX",
        "outputId": "64dddec7-3296-4fdb-8b29-a305e794af2b"
      },
      "execution_count": null,
      "outputs": [
        {
          "output_type": "stream",
          "name": "stdout",
          "text": [
            "Overwriting L4E9_entrada_peso.txt\n"
          ]
        }
      ]
    },
    {
      "cell_type": "code",
      "source": [
        "!mcs lista4exercicio9.cs -out:lista4exercicio9.x"
      ],
      "metadata": {
        "id": "apiyQAY71KhK"
      },
      "execution_count": null,
      "outputs": []
    },
    {
      "cell_type": "code",
      "source": [
        "!mono lista4exercicio9.x"
      ],
      "metadata": {
        "colab": {
          "base_uri": "https://localhost:8080/"
        },
        "id": "ANzK813P5tLE",
        "outputId": "a4bc63f1-ee0e-4cb5-9f4e-fb2e605718f8"
      },
      "execution_count": null,
      "outputs": [
        {
          "output_type": "stream",
          "name": "stdout",
          "text": [
            "Média de altura entre os homens: 1.65 m.\n",
            "Média de peso entre as mulheres: 72.6 kg.\n",
            "Homem com maior altura: Emanuel.\n",
            "Mulher com maior peso: Ana Flávia.\n"
          ]
        }
      ]
    },
    {
      "cell_type": "markdown",
      "source": [
        "### Exercício 10\n",
        "Usei `List<int>` porque a sequência de números não tinha tamanho definido, ou seja, seria preciso criar espaço de acordo com a quantidade de elementos lidos. Fosse no C, seria o caso de usar `malloc` para alocar memória dinamicamente à medida em que novos elementos fossem lidos."
      ],
      "metadata": {
        "id": "TuG5SwAgNxk4"
      }
    },
    {
      "cell_type": "code",
      "source": [
        "%%writefile lista4exercicio10.cs\n",
        "\n",
        "using System;\n",
        "using System.Collections;\n",
        "using System.Collections.Generic;\n",
        "using System.Linq;\n",
        "\n",
        "namespace Lista4Exercicio10{\n",
        "\n",
        "  class Program{\n",
        "\n",
        "    static void MaiorValorPosicao(List<int> valores){\n",
        "      int i=0, maior=-2147483648, posicao=-1;\n",
        "      foreach(int numero in valores){\n",
        "        if(numero > maior){\n",
        "          maior = numero;\n",
        "          posicao = i;\n",
        "        }\n",
        "        i++;\n",
        "      }\n",
        "      Console.WriteLine(\"O maior valor é {0} e sua posição é {1}º.\", maior, posicao+1);\n",
        "    }\n",
        "\n",
        "    static void Main(){\n",
        "\n",
        "      // Variáveis\n",
        "      int numero;\n",
        "      List<int> listaNumeros = new List<int>();\n",
        "\n",
        "      // Entrada\n",
        "\n",
        "      do{\n",
        "        Console.Write(\"Informe valor: \");\n",
        "        numero = int.Parse(Console.ReadLine());\n",
        "        if(numero != 0){\n",
        "          listaNumeros.Add(numero);\n",
        "        }\n",
        "      } while(numero != 0);\n",
        "\n",
        "      // Processamento\n",
        "\n",
        "      MaiorValorPosicao(listaNumeros);\n",
        "\n",
        "      // Saída\n",
        "\n",
        "    }\n",
        "\n",
        "  }\n",
        "\n",
        "}"
      ],
      "metadata": {
        "id": "UyhuiP8n-nZ8",
        "colab": {
          "base_uri": "https://localhost:8080/"
        },
        "outputId": "c7b26f9c-ff44-4bbc-d21c-b9cacc1c39b8"
      },
      "execution_count": 147,
      "outputs": [
        {
          "output_type": "stream",
          "name": "stdout",
          "text": [
            "Overwriting lista4exercicio10.cs\n"
          ]
        }
      ]
    },
    {
      "cell_type": "code",
      "source": [
        "!mcs lista4exercicio10.cs -out:lista4exercicio10.x"
      ],
      "metadata": {
        "id": "Um9G_eOuEXsT"
      },
      "execution_count": 148,
      "outputs": []
    },
    {
      "cell_type": "code",
      "source": [
        "!mono lista4exercicio10.x"
      ],
      "metadata": {
        "colab": {
          "base_uri": "https://localhost:8080/"
        },
        "id": "hnmMn6z3N4vO",
        "outputId": "fe1ed17b-c485-45b2-d673-e402d5ad5f94"
      },
      "execution_count": 149,
      "outputs": [
        {
          "output_type": "stream",
          "name": "stdout",
          "text": [
            "Informe valor: \u001b[?1h\u001b=\u001b[6n\u001b[H\u001b[2J\u001b[6n6\n",
            "Informe valor: \u001b[6n-7\n",
            "Informe valor: \u001b[6n8\n",
            "Informe valor: \u001b[6n-9\n",
            "Informe valor: \u001b[6n10\n",
            "Informe valor: \u001b[6n5\n",
            "Informe valor: \u001b[6n-4\n",
            "Informe valor: \u001b[6n3\n",
            "Informe valor: \u001b[6n-2\n",
            "Informe valor: \u001b[6n1\n",
            "Informe valor: \u001b[6n0\n",
            "O maior valor é 10 e sua posição é 5º.\n",
            "\u001b[?1l\u001b>\u001b[m"
          ]
        }
      ]
    },
    {
      "cell_type": "markdown",
      "source": [
        "### Exercício 11"
      ],
      "metadata": {
        "id": "mASW294WNzDY"
      }
    },
    {
      "cell_type": "code",
      "source": [
        "%%writefile lista4exercicio11.cs\n",
        "\n",
        "using System;\n",
        "using System.IO;\n",
        "\n",
        "namespace Lista4Exercicio11{\n",
        "\n",
        "  class Program{\n",
        "\n",
        "    static readonly string entrada_notas = \"L4E11_entrada_notas.txt\";\n",
        "\n",
        "    static void LerNotas(double[] notas, int tamanho){\n",
        "      string[] stringNotas = new string[tamanho];\n",
        "      int i;\n",
        "      stringNotas = File.ReadAllLines(entrada_notas);\n",
        "      for(i=0; i < tamanho; i++){\n",
        "        notas[i] = Convert.ToDouble(stringNotas[i]);\n",
        "      }\n",
        "    }\n",
        "\n",
        "    static double CalcularMedia(double[] notas, int tamanho){\n",
        "      int i;\n",
        "      double media=0;\n",
        "      for(i=0; i < tamanho; i++){\n",
        "        media+=notas[i];\n",
        "      }\n",
        "      media = media / Convert.ToDouble(tamanho);\n",
        "      return media;\n",
        "    }\n",
        "\n",
        "    static void ImprimirNotas(double[] notas, int tamanho, double media){ // média e mais alta\n",
        "      int i;\n",
        "      double maior=0;\n",
        "      for(i=0; i < tamanho; i++){\n",
        "        if(notas[i] > maior) maior = notas[i];\n",
        "      }\n",
        "      Console.WriteLine(\"Média da turma: {0}.\", media);\n",
        "      Console.WriteLine(\"Nota mais alta: {0}.\", maior);\n",
        "    }\n",
        "\n",
        "    static void Main(){\n",
        "\n",
        "      // Variáveis\n",
        "\n",
        "      double[] notas = new double[10];\n",
        "      double media;\n",
        "\n",
        "      // Entrada\n",
        "\n",
        "      LerNotas(notas, 10);\n",
        "\n",
        "      // Processamento\n",
        "\n",
        "      media = CalcularMedia(notas, 10);\n",
        "\n",
        "      // Saída\n",
        "\n",
        "      ImprimirNotas(notas, 10, media);\n",
        "\n",
        "    }\n",
        "\n",
        "  }\n",
        "\n",
        "}"
      ],
      "metadata": {
        "colab": {
          "base_uri": "https://localhost:8080/"
        },
        "id": "g41zw2hzR16T",
        "outputId": "77216096-3eda-4e37-efaa-95b542f1d972"
      },
      "execution_count": 168,
      "outputs": [
        {
          "output_type": "stream",
          "name": "stdout",
          "text": [
            "Overwriting lista4exercicio11.cs\n"
          ]
        }
      ]
    },
    {
      "cell_type": "code",
      "source": [
        "%%writefile L4E11_entrada_notas.txt\n",
        "6\n",
        "7\n",
        "8\n",
        "6\n",
        "9\n",
        "7\n",
        "8\n",
        "7\n",
        "10\n",
        "9"
      ],
      "metadata": {
        "colab": {
          "base_uri": "https://localhost:8080/"
        },
        "id": "tXjVxkLNUtNv",
        "outputId": "6dba4587-57bd-4230-fe28-ee9a53bb215d"
      },
      "execution_count": 163,
      "outputs": [
        {
          "output_type": "stream",
          "name": "stdout",
          "text": [
            "Overwriting L4E11_entrada_notas.txt\n"
          ]
        }
      ]
    },
    {
      "cell_type": "code",
      "source": [
        "!mcs lista4exercicio11.cs -out:lista4exercicio11.x"
      ],
      "metadata": {
        "id": "0WgsZ3FfU5P2"
      },
      "execution_count": 169,
      "outputs": []
    },
    {
      "cell_type": "code",
      "source": [
        "!mono lista4exercicio11.x"
      ],
      "metadata": {
        "colab": {
          "base_uri": "https://localhost:8080/"
        },
        "id": "f_OwxRX1Xopv",
        "outputId": "918c68ed-2be2-4189-895a-1ea352dd9b1b"
      },
      "execution_count": 170,
      "outputs": [
        {
          "output_type": "stream",
          "name": "stdout",
          "text": [
            "Média da turma: 7.7.\n",
            "Nota mais alta: 10.\n"
          ]
        }
      ]
    },
    {
      "cell_type": "markdown",
      "source": [
        "### Exercício 12"
      ],
      "metadata": {
        "id": "ZET6g5GHN0-Y"
      }
    },
    {
      "cell_type": "code",
      "source": [
        "%%writefile lista4exercicio12.cs\n",
        "\n",
        "using System;\n",
        "\n",
        "namespace Lista4Exercicio12{\n",
        "\n",
        "  class Program{\n",
        "\n",
        "    // Módulos aqui!\n",
        "\n",
        "    static void ModuloL4E12(int[] vetor1, int[] vetor2, int[] vetorSoma, int tamanho){\n",
        "      LerVetores(vetor1, vetor2, 8);\n",
        "      SomarVetor(vetor1, vetor2, vetorSoma, 8);\n",
        "      ImprimirVetor(vetorSoma, 8);\n",
        "    }\n",
        "\n",
        "    static void LerVetores(int[] vetor1, int[] vetor2, int tamanho){\n",
        "      int i;\n",
        "      for(i=0; i < tamanho; i++){\n",
        "        Console.Write(\"{0}º valor do 1º vetor: \", i+1);\n",
        "        vetor1[i] = int.Parse(Console.ReadLine());\n",
        "        Console.Write(\"{0}º valor do 2º vetor: \", i+1);\n",
        "        vetor2[i] = int.Parse(Console.ReadLine());\n",
        "      }\n",
        "    }\n",
        "\n",
        "    static void SomarVetor(int[] vetor1, int[] vetor2, int[] vetorSoma, int tamanho){\n",
        "      int i;\n",
        "      for(i=0; i < tamanho; i++){\n",
        "        vetorSoma[i] = vetor1[i] + vetor2[i];\n",
        "      }\n",
        "    }\n",
        "\n",
        "    static void ImprimirVetor(int[] vetor, int tamanho){\n",
        "      int i;\n",
        "      Console.Write(\"Vetor: \");\n",
        "      for(i=0; i < tamanho; i++){\n",
        "        Console.Write(\"{0} \", vetor[i]);\n",
        "      }\n",
        "    }\n",
        "\n",
        "    static void Main(){\n",
        "\n",
        "      // Variáveis\n",
        "\n",
        "      int[] vetor1 = new int[8];\n",
        "      int[] vetor2 = new int[8];\n",
        "      int[] vetorSoma = new int[8];\n",
        "\n",
        "      ModuloL4E12(vetor1, vetor2, vetorSoma, 8);\n",
        "\n",
        "    }\n",
        "\n",
        "  }\n",
        "\n",
        "}"
      ],
      "metadata": {
        "colab": {
          "base_uri": "https://localhost:8080/"
        },
        "id": "d_OhrItLYefs",
        "outputId": "b17d064f-5993-460e-8717-08d80e64d1cc"
      },
      "execution_count": 175,
      "outputs": [
        {
          "output_type": "stream",
          "name": "stdout",
          "text": [
            "Overwriting lista4exercicio12.cs\n"
          ]
        }
      ]
    },
    {
      "cell_type": "code",
      "source": [
        "!mcs lista4exercicio12.cs -out:lista4exercicio12.x"
      ],
      "metadata": {
        "id": "GkvdyLqAciMg"
      },
      "execution_count": 176,
      "outputs": []
    },
    {
      "cell_type": "code",
      "source": [
        "!mono lista4exercicio12.x"
      ],
      "metadata": {
        "colab": {
          "base_uri": "https://localhost:8080/"
        },
        "id": "88-pkt4-cqSv",
        "outputId": "0c34d002-9a1b-412c-dd14-3d6f7cc8f130"
      },
      "execution_count": 174,
      "outputs": [
        {
          "output_type": "stream",
          "name": "stdout",
          "text": [
            "1º valor do 1º vetor: \u001b[?1h\u001b=\u001b[6n\u001b[H\u001b[2J\u001b[6n3\n",
            "1º valor do 2º vetor: \u001b[6n5\n",
            "2º valor do 1º vetor: \u001b[6n4\n",
            "2º valor do 2º vetor: \u001b[6n8\n",
            "3º valor do 1º vetor: \u001b[6n2\n",
            "3º valor do 2º vetor: \u001b[6n7\n",
            "4º valor do 1º vetor: \u001b[6n9\n",
            "4º valor do 2º vetor: \u001b[6n1\n",
            "5º valor do 1º vetor: \u001b[6n5\n",
            "5º valor do 2º vetor: \u001b[6n6\n",
            "6º valor do 1º vetor: \u001b[6n4\n",
            "6º valor do 2º vetor: \u001b[6n8\n",
            "7º valor do 1º vetor: \u001b[6n7\n",
            "7º valor do 2º vetor: \u001b[6n3\n",
            "8º valor do 1º vetor: \u001b[6n2\n",
            "8º valor do 2º vetor: \u001b[6n2\n",
            "Vetor: 8 12 9 10 11 12 10 4 \u001b[?1l\u001b>\u001b[m"
          ]
        }
      ]
    },
    {
      "cell_type": "markdown",
      "source": [
        "### Exercício 13\n",
        "**Notas:**\n",
        "* usei `ArrayList` porque, novamente, não havia especificação de quantas matrículas haveriam em cada arquivo, apenas o critério de parada (a string \"999\", que serve como fim-de-arquivo / `eof`);\n",
        "* números dos arquivos de entrada obtidos do site [random.org](https://random.org)."
      ],
      "metadata": {
        "id": "2qX2Wty0N2_7"
      }
    },
    {
      "cell_type": "code",
      "source": [
        "%%writefile lista4exercicio13.cs\n",
        "\n",
        "using System;\n",
        "using System.IO;\n",
        "using System.Collections;\n",
        "using System.Collections.Generic;\n",
        "\n",
        "namespace Lista4Exercicio13{\n",
        "\n",
        "  class Program{\n",
        "\n",
        "    static readonly string mat045 = \"MAT045_Matriculas.txt\";\n",
        "    static readonly string mat037 = \"MAT037_Matriculas.txt\";\n",
        "\n",
        "    // Módulos aqui!\n",
        "\n",
        "    static void ModuloL4E13(ArrayList matriculas1, ArrayList matriculas2, ArrayList matriculas3){\n",
        "      LerMatriculas(matriculas1, matriculas2);\n",
        "      ObterMatriculasEmComum(matriculas1, matriculas2, matriculas3);\n",
        "      ImprimirMatriculasEmComum(matriculas3);\n",
        "    }\n",
        "\n",
        "    static void LerMatriculas(ArrayList matriculas1, ArrayList matriculas2){\n",
        "      string[] matriculasTemp1 = File.ReadAllLines(mat045);\n",
        "      foreach(string matricula in matriculasTemp1){\n",
        "        if(matricula != \"999\") matriculas1.Add(matricula);\n",
        "      }\n",
        "      string[] matriculasTemp2 = File.ReadAllLines(mat037);\n",
        "      foreach(string matricula in matriculasTemp2){\n",
        "        if(matricula != \"999\") matriculas2.Add(matricula);\n",
        "      }\n",
        "    }\n",
        "\n",
        "    static void ObterMatriculasEmComum(ArrayList matriculas1, ArrayList matriculas2, ArrayList matriculas3){\n",
        "      foreach(string matricula in matriculas1){\n",
        "        if(matriculas2.Contains(matricula)) matriculas3.Add(matricula);\n",
        "      }\n",
        "    }\n",
        "\n",
        "    static void ImprimirMatriculasEmComum(ArrayList matriculas3){\n",
        "      Console.WriteLine(\"Alunos matriculados nas duas disciplinas:\");\n",
        "      foreach(string matricula in matriculas3) Console.WriteLine(\"{0}\", matricula);\n",
        "    }\n",
        "\n",
        "    static void Main(){\n",
        "\n",
        "      // Variáveis\n",
        "\n",
        "      ArrayList matriculasMAT045 = new ArrayList();\n",
        "      ArrayList matriculasMAT037 = new ArrayList();\n",
        "      ArrayList matriculasEmComum = new ArrayList();\n",
        "\n",
        "      ModuloL4E13(matriculasMAT045, matriculasMAT037, matriculasEmComum);\n",
        "\n",
        "    }\n",
        "\n",
        "  }\n",
        "\n",
        "}"
      ],
      "metadata": {
        "colab": {
          "base_uri": "https://localhost:8080/"
        },
        "id": "DGb6pv3ye4pI",
        "outputId": "1cd6428e-d0fe-4bf1-e99e-429b2682bc5f"
      },
      "execution_count": 186,
      "outputs": [
        {
          "output_type": "stream",
          "name": "stdout",
          "text": [
            "Overwriting lista4exercicio13.cs\n"
          ]
        }
      ]
    },
    {
      "cell_type": "code",
      "source": [
        "%%writefile MAT045_Matriculas.txt\n",
        "884860971\n",
        "590422698\n",
        "799464099\n",
        "755823242\n",
        "031968940\n",
        "008534758\n",
        "289540323\n",
        "173461560\n",
        "079697283\n",
        "248111553\n",
        "085643599\n",
        "979375201\n",
        "224520260\n",
        "383505461\n",
        "021763376\n",
        "311071495\n",
        "334277369\n",
        "899254454\n",
        "752810436\n",
        "814427319\n",
        "750921857\n",
        "664428969\n",
        "563625725\n",
        "835923757\n",
        "527433299\n",
        "445589040\n",
        "014089879\n",
        "795915781\n",
        "801992499\n",
        "831534203\n",
        "999"
      ],
      "metadata": {
        "colab": {
          "base_uri": "https://localhost:8080/"
        },
        "id": "A7etXhDOf-X_",
        "outputId": "9001f52a-f780-402b-e510-d3196e3fae67"
      },
      "execution_count": 184,
      "outputs": [
        {
          "output_type": "stream",
          "name": "stdout",
          "text": [
            "Overwriting MAT045_Matriculas.txt\n"
          ]
        }
      ]
    },
    {
      "cell_type": "code",
      "source": [
        "%%writefile MAT037_Matriculas.txt\n",
        "884860971\n",
        "527433299\n",
        "483231709\n",
        "210542670\n",
        "085653642\n",
        "115954982\n",
        "196469616\n",
        "289540323\n",
        "261196585\n",
        "586689685\n",
        "334277369\n",
        "613503883\n",
        "399006471\n",
        "104371664\n",
        "327615728\n",
        "910008202\n",
        "435752322\n",
        "152490826\n",
        "929104807\n",
        "611298645\n",
        "814427319\n",
        "452970162\n",
        "586033485\n",
        "929089971\n",
        "347618908\n",
        "285402048\n",
        "219599515\n",
        "576344141\n",
        "947969458\n",
        "737481335\n",
        "999"
      ],
      "metadata": {
        "colab": {
          "base_uri": "https://localhost:8080/"
        },
        "id": "0bWmt7kagEcJ",
        "outputId": "c5396911-a777-45fc-acb1-db6003cdfbba"
      },
      "execution_count": 185,
      "outputs": [
        {
          "output_type": "stream",
          "name": "stdout",
          "text": [
            "Overwriting MAT037_Matriculas.txt\n"
          ]
        }
      ]
    },
    {
      "cell_type": "code",
      "source": [
        "!mcs lista4exercicio13.cs -out:lista4exercicio13.x"
      ],
      "metadata": {
        "id": "Iwy3MEEKk6UH"
      },
      "execution_count": 187,
      "outputs": []
    },
    {
      "cell_type": "code",
      "source": [
        "!mono lista4exercicio13.x"
      ],
      "metadata": {
        "colab": {
          "base_uri": "https://localhost:8080/"
        },
        "id": "s-ig4SY1lK3v",
        "outputId": "9fe3ad43-5d43-4324-a0ef-076a03ea3de8"
      },
      "execution_count": 188,
      "outputs": [
        {
          "output_type": "stream",
          "name": "stdout",
          "text": [
            "Alunos matriculados nas duas disciplinas:\n",
            "884860971\n",
            "289540323\n",
            "334277369\n",
            "814427319\n",
            "527433299\n"
          ]
        }
      ]
    },
    {
      "cell_type": "markdown",
      "source": [
        "## Lista 5 – Vetores e Matrizes\n",
        "**Nota:** nos exercícios 3 e 8, dados são lidos de um arquivo de entrada. No colab os códigos funcionam, contudo se você for testá-los no terminal, sugiro que altere os caminhos dos arquivos de entrada, ou seja: `static readonly string entrada = \"<path>/filename\"` (ou `\"<path>\\filename\"` em Windows)."
      ],
      "metadata": {
        "id": "m7GMeQhw3Q0a"
      }
    },
    {
      "cell_type": "markdown",
      "source": [
        "### Exercício 1"
      ],
      "metadata": {
        "id": "NxBPMsIr2DOT"
      }
    },
    {
      "cell_type": "code",
      "source": [
        "%%writefile lista5exercicio1.cs\n",
        "\n",
        "using System;\n",
        "\n",
        "namespace Lista5Exercicio1{\n",
        "\n",
        "  class Program{\n",
        "\n",
        "    static void Main(){\n",
        "\n",
        "      // Variáveis\n",
        "      int[] vetor = new int[8];\n",
        "      int i, produto=1;\n",
        "\n",
        "      // Entrada e Processamento\n",
        "      Console.WriteLine(\"Insira os elementos do vetor de 8 casas:\");\n",
        "      for(i=0;i<8;i++){\n",
        "        vetor[i] = int.Parse(Console.ReadLine());\n",
        "        produto*=vetor[i];\n",
        "      }\n",
        "\n",
        "      // Saída\n",
        "      Console.WriteLine(\"Produto dos elementos do vetor: {0}.\", produto);\n",
        "\n",
        "    }\n",
        "\n",
        "  }\n",
        "\n",
        "}"
      ],
      "metadata": {
        "colab": {
          "base_uri": "https://localhost:8080/"
        },
        "id": "iQ_Matz4z4xr",
        "outputId": "932b0e51-113c-4151-db3e-0f2cdfe414ae"
      },
      "execution_count": null,
      "outputs": [
        {
          "output_type": "stream",
          "name": "stdout",
          "text": [
            "Overwriting lista5exercicio1.cs\n"
          ]
        }
      ]
    },
    {
      "cell_type": "code",
      "source": [
        "!mcs lista5exercicio1.cs -out:lista5exercicio1.x"
      ],
      "metadata": {
        "id": "o9t4vQM31lDs"
      },
      "execution_count": null,
      "outputs": []
    },
    {
      "cell_type": "code",
      "source": [
        "!mono lista5exercicio1.x"
      ],
      "metadata": {
        "colab": {
          "base_uri": "https://localhost:8080/"
        },
        "id": "4XmXejP81uVZ",
        "outputId": "f66b9613-ea64-4a5f-a7dd-606c186abaf2"
      },
      "execution_count": null,
      "outputs": [
        {
          "output_type": "stream",
          "name": "stdout",
          "text": [
            "Insira os elementos do vetor de 8 casas:\n",
            "\u001b[?1h\u001b=\u001b[6n\u001b[H\u001b[2J\u001b[6n2\n",
            "\u001b[6n3\n",
            "\u001b[6n5\n",
            "\u001b[6n7\n",
            "\u001b[6n9\n",
            "\u001b[6n11\n",
            "\u001b[6n13\n",
            "\u001b[6n19\n",
            "Produto dos elementos do vetor: 5135130.\n",
            "\u001b[?1l\u001b>\u001b[m"
          ]
        }
      ]
    },
    {
      "cell_type": "markdown",
      "source": [
        "### Exercício 2"
      ],
      "metadata": {
        "id": "Fs5bbgTX2GX8"
      }
    },
    {
      "cell_type": "code",
      "source": [
        "%%writefile lista5exercicio2.cs\n",
        "\n",
        "using System;\n",
        "\n",
        "namespace Lista5Exercicio2{\n",
        "\n",
        "  class Program{\n",
        "\n",
        "    static void Main(){\n",
        "\n",
        "      // Variáveis\n",
        "      int[] vetorA = new int[8];\n",
        "      int[] vetorB = new int[8];\n",
        "      int[] vetorC = new int[8];\n",
        "      int i;\n",
        "\n",
        "      // Entrada\n",
        "      Console.WriteLine(\"Informe vetor A:\");\n",
        "      for(i=0;i<8;i++){\n",
        "        vetorA[i] = int.Parse(Console.ReadLine());\n",
        "      }\n",
        "      Console.WriteLine(\"Informe vetor B:\");\n",
        "      for(i=0;i<8;i++){\n",
        "        vetorB[i] = int.Parse(Console.ReadLine());\n",
        "      }\n",
        "\n",
        "      // Processamento\n",
        "      for(i=0;i<8;i++){\n",
        "        vetorC[i] = vetorA[i] + vetorB[i];\n",
        "      }\n",
        "\n",
        "      // Saída\n",
        "      Console.WriteLine(\"Vetor C:\");\n",
        "      for(i=0;i<8;i++){\n",
        "        Console.Write(vetorC[i]);\n",
        "        if(i<7) Console.Write(\", \");\n",
        "      }\n",
        "      Console.Write(\"\\n\");\n",
        "\n",
        "    }\n",
        "\n",
        "  }\n",
        "\n",
        "}"
      ],
      "metadata": {
        "colab": {
          "base_uri": "https://localhost:8080/"
        },
        "id": "BK6BH-6x2IcR",
        "outputId": "07e78817-b9e7-4f86-ab28-dfbb848eeb24"
      },
      "execution_count": null,
      "outputs": [
        {
          "output_type": "stream",
          "name": "stdout",
          "text": [
            "Writing lista5exercicio2.cs\n"
          ]
        }
      ]
    },
    {
      "cell_type": "code",
      "source": [
        "!mcs lista5exercicio2.cs -out:lista5exercicio2.x"
      ],
      "metadata": {
        "id": "FTiK7yse3fXd"
      },
      "execution_count": null,
      "outputs": []
    },
    {
      "cell_type": "code",
      "source": [
        "!mono lista5exercicio2.x"
      ],
      "metadata": {
        "colab": {
          "base_uri": "https://localhost:8080/"
        },
        "id": "nAkgW1Cm3mPi",
        "outputId": "b9cd9dea-3ef7-409a-e2dd-29bd5ccfd1f2"
      },
      "execution_count": null,
      "outputs": [
        {
          "output_type": "stream",
          "name": "stdout",
          "text": [
            "Informe vetor A:\n",
            "\u001b[?1h\u001b=\u001b[6n\u001b[H\u001b[2J\u001b[6n1\n",
            "\u001b[6n\n",
            "\u001b[6n3\n",
            "\u001b[6n4\n",
            "\u001b[6n5\n",
            "\u001b[6n6\n",
            "\u001b[6n\n",
            "\u001b[6n8\n",
            "Informe vetor B:\n",
            "\u001b[6n8\n",
            "\u001b[6n7\n",
            "\u001b[6n6\n",
            "\u001b[6n\n",
            "\u001b[6n4\n",
            "\u001b[6n3\n",
            "\u001b[6n2\n",
            "\u001b[6n1\n",
            "Vetor C:\n",
            "9, 9, 9, 9, 9, 9, 9, 9\n",
            "\u001b[?1l\u001b>\u001b[m"
          ]
        }
      ]
    },
    {
      "cell_type": "markdown",
      "source": [
        "### Exercício 3\n",
        "**Nota:** números do arquivo de entrada obtidos do site [random.org](https://random.org)."
      ],
      "metadata": {
        "id": "YAMmUtgY3zxm"
      }
    },
    {
      "cell_type": "code",
      "source": [
        "%%writefile lista5exercicio3.cs\n",
        "\n",
        "using System;\n",
        "using System.IO;\n",
        "\n",
        "namespace Lista5Exercicio3{\n",
        "\n",
        "  class Program{\n",
        "\n",
        "    static readonly string entrada = \"L5E3_entrada.txt\";\n",
        "\n",
        "    static void Main(){\n",
        "\n",
        "      // Variáveis\n",
        "      string[] stringSalarios = new string[50];\n",
        "      int[] salarios = new int[50];\n",
        "      int media=0, qtosAcimaMedia=0, i;\n",
        "\n",
        "      // Entrada\n",
        "      stringSalarios = File.ReadAllLines(entrada);\n",
        "\n",
        "      // Processamento\n",
        "      for(i=0;i<50;i++){\n",
        "        salarios[i] = int.Parse(stringSalarios[i]);\n",
        "        media+=salarios[i];\n",
        "      }\n",
        "      media = media / 50;\n",
        "      Console.WriteLine(\"Média: {0}.\", media);\n",
        "      for(i=0;i<50;i++){\n",
        "        if(salarios[i] > media) qtosAcimaMedia++;\n",
        "      }\n",
        "\n",
        "      // Saída\n",
        "      Console.WriteLine(\"{0} funcionários ganham acima da média.\", qtosAcimaMedia);\n",
        "\n",
        "    }\n",
        "\n",
        "  }\n",
        "\n",
        "}"
      ],
      "metadata": {
        "colab": {
          "base_uri": "https://localhost:8080/"
        },
        "id": "FxbW9aMf31rL",
        "outputId": "d7110ea4-2a02-4ed9-f76d-cd569078c2f5"
      },
      "execution_count": null,
      "outputs": [
        {
          "output_type": "stream",
          "name": "stdout",
          "text": [
            "Overwriting lista5exercicio3.cs\n"
          ]
        }
      ]
    },
    {
      "cell_type": "code",
      "source": [
        "%%writefile L5E3_entrada.txt\n",
        "6740\n",
        "5662\n",
        "2577\n",
        "2197\n",
        "2232\n",
        "7617\n",
        "1217\n",
        "2952\n",
        "6336\n",
        "9729\n",
        "9733\n",
        "5126\n",
        "5368\n",
        "3732\n",
        "2421\n",
        "1441\n",
        "5955\n",
        "3627\n",
        "7551\n",
        "4448\n",
        "9866\n",
        "5539\n",
        "3465\n",
        "1022\n",
        "8706\n",
        "3136\n",
        "6664\n",
        "7799\n",
        "7679\n",
        "8917\n",
        "6793\n",
        "3550\n",
        "5751\n",
        "4594\n",
        "8029\n",
        "7437\n",
        "8808\n",
        "8360\n",
        "9350\n",
        "7394\n",
        "2928\n",
        "1530\n",
        "4811\n",
        "8858\n",
        "9156\n",
        "7632\n",
        "8049\n",
        "9295\n",
        "8270\n",
        "1065"
      ],
      "metadata": {
        "colab": {
          "base_uri": "https://localhost:8080/"
        },
        "id": "l9WXrH6m4fwE",
        "outputId": "9100b7b4-392f-42d8-d6d8-864e33b330d6"
      },
      "execution_count": null,
      "outputs": [
        {
          "output_type": "stream",
          "name": "stdout",
          "text": [
            "Writing L5E3_entrada.txt\n"
          ]
        }
      ]
    },
    {
      "cell_type": "code",
      "source": [
        "!mcs lista5exercicio3.cs -out:lista5exercicio3.x"
      ],
      "metadata": {
        "id": "47Z-r6KQ6cfn"
      },
      "execution_count": null,
      "outputs": []
    },
    {
      "cell_type": "code",
      "source": [
        "!mono lista5exercicio3.x"
      ],
      "metadata": {
        "colab": {
          "base_uri": "https://localhost:8080/"
        },
        "id": "KPtl5FE3-wRx",
        "outputId": "07599816-5db4-44c8-f693-d962e49e116e"
      },
      "execution_count": null,
      "outputs": [
        {
          "output_type": "stream",
          "name": "stdout",
          "text": [
            "Média: 5822.\n",
            "26 funcionários ganham acima da média.\n"
          ]
        }
      ]
    },
    {
      "cell_type": "markdown",
      "source": [
        "### Exercício 4"
      ],
      "metadata": {
        "id": "H5v7KHv-BNo2"
      }
    },
    {
      "cell_type": "code",
      "source": [
        "%%writefile lista5exercicio4.cs\n",
        "\n",
        "using System;\n",
        "\n",
        "namespace Lista5Exercicio4{\n",
        "\n",
        "  class Program{\n",
        "\n",
        "    static void Main(){\n",
        "\n",
        "      // Variáveis\n",
        "      int[] VET1 = new int[10];\n",
        "      int[] VET2 = new int[10];\n",
        "      int[] VET3 = new int[20];\n",
        "      int i, j, k, temporario;\n",
        "\n",
        "      // Entrada\n",
        "      Console.WriteLine(\"Aviso: você vai inserir valores de dois vetores de 10 casas cada.\\nPara cada vetor, os valores devem estar em ordem crescente.\\nO resultado será um terceiro vetor, de 20 casas, que resultará\\n da intercalação dos dois primeiros vetores.\");\n",
        "      Console.WriteLine(\"Insira os valores do primeiro vetor:\");\n",
        "      for(i=0;i<10;i++){\n",
        "        Console.Write(\"VET1[{0}]: \", i);\n",
        "        temporario = int.Parse(Console.ReadLine());\n",
        "        if(i == 0) VET1[i] = temporario;\n",
        "        else{\n",
        "          while (temporario < VET1[i-1]){\n",
        "            Console.WriteLine(\"Erro! Valor menor que o anterior.\");\n",
        "            Console.Write(\"VET1[{0}]: \", i);\n",
        "            temporario = int.Parse(Console.ReadLine());\n",
        "          }\n",
        "          VET1[i] = temporario;\n",
        "        }\n",
        "      }\n",
        "      Console.WriteLine(\"Insira os valores do segundo vetor:\");\n",
        "      for(j=0;j<10;j++){\n",
        "        Console.Write(\"VET2[{0}]: \", j);\n",
        "        temporario = int.Parse(Console.ReadLine());\n",
        "        if(j == 0) VET2[j] = temporario;\n",
        "        else{\n",
        "          while (temporario < VET2[j-1]){\n",
        "            Console.WriteLine(\"Erro! Valor menor que o anterior.\");\n",
        "            Console.Write(\"VET2[{0}]: \", j);\n",
        "            temporario = int.Parse(Console.ReadLine());\n",
        "          }\n",
        "          VET2[j] = temporario;\n",
        "        }\n",
        "      }\n",
        "      \n",
        "      // Processamento\n",
        "      i=0;\n",
        "      j=0;\n",
        "      for (k=0;k<20;k++){\n",
        "        if (i < 10 && j < 10){\n",
        "          if(VET1[i] < VET2[j]){\n",
        "            VET3[k] = VET1[i];\n",
        "            i++;\n",
        "          } else {\n",
        "            VET3[k] = VET2[j];\n",
        "            j++;\n",
        "          }\n",
        "        } else {\n",
        "          if (i == 10){\n",
        "            VET3[k] = VET2[j];\n",
        "            j++;\n",
        "          } else if (j == 10){\n",
        "            VET3[k] = VET1[i];\n",
        "            i++;\n",
        "          }\n",
        "        }\n",
        "      }\n",
        "\n",
        "      // Saída\n",
        "      Console.WriteLine(\"Vetor intercalado:\");\n",
        "      for(k=0;k<20;k++){\n",
        "        Console.Write(VET3[k]);\n",
        "        if(k<19) Console.Write(\", \");\n",
        "      }\n",
        "      Console.Write(\"\\n\");\n",
        "\n",
        "    }\n",
        "\n",
        "  }\n",
        "\n",
        "}"
      ],
      "metadata": {
        "colab": {
          "base_uri": "https://localhost:8080/"
        },
        "id": "M1QBfFaeBPz2",
        "outputId": "baba7d52-ffcf-445d-88b2-0219ca471525"
      },
      "execution_count": null,
      "outputs": [
        {
          "output_type": "stream",
          "name": "stdout",
          "text": [
            "Overwriting lista5exercicio4.cs\n"
          ]
        }
      ]
    },
    {
      "cell_type": "code",
      "source": [
        "!mcs lista5exercicio4.cs -out:lista5exercicio4.x"
      ],
      "metadata": {
        "id": "dUQsiE1NFesO"
      },
      "execution_count": null,
      "outputs": []
    },
    {
      "cell_type": "code",
      "source": [
        "!mono lista5exercicio4.x"
      ],
      "metadata": {
        "colab": {
          "base_uri": "https://localhost:8080/"
        },
        "id": "32nuY7H0Fy8J",
        "outputId": "041b3950-4ede-4f02-ec6f-8fcdfbf3c180"
      },
      "execution_count": null,
      "outputs": [
        {
          "output_type": "stream",
          "name": "stdout",
          "text": [
            "Aviso: você vai inserir valores de dois vetores de 10 casas cada.\n",
            "Para cada vetor, os valores devem estar em ordem crescente.\n",
            "O resultado será um terceiro vetor, de 20 casas, que resultará\n",
            " da intercalação dos dois primeiros vetores.\n",
            "Insira os valores do primeiro vetor:\n",
            "VET1[0]: \u001b[?1h\u001b=\u001b[6n\u001b[H\u001b[2J\u001b[6n1\n",
            "VET1[1]: \u001b[6n2\n",
            "VET1[2]: \u001b[6n3\n",
            "VET1[3]: \u001b[6n4\n",
            "VET1[4]: \u001b[6n5\n",
            "VET1[5]: \u001b[6n6\n",
            "VET1[6]: \u001b[6n7\n",
            "VET1[7]: \u001b[6n8\n",
            "VET1[8]: \u001b[6n9\n",
            "VET1[9]: \u001b[6n11\n",
            "Insira os valores do segundo vetor:\n",
            "VET2[0]: \u001b[6n0\n",
            "VET2[1]: \u001b[6n10\n",
            "VET2[2]: \u001b[6n12\n",
            "VET2[3]: \u001b[6n13\n",
            "VET2[4]: \u001b[6n14\n",
            "VET2[5]: \u001b[6n15\n",
            "VET2[6]: \u001b[6n16\n",
            "VET2[7]: \u001b[6n18\n",
            "VET2[8]: \u001b[6n19\n",
            "VET2[9]: \u001b[6n20\n",
            "Vetor intercalado:\n",
            "0, 1, 2, 3, 4, 5, 6, 7, 8, 9, 10, 11, 12, 13, 14, 15, 16, 18, 19, 20\n",
            "\u001b[?1l\u001b>\u001b[m"
          ]
        }
      ]
    },
    {
      "cell_type": "markdown",
      "source": [
        "### Exercício 5"
      ],
      "metadata": {
        "id": "HpHSsAiVQsAP"
      }
    },
    {
      "cell_type": "code",
      "source": [
        "%%writefile lista5exercicio5.cs\n",
        "\n",
        "using System;\n",
        "\n",
        "namespace Lista5Exercicio5{\n",
        "\n",
        "  class Program{\n",
        "\n",
        "    static void Main(){\n",
        "\n",
        "      // Variáveis\n",
        "      int[] vetor = new int[10];\n",
        "      int numero, i, posicao=-1;\n",
        "      bool achou=false;\n",
        "\n",
        "      // Entrada\n",
        "      Console.WriteLine(\"Informe vetor de 10 casas:\");\n",
        "      for(i=0;i<10;i++){\n",
        "        Console.Write(\"Vetor[{0}]= \", i);\n",
        "        vetor[i] = int.Parse(Console.ReadLine());\n",
        "      }\n",
        "      Console.WriteLine(\"Informe número a localizar no vetor:\");\n",
        "      numero = int.Parse(Console.ReadLine());\n",
        "\n",
        "      // Processamento\n",
        "      i=0;\n",
        "      while(!achou && (i < 10)){\n",
        "        if(vetor[i] == numero){\n",
        "          posicao = i;\n",
        "          achou = true;\n",
        "        } else i++;\n",
        "      }\n",
        "\n",
        "      // Saída\n",
        "      if(posicao == -1){\n",
        "        Console.WriteLine(\"Número {0} não encontrado no vetor.\", numero);\n",
        "      } else {\n",
        "        Console.WriteLine(\"Número {0} encontrado na posição {1}.\", numero, posicao);\n",
        "      }\n",
        "\n",
        "    }\n",
        "\n",
        "  }\n",
        "\n",
        "}"
      ],
      "metadata": {
        "colab": {
          "base_uri": "https://localhost:8080/"
        },
        "id": "m_IWixgSQuH2",
        "outputId": "8c023cc4-a7b7-45b8-d3d1-b23c7a92cb5e"
      },
      "execution_count": null,
      "outputs": [
        {
          "output_type": "stream",
          "name": "stdout",
          "text": [
            "Overwriting lista5exercicio5.cs\n"
          ]
        }
      ]
    },
    {
      "cell_type": "code",
      "source": [
        "!mcs lista5exercicio5.cs -out:lista5exercicio5.x"
      ],
      "metadata": {
        "id": "e7DzSzI4TLJx"
      },
      "execution_count": null,
      "outputs": []
    },
    {
      "cell_type": "code",
      "source": [
        "!mono lista5exercicio5.x"
      ],
      "metadata": {
        "colab": {
          "base_uri": "https://localhost:8080/"
        },
        "id": "vTmJdyyaTQid",
        "outputId": "242b1f52-3ed2-4b3a-ca3d-e1c436ba389e"
      },
      "execution_count": null,
      "outputs": [
        {
          "output_type": "stream",
          "name": "stdout",
          "text": [
            "Informe vetor de 10 casas:\n",
            "Vetor[0]= \u001b[?1h\u001b=\u001b[6n\u001b[H\u001b[2J\u001b[6n2\n",
            "Vetor[1]= \u001b[6n3\n",
            "Vetor[2]= \u001b[6n-5\n",
            "Vetor[3]= \u001b[6n7\n",
            "Vetor[4]= \u001b[6n11\n",
            "Vetor[5]= \u001b[6n13\n",
            "Vetor[6]= \u001b[6n19\n",
            "Vetor[7]= \u001b[6n23\n",
            "Vetor[8]= \u001b[6n29\n",
            "Vetor[9]= \u001b[6n31\n",
            "Informe número a localizar no vetor:\n",
            "\u001b[6n5\n",
            "Número 5 não encontrado no vetor.\n",
            "\u001b[?1l\u001b>\u001b[m"
          ]
        }
      ]
    },
    {
      "cell_type": "markdown",
      "source": [
        "### Exercício 6"
      ],
      "metadata": {
        "id": "Yfc5CVsgU5Q1"
      }
    },
    {
      "cell_type": "code",
      "source": [
        "%%writefile lista5exercicio6.cs\n",
        "\n",
        "using System;\n",
        "\n",
        "namespace Lista5Exercicio6{\n",
        "\n",
        "  class Program{\n",
        "\n",
        "    static void Main(){\n",
        "\n",
        "      // Variáveis\n",
        "      int[] vetor = new int[10];\n",
        "      int[] repetido = new int[10];\n",
        "      int i, j, tamanho, temporario;\n",
        "      bool achou;\n",
        "\n",
        "      // Entrada\n",
        "      Console.WriteLine(\"Informe uma sequência de dez números inteiros e positivos.\");\n",
        "      for(i=0;i<10;i++){\n",
        "        Console.Write(\"Termo {0}: \", i+1);\n",
        "        temporario = int.Parse(Console.ReadLine());\n",
        "        while(temporario <= 0){\n",
        "          Console.WriteLine(\"Erro! O número informado não é positivo. Informe outro número.\");\n",
        "          Console.Write(\"Termo {0}: \", i+1);\n",
        "          temporario = int.Parse(Console.ReadLine());\n",
        "        }\n",
        "        vetor[i] = temporario;\n",
        "      }\n",
        "\n",
        "      // Processamento\n",
        "      i=0;\n",
        "      tamanho=0;\n",
        "      while(i<10){\n",
        "        if(tamanho == 0){\n",
        "          repetido[tamanho] = vetor[i];\n",
        "          i++;\n",
        "          tamanho++;\n",
        "        }\n",
        "        else{\n",
        "          achou=false;\n",
        "          for(j=0; (j<tamanho)&&(!achou); j++){\n",
        "            if(repetido[j] == vetor[i]) achou=true;\n",
        "          }\n",
        "          if(!achou){\n",
        "            repetido[tamanho] = vetor[i];\n",
        "            tamanho++;\n",
        "          }\n",
        "          i++;\n",
        "        }\n",
        "      }\n",
        "\n",
        "      // Saída\n",
        "      Console.WriteLine(\"Sequência original:\");\n",
        "      for(i=0; i<10; i++){\n",
        "        Console.Write(vetor[i]);\n",
        "        if(i < 9) Console.Write(\", \");\n",
        "      }\n",
        "      Console.Write(\"\\n\");\n",
        "      Console.WriteLine(\"Sequência sem repetições:\");\n",
        "      for(j=0; j<tamanho; j++){\n",
        "        Console.Write(repetido[j]);\n",
        "        if(j < (tamanho-1)) Console.Write(\", \");\n",
        "      }\n",
        "      Console.Write(\"\\n\");\n",
        "\n",
        "    }\n",
        "\n",
        "  }\n",
        "\n",
        "}"
      ],
      "metadata": {
        "colab": {
          "base_uri": "https://localhost:8080/"
        },
        "id": "Wgkb5eW1U73t",
        "outputId": "0336f30c-918d-4ae9-dee0-ee1acc977f3e"
      },
      "execution_count": null,
      "outputs": [
        {
          "output_type": "stream",
          "name": "stdout",
          "text": [
            "Overwriting lista5exercicio6.cs\n"
          ]
        }
      ]
    },
    {
      "cell_type": "code",
      "source": [
        "!mcs lista5exercicio6.cs -out:lista5exercicio6.x"
      ],
      "metadata": {
        "id": "6RBj8VgeZPr1"
      },
      "execution_count": null,
      "outputs": []
    },
    {
      "cell_type": "code",
      "source": [
        "!mono lista5exercicio6.x"
      ],
      "metadata": {
        "colab": {
          "base_uri": "https://localhost:8080/"
        },
        "id": "P6zepn1UZa7r",
        "outputId": "748404c9-d3d9-47d2-801b-ab87cd603e1d"
      },
      "execution_count": null,
      "outputs": [
        {
          "output_type": "stream",
          "name": "stdout",
          "text": [
            "Informe uma sequência de dez números inteiros e positivos.\n",
            "Termo 1: \u001b[?1h\u001b=\u001b[6n\u001b[H\u001b[2J\u001b[6n1\n",
            "Termo 2: \u001b[6n1\n",
            "Termo 3: \u001b[6n1\n",
            "Termo 4: \u001b[6n2\n",
            "Termo 5: \u001b[6n2\n",
            "Termo 6: \u001b[6n3\n",
            "Termo 7: \u001b[6n3\n",
            "Termo 8: \u001b[6n4\n",
            "Termo 9: \u001b[6n4\n",
            "Termo 10: \u001b[6n1\n",
            "Sequência original:\n",
            "1, 1, 1, 2, 2, 3, 3, 4, 4, 1\n",
            "Sequência sem repetições:\n",
            "1, 2, 3, 4\n",
            "\u001b[?1l\u001b>\u001b[m"
          ]
        }
      ]
    },
    {
      "cell_type": "markdown",
      "source": [
        "### Exercício 7"
      ],
      "metadata": {
        "id": "rxftyaBraG4e"
      }
    },
    {
      "cell_type": "code",
      "source": [
        "%%writefile lista5exercicio7.cs\n",
        "\n",
        "using System;\n",
        "\n",
        "namespace Lista5Exercicio7{\n",
        "\n",
        "  class Program{\n",
        "\n",
        "    static void Main(){\n",
        "\n",
        "      // Variáveis\n",
        "      int[,] M = new int[3,5];\n",
        "      int i,j,X,i_X=-1,j_X=-1;\n",
        "      bool achou=false;\n",
        "\n",
        "      // Entrada\n",
        "      Console.WriteLine(\"Informe os elementos da matriz M(3,5):\");\n",
        "      for(i=0; i<3; i++){\n",
        "        for(j=0; j<5; j++){\n",
        "          Console.Write(\"M({0},{1})= \", i+1, j+1);\n",
        "          M[i,j] = int.Parse(Console.ReadLine());\n",
        "        }\n",
        "      }\n",
        "      Console.WriteLine(\"Informe número a ser encontrado na matriz.\");\n",
        "      Console.Write(\"X= \");\n",
        "      X = int.Parse(Console.ReadLine());\n",
        "\n",
        "      // Processamento\n",
        "      i=0;\n",
        "      while(!achou && i<3){\n",
        "        j=0;\n",
        "        while(!achou && j<5){\n",
        "          if(M[i,j] == X){\n",
        "            achou = true;\n",
        "            i_X = i+1;\n",
        "            j_X = j+1;\n",
        "          } else j++;\n",
        "        }\n",
        "        i++;\n",
        "      }\n",
        "\n",
        "      // Saída\n",
        "      if(achou) Console.WriteLine(\"X={0} encontrado na posição ({1},{2}).\", X, i_X, j_X);\n",
        "      else Console.WriteLine(\"Elemento não encontrado.\");\n",
        "\n",
        "    }\n",
        "\n",
        "  }\n",
        "\n",
        "}"
      ],
      "metadata": {
        "colab": {
          "base_uri": "https://localhost:8080/"
        },
        "id": "rMAVE6yEaJXy",
        "outputId": "d5ee7f69-ef2a-48db-e832-544a87e2970d"
      },
      "execution_count": null,
      "outputs": [
        {
          "output_type": "stream",
          "name": "stdout",
          "text": [
            "Overwriting lista5exercicio7.cs\n"
          ]
        }
      ]
    },
    {
      "cell_type": "code",
      "source": [
        "!mcs lista5exercicio7.cs -out:lista5exercicio7.x"
      ],
      "metadata": {
        "id": "mRMbQHlLdkd-"
      },
      "execution_count": null,
      "outputs": []
    },
    {
      "cell_type": "code",
      "source": [
        "!mono lista5exercicio7.x"
      ],
      "metadata": {
        "colab": {
          "base_uri": "https://localhost:8080/"
        },
        "id": "Xw69uxDmdyH0",
        "outputId": "c674a58c-c91d-4498-a54d-66c0aa185133"
      },
      "execution_count": null,
      "outputs": [
        {
          "output_type": "stream",
          "name": "stdout",
          "text": [
            "Informe os elementos da matriz M(3,5):\n",
            "M(1,1)= \u001b[?1h\u001b=\u001b[6n\u001b[H\u001b[2J\u001b[6n1\n",
            "M(1,2)= \u001b[6n1\n",
            "M(1,3)= \u001b[6n1\n",
            "M(1,4)= \u001b[6n1\n",
            "M(1,5)= \u001b[6n1\n",
            "M(2,1)= \u001b[6n1\n",
            "M(2,2)= \u001b[6n1\n",
            "M(2,3)= \u001b[6n1\n",
            "M(2,4)= \u001b[6n1\n",
            "M(2,5)= \u001b[6n1\n",
            "M(3,1)= \u001b[6n1\n",
            "M(3,2)= \u001b[6n1\n",
            "M(3,3)= \u001b[6n1\n",
            "M(3,4)= \u001b[6n1\n",
            "M(3,5)= \u001b[6n1\n",
            "Informe número a ser encontrado na matriz.\n",
            "X= \u001b[6n2\n",
            "Elemento não encontrado.\n",
            "\u001b[?1l\u001b>\u001b[m"
          ]
        }
      ]
    },
    {
      "cell_type": "markdown",
      "source": [
        "### Exercício 8\n",
        "**Notas:** números do arquivo de entrada obtidos do site [random.org](https://random.org)."
      ],
      "metadata": {
        "id": "vjxOXtsDebLA"
      }
    },
    {
      "cell_type": "code",
      "source": [
        "%%writefile lista5exercicio8.cs\n",
        "\n",
        "using System;\n",
        "using System.IO;\n",
        "\n",
        "namespace Lista5Exercicio8{\n",
        "\n",
        "  class Program{\n",
        "\n",
        "    static readonly string entrada = \"L5E8_entrada.txt\";\n",
        "\n",
        "    static void Main(){\n",
        "\n",
        "      // Variáveis\n",
        "      string[] stringVotos = new string[100];\n",
        "      int[] votos = new int[100];\n",
        "      int[] qteVotos = new int[10];\n",
        "      int[] maisVotados = new int[10];\n",
        "      int i, j, tamanho, maiorVotacao=0, numeroCandidatoMaisVotado=0;\n",
        "      bool segundoturno=false;\n",
        "\n",
        "      // Entrada\n",
        "      stringVotos = File.ReadAllLines(entrada);\n",
        "\n",
        "      // Processamento\n",
        "      for(i=0; i<10; i++){\n",
        "        qteVotos[i] = 0;\n",
        "        maisVotados[i] = 0;\n",
        "      }\n",
        "      for(i=0; i<100; i++){\n",
        "        votos[i] = int.Parse(stringVotos[i]);\n",
        "        qteVotos[votos[i]-1]++;\n",
        "      }\n",
        "      for(i=0; i<10; i++){\n",
        "        if(qteVotos[i] > maiorVotacao){\n",
        "          maiorVotacao = qteVotos[i];\n",
        "          numeroCandidatoMaisVotado = i+1;\n",
        "        }\n",
        "      }\n",
        "      tamanho=1;\n",
        "      maisVotados[tamanho-1] = numeroCandidatoMaisVotado;\n",
        "      for(i=0; i<10; i++){\n",
        "        if((qteVotos[i] == maiorVotacao) && (i != (numeroCandidatoMaisVotado-1))){\n",
        "          segundoturno = true;\n",
        "          tamanho++;\n",
        "          maisVotados[tamanho-1] = i+1;\n",
        "        }\n",
        "      }\n",
        "\n",
        "      // Saída\n",
        "      Console.WriteLine(\"Resultado do pleito!\");\n",
        "      for(i=0; i<10; i++){\n",
        "        Console.WriteLine(\"Candidato {0} recebeu {1} voto(s).\", i+1, qteVotos[i]);\n",
        "      }\n",
        "      if(!segundoturno) Console.WriteLine(\"Candidato {0} foi o mais votado!\", numeroCandidatoMaisVotado);\n",
        "      else{\n",
        "        Console.Write(\"Houve empate e haverá segundo turno entre os candidatos \");\n",
        "        for(j=0; j<tamanho; j++){\n",
        "          Console.Write(\"{0}\", maisVotados[j]);\n",
        "          if(tamanho == 2){\n",
        "            if(j == 0) Console.Write(\" e \");\n",
        "            else Console.Write(\".\\n\");\n",
        "          } else {\n",
        "            if(j < (tamanho-2)) Console.Write(\", \");\n",
        "            else if (j == (tamanho-2)) Console.Write(\" e \");\n",
        "            else Console.Write(\".\\n\");\n",
        "          }\n",
        "        }\n",
        "      }\n",
        "\n",
        "    }\n",
        "\n",
        "  }\n",
        "\n",
        "}"
      ],
      "metadata": {
        "colab": {
          "base_uri": "https://localhost:8080/"
        },
        "id": "lGoZusdmedB-",
        "outputId": "bae2c6f9-a0d5-4ac1-b37e-e3301c02c0bf"
      },
      "execution_count": null,
      "outputs": [
        {
          "output_type": "stream",
          "name": "stdout",
          "text": [
            "Overwriting lista5exercicio8.cs\n"
          ]
        }
      ]
    },
    {
      "cell_type": "code",
      "source": [
        "%%writefile L5E8_entrada.txt\n",
        "10\n",
        "1\n",
        "1\n",
        "4\n",
        "3\n",
        "4\n",
        "5\n",
        "3\n",
        "4\n",
        "2\n",
        "5\n",
        "10\n",
        "8\n",
        "5\n",
        "10\n",
        "9\n",
        "6\n",
        "8\n",
        "8\n",
        "7\n",
        "8\n",
        "5\n",
        "9\n",
        "4\n",
        "3\n",
        "7\n",
        "1\n",
        "6\n",
        "10\n",
        "5\n",
        "10\n",
        "8\n",
        "7\n",
        "9\n",
        "1\n",
        "2\n",
        "3\n",
        "10\n",
        "8\n",
        "8\n",
        "8\n",
        "6\n",
        "3\n",
        "7\n",
        "1\n",
        "9\n",
        "7\n",
        "3\n",
        "5\n",
        "2\n",
        "10\n",
        "10\n",
        "9\n",
        "10\n",
        "5\n",
        "9\n",
        "10\n",
        "2\n",
        "10\n",
        "6\n",
        "8\n",
        "3\n",
        "10\n",
        "2\n",
        "10\n",
        "7\n",
        "6\n",
        "2\n",
        "3\n",
        "5\n",
        "7\n",
        "5\n",
        "3\n",
        "2\n",
        "4\n",
        "3\n",
        "1\n",
        "4\n",
        "2\n",
        "2\n",
        "9\n",
        "6\n",
        "5\n",
        "5\n",
        "8\n",
        "2\n",
        "3\n",
        "1\n",
        "7\n",
        "9\n",
        "8\n",
        "1\n",
        "4\n",
        "5\n",
        "2\n",
        "8\n",
        "3\n",
        "8\n",
        "3\n",
        "5"
      ],
      "metadata": {
        "colab": {
          "base_uri": "https://localhost:8080/"
        },
        "id": "vPSGWEUCeg_A",
        "outputId": "086c3fc8-9093-4b7c-9408-9524b6bdfd92"
      },
      "execution_count": null,
      "outputs": [
        {
          "output_type": "stream",
          "name": "stdout",
          "text": [
            "Overwriting L5E8_entrada.txt\n"
          ]
        }
      ]
    },
    {
      "cell_type": "code",
      "source": [
        "!mcs lista5exercicio8.cs -out:lista5exercicio8.x"
      ],
      "metadata": {
        "id": "xvIYN9xbh3BM"
      },
      "execution_count": null,
      "outputs": []
    },
    {
      "cell_type": "code",
      "source": [
        "!mono lista5exercicio8.x"
      ],
      "metadata": {
        "colab": {
          "base_uri": "https://localhost:8080/"
        },
        "id": "5d3ShOOAiE3O",
        "outputId": "1621c4da-f583-4483-e016-afe8c94750b8"
      },
      "execution_count": null,
      "outputs": [
        {
          "output_type": "stream",
          "name": "stdout",
          "text": [
            "Resultado do pleito!\n",
            "Candidato 1 recebeu 8 voto(s).\n",
            "Candidato 2 recebeu 11 voto(s).\n",
            "Candidato 3 recebeu 13 voto(s).\n",
            "Candidato 4 recebeu 7 voto(s).\n",
            "Candidato 5 recebeu 13 voto(s).\n",
            "Candidato 6 recebeu 6 voto(s).\n",
            "Candidato 7 recebeu 8 voto(s).\n",
            "Candidato 8 recebeu 13 voto(s).\n",
            "Candidato 9 recebeu 8 voto(s).\n",
            "Candidato 10 recebeu 13 voto(s).\n",
            "Houve empate e haverá segundo turno entre os candidatos 3, 5, 8 e 10.\n"
          ]
        }
      ]
    },
    {
      "cell_type": "markdown",
      "source": [
        "### Exercício 9"
      ],
      "metadata": {
        "id": "40YN61mLq_Df"
      }
    },
    {
      "cell_type": "code",
      "source": [
        "%%writefile lista5exercicio9.cs\n",
        "\n",
        "using System;\n",
        "\n",
        "namespace Lista5Exercicio9{\n",
        "\n",
        "  class Program{\n",
        "\n",
        "    static void Main(){\n",
        "\n",
        "      // Variáveis\n",
        "\n",
        "      int[] vetor1 = new int[10];\n",
        "      int[] vetor2 = new int[10];\n",
        "      int[] intercalado = new int[20];\n",
        "      int[] uniao = new int[20];\n",
        "      int i, j, k, temporario=0, contador, tamanho1=0, tamanho2=0, tamanho_smol, tamanhoBIG;\n",
        "      bool repetido, negativo, continua;\n",
        "\n",
        "      // Entrada\n",
        "\n",
        "      continua = true;\n",
        "      Console.WriteLine(\"Insira os valores do primeiro vetor:\");\n",
        "      for(i=0; (i<10) && (continua); i++){\n",
        "        negativo = true;\n",
        "        repetido = false;\n",
        "        while(negativo || repetido){\n",
        "          Console.Write(\"vetor1[{0}]: \", i);\n",
        "          temporario = int.Parse(Console.ReadLine());\n",
        "          if(temporario > 0){\n",
        "            negativo = false;\n",
        "            if(tamanho1 > 0){\n",
        "              contador=0;\n",
        "              for(j=0;j<tamanho1;j++){\n",
        "                if(vetor1[j] != temporario) contador++;\n",
        "              }\n",
        "              if (contador == tamanho1) repetido = false;\n",
        "              else repetido = true;\n",
        "            }\n",
        "          }\n",
        "          if(negativo || repetido){\n",
        "            if(negativo) Console.WriteLine(\"Erro! Valor negativo.\");\n",
        "            else if(repetido) Console.WriteLine(\"Erro! Valor repetido.\");\n",
        "          }\n",
        "        }\n",
        "        if(temporario == 999){\n",
        "          continua = false;\n",
        "          break;\n",
        "        } else {\n",
        "          vetor1[i] = temporario;\n",
        "          tamanho1++;\n",
        "        }\n",
        "      }\n",
        "\n",
        "      continua = true;\n",
        "      Console.WriteLine(\"Insira os valores do segundo vetor:\");\n",
        "      for(i=0; (i<10) && (continua); i++){\n",
        "        negativo = true;\n",
        "        repetido = false;\n",
        "        while(negativo || repetido){\n",
        "          Console.Write(\"vetor2[{0}]: \", i);\n",
        "          temporario = int.Parse(Console.ReadLine());\n",
        "          if(temporario > 0){\n",
        "            negativo = false;\n",
        "            if(tamanho2 > 0){\n",
        "              contador=0;\n",
        "              for(j=0;j<tamanho2;j++){\n",
        "                if(vetor2[j] != temporario) contador++;\n",
        "              }\n",
        "              if (contador == tamanho2) repetido = false;\n",
        "              else repetido = true;\n",
        "            }\n",
        "          }\n",
        "          if(negativo || repetido){\n",
        "            if(negativo) Console.WriteLine(\"Erro! Valor negativo.\");\n",
        "            else if(repetido) Console.WriteLine(\"Erro! Valor repetido.\");\n",
        "          }\n",
        "        }\n",
        "        if(temporario == 999){\n",
        "          continua = false;\n",
        "          break;\n",
        "        } else {\n",
        "          vetor2[i] = temporario;\n",
        "          tamanho2++;\n",
        "        }\n",
        "      }\n",
        "\n",
        "      // Processamento\n",
        "\n",
        "      tamanho_smol = 0;\n",
        "      for (i=0; i < tamanho1; i++){\n",
        "        for (j=0; j < tamanho2; j++){\n",
        "          if(vetor1[i] == vetor2[j]){\n",
        "            intercalado[tamanho_smol] = vetor1[i];\n",
        "            tamanho_smol++;\n",
        "            break;\n",
        "          }\n",
        "        }\n",
        "      }\n",
        "\n",
        "      if(tamanho_smol > 0){\n",
        "        for (i=0; i < tamanho1; i++){\n",
        "          uniao[i] = vetor1[i];\n",
        "        }\n",
        "        tamanhoBIG = tamanho1;\n",
        "        for (j=0; j < tamanho2; j++){\n",
        "          contador=0;\n",
        "          for (i=0; i < tamanho_smol; i++){\n",
        "            if (vetor2[j] != intercalado[i]) contador++;\n",
        "            else break;\n",
        "          }\n",
        "          if (contador == tamanho_smol){\n",
        "            uniao[tamanhoBIG] = vetor2[j];\n",
        "            tamanhoBIG++;\n",
        "          }\n",
        "        }\n",
        "      } else {\n",
        "        tamanhoBIG = tamanho1 + tamanho2;\n",
        "        for(k=0; k < tamanhoBIG; k++){\n",
        "          if (k < tamanho1) uniao[k] = vetor1[k];\n",
        "          else uniao[k] = vetor2[k-tamanho1];\n",
        "        }\n",
        "      }\n",
        "\n",
        "      // Saída\n",
        "\n",
        "      if(tamanho_smol == 0) Console.WriteLine(\"Não existe interseção.\");\n",
        "      else{\n",
        "        Console.WriteLine(\"Intercalação:\");\n",
        "        for(k=0;k<tamanho_smol;k++){\n",
        "          Console.Write(intercalado[k]);\n",
        "          if(k<(tamanho_smol-1)) Console.Write(\", \");\n",
        "        }\n",
        "        Console.Write(\"\\n\");\n",
        "      }\n",
        "\n",
        "      if(tamanhoBIG == 0) Console.WriteLine(\"Não existe união.\");\n",
        "      else {\n",
        "        Console.WriteLine(\"União:\");\n",
        "        for(k=0;k<tamanhoBIG;k++){\n",
        "          Console.Write(uniao[k]);\n",
        "          if(k<(tamanhoBIG-1)) Console.Write(\", \");\n",
        "        }\n",
        "        Console.Write(\"\\n\");\n",
        "      }\n",
        "\n",
        "    }\n",
        "\n",
        "  }\n",
        "\n",
        "}"
      ],
      "metadata": {
        "colab": {
          "base_uri": "https://localhost:8080/"
        },
        "id": "OIlPsxWYrBBk",
        "outputId": "7a0e87a2-d9d8-43e7-d51c-fd5e2aec09e9"
      },
      "execution_count": null,
      "outputs": [
        {
          "output_type": "stream",
          "name": "stdout",
          "text": [
            "Overwriting lista5exercicio9.cs\n"
          ]
        }
      ]
    },
    {
      "cell_type": "code",
      "source": [
        "!mcs lista5exercicio9.cs -out:lista5exercicio9.x"
      ],
      "metadata": {
        "id": "qK_V51Re_DwS"
      },
      "execution_count": null,
      "outputs": []
    },
    {
      "cell_type": "code",
      "source": [
        "!mono lista5exercicio9.x"
      ],
      "metadata": {
        "id": "xF4dnQvU_bKB"
      },
      "execution_count": null,
      "outputs": []
    },
    {
      "cell_type": "markdown",
      "source": [
        "### Exercício 10"
      ],
      "metadata": {
        "id": "5BjpEhEeBiFh"
      }
    },
    {
      "cell_type": "code",
      "source": [
        "%%writefile lista5exercicio10.cs\n",
        "\n",
        "using System;\n",
        "\n",
        "namespace Lista5Exercicio10{\n",
        "\n",
        "  class Program{\n",
        "\n",
        "    static void Main(){\n",
        "\n",
        "      // Variáveis\n",
        "\n",
        "      int[,] Z = new int[3,4];\n",
        "      int i, j, maior, menor, temporario;\n",
        "      int linhaMaior=0, colunaMaior=0, linhaMenor=0, colunaMenor=0;\n",
        "\n",
        "      // Entrada\n",
        "\n",
        "      Console.WriteLine(\"Informe os elementos da matriz Z(3,4):\");\n",
        "      for(i=0; i<3; i++){\n",
        "        for(j=0; j<4; j++){\n",
        "          do {\n",
        "            Console.Write(\"Z({0},{1})= \", i+1, j+1);\n",
        "            temporario = int.Parse(Console.ReadLine());\n",
        "            if (temporario <= 0) Console.WriteLine(\"Erro! Valor negativo.\");\n",
        "          } while (temporario <=0);\n",
        "          Z[i,j] = temporario;\n",
        "        }\n",
        "      }\n",
        "\n",
        "      // Processamento\n",
        "\n",
        "      maior = Z[0,0];\n",
        "      menor = Z[0,0];\n",
        "\n",
        "      for(i=0; i<3; i++){\n",
        "        for(j=0; j<4; j++){\n",
        "          if(Z[i,j] > maior){\n",
        "            maior = Z[i,j];\n",
        "            linhaMaior = i+1;\n",
        "            colunaMaior = j+1;\n",
        "          } else if (Z[i,j] < menor){\n",
        "            menor = Z[i,j];\n",
        "            linhaMenor = i+1;\n",
        "            colunaMenor = j+1;\n",
        "          }\n",
        "        }\n",
        "      }\n",
        "\n",
        "      // Saída\n",
        "\n",
        "      Console.WriteLine(\"O maior elemento da matriz é Z({0},{1}) = {2}.\", linhaMaior, colunaMaior, maior);\n",
        "      Console.WriteLine(\"O menor elemento da matriz é Z({0},{1}) = {2}.\", linhaMenor, colunaMenor, menor);\n",
        "\n",
        "    }\n",
        "\n",
        "  }\n",
        "\n",
        "}"
      ],
      "metadata": {
        "colab": {
          "base_uri": "https://localhost:8080/"
        },
        "id": "4IKVP5-kBy1z",
        "outputId": "9a580886-cd2a-4cf0-e20a-21cfc2793f45"
      },
      "execution_count": null,
      "outputs": [
        {
          "output_type": "stream",
          "name": "stdout",
          "text": [
            "Overwriting lista5exercicio10.cs\n"
          ]
        }
      ]
    },
    {
      "cell_type": "code",
      "source": [
        "!mcs lista5exercicio10.cs -out:lista5exercicio10.x"
      ],
      "metadata": {
        "id": "RSEEQ2vYEkmO"
      },
      "execution_count": null,
      "outputs": []
    },
    {
      "cell_type": "code",
      "source": [
        "!mono lista5exercicio10.x"
      ],
      "metadata": {
        "colab": {
          "base_uri": "https://localhost:8080/"
        },
        "id": "LGHwBLG1E0WY",
        "outputId": "3b0c5263-13da-4110-cc1f-c2a5f692a88c"
      },
      "execution_count": null,
      "outputs": [
        {
          "output_type": "stream",
          "name": "stdout",
          "text": [
            "Informe os elementos da matriz Z(3,4):\n",
            "Z(1,1)= \u001b[?1h\u001b=\u001b[6n\u001b[H\u001b[2J\u001b[6n2\n",
            "Z(1,2)= \u001b[6n5\n",
            "Z(1,3)= \u001b[6n8\n",
            "Z(1,4)= \u001b[6n4\n",
            "Z(2,1)= \u001b[6n-3\n",
            "Erro! Valor negativo.\n",
            "Z(2,1)= \u001b[6n-5\n",
            "Erro! Valor negativo.\n",
            "Z(2,1)= \u001b[6n6\n",
            "Z(2,2)= \u001b[6n3\n",
            "Z(2,3)= \u001b[6n1\n",
            "Z(2,4)= \u001b[6n7\n",
            "Z(3,1)= \u001b[6n9\n",
            "Z(3,2)= \u001b[6n4\n",
            "Z(3,3)= \u001b[6n8\n",
            "Z(3,4)= \u001b[6n3\n",
            "O maior elemento da matriz é Z(3,1) = 9.\n",
            "O menor elemento da matriz é Z(2,3) = 1.\n",
            "\u001b[?1l\u001b>\u001b[m"
          ]
        }
      ]
    },
    {
      "cell_type": "markdown",
      "source": [
        "### Exercício 11"
      ],
      "metadata": {
        "id": "GpUj4i6UBj-o"
      }
    },
    {
      "cell_type": "code",
      "source": [
        "%%writefile lista5exercicio11.cs\n",
        "\n",
        "using System;\n",
        "\n",
        "namespace Lista5Exercicio11{\n",
        "\n",
        "  class Program{\n",
        "\n",
        "    static void Main(){\n",
        "\n",
        "      // Variáveis\n",
        "\n",
        "      int[,] matriz = new int[4,4];\n",
        "      int i, j, somaDiag=0;\n",
        "\n",
        "      // Entrada e Processamento\n",
        "\n",
        "      Console.WriteLine(\"Informe os elementos da matriz.\");\n",
        "      for(i=0; i < 4; i++){\n",
        "        for(j=0; j < 4; j++){\n",
        "          Console.Write(\"M({0},{1})= \", i+1, j+1);\n",
        "          matriz[i,j] = int.Parse(Console.ReadLine());\n",
        "          if (i == j) somaDiag+=matriz[i,j];\n",
        "        }\n",
        "      }\n",
        "\n",
        "      // Saída\n",
        "      Console.WriteLine(\"A soma dos elementos da diagonal principal da matriz informada é igual a {0}.\", somaDiag);\n",
        "\n",
        "    }\n",
        "\n",
        "  }\n",
        "\n",
        "}"
      ],
      "metadata": {
        "colab": {
          "base_uri": "https://localhost:8080/"
        },
        "id": "xFDJF1XgFOas",
        "outputId": "fff55446-6f99-4865-ae8c-443e8ed7d74c"
      },
      "execution_count": null,
      "outputs": [
        {
          "output_type": "stream",
          "name": "stdout",
          "text": [
            "Writing lista5exercicio11.cs\n"
          ]
        }
      ]
    },
    {
      "cell_type": "code",
      "source": [
        "!mcs lista5exercicio11.cs -out:lista5exercicio11.x"
      ],
      "metadata": {
        "id": "c8yQZdn2GWaC"
      },
      "execution_count": null,
      "outputs": []
    },
    {
      "cell_type": "code",
      "source": [
        "!mono lista5exercicio11.x"
      ],
      "metadata": {
        "colab": {
          "base_uri": "https://localhost:8080/"
        },
        "id": "atx8CtfPGerI",
        "outputId": "3b23b66f-e589-4fec-cb07-1b7a791cbff4"
      },
      "execution_count": null,
      "outputs": [
        {
          "output_type": "stream",
          "name": "stdout",
          "text": [
            "Informe os elementos da matriz.\n",
            "M(1,1)= \u001b[?1h\u001b=\u001b[6n\u001b[H\u001b[2J\u001b[6n2\n",
            "M(1,2)= \u001b[6n5\n",
            "M(1,3)= \u001b[6n6\n",
            "M(1,4)= \u001b[6n-4\n",
            "M(2,1)= \u001b[6n1\n",
            "M(2,2)= \u001b[6n-8\n",
            "M(2,3)= \u001b[6n7\n",
            "M(2,4)= \u001b[6n-2\n",
            "M(3,1)= \u001b[6n6\n",
            "M(3,2)= \u001b[6n10\n",
            "M(3,3)= \u001b[6n18\n",
            "M(3,4)= \u001b[6n14\n",
            "M(4,1)= \u001b[6n-15\n",
            "M(4,2)= \u001b[6n-20\n",
            "M(4,3)= \u001b[6n16\n",
            "M(4,4)= \u001b[6n9\n",
            "A soma dos elementos da diagonal principal da matriz informada é igual a 21.\n",
            "\u001b[?1l\u001b>\u001b[m"
          ]
        }
      ]
    },
    {
      "cell_type": "markdown",
      "source": [
        "## Lista 6 – Tipos de Estrutura"
      ],
      "metadata": {
        "id": "3wdN_Xpt3Z7K"
      }
    },
    {
      "cell_type": "markdown",
      "source": [
        "## Lista 7 – Orientação a Objetos"
      ],
      "metadata": {
        "id": "-_IFzGx43rfm"
      }
    },
    {
      "cell_type": "markdown",
      "source": [
        "### 7.1 Classes, Atributos e Métodos"
      ],
      "metadata": {
        "id": "OwoDn_9B3042"
      }
    },
    {
      "cell_type": "markdown",
      "source": [
        "### 7.2 Herança"
      ],
      "metadata": {
        "id": "B-yDVk7A4A1v"
      }
    },
    {
      "cell_type": "markdown",
      "source": [
        "### 7.3 Associação"
      ],
      "metadata": {
        "id": "MjGa_f1v4GxT"
      }
    },
    {
      "cell_type": "markdown",
      "source": [
        "### 7.4 Interfaces"
      ],
      "metadata": {
        "id": "aPlq2Lvl4I8s"
      }
    }
  ]
}